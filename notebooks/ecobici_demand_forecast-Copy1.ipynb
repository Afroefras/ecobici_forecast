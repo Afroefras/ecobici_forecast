{
 "cells": [
  {
   "cell_type": "markdown",
   "id": "broke-transition",
   "metadata": {},
   "source": [
    "# Ecobici"
   ]
  },
  {
   "cell_type": "markdown",
   "id": "tropical-israel",
   "metadata": {},
   "source": [
    "## Import"
   ]
  },
  {
   "cell_type": "code",
   "execution_count": 1,
   "id": "51a8b6f2",
   "metadata": {
    "ExecuteTime": {
     "end_time": "2021-05-18T00:44:42.212454Z",
     "start_time": "2021-05-18T00:44:42.201864Z"
    }
   },
   "outputs": [],
   "source": [
    "import sys\n",
    "sys.path.append('/Users/efraflores/Desktop/hub/diplo/venv/lib/python3.9/site-packages')"
   ]
  },
  {
   "cell_type": "code",
   "execution_count": 2,
   "id": "cosmetic-burst",
   "metadata": {
    "ExecuteTime": {
     "end_time": "2021-05-18T00:44:42.222440Z",
     "start_time": "2021-05-18T00:44:42.218247Z"
    }
   },
   "outputs": [],
   "source": [
    "BASE_DIR = '/Users/efraflores/Desktop/EF/Corner/data/practice'"
   ]
  },
  {
   "cell_type": "code",
   "execution_count": 3,
   "id": "advised-medicine",
   "metadata": {
    "ExecuteTime": {
     "end_time": "2021-05-18T00:44:43.071659Z",
     "start_time": "2021-05-18T00:44:42.228182Z"
    }
   },
   "outputs": [
    {
     "data": {
      "text/html": [
       "<div>\n",
       "<style scoped>\n",
       "    .dataframe tbody tr th:only-of-type {\n",
       "        vertical-align: middle;\n",
       "    }\n",
       "\n",
       "    .dataframe tbody tr th {\n",
       "        vertical-align: top;\n",
       "    }\n",
       "\n",
       "    .dataframe thead th {\n",
       "        text-align: right;\n",
       "    }\n",
       "</style>\n",
       "<table border=\"1\" class=\"dataframe\">\n",
       "  <thead>\n",
       "    <tr style=\"text-align: right;\">\n",
       "      <th></th>\n",
       "      <th>Genero_Usuario</th>\n",
       "      <th>Edad_Usuario</th>\n",
       "      <th>Bici</th>\n",
       "      <th>Id_Usuario</th>\n",
       "      <th>Ciclo_Estacion_Retiro</th>\n",
       "      <th>Fecha_Retiro</th>\n",
       "      <th>Hora_Retiro</th>\n",
       "      <th>Ciclo_EstacionArribo</th>\n",
       "      <th>Fecha Arribo</th>\n",
       "      <th>Hora Arribo</th>\n",
       "    </tr>\n",
       "  </thead>\n",
       "  <tbody>\n",
       "    <tr>\n",
       "      <th>78237</th>\n",
       "      <td>F</td>\n",
       "      <td>42</td>\n",
       "      <td>9290</td>\n",
       "      <td>135056</td>\n",
       "      <td>240</td>\n",
       "      <td>08/04/2021</td>\n",
       "      <td>05:46:22</td>\n",
       "      <td>97</td>\n",
       "      <td>08/04/2021</td>\n",
       "      <td>06:14:10</td>\n",
       "    </tr>\n",
       "  </tbody>\n",
       "</table>\n",
       "</div>"
      ],
      "text/plain": [
       "      Genero_Usuario  Edad_Usuario  Bici  Id_Usuario  Ciclo_Estacion_Retiro  \\\n",
       "78237              F            42  9290      135056                    240   \n",
       "\n",
       "      Fecha_Retiro Hora_Retiro  Ciclo_EstacionArribo Fecha Arribo Hora Arribo  \n",
       "78237   08/04/2021    05:46:22                    97   08/04/2021    06:14:10  "
      ]
     },
     "execution_count": 3,
     "metadata": {},
     "output_type": "execute_result"
    }
   ],
   "source": [
    "import os\n",
    "import pandas as pd\n",
    "pd.options.display.float_format = '{:.3f}'.format\n",
    "\n",
    "df = pd.read_csv(os.path.join(BASE_DIR,'2021-04.csv'))\n",
    "df.sample()"
   ]
  },
  {
   "cell_type": "code",
   "execution_count": 4,
   "id": "certain-draft",
   "metadata": {
    "ExecuteTime": {
     "end_time": "2021-05-18T00:44:43.091473Z",
     "start_time": "2021-05-18T00:44:43.073550Z"
    }
   },
   "outputs": [
    {
     "data": {
      "text/html": [
       "<div>\n",
       "<style scoped>\n",
       "    .dataframe tbody tr th:only-of-type {\n",
       "        vertical-align: middle;\n",
       "    }\n",
       "\n",
       "    .dataframe tbody tr th {\n",
       "        vertical-align: top;\n",
       "    }\n",
       "\n",
       "    .dataframe thead th {\n",
       "        text-align: right;\n",
       "    }\n",
       "</style>\n",
       "<table border=\"1\" class=\"dataframe\">\n",
       "  <thead>\n",
       "    <tr style=\"text-align: right;\">\n",
       "      <th></th>\n",
       "      <th>ID</th>\n",
       "      <th>Nombre</th>\n",
       "      <th>Dirección</th>\n",
       "      <th>Número</th>\n",
       "      <th>Código postal</th>\n",
       "      <th>districtCode</th>\n",
       "      <th>Colonia</th>\n",
       "      <th>altitude</th>\n",
       "      <th>nearbyStations/0</th>\n",
       "      <th>location/lat</th>\n",
       "      <th>location/lon</th>\n",
       "      <th>Tipo de estación</th>\n",
       "      <th>nearbyStations/1</th>\n",
       "      <th>nearbyStations/2</th>\n",
       "      <th>nearbyStations/3</th>\n",
       "      <th>nearbyStations/4</th>\n",
       "      <th>nearbyStations/5</th>\n",
       "      <th>punto_geo</th>\n",
       "    </tr>\n",
       "  </thead>\n",
       "  <tbody>\n",
       "    <tr>\n",
       "      <th>268</th>\n",
       "      <td>51</td>\n",
       "      <td>51 COLIMA-OAXACA</td>\n",
       "      <td>051 - Colima - Oaxaca</td>\n",
       "      <td>S/N</td>\n",
       "      <td>6700.000</td>\n",
       "      <td>R-N</td>\n",
       "      <td>Roma Norte</td>\n",
       "      <td>NaN</td>\n",
       "      <td>46</td>\n",
       "      <td>19.418</td>\n",
       "      <td>-99.168</td>\n",
       "      <td>BIKE</td>\n",
       "      <td>47.000</td>\n",
       "      <td>55.000</td>\n",
       "      <td>58.000</td>\n",
       "      <td>NaN</td>\n",
       "      <td>NaN</td>\n",
       "      <td>19.417995,-99.168248</td>\n",
       "    </tr>\n",
       "  </tbody>\n",
       "</table>\n",
       "</div>"
      ],
      "text/plain": [
       "     ID            Nombre              Dirección Número  Código postal  \\\n",
       "268  51  51 COLIMA-OAXACA  051 - Colima - Oaxaca    S/N       6700.000   \n",
       "\n",
       "    districtCode     Colonia  altitude  nearbyStations/0  location/lat  \\\n",
       "268          R-N  Roma Norte       NaN                46        19.418   \n",
       "\n",
       "     location/lon Tipo de estación  nearbyStations/1  nearbyStations/2  \\\n",
       "268       -99.168             BIKE            47.000            55.000   \n",
       "\n",
       "     nearbyStations/3  nearbyStations/4  nearbyStations/5  \\\n",
       "268            58.000               NaN               NaN   \n",
       "\n",
       "                punto_geo  \n",
       "268  19.417995,-99.168248  "
      ]
     },
     "execution_count": 4,
     "metadata": {},
     "output_type": "execute_result"
    }
   ],
   "source": [
    "geo = pd.read_csv(os.path.join(BASE_DIR,'estaciones-de-ecobici.csv'))\n",
    "geo.sample()"
   ]
  },
  {
   "cell_type": "markdown",
   "id": "leading-sixth",
   "metadata": {},
   "source": [
    "## Functions"
   ]
  },
  {
   "cell_type": "code",
   "execution_count": 5,
   "id": "hidden-compiler",
   "metadata": {
    "ExecuteTime": {
     "end_time": "2021-05-18T00:44:43.097419Z",
     "start_time": "2021-05-18T00:44:43.093122Z"
    }
   },
   "outputs": [],
   "source": [
    "import time\n",
    "import numpy as np\n",
    "from IPython.lib.display import Audio\n",
    "\n",
    "#Start a \"stopwatch\"\n",
    "start = time.time()\n",
    "def time_exp(x):\n",
    "    #Just print how many minutes and seconds have passed\n",
    "    minutes, seconds = np.floor(x/60), 60*(x/60-np.floor(x/60))\n",
    "    print(f\"{'{:.0f}'.format(minutes)} minutos con {'{:.2f}'.format(seconds)} segundos\")\n",
    "    \n",
    "def tone(a=1000, b=700, play_time_seconds=1, framerate=4410):\n",
    "    #Make a sound! Useful while training models\n",
    "    t = np.linspace(0, play_time_seconds, framerate*play_time_seconds)*np.pi\n",
    "    return Audio(np.sin(a*t)+np.sin(b*t), rate=framerate, autoplay=True)"
   ]
  },
  {
   "cell_type": "code",
   "execution_count": 6,
   "id": "classified-palestinian",
   "metadata": {
    "ExecuteTime": {
     "end_time": "2021-05-18T00:44:43.250835Z",
     "start_time": "2021-05-18T00:44:43.100270Z"
    }
   },
   "outputs": [],
   "source": [
    "#Uncomment the next line if you don't have it installed yet, \n",
    "'''!pip install mpu'''\n",
    "\n",
    "#it has the function to calculate the distance between two coordinates\n",
    "import mpu\n",
    "\n",
    "def transf(data):\n",
    "    df = data.copy()\n",
    "    df.columns = [str(x).strip().lower().replace(' ','_') for x in df.columns]\n",
    "    for tipo in ['retiro','arribo']:\n",
    "        #Merge de date and hour columns, and set is a datetime column\n",
    "        df[f'fecha_{tipo}'] = pd.to_datetime(df[f'fecha_{tipo}']+','+df[f'hora_{tipo}'],\n",
    "                                              format='%d/%m/%Y,%H:%M:%S')\n",
    "        #Get the day of the week name, just the first 3 characters\n",
    "        df[f'dow_{tipo}'] = df[f'fecha_{tipo}'].dt.day_name().str[:3]\n",
    "        #Get the time as hour-decimal. Ex: 15:30 --> 15.5\n",
    "        df[f'hrmin_{tipo}'] = (df[f'fecha_{tipo}'].dt.hour+\n",
    "                               df[f'fecha_{tipo}'].dt.minute/60+\n",
    "                               df[f'fecha_{tipo}'].dt.second/60**2)\n",
    "        #Make equally-distributed bins and save the bins\n",
    "        df[f'hrmin_{tipo}_cut'],qbins = pd.qcut(df[f'hrmin_{tipo}'].apply(lambda x:round(x,3)),\n",
    "                                                q=7,duplicates='drop',retbins=True)\n",
    "        df[f'hrmin_{tipo}_cut'] = df[f'hrmin_{tipo}_cut'].astype(str)\n",
    "        #Get the geo-points from the origin and destination stations\n",
    "        df = df.merge(geo.set_index('ID')['punto_geo'].str.split(',').to_frame().reset_index(),\n",
    "                      left_on=f'ciclo_estacion_{tipo}',right_on='ID'\n",
    "                     ).drop(columns='ID').rename(columns={'punto_geo':f'geo_{tipo.lower()}'})\n",
    "    #Calculate the ridetime in hours\n",
    "    df['ridetime'] = df['hrmin_arribo'] - df['hrmin_retiro']\n",
    "    #There were few trips at midnight (why?)\n",
    "    df = df[df['ridetime']>0].copy()\n",
    "    #Distance in km between the destination vs the origin station \n",
    "    df['distance'] = [mpu.haversine_distance(tuple([float(a) for a in x]),tuple([float(a) for a in y]))\n",
    "                      for x,y in zip(df['geo_retiro'],df['geo_arribo'])]\n",
    "    #Velocity of every ride in km/hr\n",
    "    df['velocity'] = df['distance'] / df['ridetime']\n",
    "    #Get rid of unnecesary columns\n",
    "    df.drop(columns=['hora_retiro','hora_arribo','geo_retiro','geo_arribo'],inplace=True)\n",
    "    return df,qbins"
   ]
  },
  {
   "cell_type": "code",
   "execution_count": 7,
   "id": "dying-status",
   "metadata": {
    "ExecuteTime": {
     "end_time": "2021-05-18T00:44:43.257938Z",
     "start_time": "2021-05-18T00:44:43.254270Z"
    }
   },
   "outputs": [],
   "source": [
    "def iqr(data,x,p=0.3):\n",
    "    var = data[x].copy()\n",
    "    q1 = var.quantile(p/2)\n",
    "    q3 = var.quantile(1-p/2)\n",
    "    iqr = q3 - q1\n",
    "    return data[(var.isnull()) | ((var >= q1 - 1.5*iqr) & (var <= q3 + 1.5*iqr))].copy()"
   ]
  },
  {
   "cell_type": "code",
   "execution_count": 8,
   "id": "liable-gallery",
   "metadata": {
    "ExecuteTime": {
     "end_time": "2021-05-18T00:44:43.262346Z",
     "start_time": "2021-05-18T00:44:43.259737Z"
    }
   },
   "outputs": [],
   "source": [
    "def perc70(x):\n",
    "    return np.percentile(x,70)"
   ]
  },
  {
   "cell_type": "code",
   "execution_count": 9,
   "id": "designing-amsterdam",
   "metadata": {
    "ExecuteTime": {
     "end_time": "2021-05-18T00:44:43.273781Z",
     "start_time": "2021-05-18T00:44:43.264068Z"
    }
   },
   "outputs": [],
   "source": [
    "def multishift(data,id_cols,date_col,shifts,**pivot_args):\n",
    "    df = data.copy()\n",
    "    #Make sure the col just have the date (without time)\n",
    "    df[date_col] = df[date_col].dt.date\n",
    "    #Merge all column names as a string\n",
    "    id_col = ','.join(id_cols)\n",
    "    #And as a column\n",
    "    df[id_col] = df[id_cols].apply(lambda x:','.join(x.dropna().astype(str)),axis=1)\n",
    "    #Drop any \"id_col\"-set that has a lower frequency than the max of the \"shifts-list\"\n",
    "    freq = df[id_col].value_counts().to_frame()\n",
    "    omit_idx = freq[freq[id_col]<=max(shifts)].index.to_list()\n",
    "    if len(omit_idx)>0:\n",
    "        df = df[~df[id_col].isin(omit_idx)].copy()\n",
    "    #Change data structure to build the \"shifting\"\n",
    "    df = df.pivot_table(index=[id_col,date_col],\n",
    "                        **pivot_args,\n",
    "                        fill_value=0)\n",
    "    #Concatenate multiple columns if they are\n",
    "    df.columns = ['_'.join([x for x in col]) if \n",
    "                  not isinstance(df.columns[0],str) #First element is not a string\n",
    "                  else col for col in df.columns]\n",
    "    #Bring the id_col for taking the set (unique values) in the next loop\n",
    "    df = df.reset_index()\n",
    "    #Each shift must be calculated at \"id_col\" level\n",
    "    total = pd.DataFrame()\n",
    "    for row in set(df[id_col]):\n",
    "        #Set the id_col as index (again) to call all the rows with that id_col\n",
    "        df_id = df.set_index(id_col).loc[row,:]\n",
    "        #All possible dates from the min to the max of the subset\n",
    "        tot_dates = pd.DataFrame(pd.date_range(start=df_id[date_col].min(), \n",
    "                                               end=df_id[date_col].max()).date, \n",
    "                                 columns=[date_col])\n",
    "        df_id = df_id.merge(tot_dates,on=date_col,how='right').fillna(0)\n",
    "        cols = df_id.columns[1:]\n",
    "        #Start the \"shifting\"\n",
    "        aux = df_id.copy()\n",
    "        for i in shifts:\n",
    "            aux = aux.join(df_id.iloc[:,1:].shift(i).rename(columns={x:f'{x}_{str(i).zfill(2)}' \n",
    "                                                                     for x in cols}))\n",
    "        aux[id_col] = row\n",
    "        total = total.append(aux,ignore_index=True)\n",
    "    return total.set_index(id_cols+[date_col])"
   ]
  },
  {
   "cell_type": "markdown",
   "id": "comfortable-coordination",
   "metadata": {},
   "source": [
    "## Transform"
   ]
  },
  {
   "cell_type": "code",
   "execution_count": 10,
   "id": "joined-italian",
   "metadata": {
    "ExecuteTime": {
     "end_time": "2021-05-18T00:44:50.527484Z",
     "start_time": "2021-05-18T00:44:43.275594Z"
    }
   },
   "outputs": [
    {
     "data": {
      "text/html": [
       "<div>\n",
       "<style scoped>\n",
       "    .dataframe tbody tr th:only-of-type {\n",
       "        vertical-align: middle;\n",
       "    }\n",
       "\n",
       "    .dataframe tbody tr th {\n",
       "        vertical-align: top;\n",
       "    }\n",
       "\n",
       "    .dataframe thead th {\n",
       "        text-align: right;\n",
       "    }\n",
       "</style>\n",
       "<table border=\"1\" class=\"dataframe\">\n",
       "  <thead>\n",
       "    <tr style=\"text-align: right;\">\n",
       "      <th></th>\n",
       "      <th>genero_usuario</th>\n",
       "      <th>edad_usuario</th>\n",
       "      <th>bici</th>\n",
       "      <th>id_usuario</th>\n",
       "      <th>ciclo_estacion_retiro</th>\n",
       "      <th>fecha_retiro</th>\n",
       "      <th>ciclo_estacion_arribo</th>\n",
       "      <th>fecha_arribo</th>\n",
       "      <th>dow_retiro</th>\n",
       "      <th>hrmin_retiro</th>\n",
       "      <th>hrmin_retiro_cut</th>\n",
       "      <th>dow_arribo</th>\n",
       "      <th>hrmin_arribo</th>\n",
       "      <th>hrmin_arribo_cut</th>\n",
       "      <th>ridetime</th>\n",
       "      <th>distance</th>\n",
       "      <th>velocity</th>\n",
       "    </tr>\n",
       "  </thead>\n",
       "  <tbody>\n",
       "    <tr>\n",
       "      <th>161983</th>\n",
       "      <td>M</td>\n",
       "      <td>35</td>\n",
       "      <td>8930</td>\n",
       "      <td>342214</td>\n",
       "      <td>171</td>\n",
       "      <td>2021-04-12 05:55:23</td>\n",
       "      <td>166</td>\n",
       "      <td>2021-04-12 06:01:05</td>\n",
       "      <td>Mon</td>\n",
       "      <td>5.923</td>\n",
       "      <td>(4.923, 6.577]</td>\n",
       "      <td>Mon</td>\n",
       "      <td>6.018</td>\n",
       "      <td>(4.919, 6.657]</td>\n",
       "      <td>0.095</td>\n",
       "      <td>0.682</td>\n",
       "      <td>7.178</td>\n",
       "    </tr>\n",
       "  </tbody>\n",
       "</table>\n",
       "</div>"
      ],
      "text/plain": [
       "       genero_usuario  edad_usuario  bici  id_usuario  ciclo_estacion_retiro  \\\n",
       "161983              M            35  8930      342214                    171   \n",
       "\n",
       "              fecha_retiro  ciclo_estacion_arribo        fecha_arribo  \\\n",
       "161983 2021-04-12 05:55:23                    166 2021-04-12 06:01:05   \n",
       "\n",
       "       dow_retiro  hrmin_retiro hrmin_retiro_cut dow_arribo  hrmin_arribo  \\\n",
       "161983        Mon         5.923   (4.923, 6.577]        Mon         6.018   \n",
       "\n",
       "       hrmin_arribo_cut  ridetime  distance  velocity  \n",
       "161983   (4.919, 6.657]     0.095     0.682     7.178  "
      ]
     },
     "execution_count": 10,
     "metadata": {},
     "output_type": "execute_result"
    }
   ],
   "source": [
    "df,qbins = transf(df.rename(columns={'Ciclo_EstacionArribo':'ciclo_estacion_arribo'}))\n",
    "df.sample()"
   ]
  },
  {
   "cell_type": "markdown",
   "id": "geological-desperate",
   "metadata": {},
   "source": [
    "### Ridetime"
   ]
  },
  {
   "cell_type": "code",
   "execution_count": 11,
   "id": "three-consensus",
   "metadata": {
    "ExecuteTime": {
     "end_time": "2021-05-18T00:44:51.007177Z",
     "start_time": "2021-05-18T00:44:50.530099Z"
    }
   },
   "outputs": [
    {
     "data": {
      "text/plain": [
       "<AxesSubplot:>"
      ]
     },
     "execution_count": 11,
     "metadata": {},
     "output_type": "execute_result"
    },
    {
     "data": {
      "image/png": "[encoded data removed]",
      "text/plain": [
       "<Figure size 432x288 with 1 Axes>"
      ]
     },
     "metadata": {
      "needs_background": "light"
     },
     "output_type": "display_data"
    }
   ],
   "source": [
    "df['ridetime'].hist()"
   ]
  },
  {
   "cell_type": "markdown",
   "id": "million-dispute",
   "metadata": {},
   "source": [
    "Omit outliers with the IQR method\n",
    "\n",
    "<https://online.stat.psu.edu/stat200/lesson/3/3.2>"
   ]
  },
  {
   "cell_type": "code",
   "execution_count": 12,
   "id": "crucial-margin",
   "metadata": {
    "ExecuteTime": {
     "end_time": "2021-05-18T00:44:51.360341Z",
     "start_time": "2021-05-18T00:44:51.009350Z"
    }
   },
   "outputs": [
    {
     "data": {
      "text/plain": [
       "<AxesSubplot:>"
      ]
     },
     "execution_count": 12,
     "metadata": {},
     "output_type": "execute_result"
    },
    {
     "data": {
      "image/png": "[encoded data removed]",
      "text/plain": [
       "<Figure size 432x288 with 1 Axes>"
      ]
     },
     "metadata": {
      "needs_background": "light"
     },
     "output_type": "display_data"
    }
   ],
   "source": [
    "#Save the original length\n",
    "dim_before = len(df)\n",
    "\n",
    "df = iqr(df,'ridetime')\n",
    "df['ridetime'].hist()"
   ]
  },
  {
   "cell_type": "markdown",
   "id": "direct-retro",
   "metadata": {},
   "source": [
    "### Distance"
   ]
  },
  {
   "cell_type": "code",
   "execution_count": 13,
   "id": "fallen-demographic",
   "metadata": {
    "ExecuteTime": {
     "end_time": "2021-05-18T00:44:51.504310Z",
     "start_time": "2021-05-18T00:44:51.363044Z"
    }
   },
   "outputs": [
    {
     "data": {
      "text/plain": [
       "<AxesSubplot:>"
      ]
     },
     "execution_count": 13,
     "metadata": {},
     "output_type": "execute_result"
    },
    {
     "data": {
      "image/png": "[encoded data removed]",
      "text/plain": [
       "<Figure size 432x288 with 1 Axes>"
      ]
     },
     "metadata": {
      "needs_background": "light"
     },
     "output_type": "display_data"
    }
   ],
   "source": [
    "df['distance'].hist()"
   ]
  },
  {
   "cell_type": "code",
   "execution_count": 14,
   "id": "moved-newsletter",
   "metadata": {
    "ExecuteTime": {
     "end_time": "2021-05-18T00:44:51.917956Z",
     "start_time": "2021-05-18T00:44:51.508754Z"
    }
   },
   "outputs": [
    {
     "data": {
      "text/plain": [
       "<AxesSubplot:>"
      ]
     },
     "execution_count": 14,
     "metadata": {},
     "output_type": "execute_result"
    },
    {
     "data": {
      "image/png": "[encoded data removed]",
      "text/plain": [
       "<Figure size 432x288 with 1 Axes>"
      ]
     },
     "metadata": {
      "needs_background": "light"
     },
     "output_type": "display_data"
    }
   ],
   "source": [
    "df = iqr(df,'distance')\n",
    "df['distance'].hist()"
   ]
  },
  {
   "cell_type": "markdown",
   "id": "stock-raleigh",
   "metadata": {},
   "source": [
    "### Velocity"
   ]
  },
  {
   "cell_type": "code",
   "execution_count": 15,
   "id": "executed-victor",
   "metadata": {
    "ExecuteTime": {
     "end_time": "2021-05-18T00:44:52.073550Z",
     "start_time": "2021-05-18T00:44:51.921871Z"
    }
   },
   "outputs": [
    {
     "data": {
      "text/plain": [
       "<AxesSubplot:>"
      ]
     },
     "execution_count": 15,
     "metadata": {},
     "output_type": "execute_result"
    },
    {
     "data": {
      "image/png": "[encoded data removed]",
      "text/plain": [
       "<Figure size 432x288 with 1 Axes>"
      ]
     },
     "metadata": {
      "needs_background": "light"
     },
     "output_type": "display_data"
    }
   ],
   "source": [
    "df['velocity'].hist()"
   ]
  },
  {
   "cell_type": "code",
   "execution_count": 16,
   "id": "alpine-microwave",
   "metadata": {
    "ExecuteTime": {
     "end_time": "2021-05-18T00:44:52.391111Z",
     "start_time": "2021-05-18T00:44:52.075034Z"
    }
   },
   "outputs": [
    {
     "data": {
      "text/plain": [
       "<AxesSubplot:>"
      ]
     },
     "execution_count": 16,
     "metadata": {},
     "output_type": "execute_result"
    },
    {
     "data": {
      "image/png": "[encoded data removed]",
      "text/plain": [
       "<Figure size 432x288 with 1 Axes>"
      ]
     },
     "metadata": {
      "needs_background": "light"
     },
     "output_type": "display_data"
    }
   ],
   "source": [
    "df = iqr(df,'velocity')\n",
    "df['velocity'].hist()"
   ]
  },
  {
   "cell_type": "markdown",
   "id": "sealed-product",
   "metadata": {},
   "source": [
    "### Age"
   ]
  },
  {
   "cell_type": "code",
   "execution_count": 17,
   "id": "manufactured-level",
   "metadata": {
    "ExecuteTime": {
     "end_time": "2021-05-18T00:44:52.538642Z",
     "start_time": "2021-05-18T00:44:52.392799Z"
    }
   },
   "outputs": [
    {
     "data": {
      "text/plain": [
       "<AxesSubplot:>"
      ]
     },
     "execution_count": 17,
     "metadata": {},
     "output_type": "execute_result"
    },
    {
     "data": {
      "image/png": "[encoded data removed]",
      "text/plain": [
       "<Figure size 432x288 with 1 Axes>"
      ]
     },
     "metadata": {
      "needs_background": "light"
     },
     "output_type": "display_data"
    }
   ],
   "source": [
    "df['edad_usuario'].hist()"
   ]
  },
  {
   "cell_type": "code",
   "execution_count": 18,
   "id": "developmental-billion",
   "metadata": {
    "ExecuteTime": {
     "end_time": "2021-05-18T00:44:52.866452Z",
     "start_time": "2021-05-18T00:44:52.540420Z"
    }
   },
   "outputs": [
    {
     "data": {
      "text/plain": [
       "<AxesSubplot:>"
      ]
     },
     "execution_count": 18,
     "metadata": {},
     "output_type": "execute_result"
    },
    {
     "data": {
      "image/png": "[encoded data removed]",
      "text/plain": [
       "<Figure size 432x288 with 1 Axes>"
      ]
     },
     "metadata": {
      "needs_background": "light"
     },
     "output_type": "display_data"
    }
   ],
   "source": [
    "df = iqr(df,'edad_usuario')\n",
    "df['edad_usuario'].hist()"
   ]
  },
  {
   "cell_type": "code",
   "execution_count": 19,
   "id": "limited-promotion",
   "metadata": {
    "ExecuteTime": {
     "end_time": "2021-05-18T00:44:52.871248Z",
     "start_time": "2021-05-18T00:44:52.868242Z"
    }
   },
   "outputs": [
    {
     "name": "stdout",
     "output_type": "stream",
     "text": [
      "0.9777596772262949\n"
     ]
    }
   ],
   "source": [
    "#Does the outlier cleaning affect the data length?\n",
    "print(len(df)/dim_before)"
   ]
  },
  {
   "cell_type": "markdown",
   "id": "attended-shower",
   "metadata": {},
   "source": [
    "### Demand"
   ]
  },
  {
   "cell_type": "code",
   "execution_count": 20,
   "id": "iraqi-publicity",
   "metadata": {
    "ExecuteTime": {
     "end_time": "2021-05-18T00:44:53.791311Z",
     "start_time": "2021-05-18T00:44:52.873074Z"
    }
   },
   "outputs": [
    {
     "data": {
      "text/html": [
       "<style  type=\"text/css\" >\n",
       "#T_d0052_row0_col0,#T_d0052_row6_col5{\n",
       "            background-color:  #bce0f6;\n",
       "            color:  #000000;\n",
       "        }#T_d0052_row0_col1,#T_d0052_row2_col5,#T_d0052_row2_col7{\n",
       "            background-color:  #badff6;\n",
       "            color:  #000000;\n",
       "        }#T_d0052_row0_col2,#T_d0052_row0_col3,#T_d0052_row0_col8,#T_d0052_row0_col9,#T_d0052_row1_col7,#T_d0052_row1_col10,#T_d0052_row1_col11,#T_d0052_row1_col12,#T_d0052_row1_col13,#T_d0052_row2_col0,#T_d0052_row4_col1,#T_d0052_row4_col6,#T_d0052_row5_col4,#T_d0052_row5_col5{\n",
       "            background-color:  #87cefa;\n",
       "            color:  #000000;\n",
       "        }#T_d0052_row0_col4{\n",
       "            background-color:  #c0e1f6;\n",
       "            color:  #000000;\n",
       "        }#T_d0052_row0_col5{\n",
       "            background-color:  #c1e1f6;\n",
       "            color:  #000000;\n",
       "        }#T_d0052_row0_col6{\n",
       "            background-color:  #c4e3f6;\n",
       "            color:  #000000;\n",
       "        }#T_d0052_row0_col7{\n",
       "            background-color:  #9bd5f9;\n",
       "            color:  #000000;\n",
       "        }#T_d0052_row0_col10,#T_d0052_row3_col6{\n",
       "            background-color:  #9ed6f8;\n",
       "            color:  #000000;\n",
       "        }#T_d0052_row0_col11{\n",
       "            background-color:  #96d3f9;\n",
       "            color:  #000000;\n",
       "        }#T_d0052_row0_col12,#T_d0052_row2_col11{\n",
       "            background-color:  #9fd6f8;\n",
       "            color:  #000000;\n",
       "        }#T_d0052_row0_col13{\n",
       "            background-color:  #9cd5f8;\n",
       "            color:  #000000;\n",
       "        }#T_d0052_row1_col0,#T_d0052_row1_col1,#T_d0052_row1_col4,#T_d0052_row1_col5,#T_d0052_row1_col6,#T_d0052_row2_col10,#T_d0052_row3_col7,#T_d0052_row3_col9,#T_d0052_row4_col2,#T_d0052_row4_col7,#T_d0052_row4_col8,#T_d0052_row4_col11,#T_d0052_row4_col12,#T_d0052_row4_col13,#T_d0052_row5_col2,#T_d0052_row5_col3{\n",
       "            background-color:  #eff1f3;\n",
       "            color:  #000000;\n",
       "        }#T_d0052_row1_col2,#T_d0052_row1_col8{\n",
       "            background-color:  #9dd5f8;\n",
       "            color:  #000000;\n",
       "        }#T_d0052_row1_col3,#T_d0052_row3_col4{\n",
       "            background-color:  #91d1f9;\n",
       "            color:  #000000;\n",
       "        }#T_d0052_row1_col9,#T_d0052_row5_col1{\n",
       "            background-color:  #88cefa;\n",
       "            color:  #000000;\n",
       "        }#T_d0052_row2_col1{\n",
       "            background-color:  #b7def7;\n",
       "            color:  #000000;\n",
       "        }#T_d0052_row2_col2{\n",
       "            background-color:  #a0d6f8;\n",
       "            color:  #000000;\n",
       "        }#T_d0052_row2_col3,#T_d0052_row3_col5{\n",
       "            background-color:  #addbf7;\n",
       "            color:  #000000;\n",
       "        }#T_d0052_row2_col4,#T_d0052_row6_col6{\n",
       "            background-color:  #b6def7;\n",
       "            color:  #000000;\n",
       "        }#T_d0052_row2_col6,#T_d0052_row4_col0,#T_d0052_row4_col10{\n",
       "            background-color:  #c2e2f6;\n",
       "            color:  #000000;\n",
       "        }#T_d0052_row2_col8{\n",
       "            background-color:  #9dd6f8;\n",
       "            color:  #000000;\n",
       "        }#T_d0052_row2_col9{\n",
       "            background-color:  #e8eef3;\n",
       "            color:  #000000;\n",
       "        }#T_d0052_row2_col12,#T_d0052_row6_col2{\n",
       "            background-color:  #acdaf7;\n",
       "            color:  #000000;\n",
       "        }#T_d0052_row2_col13,#T_d0052_row5_col0{\n",
       "            background-color:  #afdbf7;\n",
       "            color:  #000000;\n",
       "        }#T_d0052_row3_col0{\n",
       "            background-color:  #a8d9f8;\n",
       "            color:  #000000;\n",
       "        }#T_d0052_row3_col1{\n",
       "            background-color:  #93d2f9;\n",
       "            color:  #000000;\n",
       "        }#T_d0052_row3_col2{\n",
       "            background-color:  #d3e8f5;\n",
       "            color:  #000000;\n",
       "        }#T_d0052_row3_col3{\n",
       "            background-color:  #d8e9f4;\n",
       "            color:  #000000;\n",
       "        }#T_d0052_row3_col8{\n",
       "            background-color:  #d4e8f4;\n",
       "            color:  #000000;\n",
       "        }#T_d0052_row3_col10{\n",
       "            background-color:  #aedbf7;\n",
       "            color:  #000000;\n",
       "        }#T_d0052_row3_col11{\n",
       "            background-color:  #dbeaf4;\n",
       "            color:  #000000;\n",
       "        }#T_d0052_row3_col12{\n",
       "            background-color:  #e0ecf4;\n",
       "            color:  #000000;\n",
       "        }#T_d0052_row3_col13{\n",
       "            background-color:  #dfecf4;\n",
       "            color:  #000000;\n",
       "        }#T_d0052_row4_col3{\n",
       "            background-color:  #edf0f3;\n",
       "            color:  #000000;\n",
       "        }#T_d0052_row4_col4{\n",
       "            background-color:  #89cffa;\n",
       "            color:  #000000;\n",
       "        }#T_d0052_row4_col5{\n",
       "            background-color:  #92d2f9;\n",
       "            color:  #000000;\n",
       "        }#T_d0052_row4_col9{\n",
       "            background-color:  #e1ecf4;\n",
       "            color:  #000000;\n",
       "        }#T_d0052_row5_col6{\n",
       "            background-color:  #a4d8f8;\n",
       "            color:  #000000;\n",
       "        }#T_d0052_row5_col7{\n",
       "            background-color:  #e8eff3;\n",
       "            color:  #000000;\n",
       "        }#T_d0052_row5_col8{\n",
       "            background-color:  #deebf4;\n",
       "            color:  #000000;\n",
       "        }#T_d0052_row5_col9{\n",
       "            background-color:  #a1d7f8;\n",
       "            color:  #000000;\n",
       "        }#T_d0052_row5_col10{\n",
       "            background-color:  #99d4f9;\n",
       "            color:  #000000;\n",
       "        }#T_d0052_row5_col11{\n",
       "            background-color:  #e4edf3;\n",
       "            color:  #000000;\n",
       "        }#T_d0052_row5_col12{\n",
       "            background-color:  #e5edf3;\n",
       "            color:  #000000;\n",
       "        }#T_d0052_row5_col13{\n",
       "            background-color:  #eaeff3;\n",
       "            color:  #000000;\n",
       "        }#T_d0052_row6_col0{\n",
       "            background-color:  #abdaf7;\n",
       "            color:  #000000;\n",
       "        }#T_d0052_row6_col1{\n",
       "            background-color:  #b0dcf7;\n",
       "            color:  #000000;\n",
       "        }#T_d0052_row6_col3{\n",
       "            background-color:  #b2dcf7;\n",
       "            color:  #000000;\n",
       "        }#T_d0052_row6_col4{\n",
       "            background-color:  #9ad4f9;\n",
       "            color:  #000000;\n",
       "        }#T_d0052_row6_col7{\n",
       "            background-color:  #c3e2f6;\n",
       "            color:  #000000;\n",
       "        }#T_d0052_row6_col8{\n",
       "            background-color:  #bee0f6;\n",
       "            color:  #000000;\n",
       "        }#T_d0052_row6_col9{\n",
       "            background-color:  #90d1f9;\n",
       "            color:  #000000;\n",
       "        }#T_d0052_row6_col10{\n",
       "            background-color:  #8dd0fa;\n",
       "            color:  #000000;\n",
       "        }#T_d0052_row6_col11{\n",
       "            background-color:  #c1e2f6;\n",
       "            color:  #000000;\n",
       "        }#T_d0052_row6_col12{\n",
       "            background-color:  #c9e4f5;\n",
       "            color:  #000000;\n",
       "        }#T_d0052_row6_col13{\n",
       "            background-color:  #d1e7f5;\n",
       "            color:  #000000;\n",
       "        }</style><table id=\"T_d0052_\" ><thead>    <tr>        <th class=\"blank level0\" ></th>        <th class=\"col_heading level0 col0\" colspan=\"7\">count</th>        <th class=\"col_heading level0 col7\" colspan=\"7\">mean</th>    </tr>    <tr>        <th class=\"index_name level1\" >dow_retiro</th>        <th class=\"col_heading level1 col0\" >Fri</th>        <th class=\"col_heading level1 col1\" >Mon</th>        <th class=\"col_heading level1 col2\" >Sat</th>        <th class=\"col_heading level1 col3\" >Sun</th>        <th class=\"col_heading level1 col4\" >Thu</th>        <th class=\"col_heading level1 col5\" >Tue</th>        <th class=\"col_heading level1 col6\" >Wed</th>        <th class=\"col_heading level1 col7\" >Fri</th>        <th class=\"col_heading level1 col8\" >Mon</th>        <th class=\"col_heading level1 col9\" >Sat</th>        <th class=\"col_heading level1 col10\" >Sun</th>        <th class=\"col_heading level1 col11\" >Thu</th>        <th class=\"col_heading level1 col12\" >Tue</th>        <th class=\"col_heading level1 col13\" >Wed</th>    </tr>    <tr>        <th class=\"index_name level0\" >hrmin_retiro_cut</th>        <th class=\"blank\" ></th>        <th class=\"blank\" ></th>        <th class=\"blank\" ></th>        <th class=\"blank\" ></th>        <th class=\"blank\" ></th>        <th class=\"blank\" ></th>        <th class=\"blank\" ></th>        <th class=\"blank\" ></th>        <th class=\"blank\" ></th>        <th class=\"blank\" ></th>        <th class=\"blank\" ></th>        <th class=\"blank\" ></th>        <th class=\"blank\" ></th>        <th class=\"blank\" ></th>    </tr></thead><tbody>\n",
       "                <tr>\n",
       "                        <th id=\"T_d0052_level0_row0\" class=\"row_heading level0 row0\" >(0.999, 2.941]</th>\n",
       "                        <td id=\"T_d0052_row0_col0\" class=\"data row0 col0\" >8295.0</td>\n",
       "                        <td id=\"T_d0052_row0_col1\" class=\"data row0 col1\" >6594.0</td>\n",
       "                        <td id=\"T_d0052_row0_col2\" class=\"data row0 col2\" >6007.0</td>\n",
       "                        <td id=\"T_d0052_row0_col3\" class=\"data row0 col3\" >5691.0</td>\n",
       "                        <td id=\"T_d0052_row0_col4\" class=\"data row0 col4\" >8219.0</td>\n",
       "                        <td id=\"T_d0052_row0_col5\" class=\"data row0 col5\" >6845.0</td>\n",
       "                        <td id=\"T_d0052_row0_col6\" class=\"data row0 col6\" >7010.0</td>\n",
       "                        <td id=\"T_d0052_row0_col7\" class=\"data row0 col7\" >37.1</td>\n",
       "                        <td id=\"T_d0052_row0_col8\" class=\"data row0 col8\" >37.7</td>\n",
       "                        <td id=\"T_d0052_row0_col9\" class=\"data row0 col9\" >36.2</td>\n",
       "                        <td id=\"T_d0052_row0_col10\" class=\"data row0 col10\" >35.6</td>\n",
       "                        <td id=\"T_d0052_row0_col11\" class=\"data row0 col11\" >37.1</td>\n",
       "                        <td id=\"T_d0052_row0_col12\" class=\"data row0 col12\" >37.3</td>\n",
       "                        <td id=\"T_d0052_row0_col13\" class=\"data row0 col13\" >37.3</td>\n",
       "            </tr>\n",
       "            <tr>\n",
       "                        <th id=\"T_d0052_level0_row1\" class=\"row_heading level0 row1\" >(10.888, 13.0]</th>\n",
       "                        <td id=\"T_d0052_row1_col0\" class=\"data row1 col0\" >7315.0</td>\n",
       "                        <td id=\"T_d0052_row1_col1\" class=\"data row1 col1\" >5361.0</td>\n",
       "                        <td id=\"T_d0052_row1_col2\" class=\"data row1 col2\" >5523.0</td>\n",
       "                        <td id=\"T_d0052_row1_col3\" class=\"data row1 col3\" >5440.0</td>\n",
       "                        <td id=\"T_d0052_row1_col4\" class=\"data row1 col4\" >7282.0</td>\n",
       "                        <td id=\"T_d0052_row1_col5\" class=\"data row1 col5\" >5582.0</td>\n",
       "                        <td id=\"T_d0052_row1_col6\" class=\"data row1 col6\" >5968.0</td>\n",
       "                        <td id=\"T_d0052_row1_col7\" class=\"data row1 col7\" >37.5</td>\n",
       "                        <td id=\"T_d0052_row1_col8\" class=\"data row1 col8\" >37.2</td>\n",
       "                        <td id=\"T_d0052_row1_col9\" class=\"data row1 col9\" >36.1</td>\n",
       "                        <td id=\"T_d0052_row1_col10\" class=\"data row1 col10\" >35.8</td>\n",
       "                        <td id=\"T_d0052_row1_col11\" class=\"data row1 col11\" >37.4</td>\n",
       "                        <td id=\"T_d0052_row1_col12\" class=\"data row1 col12\" >37.9</td>\n",
       "                        <td id=\"T_d0052_row1_col13\" class=\"data row1 col13\" >37.7</td>\n",
       "            </tr>\n",
       "            <tr>\n",
       "                        <th id=\"T_d0052_level0_row2\" class=\"row_heading level0 row2\" >(2.941, 4.923]</th>\n",
       "                        <td id=\"T_d0052_row2_col0\" class=\"data row2 col0\" >9316.0</td>\n",
       "                        <td id=\"T_d0052_row2_col1\" class=\"data row2 col1\" >6666.0</td>\n",
       "                        <td id=\"T_d0052_row2_col2\" class=\"data row2 col2\" >5450.0</td>\n",
       "                        <td id=\"T_d0052_row2_col3\" class=\"data row2 col3\" >4787.0</td>\n",
       "                        <td id=\"T_d0052_row2_col4\" class=\"data row2 col4\" >8426.0</td>\n",
       "                        <td id=\"T_d0052_row2_col5\" class=\"data row2 col5\" >7019.0</td>\n",
       "                        <td id=\"T_d0052_row2_col6\" class=\"data row2 col6\" >7069.0</td>\n",
       "                        <td id=\"T_d0052_row2_col7\" class=\"data row2 col7\" >36.5</td>\n",
       "                        <td id=\"T_d0052_row2_col8\" class=\"data row2 col8\" >37.2</td>\n",
       "                        <td id=\"T_d0052_row2_col9\" class=\"data row2 col9\" >35.4</td>\n",
       "                        <td id=\"T_d0052_row2_col10\" class=\"data row2 col10\" >34.8</td>\n",
       "                        <td id=\"T_d0052_row2_col11\" class=\"data row2 col11\" >36.9</td>\n",
       "                        <td id=\"T_d0052_row2_col12\" class=\"data row2 col12\" >37.0</td>\n",
       "                        <td id=\"T_d0052_row2_col13\" class=\"data row2 col13\" >37.0</td>\n",
       "            </tr>\n",
       "            <tr>\n",
       "                        <th id=\"T_d0052_level0_row3\" class=\"row_heading level0 row3\" >(4.923, 6.577]</th>\n",
       "                        <td id=\"T_d0052_row3_col0\" class=\"data row3 col0\" >8679.0</td>\n",
       "                        <td id=\"T_d0052_row3_col1\" class=\"data row3 col1\" >7503.0</td>\n",
       "                        <td id=\"T_d0052_row3_col2\" class=\"data row3 col2\" >4329.0</td>\n",
       "                        <td id=\"T_d0052_row3_col3\" class=\"data row3 col3\" >3742.0</td>\n",
       "                        <td id=\"T_d0052_row3_col4\" class=\"data row3 col4\" >9170.0</td>\n",
       "                        <td id=\"T_d0052_row3_col5\" class=\"data row3 col5\" >7380.0</td>\n",
       "                        <td id=\"T_d0052_row3_col6\" class=\"data row3 col6\" >7941.0</td>\n",
       "                        <td id=\"T_d0052_row3_col7\" class=\"data row3 col7\" >35.6</td>\n",
       "                        <td id=\"T_d0052_row3_col8\" class=\"data row3 col8\" >36.0</td>\n",
       "                        <td id=\"T_d0052_row3_col9\" class=\"data row3 col9\" >35.4</td>\n",
       "                        <td id=\"T_d0052_row3_col10\" class=\"data row3 col10\" >35.5</td>\n",
       "                        <td id=\"T_d0052_row3_col11\" class=\"data row3 col11\" >35.9</td>\n",
       "                        <td id=\"T_d0052_row3_col12\" class=\"data row3 col12\" >35.8</td>\n",
       "                        <td id=\"T_d0052_row3_col13\" class=\"data row3 col13\" >36.0</td>\n",
       "            </tr>\n",
       "            <tr>\n",
       "                        <th id=\"T_d0052_level0_row4\" class=\"row_heading level0 row4\" >(6.577, 7.923]</th>\n",
       "                        <td id=\"T_d0052_row4_col0\" class=\"data row4 col0\" >8189.0</td>\n",
       "                        <td id=\"T_d0052_row4_col1\" class=\"data row4 col1\" >7785.0</td>\n",
       "                        <td id=\"T_d0052_row4_col2\" class=\"data row4 col2\" >3718.0</td>\n",
       "                        <td id=\"T_d0052_row4_col3\" class=\"data row4 col3\" >3237.0</td>\n",
       "                        <td id=\"T_d0052_row4_col4\" class=\"data row4 col4\" >9328.0</td>\n",
       "                        <td id=\"T_d0052_row4_col5\" class=\"data row4 col5\" >8118.0</td>\n",
       "                        <td id=\"T_d0052_row4_col6\" class=\"data row4 col6\" >8500.0</td>\n",
       "                        <td id=\"T_d0052_row4_col7\" class=\"data row4 col7\" >35.6</td>\n",
       "                        <td id=\"T_d0052_row4_col8\" class=\"data row4 col8\" >35.4</td>\n",
       "                        <td id=\"T_d0052_row4_col9\" class=\"data row4 col9\" >35.5</td>\n",
       "                        <td id=\"T_d0052_row4_col10\" class=\"data row4 col10\" >35.3</td>\n",
       "                        <td id=\"T_d0052_row4_col11\" class=\"data row4 col11\" >35.6</td>\n",
       "                        <td id=\"T_d0052_row4_col12\" class=\"data row4 col12\" >35.5</td>\n",
       "                        <td id=\"T_d0052_row4_col13\" class=\"data row4 col13\" >35.7</td>\n",
       "            </tr>\n",
       "            <tr>\n",
       "                        <th id=\"T_d0052_level0_row5\" class=\"row_heading level0 row5\" >(7.923, 9.226]</th>\n",
       "                        <td id=\"T_d0052_row5_col0\" class=\"data row5 col0\" >8548.0</td>\n",
       "                        <td id=\"T_d0052_row5_col1\" class=\"data row5 col1\" >7763.0</td>\n",
       "                        <td id=\"T_d0052_row5_col2\" class=\"data row5 col2\" >3734.0</td>\n",
       "                        <td id=\"T_d0052_row5_col3\" class=\"data row5 col3\" >3178.0</td>\n",
       "                        <td id=\"T_d0052_row5_col4\" class=\"data row5 col4\" >9370.0</td>\n",
       "                        <td id=\"T_d0052_row5_col5\" class=\"data row5 col5\" >8433.0</td>\n",
       "                        <td id=\"T_d0052_row5_col6\" class=\"data row5 col6\" >7800.0</td>\n",
       "                        <td id=\"T_d0052_row5_col7\" class=\"data row5 col7\" >35.7</td>\n",
       "                        <td id=\"T_d0052_row5_col8\" class=\"data row5 col8\" >35.8</td>\n",
       "                        <td id=\"T_d0052_row5_col9\" class=\"data row5 col9\" >36.0</td>\n",
       "                        <td id=\"T_d0052_row5_col10\" class=\"data row5 col10\" >35.7</td>\n",
       "                        <td id=\"T_d0052_row5_col11\" class=\"data row5 col11\" >35.8</td>\n",
       "                        <td id=\"T_d0052_row5_col12\" class=\"data row5 col12\" >35.7</td>\n",
       "                        <td id=\"T_d0052_row5_col13\" class=\"data row5 col13\" >35.8</td>\n",
       "            </tr>\n",
       "            <tr>\n",
       "                        <th id=\"T_d0052_level0_row6\" class=\"row_heading level0 row6\" >(9.226, 10.888]</th>\n",
       "                        <td id=\"T_d0052_row6_col0\" class=\"data row6 col0\" >8623.0</td>\n",
       "                        <td id=\"T_d0052_row6_col1\" class=\"data row6 col1\" >6828.0</td>\n",
       "                        <td id=\"T_d0052_row6_col2\" class=\"data row6 col2\" >5193.0</td>\n",
       "                        <td id=\"T_d0052_row6_col3\" class=\"data row6 col3\" >4647.0</td>\n",
       "                        <td id=\"T_d0052_row6_col4\" class=\"data row6 col4\" >8993.0</td>\n",
       "                        <td id=\"T_d0052_row6_col5\" class=\"data row6 col5\" >6968.0</td>\n",
       "                        <td id=\"T_d0052_row6_col6\" class=\"data row6 col6\" >7351.0</td>\n",
       "                        <td id=\"T_d0052_row6_col7\" class=\"data row6 col7\" >36.4</td>\n",
       "                        <td id=\"T_d0052_row6_col8\" class=\"data row6 col8\" >36.5</td>\n",
       "                        <td id=\"T_d0052_row6_col9\" class=\"data row6 col9\" >36.1</td>\n",
       "                        <td id=\"T_d0052_row6_col10\" class=\"data row6 col10\" >35.8</td>\n",
       "                        <td id=\"T_d0052_row6_col11\" class=\"data row6 col11\" >36.4</td>\n",
       "                        <td id=\"T_d0052_row6_col12\" class=\"data row6 col12\" >36.4</td>\n",
       "                        <td id=\"T_d0052_row6_col13\" class=\"data row6 col13\" >36.3</td>\n",
       "            </tr>\n",
       "    </tbody></table>"
      ],
      "text/plain": [
       "<pandas.io.formats.style.Styler at 0x7ff2d4a122b0>"
      ]
     },
     "execution_count": 20,
     "metadata": {},
     "output_type": "execute_result"
    }
   ],
   "source": [
    "'''!pip install seaborn'''\n",
    "import seaborn as sns\n",
    "\n",
    "color = sns.light_palette('LightSkyBlue', as_cmap=True)\n",
    "\n",
    "#This is how the demand (and their avg age) looks through the daytime vs day of the week\n",
    "df.pivot_table(index='hrmin_retiro_cut',\n",
    "               columns='dow_retiro',\n",
    "               values='edad_usuario',\n",
    "               aggfunc=['count','mean']).style.background_gradient(cmap=color).format('{:.1f}')\n",
    "#But surely the demand does not distribute exactly the same along all stations"
   ]
  },
  {
   "cell_type": "code",
   "execution_count": 21,
   "id": "bulgarian-indicator",
   "metadata": {
    "ExecuteTime": {
     "end_time": "2021-05-18T00:44:53.993204Z",
     "start_time": "2021-05-18T00:44:53.793073Z"
    }
   },
   "outputs": [
    {
     "data": {
      "text/html": [
       "<div>\n",
       "<style scoped>\n",
       "    .dataframe tbody tr th:only-of-type {\n",
       "        vertical-align: middle;\n",
       "    }\n",
       "\n",
       "    .dataframe tbody tr th {\n",
       "        vertical-align: top;\n",
       "    }\n",
       "\n",
       "    .dataframe thead th {\n",
       "        text-align: right;\n",
       "    }\n",
       "</style>\n",
       "<table border=\"1\" class=\"dataframe\">\n",
       "  <thead>\n",
       "    <tr style=\"text-align: right;\">\n",
       "      <th>dow_retiro</th>\n",
       "      <th>ciclo_estacion_retiro</th>\n",
       "      <th>hrmin_retiro_cut</th>\n",
       "      <th>Fri</th>\n",
       "      <th>Mon</th>\n",
       "      <th>Sat</th>\n",
       "      <th>Sun</th>\n",
       "      <th>Thu</th>\n",
       "      <th>Tue</th>\n",
       "      <th>Wed</th>\n",
       "    </tr>\n",
       "  </thead>\n",
       "  <tbody>\n",
       "    <tr>\n",
       "      <th>863</th>\n",
       "      <td>126</td>\n",
       "      <td>(2.941, 4.923]</td>\n",
       "      <td>25</td>\n",
       "      <td>17</td>\n",
       "      <td>13</td>\n",
       "      <td>11</td>\n",
       "      <td>31</td>\n",
       "      <td>14</td>\n",
       "      <td>24</td>\n",
       "    </tr>\n",
       "  </tbody>\n",
       "</table>\n",
       "</div>"
      ],
      "text/plain": [
       "dow_retiro  ciclo_estacion_retiro hrmin_retiro_cut  Fri  Mon  Sat  Sun  Thu  \\\n",
       "863                           126   (2.941, 4.923]   25   17   13   11   31   \n",
       "\n",
       "dow_retiro  Tue  Wed  \n",
       "863          14   24  "
      ]
     },
     "execution_count": 21,
     "metadata": {},
     "output_type": "execute_result"
    }
   ],
   "source": [
    "demand = df.pivot_table(index=['ciclo_estacion_retiro','hrmin_retiro_cut'],\n",
    "                    columns='dow_retiro',\n",
    "                    values='edad_usuario',\n",
    "                    aggfunc='count',\n",
    "                    fill_value=0).reset_index()\n",
    "demand.sample()"
   ]
  },
  {
   "cell_type": "code",
   "execution_count": 22,
   "id": "middle-baker",
   "metadata": {
    "ExecuteTime": {
     "end_time": "2021-05-18T00:44:54.079049Z",
     "start_time": "2021-05-18T00:44:53.995410Z"
    }
   },
   "outputs": [
    {
     "data": {
      "text/html": [
       "<style  type=\"text/css\" >\n",
       "#T_1da6e_row0_col0,#T_1da6e_row0_col5,#T_1da6e_row4_col0,#T_1da6e_row5_col5,#T_1da6e_row17_col0{\n",
       "            background-color:  #bfe1f6;\n",
       "            color:  #000000;\n",
       "        }#T_1da6e_row0_col1,#T_1da6e_row4_col1{\n",
       "            background-color:  #d0e6f5;\n",
       "            color:  #000000;\n",
       "        }#T_1da6e_row0_col2{\n",
       "            background-color:  #bbdff6;\n",
       "            color:  #000000;\n",
       "        }#T_1da6e_row0_col3,#T_1da6e_row6_col3{\n",
       "            background-color:  #b8def6;\n",
       "            color:  #000000;\n",
       "        }#T_1da6e_row0_col4,#T_1da6e_row4_col6,#T_1da6e_row5_col3{\n",
       "            background-color:  #bee0f6;\n",
       "            color:  #000000;\n",
       "        }#T_1da6e_row0_col6,#T_1da6e_row13_col0,#T_1da6e_row16_col2{\n",
       "            background-color:  #c1e2f6;\n",
       "            color:  #000000;\n",
       "        }#T_1da6e_row1_col0,#T_1da6e_row1_col2{\n",
       "            background-color:  #dbeaf4;\n",
       "            color:  #000000;\n",
       "        }#T_1da6e_row1_col1,#T_1da6e_row2_col4,#T_1da6e_row2_col5,#T_1da6e_row5_col1{\n",
       "            background-color:  #eaeff3;\n",
       "            color:  #000000;\n",
       "        }#T_1da6e_row1_col3,#T_1da6e_row1_col5,#T_1da6e_row6_col5,#T_1da6e_row12_col0,#T_1da6e_row16_col6{\n",
       "            background-color:  #c4e3f6;\n",
       "            color:  #000000;\n",
       "        }#T_1da6e_row1_col4,#T_1da6e_row12_col2,#T_1da6e_row13_col2{\n",
       "            background-color:  #c3e2f6;\n",
       "            color:  #000000;\n",
       "        }#T_1da6e_row1_col6,#T_1da6e_row5_col6,#T_1da6e_row6_col6,#T_1da6e_row16_col3,#T_1da6e_row17_col6{\n",
       "            background-color:  #d0e7f5;\n",
       "            color:  #000000;\n",
       "        }#T_1da6e_row2_col0{\n",
       "            background-color:  #e7eef3;\n",
       "            color:  #000000;\n",
       "        }#T_1da6e_row2_col1,#T_1da6e_row6_col1{\n",
       "            background-color:  #e1ecf4;\n",
       "            color:  #000000;\n",
       "        }#T_1da6e_row2_col2{\n",
       "            background-color:  #e8eff3;\n",
       "            color:  #000000;\n",
       "        }#T_1da6e_row2_col3{\n",
       "            background-color:  #e9eff3;\n",
       "            color:  #000000;\n",
       "        }#T_1da6e_row2_col6,#T_1da6e_row10_col5{\n",
       "            background-color:  #e6eef3;\n",
       "            color:  #000000;\n",
       "        }#T_1da6e_row3_col0,#T_1da6e_row3_col1,#T_1da6e_row3_col2,#T_1da6e_row3_col3,#T_1da6e_row3_col4,#T_1da6e_row3_col5,#T_1da6e_row3_col6{\n",
       "            background-color:  #eff1f3;\n",
       "            color:  #000000;\n",
       "        }#T_1da6e_row4_col2,#T_1da6e_row8_col0,#T_1da6e_row8_col2{\n",
       "            background-color:  #c8e4f5;\n",
       "            color:  #000000;\n",
       "        }#T_1da6e_row4_col3,#T_1da6e_row13_col5{\n",
       "            background-color:  #b2dcf7;\n",
       "            color:  #000000;\n",
       "        }#T_1da6e_row4_col4,#T_1da6e_row11_col0,#T_1da6e_row12_col4,#T_1da6e_row13_col3{\n",
       "            background-color:  #addbf7;\n",
       "            color:  #000000;\n",
       "        }#T_1da6e_row4_col5{\n",
       "            background-color:  #badff6;\n",
       "            color:  #000000;\n",
       "        }#T_1da6e_row5_col0,#T_1da6e_row17_col5{\n",
       "            background-color:  #dfecf4;\n",
       "            color:  #000000;\n",
       "        }#T_1da6e_row5_col2,#T_1da6e_row6_col2{\n",
       "            background-color:  #d5e8f4;\n",
       "            color:  #000000;\n",
       "        }#T_1da6e_row5_col4,#T_1da6e_row6_col4{\n",
       "            background-color:  #b8dff6;\n",
       "            color:  #000000;\n",
       "        }#T_1da6e_row6_col0,#T_1da6e_row9_col6,#T_1da6e_row10_col0{\n",
       "            background-color:  #d7e9f4;\n",
       "            color:  #000000;\n",
       "        }#T_1da6e_row7_col0,#T_1da6e_row7_col4{\n",
       "            background-color:  #acdaf7;\n",
       "            color:  #000000;\n",
       "        }#T_1da6e_row7_col1,#T_1da6e_row8_col4,#T_1da6e_row11_col1,#T_1da6e_row15_col2{\n",
       "            background-color:  #b1dcf7;\n",
       "            color:  #000000;\n",
       "        }#T_1da6e_row7_col2,#T_1da6e_row7_col3{\n",
       "            background-color:  #a4d8f8;\n",
       "            color:  #000000;\n",
       "        }#T_1da6e_row7_col5{\n",
       "            background-color:  #aadaf8;\n",
       "            color:  #000000;\n",
       "        }#T_1da6e_row7_col6,#T_1da6e_row12_col5{\n",
       "            background-color:  #abdaf7;\n",
       "            color:  #000000;\n",
       "        }#T_1da6e_row8_col1,#T_1da6e_row17_col3{\n",
       "            background-color:  #d6e9f4;\n",
       "            color:  #000000;\n",
       "        }#T_1da6e_row8_col3,#T_1da6e_row8_col5{\n",
       "            background-color:  #b3ddf7;\n",
       "            color:  #000000;\n",
       "        }#T_1da6e_row8_col6{\n",
       "            background-color:  #c2e2f6;\n",
       "            color:  #000000;\n",
       "        }#T_1da6e_row9_col0,#T_1da6e_row12_col1{\n",
       "            background-color:  #d2e7f5;\n",
       "            color:  #000000;\n",
       "        }#T_1da6e_row9_col1{\n",
       "            background-color:  #d3e7f5;\n",
       "            color:  #000000;\n",
       "        }#T_1da6e_row9_col2{\n",
       "            background-color:  #d9e9f4;\n",
       "            color:  #000000;\n",
       "        }#T_1da6e_row9_col3{\n",
       "            background-color:  #dcebf4;\n",
       "            color:  #000000;\n",
       "        }#T_1da6e_row9_col4,#T_1da6e_row9_col5{\n",
       "            background-color:  #e0ecf4;\n",
       "            color:  #000000;\n",
       "        }#T_1da6e_row10_col1,#T_1da6e_row16_col5{\n",
       "            background-color:  #d4e8f4;\n",
       "            color:  #000000;\n",
       "        }#T_1da6e_row10_col2{\n",
       "            background-color:  #e2ecf3;\n",
       "            color:  #000000;\n",
       "        }#T_1da6e_row10_col3{\n",
       "            background-color:  #e4edf3;\n",
       "            color:  #000000;\n",
       "        }#T_1da6e_row10_col4{\n",
       "            background-color:  #e5eef3;\n",
       "            color:  #000000;\n",
       "        }#T_1da6e_row10_col6{\n",
       "            background-color:  #deebf4;\n",
       "            color:  #000000;\n",
       "        }#T_1da6e_row11_col2{\n",
       "            background-color:  #b0dcf7;\n",
       "            color:  #000000;\n",
       "        }#T_1da6e_row11_col3{\n",
       "            background-color:  #9dd6f8;\n",
       "            color:  #000000;\n",
       "        }#T_1da6e_row11_col4,#T_1da6e_row15_col5,#T_1da6e_row20_col0,#T_1da6e_row20_col5,#T_1da6e_row20_col6{\n",
       "            background-color:  #9fd6f8;\n",
       "            color:  #000000;\n",
       "        }#T_1da6e_row11_col5{\n",
       "            background-color:  #a1d7f8;\n",
       "            color:  #000000;\n",
       "        }#T_1da6e_row11_col6{\n",
       "            background-color:  #a6d8f8;\n",
       "            color:  #000000;\n",
       "        }#T_1da6e_row12_col3{\n",
       "            background-color:  #b5ddf7;\n",
       "            color:  #000000;\n",
       "        }#T_1da6e_row12_col6{\n",
       "            background-color:  #c0e1f6;\n",
       "            color:  #000000;\n",
       "        }#T_1da6e_row13_col1{\n",
       "            background-color:  #cbe5f5;\n",
       "            color:  #000000;\n",
       "        }#T_1da6e_row13_col4,#T_1da6e_row15_col6,#T_1da6e_row19_col6{\n",
       "            background-color:  #a8d9f8;\n",
       "            color:  #000000;\n",
       "        }#T_1da6e_row13_col6{\n",
       "            background-color:  #bbe0f6;\n",
       "            color:  #000000;\n",
       "        }#T_1da6e_row14_col0{\n",
       "            background-color:  #8fd1f9;\n",
       "            color:  #000000;\n",
       "        }#T_1da6e_row14_col1,#T_1da6e_row14_col2,#T_1da6e_row18_col0,#T_1da6e_row18_col3,#T_1da6e_row18_col4,#T_1da6e_row18_col5,#T_1da6e_row18_col6{\n",
       "            background-color:  #87cefa;\n",
       "            color:  #000000;\n",
       "        }#T_1da6e_row14_col3,#T_1da6e_row18_col2{\n",
       "            background-color:  #8dd0fa;\n",
       "            color:  #000000;\n",
       "        }#T_1da6e_row14_col4{\n",
       "            background-color:  #97d3f9;\n",
       "            color:  #000000;\n",
       "        }#T_1da6e_row14_col5{\n",
       "            background-color:  #94d2f9;\n",
       "            color:  #000000;\n",
       "        }#T_1da6e_row14_col6,#T_1da6e_row20_col3{\n",
       "            background-color:  #93d2f9;\n",
       "            color:  #000000;\n",
       "        }#T_1da6e_row15_col0{\n",
       "            background-color:  #afdbf7;\n",
       "            color:  #000000;\n",
       "        }#T_1da6e_row15_col1,#T_1da6e_row16_col1,#T_1da6e_row17_col1,#T_1da6e_row19_col1{\n",
       "            background-color:  #bde0f6;\n",
       "            color:  #000000;\n",
       "        }#T_1da6e_row15_col3,#T_1da6e_row19_col3,#T_1da6e_row19_col5{\n",
       "            background-color:  #99d4f9;\n",
       "            color:  #000000;\n",
       "        }#T_1da6e_row15_col4,#T_1da6e_row19_col4{\n",
       "            background-color:  #9dd5f8;\n",
       "            color:  #000000;\n",
       "        }#T_1da6e_row16_col0{\n",
       "            background-color:  #b7def7;\n",
       "            color:  #000000;\n",
       "        }#T_1da6e_row16_col4{\n",
       "            background-color:  #d4e8f5;\n",
       "            color:  #000000;\n",
       "        }#T_1da6e_row17_col2{\n",
       "            background-color:  #cee6f5;\n",
       "            color:  #000000;\n",
       "        }#T_1da6e_row17_col4{\n",
       "            background-color:  #dfebf4;\n",
       "            color:  #000000;\n",
       "        }#T_1da6e_row18_col1{\n",
       "            background-color:  #90d1f9;\n",
       "            color:  #000000;\n",
       "        }#T_1da6e_row19_col0,#T_1da6e_row19_col2{\n",
       "            background-color:  #a7d9f8;\n",
       "            color:  #000000;\n",
       "        }#T_1da6e_row20_col1{\n",
       "            background-color:  #b9dff6;\n",
       "            color:  #000000;\n",
       "        }#T_1da6e_row20_col2{\n",
       "            background-color:  #aadaf7;\n",
       "            color:  #000000;\n",
       "        }#T_1da6e_row20_col4{\n",
       "            background-color:  #94d3f9;\n",
       "            color:  #000000;\n",
       "        }</style><table id=\"T_1da6e_\" ><thead>    <tr>        <th class=\"blank\" ></th>        <th class=\"index_name level0\" >hrmin_retiro_cut</th>        <th class=\"col_heading level0 col0\" >(0.999, 2.941]</th>        <th class=\"col_heading level0 col1\" >(10.888, 13.0]</th>        <th class=\"col_heading level0 col2\" >(2.941, 4.923]</th>        <th class=\"col_heading level0 col3\" >(4.923, 6.577]</th>        <th class=\"col_heading level0 col4\" >(6.577, 7.923]</th>        <th class=\"col_heading level0 col5\" >(7.923, 9.226]</th>        <th class=\"col_heading level0 col6\" >(9.226, 10.888]</th>    </tr>    <tr>        <th class=\"index_name level0\" ></th>        <th class=\"index_name level1\" >dow_retiro</th>        <th class=\"blank\" ></th>        <th class=\"blank\" ></th>        <th class=\"blank\" ></th>        <th class=\"blank\" ></th>        <th class=\"blank\" ></th>        <th class=\"blank\" ></th>        <th class=\"blank\" ></th>    </tr></thead><tbody>\n",
       "                <tr>\n",
       "                        <th id=\"T_1da6e_level0_row0\" class=\"row_heading level0 row0\" rowspan=\"7\">median</th>\n",
       "                        <th id=\"T_1da6e_level1_row0\" class=\"row_heading level1 row0\" >Fri</th>\n",
       "                        <td id=\"T_1da6e_row0_col0\" class=\"data row0 col0\" >15.0</td>\n",
       "                        <td id=\"T_1da6e_row0_col1\" class=\"data row0 col1\" >12.0</td>\n",
       "                        <td id=\"T_1da6e_row0_col2\" class=\"data row0 col2\" >16.0</td>\n",
       "                        <td id=\"T_1da6e_row0_col3\" class=\"data row0 col3\" >15.0</td>\n",
       "                        <td id=\"T_1da6e_row0_col4\" class=\"data row0 col4\" >14.0</td>\n",
       "                        <td id=\"T_1da6e_row0_col5\" class=\"data row0 col5\" >14.0</td>\n",
       "                        <td id=\"T_1da6e_row0_col6\" class=\"data row0 col6\" >14.5</td>\n",
       "            </tr>\n",
       "            <tr>\n",
       "                                <th id=\"T_1da6e_level1_row1\" class=\"row_heading level1 row1\" >Mon</th>\n",
       "                        <td id=\"T_1da6e_row1_col0\" class=\"data row1 col0\" >11.5</td>\n",
       "                        <td id=\"T_1da6e_row1_col1\" class=\"data row1 col1\" >9.0</td>\n",
       "                        <td id=\"T_1da6e_row1_col2\" class=\"data row1 col2\" >11.0</td>\n",
       "                        <td id=\"T_1da6e_row1_col3\" class=\"data row1 col3\" >13.0</td>\n",
       "                        <td id=\"T_1da6e_row1_col4\" class=\"data row1 col4\" >13.0</td>\n",
       "                        <td id=\"T_1da6e_row1_col5\" class=\"data row1 col5\" >13.0</td>\n",
       "                        <td id=\"T_1da6e_row1_col6\" class=\"data row1 col6\" >12.0</td>\n",
       "            </tr>\n",
       "            <tr>\n",
       "                                <th id=\"T_1da6e_level1_row2\" class=\"row_heading level1 row2\" >Sat</th>\n",
       "                        <td id=\"T_1da6e_row2_col0\" class=\"data row2 col0\" >10.0</td>\n",
       "                        <td id=\"T_1da6e_row2_col1\" class=\"data row2 col1\" >10.0</td>\n",
       "                        <td id=\"T_1da6e_row2_col2\" class=\"data row2 col2\" >9.0</td>\n",
       "                        <td id=\"T_1da6e_row2_col3\" class=\"data row2 col3\" >7.0</td>\n",
       "                        <td id=\"T_1da6e_row2_col4\" class=\"data row2 col4\" >6.0</td>\n",
       "                        <td id=\"T_1da6e_row2_col5\" class=\"data row2 col5\" >6.0</td>\n",
       "                        <td id=\"T_1da6e_row2_col6\" class=\"data row2 col6\" >8.5</td>\n",
       "            </tr>\n",
       "            <tr>\n",
       "                                <th id=\"T_1da6e_level1_row3\" class=\"row_heading level1 row3\" >Sun</th>\n",
       "                        <td id=\"T_1da6e_row3_col0\" class=\"data row3 col0\" >9.0</td>\n",
       "                        <td id=\"T_1da6e_row3_col1\" class=\"data row3 col1\" >8.5</td>\n",
       "                        <td id=\"T_1da6e_row3_col2\" class=\"data row3 col2\" >8.0</td>\n",
       "                        <td id=\"T_1da6e_row3_col3\" class=\"data row3 col3\" >6.0</td>\n",
       "                        <td id=\"T_1da6e_row3_col4\" class=\"data row3 col4\" >5.0</td>\n",
       "                        <td id=\"T_1da6e_row3_col5\" class=\"data row3 col5\" >5.0</td>\n",
       "                        <td id=\"T_1da6e_row3_col6\" class=\"data row3 col6\" >7.0</td>\n",
       "            </tr>\n",
       "            <tr>\n",
       "                                <th id=\"T_1da6e_level1_row4\" class=\"row_heading level1 row4\" >Thu</th>\n",
       "                        <td id=\"T_1da6e_row4_col0\" class=\"data row4 col0\" >15.0</td>\n",
       "                        <td id=\"T_1da6e_row4_col1\" class=\"data row4 col1\" >12.0</td>\n",
       "                        <td id=\"T_1da6e_row4_col2\" class=\"data row4 col2\" >14.0</td>\n",
       "                        <td id=\"T_1da6e_row4_col3\" class=\"data row4 col3\" >16.0</td>\n",
       "                        <td id=\"T_1da6e_row4_col4\" class=\"data row4 col4\" >17.0</td>\n",
       "                        <td id=\"T_1da6e_row4_col5\" class=\"data row4 col5\" >15.0</td>\n",
       "                        <td id=\"T_1da6e_row4_col6\" class=\"data row4 col6\" >15.0</td>\n",
       "            </tr>\n",
       "            <tr>\n",
       "                                <th id=\"T_1da6e_level1_row5\" class=\"row_heading level1 row5\" >Tue</th>\n",
       "                        <td id=\"T_1da6e_row5_col0\" class=\"data row5 col0\" >11.0</td>\n",
       "                        <td id=\"T_1da6e_row5_col1\" class=\"data row5 col1\" >9.0</td>\n",
       "                        <td id=\"T_1da6e_row5_col2\" class=\"data row5 col2\" >12.0</td>\n",
       "                        <td id=\"T_1da6e_row5_col3\" class=\"data row5 col3\" >14.0</td>\n",
       "                        <td id=\"T_1da6e_row5_col4\" class=\"data row5 col4\" >15.0</td>\n",
       "                        <td id=\"T_1da6e_row5_col5\" class=\"data row5 col5\" >14.0</td>\n",
       "                        <td id=\"T_1da6e_row5_col6\" class=\"data row5 col6\" >12.0</td>\n",
       "            </tr>\n",
       "            <tr>\n",
       "                                <th id=\"T_1da6e_level1_row6\" class=\"row_heading level1 row6\" >Wed</th>\n",
       "                        <td id=\"T_1da6e_row6_col0\" class=\"data row6 col0\" >12.0</td>\n",
       "                        <td id=\"T_1da6e_row6_col1\" class=\"data row6 col1\" >10.0</td>\n",
       "                        <td id=\"T_1da6e_row6_col2\" class=\"data row6 col2\" >12.0</td>\n",
       "                        <td id=\"T_1da6e_row6_col3\" class=\"data row6 col3\" >15.0</td>\n",
       "                        <td id=\"T_1da6e_row6_col4\" class=\"data row6 col4\" >15.0</td>\n",
       "                        <td id=\"T_1da6e_row6_col5\" class=\"data row6 col5\" >13.0</td>\n",
       "                        <td id=\"T_1da6e_row6_col6\" class=\"data row6 col6\" >12.0</td>\n",
       "            </tr>\n",
       "            <tr>\n",
       "                        <th id=\"T_1da6e_level0_row7\" class=\"row_heading level0 row7\" rowspan=\"7\">mean</th>\n",
       "                        <th id=\"T_1da6e_level1_row7\" class=\"row_heading level1 row7\" >Fri</th>\n",
       "                        <td id=\"T_1da6e_row7_col0\" class=\"data row7 col0\" >17.4</td>\n",
       "                        <td id=\"T_1da6e_row7_col1\" class=\"data row7 col1\" >15.4</td>\n",
       "                        <td id=\"T_1da6e_row7_col2\" class=\"data row7 col2\" >19.6</td>\n",
       "                        <td id=\"T_1da6e_row7_col3\" class=\"data row7 col3\" >18.3</td>\n",
       "                        <td id=\"T_1da6e_row7_col4\" class=\"data row7 col4\" >17.2</td>\n",
       "                        <td id=\"T_1da6e_row7_col5\" class=\"data row7 col5\" >18.0</td>\n",
       "                        <td id=\"T_1da6e_row7_col6\" class=\"data row7 col6\" >18.1</td>\n",
       "            </tr>\n",
       "            <tr>\n",
       "                                <th id=\"T_1da6e_level1_row8\" class=\"row_heading level1 row8\" >Mon</th>\n",
       "                        <td id=\"T_1da6e_row8_col0\" class=\"data row8 col0\" >13.9</td>\n",
       "                        <td id=\"T_1da6e_row8_col1\" class=\"data row8 col1\" >11.3</td>\n",
       "                        <td id=\"T_1da6e_row8_col2\" class=\"data row8 col2\" >14.0</td>\n",
       "                        <td id=\"T_1da6e_row8_col3\" class=\"data row8 col3\" >15.8</td>\n",
       "                        <td id=\"T_1da6e_row8_col4\" class=\"data row8 col4\" >16.4</td>\n",
       "                        <td id=\"T_1da6e_row8_col5\" class=\"data row8 col5\" >16.3</td>\n",
       "                        <td id=\"T_1da6e_row8_col6\" class=\"data row8 col6\" >14.3</td>\n",
       "            </tr>\n",
       "            <tr>\n",
       "                                <th id=\"T_1da6e_level1_row9\" class=\"row_heading level1 row9\" >Sat</th>\n",
       "                        <td id=\"T_1da6e_row9_col0\" class=\"data row9 col0\" >12.6</td>\n",
       "                        <td id=\"T_1da6e_row9_col1\" class=\"data row9 col1\" >11.6</td>\n",
       "                        <td id=\"T_1da6e_row9_col2\" class=\"data row9 col2\" >11.4</td>\n",
       "                        <td id=\"T_1da6e_row9_col3\" class=\"data row9 col3\" >9.1</td>\n",
       "                        <td id=\"T_1da6e_row9_col4\" class=\"data row9 col4\" >7.8</td>\n",
       "                        <td id=\"T_1da6e_row9_col5\" class=\"data row9 col5\" >7.8</td>\n",
       "                        <td id=\"T_1da6e_row9_col6\" class=\"data row9 col6\" >10.9</td>\n",
       "            </tr>\n",
       "            <tr>\n",
       "                                <th id=\"T_1da6e_level1_row10\" class=\"row_heading level1 row10\" >Sun</th>\n",
       "                        <td id=\"T_1da6e_row10_col0\" class=\"data row10 col0\" >12.0</td>\n",
       "                        <td id=\"T_1da6e_row10_col1\" class=\"data row10 col1\" >11.4</td>\n",
       "                        <td id=\"T_1da6e_row10_col2\" class=\"data row10 col2\" >10.1</td>\n",
       "                        <td id=\"T_1da6e_row10_col3\" class=\"data row10 col3\" >7.9</td>\n",
       "                        <td id=\"T_1da6e_row10_col4\" class=\"data row10 col4\" >6.8</td>\n",
       "                        <td id=\"T_1da6e_row10_col5\" class=\"data row10 col5\" >6.7</td>\n",
       "                        <td id=\"T_1da6e_row10_col6\" class=\"data row10 col6\" >9.8</td>\n",
       "            </tr>\n",
       "            <tr>\n",
       "                                <th id=\"T_1da6e_level1_row11\" class=\"row_heading level1 row11\" >Thu</th>\n",
       "                        <td id=\"T_1da6e_row11_col0\" class=\"data row11 col0\" >17.3</td>\n",
       "                        <td id=\"T_1da6e_row11_col1\" class=\"data row11 col1\" >15.3</td>\n",
       "                        <td id=\"T_1da6e_row11_col2\" class=\"data row11 col2\" >17.7</td>\n",
       "                        <td id=\"T_1da6e_row11_col3\" class=\"data row11 col3\" >19.3</td>\n",
       "                        <td id=\"T_1da6e_row11_col4\" class=\"data row11 col4\" >19.6</td>\n",
       "                        <td id=\"T_1da6e_row11_col5\" class=\"data row11 col5\" >19.7</td>\n",
       "                        <td id=\"T_1da6e_row11_col6\" class=\"data row11 col6\" >18.9</td>\n",
       "            </tr>\n",
       "            <tr>\n",
       "                                <th id=\"T_1da6e_level1_row12\" class=\"row_heading level1 row12\" >Tue</th>\n",
       "                        <td id=\"T_1da6e_row12_col0\" class=\"data row12 col0\" >14.4</td>\n",
       "                        <td id=\"T_1da6e_row12_col1\" class=\"data row12 col1\" >11.7</td>\n",
       "                        <td id=\"T_1da6e_row12_col2\" class=\"data row12 col2\" >14.7</td>\n",
       "                        <td id=\"T_1da6e_row12_col3\" class=\"data row12 col3\" >15.5</td>\n",
       "                        <td id=\"T_1da6e_row12_col4\" class=\"data row12 col4\" >17.1</td>\n",
       "                        <td id=\"T_1da6e_row12_col5\" class=\"data row12 col5\" >17.7</td>\n",
       "                        <td id=\"T_1da6e_row12_col6\" class=\"data row12 col6\" >14.6</td>\n",
       "            </tr>\n",
       "            <tr>\n",
       "                                <th id=\"T_1da6e_level1_row13\" class=\"row_heading level1 row13\" >Wed</th>\n",
       "                        <td id=\"T_1da6e_row13_col0\" class=\"data row13 col0\" >14.7</td>\n",
       "                        <td id=\"T_1da6e_row13_col1\" class=\"data row13 col1\" >12.5</td>\n",
       "                        <td id=\"T_1da6e_row13_col2\" class=\"data row13 col2\" >14.9</td>\n",
       "                        <td id=\"T_1da6e_row13_col3\" class=\"data row13 col3\" >16.7</td>\n",
       "                        <td id=\"T_1da6e_row13_col4\" class=\"data row13 col4\" >17.9</td>\n",
       "                        <td id=\"T_1da6e_row13_col5\" class=\"data row13 col5\" >16.4</td>\n",
       "                        <td id=\"T_1da6e_row13_col6\" class=\"data row13 col6\" >15.4</td>\n",
       "            </tr>\n",
       "            <tr>\n",
       "                        <th id=\"T_1da6e_level0_row14\" class=\"row_heading level0 row14\" rowspan=\"7\">perc70</th>\n",
       "                        <th id=\"T_1da6e_level1_row14\" class=\"row_heading level1 row14\" >Fri</th>\n",
       "                        <td id=\"T_1da6e_row14_col0\" class=\"data row14 col0\" >21.0</td>\n",
       "                        <td id=\"T_1da6e_row14_col1\" class=\"data row14 col1\" >20.0</td>\n",
       "                        <td id=\"T_1da6e_row14_col2\" class=\"data row14 col2\" >24.0</td>\n",
       "                        <td id=\"T_1da6e_row14_col3\" class=\"data row14 col3\" >22.0</td>\n",
       "                        <td id=\"T_1da6e_row14_col4\" class=\"data row14 col4\" >21.0</td>\n",
       "                        <td id=\"T_1da6e_row14_col5\" class=\"data row14 col5\" >22.0</td>\n",
       "                        <td id=\"T_1da6e_row14_col6\" class=\"data row14 col6\" >22.0</td>\n",
       "            </tr>\n",
       "            <tr>\n",
       "                                <th id=\"T_1da6e_level1_row15\" class=\"row_heading level1 row15\" >Mon</th>\n",
       "                        <td id=\"T_1da6e_row15_col0\" class=\"data row15 col0\" >17.0</td>\n",
       "                        <td id=\"T_1da6e_row15_col1\" class=\"data row15 col1\" >14.0</td>\n",
       "                        <td id=\"T_1da6e_row15_col2\" class=\"data row15 col2\" >17.5</td>\n",
       "                        <td id=\"T_1da6e_row15_col3\" class=\"data row15 col3\" >20.0</td>\n",
       "                        <td id=\"T_1da6e_row15_col4\" class=\"data row15 col4\" >20.0</td>\n",
       "                        <td id=\"T_1da6e_row15_col5\" class=\"data row15 col5\" >20.0</td>\n",
       "                        <td id=\"T_1da6e_row15_col6\" class=\"data row15 col6\" >18.5</td>\n",
       "            </tr>\n",
       "            <tr>\n",
       "                                <th id=\"T_1da6e_level1_row16\" class=\"row_heading level1 row16\" >Sat</th>\n",
       "                        <td id=\"T_1da6e_row16_col0\" class=\"data row16 col0\" >16.0</td>\n",
       "                        <td id=\"T_1da6e_row16_col1\" class=\"data row16 col1\" >14.0</td>\n",
       "                        <td id=\"T_1da6e_row16_col2\" class=\"data row16 col2\" >15.0</td>\n",
       "                        <td id=\"T_1da6e_row16_col3\" class=\"data row16 col3\" >11.0</td>\n",
       "                        <td id=\"T_1da6e_row16_col4\" class=\"data row16 col4\" >10.0</td>\n",
       "                        <td id=\"T_1da6e_row16_col5\" class=\"data row16 col5\" >10.0</td>\n",
       "                        <td id=\"T_1da6e_row16_col6\" class=\"data row16 col6\" >14.0</td>\n",
       "            </tr>\n",
       "            <tr>\n",
       "                                <th id=\"T_1da6e_level1_row17\" class=\"row_heading level1 row17\" >Sun</th>\n",
       "                        <td id=\"T_1da6e_row17_col0\" class=\"data row17 col0\" >15.0</td>\n",
       "                        <td id=\"T_1da6e_row17_col1\" class=\"data row17 col1\" >14.0</td>\n",
       "                        <td id=\"T_1da6e_row17_col2\" class=\"data row17 col2\" >13.0</td>\n",
       "                        <td id=\"T_1da6e_row17_col3\" class=\"data row17 col3\" >10.0</td>\n",
       "                        <td id=\"T_1da6e_row17_col4\" class=\"data row17 col4\" >8.0</td>\n",
       "                        <td id=\"T_1da6e_row17_col5\" class=\"data row17 col5\" >8.0</td>\n",
       "                        <td id=\"T_1da6e_row17_col6\" class=\"data row17 col6\" >12.0</td>\n",
       "            </tr>\n",
       "            <tr>\n",
       "                                <th id=\"T_1da6e_level1_row18\" class=\"row_heading level1 row18\" >Thu</th>\n",
       "                        <td id=\"T_1da6e_row18_col0\" class=\"data row18 col0\" >22.0</td>\n",
       "                        <td id=\"T_1da6e_row18_col1\" class=\"data row18 col1\" >19.0</td>\n",
       "                        <td id=\"T_1da6e_row18_col2\" class=\"data row18 col2\" >23.0</td>\n",
       "                        <td id=\"T_1da6e_row18_col3\" class=\"data row18 col3\" >23.0</td>\n",
       "                        <td id=\"T_1da6e_row18_col4\" class=\"data row18 col4\" >24.0</td>\n",
       "                        <td id=\"T_1da6e_row18_col5\" class=\"data row18 col5\" >24.5</td>\n",
       "                        <td id=\"T_1da6e_row18_col6\" class=\"data row18 col6\" >24.0</td>\n",
       "            </tr>\n",
       "            <tr>\n",
       "                                <th id=\"T_1da6e_level1_row19\" class=\"row_heading level1 row19\" >Tue</th>\n",
       "                        <td id=\"T_1da6e_row19_col0\" class=\"data row19 col0\" >18.0</td>\n",
       "                        <td id=\"T_1da6e_row19_col1\" class=\"data row19 col1\" >14.0</td>\n",
       "                        <td id=\"T_1da6e_row19_col2\" class=\"data row19 col2\" >19.0</td>\n",
       "                        <td id=\"T_1da6e_row19_col3\" class=\"data row19 col3\" >20.0</td>\n",
       "                        <td id=\"T_1da6e_row19_col4\" class=\"data row19 col4\" >20.0</td>\n",
       "                        <td id=\"T_1da6e_row19_col5\" class=\"data row19 col5\" >21.0</td>\n",
       "                        <td id=\"T_1da6e_row19_col6\" class=\"data row19 col6\" >18.5</td>\n",
       "            </tr>\n",
       "            <tr>\n",
       "                                <th id=\"T_1da6e_level1_row20\" class=\"row_heading level1 row20\" >Wed</th>\n",
       "                        <td id=\"T_1da6e_row20_col0\" class=\"data row20 col0\" >19.0</td>\n",
       "                        <td id=\"T_1da6e_row20_col1\" class=\"data row20 col1\" >14.5</td>\n",
       "                        <td id=\"T_1da6e_row20_col2\" class=\"data row20 col2\" >18.5</td>\n",
       "                        <td id=\"T_1da6e_row20_col3\" class=\"data row20 col3\" >21.0</td>\n",
       "                        <td id=\"T_1da6e_row20_col4\" class=\"data row20 col4\" >21.5</td>\n",
       "                        <td id=\"T_1da6e_row20_col5\" class=\"data row20 col5\" >20.0</td>\n",
       "                        <td id=\"T_1da6e_row20_col6\" class=\"data row20 col6\" >20.0</td>\n",
       "            </tr>\n",
       "    </tbody></table>"
      ],
      "text/plain": [
       "<pandas.io.formats.style.Styler at 0x7ff2d7547b80>"
      ]
     },
     "execution_count": 22,
     "metadata": {},
     "output_type": "execute_result"
    }
   ],
   "source": [
    "demand.pivot_table(index='hrmin_retiro_cut',\n",
    "                   values=demand.columns[-7:],\n",
    "                   aggfunc=['median','mean',perc70]\n",
    "                  ).T.style.background_gradient(cmap=color).format('{:.1f}')"
   ]
  },
  {
   "cell_type": "markdown",
   "id": "institutional-ceremony",
   "metadata": {},
   "source": [
    "## TAD"
   ]
  },
  {
   "cell_type": "code",
   "execution_count": 23,
   "id": "static-murder",
   "metadata": {
    "ExecuteTime": {
     "end_time": "2021-05-18T00:44:54.148814Z",
     "start_time": "2021-05-18T00:44:54.080871Z"
    }
   },
   "outputs": [
    {
     "data": {
      "text/html": [
       "<style  type=\"text/css\" >\n",
       "#T_10458_row0_col0,#T_10458_row9_col0,#T_10458_row9_col2,#T_10458_row10_col2,#T_10458_row10_col3,#T_10458_row11_col2,#T_10458_row11_col3,#T_10458_row12_col0{\n",
       "            background-color:  #456084;\n",
       "            color:  #f1f1f1;\n",
       "        }#T_10458_row0_col1,#T_10458_row0_col2,#T_10458_row0_col3,#T_10458_row1_col2,#T_10458_row1_col3,#T_10458_row2_col2,#T_10458_row2_col3,#T_10458_row3_col3,#T_10458_row12_col1,#T_10458_row12_col2,#T_10458_row12_col3,#T_10458_row13_col2,#T_10458_row13_col3,#T_10458_row14_col2,#T_10458_row14_col3{\n",
       "            background-color:  #000000;\n",
       "            color:  #f1f1f1;\n",
       "        }#T_10458_row1_col0,#T_10458_row2_col0,#T_10458_row2_col1,#T_10458_row3_col0,#T_10458_row3_col1,#T_10458_row4_col0,#T_10458_row4_col1,#T_10458_row4_col2,#T_10458_row5_col0,#T_10458_row5_col1,#T_10458_row5_col2,#T_10458_row5_col3,#T_10458_row6_col1,#T_10458_row6_col2,#T_10458_row6_col3,#T_10458_row7_col2,#T_10458_row7_col3,#T_10458_row8_col2,#T_10458_row8_col3,#T_10458_row9_col3{\n",
       "            background-color:  #242629;\n",
       "            color:  #f1f1f1;\n",
       "        }#T_10458_row1_col1,#T_10458_row10_col1,#T_10458_row13_col1{\n",
       "            background-color:  #5073a1;\n",
       "            color:  #000000;\n",
       "        }#T_10458_row3_col2,#T_10458_row4_col3,#T_10458_row14_col0,#T_10458_row14_col1{\n",
       "            background-color:  #6699dd;\n",
       "            color:  #000000;\n",
       "        }#T_10458_row6_col0,#T_10458_row7_col0,#T_10458_row8_col0,#T_10458_row10_col0,#T_10458_row11_col0{\n",
       "            background-color:  #354356;\n",
       "            color:  #f1f1f1;\n",
       "        }#T_10458_row7_col1,#T_10458_row8_col1,#T_10458_row9_col1,#T_10458_row11_col1{\n",
       "            background-color:  #3a4c65;\n",
       "            color:  #f1f1f1;\n",
       "        }#T_10458_row13_col0{\n",
       "            background-color:  #567db1;\n",
       "            color:  #000000;\n",
       "        }</style><table id=\"T_10458_\" ><thead>    <tr>        <th class=\"blank\" ></th>        <th class=\"blank level0\" ></th>        <th class=\"col_heading level0 col0\" >bici</th>        <th class=\"col_heading level0 col1\" >bici_01</th>        <th class=\"col_heading level0 col2\" >bici_03</th>        <th class=\"col_heading level0 col3\" >bici_04</th>    </tr>    <tr>        <th class=\"index_name level0\" >ciclo_estacion_arribo</th>        <th class=\"index_name level1\" >fecha_arribo</th>        <th class=\"blank\" ></th>        <th class=\"blank\" ></th>        <th class=\"blank\" ></th>        <th class=\"blank\" ></th>    </tr></thead><tbody>\n",
       "                <tr>\n",
       "                        <th id=\"T_10458_level0_row0\" class=\"row_heading level0 row0\" rowspan=\"12\">61</th>\n",
       "                        <th id=\"T_10458_level1_row0\" class=\"row_heading level1 row0\" >2021-04-01 00:00:00</th>\n",
       "                        <td id=\"T_10458_row0_col0\" class=\"data row0 col0\" >2.0</td>\n",
       "                        <td id=\"T_10458_row0_col1\" class=\"data row0 col1\" >nan</td>\n",
       "                        <td id=\"T_10458_row0_col2\" class=\"data row0 col2\" >nan</td>\n",
       "                        <td id=\"T_10458_row0_col3\" class=\"data row0 col3\" >nan</td>\n",
       "            </tr>\n",
       "            <tr>\n",
       "                                <th id=\"T_10458_level1_row1\" class=\"row_heading level1 row1\" >2021-04-02 00:00:00</th>\n",
       "                        <td id=\"T_10458_row1_col0\" class=\"data row1 col0\" >0.0</td>\n",
       "                        <td id=\"T_10458_row1_col1\" class=\"data row1 col1\" >2.0</td>\n",
       "                        <td id=\"T_10458_row1_col2\" class=\"data row1 col2\" >nan</td>\n",
       "                        <td id=\"T_10458_row1_col3\" class=\"data row1 col3\" >nan</td>\n",
       "            </tr>\n",
       "            <tr>\n",
       "                                <th id=\"T_10458_level1_row2\" class=\"row_heading level1 row2\" >2021-04-03 00:00:00</th>\n",
       "                        <td id=\"T_10458_row2_col0\" class=\"data row2 col0\" >0.0</td>\n",
       "                        <td id=\"T_10458_row2_col1\" class=\"data row2 col1\" >0.0</td>\n",
       "                        <td id=\"T_10458_row2_col2\" class=\"data row2 col2\" >nan</td>\n",
       "                        <td id=\"T_10458_row2_col3\" class=\"data row2 col3\" >nan</td>\n",
       "            </tr>\n",
       "            <tr>\n",
       "                                <th id=\"T_10458_level1_row3\" class=\"row_heading level1 row3\" >2021-04-04 00:00:00</th>\n",
       "                        <td id=\"T_10458_row3_col0\" class=\"data row3 col0\" >0.0</td>\n",
       "                        <td id=\"T_10458_row3_col1\" class=\"data row3 col1\" >0.0</td>\n",
       "                        <td id=\"T_10458_row3_col2\" class=\"data row3 col2\" >2.0</td>\n",
       "                        <td id=\"T_10458_row3_col3\" class=\"data row3 col3\" >nan</td>\n",
       "            </tr>\n",
       "            <tr>\n",
       "                                <th id=\"T_10458_level1_row4\" class=\"row_heading level1 row4\" >2021-04-05 00:00:00</th>\n",
       "                        <td id=\"T_10458_row4_col0\" class=\"data row4 col0\" >0.0</td>\n",
       "                        <td id=\"T_10458_row4_col1\" class=\"data row4 col1\" >0.0</td>\n",
       "                        <td id=\"T_10458_row4_col2\" class=\"data row4 col2\" >0.0</td>\n",
       "                        <td id=\"T_10458_row4_col3\" class=\"data row4 col3\" >2.0</td>\n",
       "            </tr>\n",
       "            <tr>\n",
       "                                <th id=\"T_10458_level1_row5\" class=\"row_heading level1 row5\" >2021-04-06 00:00:00</th>\n",
       "                        <td id=\"T_10458_row5_col0\" class=\"data row5 col0\" >0.0</td>\n",
       "                        <td id=\"T_10458_row5_col1\" class=\"data row5 col1\" >0.0</td>\n",
       "                        <td id=\"T_10458_row5_col2\" class=\"data row5 col2\" >0.0</td>\n",
       "                        <td id=\"T_10458_row5_col3\" class=\"data row5 col3\" >0.0</td>\n",
       "            </tr>\n",
       "            <tr>\n",
       "                                <th id=\"T_10458_level1_row6\" class=\"row_heading level1 row6\" >2021-04-07 00:00:00</th>\n",
       "                        <td id=\"T_10458_row6_col0\" class=\"data row6 col0\" >1.0</td>\n",
       "                        <td id=\"T_10458_row6_col1\" class=\"data row6 col1\" >0.0</td>\n",
       "                        <td id=\"T_10458_row6_col2\" class=\"data row6 col2\" >0.0</td>\n",
       "                        <td id=\"T_10458_row6_col3\" class=\"data row6 col3\" >0.0</td>\n",
       "            </tr>\n",
       "            <tr>\n",
       "                                <th id=\"T_10458_level1_row7\" class=\"row_heading level1 row7\" >2021-04-08 00:00:00</th>\n",
       "                        <td id=\"T_10458_row7_col0\" class=\"data row7 col0\" >1.0</td>\n",
       "                        <td id=\"T_10458_row7_col1\" class=\"data row7 col1\" >1.0</td>\n",
       "                        <td id=\"T_10458_row7_col2\" class=\"data row7 col2\" >0.0</td>\n",
       "                        <td id=\"T_10458_row7_col3\" class=\"data row7 col3\" >0.0</td>\n",
       "            </tr>\n",
       "            <tr>\n",
       "                                <th id=\"T_10458_level1_row8\" class=\"row_heading level1 row8\" >2021-04-09 00:00:00</th>\n",
       "                        <td id=\"T_10458_row8_col0\" class=\"data row8 col0\" >1.0</td>\n",
       "                        <td id=\"T_10458_row8_col1\" class=\"data row8 col1\" >1.0</td>\n",
       "                        <td id=\"T_10458_row8_col2\" class=\"data row8 col2\" >0.0</td>\n",
       "                        <td id=\"T_10458_row8_col3\" class=\"data row8 col3\" >0.0</td>\n",
       "            </tr>\n",
       "            <tr>\n",
       "                                <th id=\"T_10458_level1_row9\" class=\"row_heading level1 row9\" >2021-04-10 00:00:00</th>\n",
       "                        <td id=\"T_10458_row9_col0\" class=\"data row9 col0\" >2.0</td>\n",
       "                        <td id=\"T_10458_row9_col1\" class=\"data row9 col1\" >1.0</td>\n",
       "                        <td id=\"T_10458_row9_col2\" class=\"data row9 col2\" >1.0</td>\n",
       "                        <td id=\"T_10458_row9_col3\" class=\"data row9 col3\" >0.0</td>\n",
       "            </tr>\n",
       "            <tr>\n",
       "                                <th id=\"T_10458_level1_row10\" class=\"row_heading level1 row10\" >2021-04-11 00:00:00</th>\n",
       "                        <td id=\"T_10458_row10_col0\" class=\"data row10 col0\" >1.0</td>\n",
       "                        <td id=\"T_10458_row10_col1\" class=\"data row10 col1\" >2.0</td>\n",
       "                        <td id=\"T_10458_row10_col2\" class=\"data row10 col2\" >1.0</td>\n",
       "                        <td id=\"T_10458_row10_col3\" class=\"data row10 col3\" >1.0</td>\n",
       "            </tr>\n",
       "            <tr>\n",
       "                                <th id=\"T_10458_level1_row11\" class=\"row_heading level1 row11\" >2021-04-12 00:00:00</th>\n",
       "                        <td id=\"T_10458_row11_col0\" class=\"data row11 col0\" >1.0</td>\n",
       "                        <td id=\"T_10458_row11_col1\" class=\"data row11 col1\" >1.0</td>\n",
       "                        <td id=\"T_10458_row11_col2\" class=\"data row11 col2\" >1.0</td>\n",
       "                        <td id=\"T_10458_row11_col3\" class=\"data row11 col3\" >1.0</td>\n",
       "            </tr>\n",
       "            <tr>\n",
       "                        <th id=\"T_10458_level0_row12\" class=\"row_heading level0 row12\" rowspan=\"3\">479</th>\n",
       "                        <th id=\"T_10458_level1_row12\" class=\"row_heading level1 row12\" >2021-04-28 00:00:00</th>\n",
       "                        <td id=\"T_10458_row12_col0\" class=\"data row12 col0\" >2.0</td>\n",
       "                        <td id=\"T_10458_row12_col1\" class=\"data row12 col1\" >nan</td>\n",
       "                        <td id=\"T_10458_row12_col2\" class=\"data row12 col2\" >nan</td>\n",
       "                        <td id=\"T_10458_row12_col3\" class=\"data row12 col3\" >nan</td>\n",
       "            </tr>\n",
       "            <tr>\n",
       "                                <th id=\"T_10458_level1_row13\" class=\"row_heading level1 row13\" >2021-04-29 00:00:00</th>\n",
       "                        <td id=\"T_10458_row13_col0\" class=\"data row13 col0\" >3.0</td>\n",
       "                        <td id=\"T_10458_row13_col1\" class=\"data row13 col1\" >2.0</td>\n",
       "                        <td id=\"T_10458_row13_col2\" class=\"data row13 col2\" >nan</td>\n",
       "                        <td id=\"T_10458_row13_col3\" class=\"data row13 col3\" >nan</td>\n",
       "            </tr>\n",
       "            <tr>\n",
       "                                <th id=\"T_10458_level1_row14\" class=\"row_heading level1 row14\" >2021-04-30 00:00:00</th>\n",
       "                        <td id=\"T_10458_row14_col0\" class=\"data row14 col0\" >4.0</td>\n",
       "                        <td id=\"T_10458_row14_col1\" class=\"data row14 col1\" >3.0</td>\n",
       "                        <td id=\"T_10458_row14_col2\" class=\"data row14 col2\" >nan</td>\n",
       "                        <td id=\"T_10458_row14_col3\" class=\"data row14 col3\" >nan</td>\n",
       "            </tr>\n",
       "    </tbody></table>"
      ],
      "text/plain": [
       "<pandas.io.formats.style.Styler at 0x7ff2d455d0d0>"
      ]
     },
     "execution_count": 23,
     "metadata": {},
     "output_type": "execute_result"
    }
   ],
   "source": [
    "import seaborn as sns\n",
    "\n",
    "color = sns.dark_palette(\"#69d\", as_cmap=True)\n",
    "\n",
    "tipo = 'arribo'\n",
    "#Example of what this function does\n",
    "multishift(data=df.head(9).append(df.tail(9)),\n",
    "           id_cols=[f'ciclo_estacion_{tipo}'],\n",
    "           date_col=f'fecha_{tipo}',\n",
    "           shifts=[1,3,4],\n",
    "           values='bici',aggfunc='count',\n",
    "           #columns=['hrmin_retiro_cut']\n",
    "           #columns=['hrmin_retiro_cut','hrmin_Arribo_cut'],\n",
    "           #values=['bici','genero_usuario'],\n",
    "           #aggfunc={'bici':['sum','mean'],'genero_usuario':'count'}\n",
    "          ).style.background_gradient(cmap=color).format('{:.1f}')"
   ]
  },
  {
   "cell_type": "code",
   "execution_count": 24,
   "id": "9c2826b8",
   "metadata": {
    "ExecuteTime": {
     "end_time": "2021-05-18T00:45:42.241499Z",
     "start_time": "2021-05-18T00:44:54.150583Z"
    }
   },
   "outputs": [],
   "source": [
    "df = multishift(data=df,\n",
    "                id_cols=[f'ciclo_estacion_{tipo}'],\n",
    "                date_col=f'fecha_{tipo}',\n",
    "                shifts=range(1,10),\n",
    "                columns=f'hrmin_{tipo}_cut',\n",
    "                values='bici',\n",
    "                aggfunc='count')\n",
    "df.reset_index().to_csv(os.path.join(BASE_DIR,f'bicis_shift_{tipo}.csv'),index=False)"
   ]
  },
  {
   "cell_type": "code",
   "execution_count": 25,
   "id": "intermediate-james",
   "metadata": {
    "ExecuteTime": {
     "end_time": "2021-05-18T00:45:42.412557Z",
     "start_time": "2021-05-18T00:45:42.243379Z"
    }
   },
   "outputs": [
    {
     "data": {
      "text/html": [
       "<div>\n",
       "<style scoped>\n",
       "    .dataframe tbody tr th:only-of-type {\n",
       "        vertical-align: middle;\n",
       "    }\n",
       "\n",
       "    .dataframe tbody tr th {\n",
       "        vertical-align: top;\n",
       "    }\n",
       "\n",
       "    .dataframe thead th {\n",
       "        text-align: right;\n",
       "    }\n",
       "</style>\n",
       "<table border=\"1\" class=\"dataframe\">\n",
       "  <thead>\n",
       "    <tr style=\"text-align: right;\">\n",
       "      <th></th>\n",
       "      <th></th>\n",
       "      <th>(0.999, 2.973]</th>\n",
       "      <th>(10.903, 13.0]</th>\n",
       "      <th>(2.973, 4.919]</th>\n",
       "      <th>(4.919, 6.657]</th>\n",
       "      <th>(6.657, 7.992]</th>\n",
       "      <th>(7.992, 9.289]</th>\n",
       "      <th>(9.289, 10.903]</th>\n",
       "      <th>(0.999, 2.973]_01</th>\n",
       "      <th>(10.903, 13.0]_01</th>\n",
       "      <th>(2.973, 4.919]_01</th>\n",
       "      <th>...</th>\n",
       "      <th>(6.657, 7.992]_08</th>\n",
       "      <th>(7.992, 9.289]_08</th>\n",
       "      <th>(9.289, 10.903]_08</th>\n",
       "      <th>(0.999, 2.973]_09</th>\n",
       "      <th>(10.903, 13.0]_09</th>\n",
       "      <th>(2.973, 4.919]_09</th>\n",
       "      <th>(4.919, 6.657]_09</th>\n",
       "      <th>(6.657, 7.992]_09</th>\n",
       "      <th>(7.992, 9.289]_09</th>\n",
       "      <th>(9.289, 10.903]_09</th>\n",
       "    </tr>\n",
       "    <tr>\n",
       "      <th>ciclo_estacion_arribo</th>\n",
       "      <th>fecha_arribo</th>\n",
       "      <th></th>\n",
       "      <th></th>\n",
       "      <th></th>\n",
       "      <th></th>\n",
       "      <th></th>\n",
       "      <th></th>\n",
       "      <th></th>\n",
       "      <th></th>\n",
       "      <th></th>\n",
       "      <th></th>\n",
       "      <th></th>\n",
       "      <th></th>\n",
       "      <th></th>\n",
       "      <th></th>\n",
       "      <th></th>\n",
       "      <th></th>\n",
       "      <th></th>\n",
       "      <th></th>\n",
       "      <th></th>\n",
       "      <th></th>\n",
       "      <th></th>\n",
       "    </tr>\n",
       "  </thead>\n",
       "  <tbody>\n",
       "    <tr>\n",
       "      <th>174</th>\n",
       "      <th>2021-04-25</th>\n",
       "      <td>6.000</td>\n",
       "      <td>8.000</td>\n",
       "      <td>6.000</td>\n",
       "      <td>5.000</td>\n",
       "      <td>4.000</td>\n",
       "      <td>3.000</td>\n",
       "      <td>6.000</td>\n",
       "      <td>4.000</td>\n",
       "      <td>10.000</td>\n",
       "      <td>1.000</td>\n",
       "      <td>...</td>\n",
       "      <td>5.000</td>\n",
       "      <td>6.000</td>\n",
       "      <td>2.000</td>\n",
       "      <td>10.000</td>\n",
       "      <td>13.000</td>\n",
       "      <td>6.000</td>\n",
       "      <td>11.000</td>\n",
       "      <td>12.000</td>\n",
       "      <td>8.000</td>\n",
       "      <td>3.000</td>\n",
       "    </tr>\n",
       "  </tbody>\n",
       "</table>\n",
       "<p>1 rows × 70 columns</p>\n",
       "</div>"
      ],
      "text/plain": [
       "                                    (0.999, 2.973]  (10.903, 13.0]  \\\n",
       "ciclo_estacion_arribo fecha_arribo                                   \n",
       "174                   2021-04-25             6.000           8.000   \n",
       "\n",
       "                                    (2.973, 4.919]  (4.919, 6.657]  \\\n",
       "ciclo_estacion_arribo fecha_arribo                                   \n",
       "174                   2021-04-25             6.000           5.000   \n",
       "\n",
       "                                    (6.657, 7.992]  (7.992, 9.289]  \\\n",
       "ciclo_estacion_arribo fecha_arribo                                   \n",
       "174                   2021-04-25             4.000           3.000   \n",
       "\n",
       "                                    (9.289, 10.903]  (0.999, 2.973]_01  \\\n",
       "ciclo_estacion_arribo fecha_arribo                                       \n",
       "174                   2021-04-25              6.000              4.000   \n",
       "\n",
       "                                    (10.903, 13.0]_01  (2.973, 4.919]_01  ...  \\\n",
       "ciclo_estacion_arribo fecha_arribo                                        ...   \n",
       "174                   2021-04-25               10.000              1.000  ...   \n",
       "\n",
       "                                    (6.657, 7.992]_08  (7.992, 9.289]_08  \\\n",
       "ciclo_estacion_arribo fecha_arribo                                         \n",
       "174                   2021-04-25                5.000              6.000   \n",
       "\n",
       "                                    (9.289, 10.903]_08  (0.999, 2.973]_09  \\\n",
       "ciclo_estacion_arribo fecha_arribo                                          \n",
       "174                   2021-04-25                 2.000             10.000   \n",
       "\n",
       "                                    (10.903, 13.0]_09  (2.973, 4.919]_09  \\\n",
       "ciclo_estacion_arribo fecha_arribo                                         \n",
       "174                   2021-04-25               13.000              6.000   \n",
       "\n",
       "                                    (4.919, 6.657]_09  (6.657, 7.992]_09  \\\n",
       "ciclo_estacion_arribo fecha_arribo                                         \n",
       "174                   2021-04-25               11.000             12.000   \n",
       "\n",
       "                                    (7.992, 9.289]_09  (9.289, 10.903]_09  \n",
       "ciclo_estacion_arribo fecha_arribo                                         \n",
       "174                   2021-04-25                8.000               3.000  \n",
       "\n",
       "[1 rows x 70 columns]"
      ]
     },
     "execution_count": 25,
     "metadata": {},
     "output_type": "execute_result"
    }
   ],
   "source": [
    "#Last step can take a lot of time, so we have now a backup file to not repeat that step\n",
    "df = pd.read_csv(os.path.join(BASE_DIR,f'bicis_shift_{tipo}.csv'),index_col=[0,1]).dropna()\n",
    "df.sample()"
   ]
  },
  {
   "cell_type": "code",
   "execution_count": 26,
   "id": "armed-frank",
   "metadata": {
    "ExecuteTime": {
     "end_time": "2021-05-18T00:45:42.421010Z",
     "start_time": "2021-05-18T00:45:42.414300Z"
    }
   },
   "outputs": [
    {
     "name": "stdout",
     "output_type": "stream",
     "text": [
      "['(0.999, 2.973]', '(10.903, 13.0]', '(2.973, 4.919]', '(4.919, 6.657]', '(6.657, 7.992]', '(7.992, 9.289]', '(9.289, 10.903]']\n"
     ]
    }
   ],
   "source": [
    "#Save the columns with the previous dates info\n",
    "prev = df.head().filter(regex='_\\d+').columns.tolist()\n",
    "actual = [x for x in df.columns if x not in prev]\n",
    "print(actual)"
   ]
  },
  {
   "cell_type": "markdown",
   "id": "referenced-track",
   "metadata": {},
   "source": [
    "## Daily Model"
   ]
  },
  {
   "cell_type": "markdown",
   "id": "fossil-spider",
   "metadata": {},
   "source": [
    "### Preprocessing"
   ]
  },
  {
   "cell_type": "code",
   "execution_count": 27,
   "id": "chief-syndicate",
   "metadata": {
    "ExecuteTime": {
     "end_time": "2021-05-18T00:45:42.561982Z",
     "start_time": "2021-05-18T00:45:42.423087Z"
    }
   },
   "outputs": [],
   "source": [
    "from sklearn.preprocessing import MinMaxScaler\n",
    "from sklearn.model_selection import train_test_split\n",
    "\n",
    "X = df[prev].copy()\n",
    "y = df[actual].sum(axis=1).values\n",
    "\n",
    "X_train, X_test, y_train, y_test = train_test_split(X,y,\n",
    "                                                    train_size=0.77,\n",
    "                                                    random_state=22)\n",
    "mm_x = MinMaxScaler()"
   ]
  },
  {
   "cell_type": "markdown",
   "id": "afraid-being",
   "metadata": {},
   "source": [
    "### Arquitecture"
   ]
  },
  {
   "cell_type": "code",
   "execution_count": 28,
   "id": "bacterial-tuition",
   "metadata": {
    "ExecuteTime": {
     "end_time": "2021-05-18T00:45:42.663091Z",
     "start_time": "2021-05-18T00:45:42.563706Z"
    }
   },
   "outputs": [
    {
     "name": "stdout",
     "output_type": "stream",
     "text": [
      "Score:  0.8620659183788816\n"
     ]
    },
    {
     "data": {
      "text/html": [
       "<div>\n",
       "<style scoped>\n",
       "    .dataframe tbody tr th:only-of-type {\n",
       "        vertical-align: middle;\n",
       "    }\n",
       "\n",
       "    .dataframe tbody tr th {\n",
       "        vertical-align: top;\n",
       "    }\n",
       "\n",
       "    .dataframe thead th {\n",
       "        text-align: right;\n",
       "    }\n",
       "</style>\n",
       "<table border=\"1\" class=\"dataframe\">\n",
       "  <thead>\n",
       "    <tr style=\"text-align: right;\">\n",
       "      <th></th>\n",
       "      <th>0</th>\n",
       "      <th>1</th>\n",
       "    </tr>\n",
       "  </thead>\n",
       "  <tbody>\n",
       "    <tr>\n",
       "      <th>0</th>\n",
       "      <td>(6.657, 7.992]_07</td>\n",
       "      <td>27.468</td>\n",
       "    </tr>\n",
       "    <tr>\n",
       "      <th>1</th>\n",
       "      <td>(4.919, 6.657]_07</td>\n",
       "      <td>26.818</td>\n",
       "    </tr>\n",
       "    <tr>\n",
       "      <th>2</th>\n",
       "      <td>(7.992, 9.289]_07</td>\n",
       "      <td>22.195</td>\n",
       "    </tr>\n",
       "    <tr>\n",
       "      <th>3</th>\n",
       "      <td>(10.903, 13.0]_07</td>\n",
       "      <td>21.409</td>\n",
       "    </tr>\n",
       "    <tr>\n",
       "      <th>4</th>\n",
       "      <td>(2.973, 4.919]_07</td>\n",
       "      <td>12.618</td>\n",
       "    </tr>\n",
       "    <tr>\n",
       "      <th>58</th>\n",
       "      <td>(4.919, 6.657]_09</td>\n",
       "      <td>-2.776</td>\n",
       "    </tr>\n",
       "    <tr>\n",
       "      <th>59</th>\n",
       "      <td>(6.657, 7.992]_05</td>\n",
       "      <td>-3.441</td>\n",
       "    </tr>\n",
       "    <tr>\n",
       "      <th>60</th>\n",
       "      <td>(4.919, 6.657]_05</td>\n",
       "      <td>-4.167</td>\n",
       "    </tr>\n",
       "    <tr>\n",
       "      <th>61</th>\n",
       "      <td>(7.992, 9.289]_02</td>\n",
       "      <td>-4.304</td>\n",
       "    </tr>\n",
       "    <tr>\n",
       "      <th>62</th>\n",
       "      <td>(6.657, 7.992]_09</td>\n",
       "      <td>-6.193</td>\n",
       "    </tr>\n",
       "  </tbody>\n",
       "</table>\n",
       "</div>"
      ],
      "text/plain": [
       "                    0      1\n",
       "0   (6.657, 7.992]_07 27.468\n",
       "1   (4.919, 6.657]_07 26.818\n",
       "2   (7.992, 9.289]_07 22.195\n",
       "3   (10.903, 13.0]_07 21.409\n",
       "4   (2.973, 4.919]_07 12.618\n",
       "58  (4.919, 6.657]_09 -2.776\n",
       "59  (6.657, 7.992]_05 -3.441\n",
       "60  (4.919, 6.657]_05 -4.167\n",
       "61  (7.992, 9.289]_02 -4.304\n",
       "62  (6.657, 7.992]_09 -6.193"
      ]
     },
     "execution_count": 28,
     "metadata": {},
     "output_type": "execute_result"
    }
   ],
   "source": [
    "from sklearn.pipeline import Pipeline\n",
    "from sklearn.linear_model import LinearRegression\n",
    "\n",
    "linear_reg = LinearRegression()\n",
    "\n",
    "model_reg = Pipeline(steps=[('scaler', mm_x),\n",
    "                            ('model', linear_reg)])\n",
    "\n",
    "print('Score: ',model_reg.fit(X_train,y_train).score(X_test,y_test))\n",
    "#The most relevant features to the model_reg\n",
    "coef = pd.DataFrame(zip(X.columns,model_reg[1].coef_)).sort_values(1,0,0).reset_index(drop=True)\n",
    "coef.head().append(coef.tail())"
   ]
  },
  {
   "cell_type": "code",
   "execution_count": 29,
   "id": "charming-prime",
   "metadata": {
    "ExecuteTime": {
     "end_time": "2021-05-18T00:45:45.379116Z",
     "start_time": "2021-05-18T00:45:42.665215Z"
    }
   },
   "outputs": [
    {
     "name": "stdout",
     "output_type": "stream",
     "text": [
      "0.8498626824254609\n"
     ]
    },
    {
     "data": {
      "text/html": [
       "<div>\n",
       "<style scoped>\n",
       "    .dataframe tbody tr th:only-of-type {\n",
       "        vertical-align: middle;\n",
       "    }\n",
       "\n",
       "    .dataframe tbody tr th {\n",
       "        vertical-align: top;\n",
       "    }\n",
       "\n",
       "    .dataframe thead th {\n",
       "        text-align: right;\n",
       "    }\n",
       "</style>\n",
       "<table border=\"1\" class=\"dataframe\">\n",
       "  <thead>\n",
       "    <tr style=\"text-align: right;\">\n",
       "      <th></th>\n",
       "      <th>0</th>\n",
       "      <th>1</th>\n",
       "    </tr>\n",
       "  </thead>\n",
       "  <tbody>\n",
       "    <tr>\n",
       "      <th>0</th>\n",
       "      <td>(4.919, 6.657]_07</td>\n",
       "      <td>0.244</td>\n",
       "    </tr>\n",
       "    <tr>\n",
       "      <th>1</th>\n",
       "      <td>(6.657, 7.992]_07</td>\n",
       "      <td>0.189</td>\n",
       "    </tr>\n",
       "    <tr>\n",
       "      <th>2</th>\n",
       "      <td>(7.992, 9.289]_07</td>\n",
       "      <td>0.080</td>\n",
       "    </tr>\n",
       "    <tr>\n",
       "      <th>3</th>\n",
       "      <td>(2.973, 4.919]_07</td>\n",
       "      <td>0.058</td>\n",
       "    </tr>\n",
       "    <tr>\n",
       "      <th>4</th>\n",
       "      <td>(9.289, 10.903]_07</td>\n",
       "      <td>0.055</td>\n",
       "    </tr>\n",
       "    <tr>\n",
       "      <th>5</th>\n",
       "      <td>(10.903, 13.0]_07</td>\n",
       "      <td>0.034</td>\n",
       "    </tr>\n",
       "    <tr>\n",
       "      <th>6</th>\n",
       "      <td>(2.973, 4.919]_01</td>\n",
       "      <td>0.020</td>\n",
       "    </tr>\n",
       "    <tr>\n",
       "      <th>7</th>\n",
       "      <td>(10.903, 13.0]_01</td>\n",
       "      <td>0.018</td>\n",
       "    </tr>\n",
       "    <tr>\n",
       "      <th>8</th>\n",
       "      <td>(0.999, 2.973]_07</td>\n",
       "      <td>0.018</td>\n",
       "    </tr>\n",
       "    <tr>\n",
       "      <th>9</th>\n",
       "      <td>(9.289, 10.903]_01</td>\n",
       "      <td>0.013</td>\n",
       "    </tr>\n",
       "  </tbody>\n",
       "</table>\n",
       "</div>"
      ],
      "text/plain": [
       "                    0     1\n",
       "0   (4.919, 6.657]_07 0.244\n",
       "1   (6.657, 7.992]_07 0.189\n",
       "2   (7.992, 9.289]_07 0.080\n",
       "3   (2.973, 4.919]_07 0.058\n",
       "4  (9.289, 10.903]_07 0.055\n",
       "5   (10.903, 13.0]_07 0.034\n",
       "6   (2.973, 4.919]_01 0.020\n",
       "7   (10.903, 13.0]_01 0.018\n",
       "8   (0.999, 2.973]_07 0.018\n",
       "9  (9.289, 10.903]_01 0.013"
      ]
     },
     "execution_count": 29,
     "metadata": {},
     "output_type": "execute_result"
    }
   ],
   "source": [
    "from sklearn.pipeline import Pipeline\n",
    "from sklearn.ensemble import RandomForestRegressor\n",
    "\n",
    "forest = RandomForestRegressor(n_jobs=-1,random_state=22)\n",
    "\n",
    "model_forest = Pipeline(steps=[('scaler', mm_x),\n",
    "                               ('model', forest)])\n",
    "\n",
    "print(model_forest.fit(X_train,y_train).score(X_test,y_test))\n",
    "\n",
    "#The most relevant features to the model_forest\n",
    "pd.DataFrame(zip(X.columns,model_forest[1].feature_importances_)).sort_values(1,0,0).head(10).reset_index(drop=True)"
   ]
  },
  {
   "cell_type": "markdown",
   "id": "a4265857",
   "metadata": {
    "ExecuteTime": {
     "end_time": "2021-05-18T00:42:20.349624Z",
     "start_time": "2021-05-18T00:37:11.273926Z"
    }
   },
   "source": [
    "'''pip install xgboost'''\n",
    "from xgboost.sklearn import XGBRegressor\n",
    "xgb = XGBRegressor()\n",
    "\n",
    "param_xgb = {'learning_rate':[x/100 for x in range(1,51,10)],\n",
    "             'n_estimators':[x for x in range(100,1100,100)],\n",
    "             'max_depth':[x for x in range(1,11)], \n",
    "             'min_child_weight':[x/10 for x in range(1,101,10)],\n",
    "             'reg_lambda': [x/10 for x in range(1,101,10)]\n",
    "            }\n",
    "            \n",
    "from sklearn.model_selection import RandomizedSearchCV\n",
    "search_xgb = RandomizedSearchCV(param_distributions=param_xgb, \n",
    "                                cv=4,\n",
    "                                n_jobs=-1, \n",
    "                                scoring='r2', \n",
    "                                estimator=xgb, \n",
    "                                verbose=1,\n",
    "                                n_iter=70,\n",
    "                                random_state=22)\n",
    "\n",
    "model_xgb = Pipeline(steps=[('scaler',mm_x),\n",
    "                            ('model',search_xgb)])\n",
    "\n",
    "print(model_xgb.fit(X_train,y_train).score(X_test,y_test))\n",
    "\n",
    "#The most relevant features to the model_xgb\n",
    "pd.DataFrame(zip(X.columns,model_xgb[1].best_estimator_.feature_importances_)).sort_values(1,0,0).head(10).reset_index(drop=True)"
   ]
  },
  {
   "cell_type": "markdown",
   "id": "fd325166",
   "metadata": {},
   "source": [
    "### Predict"
   ]
  },
  {
   "cell_type": "code",
   "execution_count": 30,
   "id": "be811ec7",
   "metadata": {
    "ExecuteTime": {
     "end_time": "2021-05-18T00:45:45.777117Z",
     "start_time": "2021-05-18T00:45:45.381276Z"
    }
   },
   "outputs": [],
   "source": [
    "X.reset_index().join(pd.DataFrame(y,columns=['real'])\n",
    "                    ).join(pd.DataFrame(model_reg.predict(X),columns=['est'])\n",
    "                          ).to_csv(os.path.join(BASE_DIR,f'predict_daily_{tipo}.csv'),index=False)"
   ]
  },
  {
   "cell_type": "markdown",
   "id": "ranking-strategy",
   "metadata": {},
   "source": [
    "### Save the model"
   ]
  },
  {
   "cell_type": "code",
   "execution_count": 31,
   "id": "4b4716fa",
   "metadata": {
    "ExecuteTime": {
     "end_time": "2021-05-18T00:45:45.782570Z",
     "start_time": "2021-05-18T00:45:45.779057Z"
    }
   },
   "outputs": [],
   "source": [
    "import pickle\n",
    "with open(os.path.join(BASE_DIR,f'bici_day_model_{tipo}.pkl'), 'wb') as f:\n",
    "    pickle.dump((model_reg,[prev,actual]), f)"
   ]
  },
  {
   "cell_type": "markdown",
   "id": "comparative-receiver",
   "metadata": {},
   "source": [
    "import pickle    \n",
    "with open(os.path.join(BASE_DIR,f'bici_day_model_{tipo}.pkl'), 'rb') as f:\n",
    "    modelo = pickle.load(f)"
   ]
  },
  {
   "cell_type": "markdown",
   "id": "foreign-pollution",
   "metadata": {},
   "source": [
    "## End"
   ]
  },
  {
   "cell_type": "code",
   "execution_count": 32,
   "id": "controlling-gateway",
   "metadata": {
    "ExecuteTime": {
     "end_time": "2021-05-18T00:45:45.796461Z",
     "start_time": "2021-05-18T00:45:45.785918Z"
    }
   },
   "outputs": [
    {
     "name": "stdout",
     "output_type": "stream",
     "text": [
      "1 minutos con 2.69 segundos\n"
     ]
    },
    {
     "data": {
      "text/html": [
       "\n",
       "                <audio  controls=\"controls\" autoplay=\"autoplay\">\n",
       "                    <source src=\"data:audio/wav;base64,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\" type=\"audio/wav\" />\n",
       "                    Your browser does not support the audio element.\n",
       "                </audio>\n",
       "              "
      ],
      "text/plain": [
       "<IPython.lib.display.Audio object>"
      ]
     },
     "execution_count": 32,
     "metadata": {},
     "output_type": "execute_result"
    }
   ],
   "source": [
    "time_exp(time.time() - start)\n",
    "tone()"
   ]
  }
 ],
 "metadata": {
  "kernelspec": {
   "display_name": "Python 3",
   "language": "python",
   "name": "python3"
  },
  "language_info": {
   "codemirror_mode": {
    "name": "ipython",
    "version": 3
   },
   "file_extension": ".py",
   "mimetype": "text/x-python",
   "name": "python",
   "nbconvert_exporter": "python",
   "pygments_lexer": "ipython3",
   "version": "3.9.1"
  },
  "toc": {
   "base_numbering": 1,
   "nav_menu": {},
   "number_sections": true,
   "sideBar": true,
   "skip_h1_title": true,
   "title_cell": "Table of Contents",
   "title_sidebar": "Contents",
   "toc_cell": false,
   "toc_position": {
    "height": "calc(100% - 180px)",
    "left": "10px",
    "top": "150px",
    "width": "292.641px"
   },
   "toc_section_display": true,
   "toc_window_display": true
  },
  "varInspector": {
   "cols": {
    "lenName": 16,
    "lenType": 16,
    "lenVar": 40
   },
   "kernels_config": {
    "python": {
     "delete_cmd_postfix": "",
     "delete_cmd_prefix": "del ",
     "library": "var_list.py",
     "varRefreshCmd": "print(var_dic_list())"
    },
    "r": {
     "delete_cmd_postfix": ") ",
     "delete_cmd_prefix": "rm(",
     "library": "var_list.r",
     "varRefreshCmd": "cat(var_dic_list()) "
    }
   },
   "types_to_exclude": [
    "module",
    "function",
    "builtin_function_or_method",
    "instance",
    "_Feature"
   ],
   "window_display": false
  }
 },
 "nbformat": 4,
 "nbformat_minor": 5
}
