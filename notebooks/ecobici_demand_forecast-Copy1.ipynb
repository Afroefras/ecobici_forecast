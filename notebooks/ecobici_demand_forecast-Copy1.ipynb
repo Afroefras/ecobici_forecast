{
 "cells": [
  {
   "cell_type": "markdown",
   "id": "broke-transition",
   "metadata": {},
   "source": [
    "# Ecobici"
   ]
  },
  {
   "cell_type": "markdown",
   "id": "tropical-israel",
   "metadata": {
    "heading_collapsed": true
   },
   "source": [
    "## Import"
   ]
  },
  {
   "cell_type": "code",
   "execution_count": 3,
   "id": "51a8b6f2",
   "metadata": {
    "ExecuteTime": {
     "end_time": "2021-05-14T01:02:09.829497Z",
     "start_time": "2021-05-14T01:02:09.826599Z"
    },
    "hidden": true
   },
   "outputs": [],
   "source": [
    "import sys\n",
    "sys.path.append('/Users/efraflores/Desktop/hub/diplo/venv/lib/python3.9/site-packages')"
   ]
  },
  {
   "cell_type": "code",
   "execution_count": 4,
   "id": "cosmetic-burst",
   "metadata": {
    "ExecuteTime": {
     "end_time": "2021-05-14T01:02:09.835599Z",
     "start_time": "2021-05-14T01:02:09.833128Z"
    },
    "hidden": true
   },
   "outputs": [],
   "source": [
    "BASE_DIR = '/Users/efraflores/Desktop/EF/Corner/data/practice'"
   ]
  },
  {
   "cell_type": "code",
   "execution_count": 5,
   "id": "advised-medicine",
   "metadata": {
    "ExecuteTime": {
     "end_time": "2021-05-14T01:02:11.598292Z",
     "start_time": "2021-05-14T01:02:09.841655Z"
    },
    "hidden": true
   },
   "outputs": [
    {
     "data": {
      "text/html": [
       "<div>\n",
       "<style scoped>\n",
       "    .dataframe tbody tr th:only-of-type {\n",
       "        vertical-align: middle;\n",
       "    }\n",
       "\n",
       "    .dataframe tbody tr th {\n",
       "        vertical-align: top;\n",
       "    }\n",
       "\n",
       "    .dataframe thead th {\n",
       "        text-align: right;\n",
       "    }\n",
       "</style>\n",
       "<table border=\"1\" class=\"dataframe\">\n",
       "  <thead>\n",
       "    <tr style=\"text-align: right;\">\n",
       "      <th></th>\n",
       "      <th>Genero_Usuario</th>\n",
       "      <th>Edad_Usuario</th>\n",
       "      <th>Bici</th>\n",
       "      <th>Ciclo_Estacion_Retiro</th>\n",
       "      <th>Fecha_Retiro</th>\n",
       "      <th>Hora_Retiro</th>\n",
       "      <th>Ciclo_Estacion_Arribo</th>\n",
       "      <th>Fecha_Arribo</th>\n",
       "      <th>Hora_Arribo</th>\n",
       "    </tr>\n",
       "  </thead>\n",
       "  <tbody>\n",
       "    <tr>\n",
       "      <th>310489</th>\n",
       "      <td>M</td>\n",
       "      <td>38</td>\n",
       "      <td>12231</td>\n",
       "      <td>334</td>\n",
       "      <td>14/05/2019</td>\n",
       "      <td>15:07:59</td>\n",
       "      <td>382</td>\n",
       "      <td>14/05/2019</td>\n",
       "      <td>15:14:13</td>\n",
       "    </tr>\n",
       "  </tbody>\n",
       "</table>\n",
       "</div>"
      ],
      "text/plain": [
       "       Genero_Usuario  Edad_Usuario   Bici  Ciclo_Estacion_Retiro  \\\n",
       "310489              M            38  12231                    334   \n",
       "\n",
       "       Fecha_Retiro Hora_Retiro  Ciclo_Estacion_Arribo Fecha_Arribo  \\\n",
       "310489   14/05/2019    15:07:59                    382   14/05/2019   \n",
       "\n",
       "       Hora_Arribo  \n",
       "310489    15:14:13  "
      ]
     },
     "execution_count": 5,
     "metadata": {},
     "output_type": "execute_result"
    }
   ],
   "source": [
    "import os\n",
    "import pandas as pd\n",
    "pd.options.display.float_format = '{:.3f}'.format\n",
    "\n",
    "df = pd.read_csv(os.path.join(BASE_DIR,'2019-05.csv'))\n",
    "df.sample()"
   ]
  },
  {
   "cell_type": "code",
   "execution_count": 6,
   "id": "certain-draft",
   "metadata": {
    "ExecuteTime": {
     "end_time": "2021-05-14T01:02:11.639250Z",
     "start_time": "2021-05-14T01:02:11.602650Z"
    },
    "hidden": true
   },
   "outputs": [
    {
     "data": {
      "text/html": [
       "<div>\n",
       "<style scoped>\n",
       "    .dataframe tbody tr th:only-of-type {\n",
       "        vertical-align: middle;\n",
       "    }\n",
       "\n",
       "    .dataframe tbody tr th {\n",
       "        vertical-align: top;\n",
       "    }\n",
       "\n",
       "    .dataframe thead th {\n",
       "        text-align: right;\n",
       "    }\n",
       "</style>\n",
       "<table border=\"1\" class=\"dataframe\">\n",
       "  <thead>\n",
       "    <tr style=\"text-align: right;\">\n",
       "      <th></th>\n",
       "      <th>ID</th>\n",
       "      <th>Nombre</th>\n",
       "      <th>Dirección</th>\n",
       "      <th>Número</th>\n",
       "      <th>Código postal</th>\n",
       "      <th>districtCode</th>\n",
       "      <th>Colonia</th>\n",
       "      <th>altitude</th>\n",
       "      <th>nearbyStations/0</th>\n",
       "      <th>location/lat</th>\n",
       "      <th>location/lon</th>\n",
       "      <th>Tipo de estación</th>\n",
       "      <th>nearbyStations/1</th>\n",
       "      <th>nearbyStations/2</th>\n",
       "      <th>nearbyStations/3</th>\n",
       "      <th>nearbyStations/4</th>\n",
       "      <th>nearbyStations/5</th>\n",
       "      <th>punto_geo</th>\n",
       "    </tr>\n",
       "  </thead>\n",
       "  <tbody>\n",
       "    <tr>\n",
       "      <th>33</th>\n",
       "      <td>150</td>\n",
       "      <td>150 CAMPECHE-MEDELLÍN</td>\n",
       "      <td>150 - Campeche-Medellín</td>\n",
       "      <td>S/N</td>\n",
       "      <td>NaN</td>\n",
       "      <td>1</td>\n",
       "      <td>Ampliación Granada</td>\n",
       "      <td>NaN</td>\n",
       "      <td>146</td>\n",
       "      <td>19.410</td>\n",
       "      <td>-99.164</td>\n",
       "      <td>BIKE</td>\n",
       "      <td>151.000</td>\n",
       "      <td>152.000</td>\n",
       "      <td>NaN</td>\n",
       "      <td>NaN</td>\n",
       "      <td>NaN</td>\n",
       "      <td>19.409965,-99.164292</td>\n",
       "    </tr>\n",
       "  </tbody>\n",
       "</table>\n",
       "</div>"
      ],
      "text/plain": [
       "     ID                 Nombre                Dirección Número  Código postal  \\\n",
       "33  150  150 CAMPECHE-MEDELLÍN  150 - Campeche-Medellín    S/N            NaN   \n",
       "\n",
       "   districtCode             Colonia  altitude  nearbyStations/0  location/lat  \\\n",
       "33            1  Ampliación Granada       NaN               146        19.410   \n",
       "\n",
       "    location/lon Tipo de estación  nearbyStations/1  nearbyStations/2  \\\n",
       "33       -99.164             BIKE           151.000           152.000   \n",
       "\n",
       "    nearbyStations/3  nearbyStations/4  nearbyStations/5             punto_geo  \n",
       "33               NaN               NaN               NaN  19.409965,-99.164292  "
      ]
     },
     "execution_count": 6,
     "metadata": {},
     "output_type": "execute_result"
    }
   ],
   "source": [
    "geo = pd.read_csv(os.path.join(BASE_DIR,'estaciones-de-ecobici.csv'))\n",
    "geo.sample()"
   ]
  },
  {
   "cell_type": "markdown",
   "id": "leading-sixth",
   "metadata": {},
   "source": [
    "## Functions"
   ]
  },
  {
   "cell_type": "code",
   "execution_count": 7,
   "id": "hidden-compiler",
   "metadata": {
    "ExecuteTime": {
     "end_time": "2021-05-14T01:02:11.671368Z",
     "start_time": "2021-05-14T01:02:11.651926Z"
    }
   },
   "outputs": [],
   "source": [
    "import time\n",
    "import numpy as np\n",
    "from IPython.lib.display import Audio\n",
    "\n",
    "#Start a \"stopwatch\"\n",
    "start = time.time()\n",
    "def time_exp(x):\n",
    "    #Just print how many minutes and seconds have passed\n",
    "    minutes, seconds = np.floor(x/60), 60*(x/60-np.floor(x/60))\n",
    "    print(f\"{'{:.0f}'.format(minutes)} minutos con {'{:.2f}'.format(seconds)} segundos\")\n",
    "    \n",
    "def tone(a=1000, b=700, play_time_seconds=1, framerate=4410):\n",
    "    #Make a sound! Useful while training models\n",
    "    t = np.linspace(0, play_time_seconds, framerate*play_time_seconds)*np.pi\n",
    "    return Audio(np.sin(a*t)+np.sin(b*t), rate=framerate, autoplay=True)"
   ]
  },
  {
   "cell_type": "code",
   "execution_count": 9,
   "id": "classified-palestinian",
   "metadata": {
    "ExecuteTime": {
     "end_time": "2021-05-14T01:02:27.437686Z",
     "start_time": "2021-05-14T01:02:25.126017Z"
    }
   },
   "outputs": [
    {
     "name": "stdout",
     "output_type": "stream",
     "text": [
      "Collecting mpu\n",
      "  Using cached mpu-0.23.1-py3-none-any.whl (69 kB)\n",
      "Installing collected packages: mpu\n",
      "Successfully installed mpu-0.23.1\n"
     ]
    }
   ],
   "source": [
    "#Uncomment the next line if you don't have it installed yet, \n",
    "!pip install mpu\n",
    "\n",
    "#it has the function to calculate the distance between two coordinates\n",
    "import mpu\n",
    "\n",
    "def transf(data,tipos):\n",
    "    df = data.copy()\n",
    "    for tipo in tipos:\n",
    "        #Merge de date and hour columns, and set is a datetime column\n",
    "        df[f'Fecha_{tipo}'] = pd.to_datetime(df[f'Fecha_{tipo}']+','+df[f'Hora_{tipo}'],\n",
    "                                              format='%d/%m/%Y,%H:%M:%S')\n",
    "        #Get the day of the week name, just the first 3 characters\n",
    "        df[f'DoW_{tipo}'] = df[f'Fecha_{tipo}'].dt.day_name().str[:3]\n",
    "        #Get the time as hour-decimal. Ex: 15:30 --> 15.5\n",
    "        df[f'HRmin_{tipo}'] = (df[f'Fecha_{tipo}'].dt.hour+\n",
    "                               df[f'Fecha_{tipo}'].dt.minute/60+\n",
    "                               df[f'Fecha_{tipo}'].dt.second/60**2)\n",
    "        #Make equally-distributed bins and save the bins\n",
    "        df[f'HRmin_{tipo}_cut'],qbins = pd.qcut(df[f'HRmin_{tipo}'].apply(lambda x:round(x,3)),\n",
    "                                                q=7,duplicates='drop',retbins=True)\n",
    "        df[f'HRmin_{tipo}_cut'] = df[f'HRmin_{tipo}_cut'].astype(str)\n",
    "        #Get the geo-points from the origin and destination stations\n",
    "        df = df.merge(geo.set_index('ID')['punto_geo'].str.split(',').to_frame().reset_index(),\n",
    "                      left_on=f'Ciclo_Estacion_{tipo}',right_on='ID'\n",
    "                     ).drop(columns='ID').rename(columns={'punto_geo':f'geo_{tipo.lower()}'})\n",
    "    #Calculate the ridetime in hours\n",
    "    df['Ridetime'] = df['HRmin_Arribo'] - df['HRmin_Retiro']\n",
    "    #There were few trips at midnight (why?)\n",
    "    df = df[df['Ridetime']>0].copy()\n",
    "    #Distance in km between the destination vs the origin station \n",
    "    df['Distance'] = [mpu.haversine_distance(tuple([float(a) for a in x]),tuple([float(a) for a in y]))\n",
    "                      for x,y in zip(df['geo_retiro'],df['geo_arribo'])]\n",
    "    #Velocity of every ride in km/hr\n",
    "    df['Velocity'] = df['Distance'] / df['Ridetime']\n",
    "    #Get rid of unnecesary columns\n",
    "    df.drop(columns=['Hora_Retiro','Hora_Arribo','geo_retiro','geo_arribo'],inplace=True)\n",
    "    return df,qbins"
   ]
  },
  {
   "cell_type": "code",
   "execution_count": 10,
   "id": "dying-status",
   "metadata": {
    "ExecuteTime": {
     "end_time": "2021-05-14T01:02:30.089453Z",
     "start_time": "2021-05-14T01:02:30.084857Z"
    }
   },
   "outputs": [],
   "source": [
    "def iqr(data,x,p=0.3):\n",
    "    var = data[x].copy()\n",
    "    q1 = var.quantile(p/2)\n",
    "    q3 = var.quantile(1-p/2)\n",
    "    iqr = q3 - q1\n",
    "    return data[(var.isnull()) | ((var >= q1 - 1.5*iqr) & (var <= q3 + 1.5*iqr))].copy()"
   ]
  },
  {
   "cell_type": "code",
   "execution_count": 11,
   "id": "liable-gallery",
   "metadata": {
    "ExecuteTime": {
     "end_time": "2021-05-14T01:02:30.579837Z",
     "start_time": "2021-05-14T01:02:30.572452Z"
    }
   },
   "outputs": [],
   "source": [
    "import numpy as np\n",
    "\n",
    "def perc70(x):\n",
    "    return np.percentile(x,70)"
   ]
  },
  {
   "cell_type": "code",
   "execution_count": 12,
   "id": "designing-amsterdam",
   "metadata": {
    "ExecuteTime": {
     "end_time": "2021-05-14T01:02:33.127497Z",
     "start_time": "2021-05-14T01:02:33.116024Z"
    }
   },
   "outputs": [],
   "source": [
    "def multishift(data,id_cols,date_col,shifts,**pivot_args):\n",
    "    df = data.copy()\n",
    "    #Make sure the col just have the date (without time)\n",
    "    df[date_col] = df[date_col].dt.date\n",
    "    #Merge all column names as a string\n",
    "    id_col = ','.join(id_cols)\n",
    "    #And as a column\n",
    "    df[id_col] = df[id_cols].apply(lambda x:','.join(x.dropna().astype(str)),axis=1)\n",
    "    #Drop any \"id_col\"-set that has a lower frequency than the max of the \"shifts-list\"\n",
    "    freq = df[id_col].value_counts().to_frame()\n",
    "    omit_idx = freq[freq[id_col]<=max(shifts)].index.to_list()\n",
    "    if len(omit_idx)>0:\n",
    "        df = df[~df[id_col].isin(omit_idx)].copy()\n",
    "    #Change data structure to build the \"shifting\"\n",
    "    df = df.pivot_table(index=[id_col,date_col],\n",
    "                        **pivot_args,\n",
    "                        fill_value=0)\n",
    "    #Concatenate multiple columns if they are\n",
    "    df.columns = ['_'.join([x for x in col]) if \n",
    "                  not isinstance(df.columns[0],str) #First element is not a string\n",
    "                  else col for col in df.columns]\n",
    "    #Bring the id_col for taking the set (unique values) in the next loop\n",
    "    df = df.reset_index()\n",
    "    #Each shift must be calculated at \"id_col\" level\n",
    "    total = pd.DataFrame()\n",
    "    for row in set(df[id_col]):\n",
    "        #Set the id_col as index (again) to call all the rows with that id_col\n",
    "        df_id = df.set_index(id_col).loc[row,:]\n",
    "        #All possible dates from the min to the max of the subset\n",
    "        tot_dates = pd.DataFrame(pd.date_range(start=df_id[date_col].min(), \n",
    "                                               end=df_id[date_col].max()).date, \n",
    "                                 columns=[date_col])\n",
    "        df_id = df_id.merge(tot_dates,on=date_col,how='right').fillna(0)\n",
    "        cols = df_id.columns[1:]\n",
    "        #Start the \"shifting\"\n",
    "        aux = df_id.copy()\n",
    "        for i in shifts:\n",
    "            aux = aux.join(df_id.iloc[:,1:].shift(i).rename(columns={x:f'{x}_{str(i).zfill(2)}' \n",
    "                                                                     for x in cols}))\n",
    "        aux[id_col] = row\n",
    "        total = total.append(aux,ignore_index=True)\n",
    "    return total.set_index(id_cols+[date_col])"
   ]
  },
  {
   "cell_type": "markdown",
   "id": "comfortable-coordination",
   "metadata": {
    "heading_collapsed": true
   },
   "source": [
    "## Transform"
   ]
  },
  {
   "cell_type": "code",
   "execution_count": null,
   "id": "joined-italian",
   "metadata": {
    "ExecuteTime": {
     "end_time": "2021-05-14T01:02:11.812697Z",
     "start_time": "2021-05-14T01:02:09.856Z"
    },
    "hidden": true
   },
   "outputs": [],
   "source": [
    "df,qbins = transf(df,['Retiro','Arribo'])\n",
    "df.sample()"
   ]
  },
  {
   "cell_type": "markdown",
   "id": "geological-desperate",
   "metadata": {
    "heading_collapsed": true,
    "hidden": true
   },
   "source": [
    "### Ridetime"
   ]
  },
  {
   "cell_type": "code",
   "execution_count": null,
   "id": "three-consensus",
   "metadata": {
    "ExecuteTime": {
     "end_time": "2021-05-14T01:02:11.814960Z",
     "start_time": "2021-05-14T01:02:09.859Z"
    },
    "hidden": true
   },
   "outputs": [],
   "source": [
    "df['Ridetime'].hist()"
   ]
  },
  {
   "cell_type": "markdown",
   "id": "million-dispute",
   "metadata": {
    "hidden": true
   },
   "source": [
    "Omit outliers with the IQR method\n",
    "\n",
    "<https://online.stat.psu.edu/stat200/lesson/3/3.2>"
   ]
  },
  {
   "cell_type": "code",
   "execution_count": null,
   "id": "crucial-margin",
   "metadata": {
    "ExecuteTime": {
     "end_time": "2021-05-14T01:02:11.816957Z",
     "start_time": "2021-05-14T01:02:09.863Z"
    },
    "hidden": true
   },
   "outputs": [],
   "source": [
    "#Save the original length\n",
    "dim_before = len(df)\n",
    "\n",
    "df = iqr(df,'Ridetime')\n",
    "df['Ridetime'].hist()"
   ]
  },
  {
   "cell_type": "markdown",
   "id": "direct-retro",
   "metadata": {
    "heading_collapsed": true,
    "hidden": true
   },
   "source": [
    "### Distance"
   ]
  },
  {
   "cell_type": "code",
   "execution_count": null,
   "id": "fallen-demographic",
   "metadata": {
    "ExecuteTime": {
     "end_time": "2021-05-14T01:02:11.818654Z",
     "start_time": "2021-05-14T01:02:09.866Z"
    },
    "hidden": true
   },
   "outputs": [],
   "source": [
    "df['Distance'].hist()"
   ]
  },
  {
   "cell_type": "code",
   "execution_count": null,
   "id": "moved-newsletter",
   "metadata": {
    "ExecuteTime": {
     "end_time": "2021-05-14T01:02:11.820674Z",
     "start_time": "2021-05-14T01:02:09.868Z"
    },
    "hidden": true
   },
   "outputs": [],
   "source": [
    "df = iqr(df,'Distance')\n",
    "df['Distance'].hist()"
   ]
  },
  {
   "cell_type": "markdown",
   "id": "stock-raleigh",
   "metadata": {
    "heading_collapsed": true,
    "hidden": true
   },
   "source": [
    "### Velocity"
   ]
  },
  {
   "cell_type": "code",
   "execution_count": null,
   "id": "executed-victor",
   "metadata": {
    "ExecuteTime": {
     "end_time": "2021-05-14T01:02:11.823317Z",
     "start_time": "2021-05-14T01:02:09.872Z"
    },
    "hidden": true
   },
   "outputs": [],
   "source": [
    "df['Velocity'].hist()"
   ]
  },
  {
   "cell_type": "code",
   "execution_count": null,
   "id": "alpine-microwave",
   "metadata": {
    "ExecuteTime": {
     "end_time": "2021-05-14T01:02:11.827021Z",
     "start_time": "2021-05-14T01:02:09.875Z"
    },
    "hidden": true
   },
   "outputs": [],
   "source": [
    "df = iqr(df,'Velocity')\n",
    "df['Velocity'].hist()"
   ]
  },
  {
   "cell_type": "markdown",
   "id": "sealed-product",
   "metadata": {
    "heading_collapsed": true,
    "hidden": true
   },
   "source": [
    "### Age"
   ]
  },
  {
   "cell_type": "code",
   "execution_count": null,
   "id": "manufactured-level",
   "metadata": {
    "ExecuteTime": {
     "end_time": "2021-05-14T01:02:11.830914Z",
     "start_time": "2021-05-14T01:02:09.879Z"
    },
    "hidden": true
   },
   "outputs": [],
   "source": [
    "df['Edad_Usuario'].hist()"
   ]
  },
  {
   "cell_type": "code",
   "execution_count": null,
   "id": "developmental-billion",
   "metadata": {
    "ExecuteTime": {
     "end_time": "2021-05-14T01:02:11.832884Z",
     "start_time": "2021-05-14T01:02:09.882Z"
    },
    "hidden": true
   },
   "outputs": [],
   "source": [
    "df = iqr(df,'Edad_Usuario')\n",
    "df['Edad_Usuario'].hist()"
   ]
  },
  {
   "cell_type": "code",
   "execution_count": null,
   "id": "limited-promotion",
   "metadata": {
    "ExecuteTime": {
     "end_time": "2021-05-14T01:02:11.835184Z",
     "start_time": "2021-05-14T01:02:09.885Z"
    },
    "hidden": true
   },
   "outputs": [],
   "source": [
    "#Does the outlier cleaning affect the data length?\n",
    "print(len(df)/dim_before)"
   ]
  },
  {
   "cell_type": "markdown",
   "id": "attended-shower",
   "metadata": {
    "heading_collapsed": true,
    "hidden": true
   },
   "source": [
    "### Demand"
   ]
  },
  {
   "cell_type": "code",
   "execution_count": null,
   "id": "iraqi-publicity",
   "metadata": {
    "ExecuteTime": {
     "end_time": "2021-05-14T01:02:11.836952Z",
     "start_time": "2021-05-14T01:02:09.888Z"
    },
    "hidden": true
   },
   "outputs": [],
   "source": [
    "'''!pip install seaborn'''\n",
    "import seaborn as sns\n",
    "\n",
    "color = sns.light_palette('LightSkyBlue', as_cmap=True)\n",
    "\n",
    "#This is how the demand (and their avg age) looks through the daytime vs day of the week\n",
    "df.pivot_table(index='HRmin_Retiro_cut',\n",
    "               columns='DoW_Retiro',\n",
    "               values='Edad_Usuario',\n",
    "               aggfunc=['count','mean']).style.background_gradient(cmap=color).format('{:.1f}')\n",
    "#But surely the demand does not distribute exactly the same along all stations"
   ]
  },
  {
   "cell_type": "code",
   "execution_count": null,
   "id": "bulgarian-indicator",
   "metadata": {
    "ExecuteTime": {
     "end_time": "2021-05-14T01:02:11.838941Z",
     "start_time": "2021-05-14T01:02:09.891Z"
    },
    "hidden": true
   },
   "outputs": [],
   "source": [
    "demand = df.pivot_table(index=['Ciclo_Estacion_Retiro','HRmin_Retiro_cut'],\n",
    "                    columns='DoW_Retiro',\n",
    "                    values='Edad_Usuario',\n",
    "                    aggfunc='count',\n",
    "                    fill_value=0).reset_index()\n",
    "demand.sample()"
   ]
  },
  {
   "cell_type": "code",
   "execution_count": null,
   "id": "middle-baker",
   "metadata": {
    "ExecuteTime": {
     "end_time": "2021-05-14T01:02:11.840797Z",
     "start_time": "2021-05-14T01:02:09.894Z"
    },
    "hidden": true
   },
   "outputs": [],
   "source": [
    "demand.pivot_table(index='HRmin_Retiro_cut',\n",
    "                   values=demand.columns[-7:],\n",
    "                   aggfunc=['median','mean',perc70]\n",
    "                  ).T.style.background_gradient(cmap=color).format('{:.1f}')"
   ]
  },
  {
   "cell_type": "markdown",
   "id": "institutional-ceremony",
   "metadata": {},
   "source": [
    "## TAD"
   ]
  },
  {
   "cell_type": "code",
   "execution_count": null,
   "id": "static-murder",
   "metadata": {
    "ExecuteTime": {
     "end_time": "2021-05-14T01:02:11.844133Z",
     "start_time": "2021-05-14T01:02:09.897Z"
    }
   },
   "outputs": [],
   "source": [
    "import seaborn as sns\n",
    "\n",
    "color = sns.dark_palette(\"#69d\", as_cmap=True)\n",
    "\n",
    "#Example of what this function does\n",
    "multishift(data=df.head(9).append(df.tail(9)),\n",
    "           id_cols=['Ciclo_Estacion_Retiro'],\n",
    "           date_col='Fecha_Retiro',\n",
    "           shifts=[1,3,4],\n",
    "           values='Bici',aggfunc='count',\n",
    "           #columns=['HRmin_Retiro_cut']\n",
    "           #columns=['HRmin_Retiro_cut','HRmin_Arribo_cut'],\n",
    "           #values=['Bici','Genero_Usuario'],\n",
    "           #aggfunc={'Bici':['sum','mean'],'Genero_Usuario':'count'}\n",
    "          ).style.background_gradient(cmap=color).format('{:.1f}')"
   ]
  },
  {
   "cell_type": "markdown",
   "id": "dental-writer",
   "metadata": {
    "ExecuteTime": {
     "end_time": "2021-05-01T15:12:01.005862Z",
     "start_time": "2021-05-01T15:10:35.264701Z"
    }
   },
   "source": [
    "df = multishift(data=df,\n",
    "                id_cols=['Ciclo_Estacion_Retiro'],\n",
    "                date_col='Fecha_Retiro',\n",
    "                shifts=range(1,10),\n",
    "                columns='HRmin_Retiro_cut',\n",
    "                values='Bici',\n",
    "                aggfunc='count')\n",
    "df.reset_index().to_csv(os.path.join(BASE_DIR,'bicis_shift.csv'),index=False)"
   ]
  },
  {
   "cell_type": "code",
   "execution_count": 38,
   "id": "intermediate-james",
   "metadata": {
    "ExecuteTime": {
     "end_time": "2021-05-14T02:02:07.884313Z",
     "start_time": "2021-05-14T02:02:07.476135Z"
    }
   },
   "outputs": [
    {
     "data": {
      "text/html": [
       "<div>\n",
       "<style scoped>\n",
       "    .dataframe tbody tr th:only-of-type {\n",
       "        vertical-align: middle;\n",
       "    }\n",
       "\n",
       "    .dataframe tbody tr th {\n",
       "        vertical-align: top;\n",
       "    }\n",
       "\n",
       "    .dataframe thead th {\n",
       "        text-align: right;\n",
       "    }\n",
       "</style>\n",
       "<table border=\"1\" class=\"dataframe\">\n",
       "  <thead>\n",
       "    <tr style=\"text-align: right;\">\n",
       "      <th></th>\n",
       "      <th></th>\n",
       "      <th>(-0.001, 8.595]</th>\n",
       "      <th>(10.455, 13.647]</th>\n",
       "      <th>(13.647, 15.841]</th>\n",
       "      <th>(15.841, 18.078]</th>\n",
       "      <th>(18.078, 19.535]</th>\n",
       "      <th>(19.535, 24.0]</th>\n",
       "      <th>(8.595, 10.455]</th>\n",
       "      <th>(-0.001, 8.595]_01</th>\n",
       "      <th>(10.455, 13.647]_01</th>\n",
       "      <th>(13.647, 15.841]_01</th>\n",
       "      <th>...</th>\n",
       "      <th>(18.078, 19.535]_08</th>\n",
       "      <th>(19.535, 24.0]_08</th>\n",
       "      <th>(8.595, 10.455]_08</th>\n",
       "      <th>(-0.001, 8.595]_09</th>\n",
       "      <th>(10.455, 13.647]_09</th>\n",
       "      <th>(13.647, 15.841]_09</th>\n",
       "      <th>(15.841, 18.078]_09</th>\n",
       "      <th>(18.078, 19.535]_09</th>\n",
       "      <th>(19.535, 24.0]_09</th>\n",
       "      <th>(8.595, 10.455]_09</th>\n",
       "    </tr>\n",
       "    <tr>\n",
       "      <th>Ciclo_Estacion_Retiro</th>\n",
       "      <th>Fecha_Retiro</th>\n",
       "      <th></th>\n",
       "      <th></th>\n",
       "      <th></th>\n",
       "      <th></th>\n",
       "      <th></th>\n",
       "      <th></th>\n",
       "      <th></th>\n",
       "      <th></th>\n",
       "      <th></th>\n",
       "      <th></th>\n",
       "      <th></th>\n",
       "      <th></th>\n",
       "      <th></th>\n",
       "      <th></th>\n",
       "      <th></th>\n",
       "      <th></th>\n",
       "      <th></th>\n",
       "      <th></th>\n",
       "      <th></th>\n",
       "      <th></th>\n",
       "      <th></th>\n",
       "    </tr>\n",
       "  </thead>\n",
       "  <tbody>\n",
       "    <tr>\n",
       "      <th>124</th>\n",
       "      <th>2019-05-25</th>\n",
       "      <td>1.000</td>\n",
       "      <td>10.000</td>\n",
       "      <td>2.000</td>\n",
       "      <td>7.000</td>\n",
       "      <td>4.000</td>\n",
       "      <td>2.000</td>\n",
       "      <td>7.000</td>\n",
       "      <td>24.000</td>\n",
       "      <td>31.000</td>\n",
       "      <td>14.000</td>\n",
       "      <td>...</td>\n",
       "      <td>5.000</td>\n",
       "      <td>9.000</td>\n",
       "      <td>14.000</td>\n",
       "      <td>19.000</td>\n",
       "      <td>20.000</td>\n",
       "      <td>30.000</td>\n",
       "      <td>7.000</td>\n",
       "      <td>6.000</td>\n",
       "      <td>3.000</td>\n",
       "      <td>24.000</td>\n",
       "    </tr>\n",
       "  </tbody>\n",
       "</table>\n",
       "<p>1 rows × 70 columns</p>\n",
       "</div>"
      ],
      "text/plain": [
       "                                    (-0.001, 8.595]  (10.455, 13.647]  \\\n",
       "Ciclo_Estacion_Retiro Fecha_Retiro                                      \n",
       "124                   2019-05-25              1.000            10.000   \n",
       "\n",
       "                                    (13.647, 15.841]  (15.841, 18.078]  \\\n",
       "Ciclo_Estacion_Retiro Fecha_Retiro                                       \n",
       "124                   2019-05-25               2.000             7.000   \n",
       "\n",
       "                                    (18.078, 19.535]  (19.535, 24.0]  \\\n",
       "Ciclo_Estacion_Retiro Fecha_Retiro                                     \n",
       "124                   2019-05-25               4.000           2.000   \n",
       "\n",
       "                                    (8.595, 10.455]  (-0.001, 8.595]_01  \\\n",
       "Ciclo_Estacion_Retiro Fecha_Retiro                                        \n",
       "124                   2019-05-25              7.000              24.000   \n",
       "\n",
       "                                    (10.455, 13.647]_01  (13.647, 15.841]_01  \\\n",
       "Ciclo_Estacion_Retiro Fecha_Retiro                                             \n",
       "124                   2019-05-25                 31.000               14.000   \n",
       "\n",
       "                                    ...  (18.078, 19.535]_08  \\\n",
       "Ciclo_Estacion_Retiro Fecha_Retiro  ...                        \n",
       "124                   2019-05-25    ...                5.000   \n",
       "\n",
       "                                    (19.535, 24.0]_08  (8.595, 10.455]_08  \\\n",
       "Ciclo_Estacion_Retiro Fecha_Retiro                                          \n",
       "124                   2019-05-25                9.000              14.000   \n",
       "\n",
       "                                    (-0.001, 8.595]_09  (10.455, 13.647]_09  \\\n",
       "Ciclo_Estacion_Retiro Fecha_Retiro                                            \n",
       "124                   2019-05-25                19.000               20.000   \n",
       "\n",
       "                                    (13.647, 15.841]_09  (15.841, 18.078]_09  \\\n",
       "Ciclo_Estacion_Retiro Fecha_Retiro                                             \n",
       "124                   2019-05-25                 30.000                7.000   \n",
       "\n",
       "                                    (18.078, 19.535]_09  (19.535, 24.0]_09  \\\n",
       "Ciclo_Estacion_Retiro Fecha_Retiro                                           \n",
       "124                   2019-05-25                  6.000              3.000   \n",
       "\n",
       "                                    (8.595, 10.455]_09  \n",
       "Ciclo_Estacion_Retiro Fecha_Retiro                      \n",
       "124                   2019-05-25                24.000  \n",
       "\n",
       "[1 rows x 70 columns]"
      ]
     },
     "execution_count": 38,
     "metadata": {},
     "output_type": "execute_result"
    }
   ],
   "source": [
    "#It took about 13min to complete, so we have now a backup file to not repeat that step\n",
    "df = pd.read_csv(os.path.join(BASE_DIR,'bicis_shift.csv'),index_col=[0,1]).dropna()\n",
    "df.sample()"
   ]
  },
  {
   "cell_type": "code",
   "execution_count": 39,
   "id": "armed-frank",
   "metadata": {
    "ExecuteTime": {
     "end_time": "2021-05-14T02:02:07.897039Z",
     "start_time": "2021-05-14T02:02:07.888151Z"
    }
   },
   "outputs": [
    {
     "name": "stdout",
     "output_type": "stream",
     "text": [
      "['(-0.001, 8.595]', '(10.455, 13.647]', '(13.647, 15.841]', '(15.841, 18.078]', '(18.078, 19.535]', '(19.535, 24.0]', '(8.595, 10.455]']\n"
     ]
    }
   ],
   "source": [
    "#Save the columns with the previous dates info\n",
    "prev = df.head().filter(regex='_\\d+').columns.tolist()\n",
    "actual = [x for x in df.columns if x not in prev]\n",
    "print(actual)"
   ]
  },
  {
   "cell_type": "markdown",
   "id": "referenced-track",
   "metadata": {},
   "source": [
    "## Daily Model"
   ]
  },
  {
   "cell_type": "markdown",
   "id": "fossil-spider",
   "metadata": {},
   "source": [
    "### Preprocessing"
   ]
  },
  {
   "cell_type": "code",
   "execution_count": 40,
   "id": "chief-syndicate",
   "metadata": {
    "ExecuteTime": {
     "end_time": "2021-05-14T02:02:07.926047Z",
     "start_time": "2021-05-14T02:02:07.901256Z"
    }
   },
   "outputs": [],
   "source": [
    "from sklearn.preprocessing import MinMaxScaler\n",
    "from sklearn.model_selection import train_test_split\n",
    "\n",
    "X = df[prev].copy()\n",
    "y = df[actual].sum(axis=1).values\n",
    "\n",
    "X_train, X_test, y_train, y_test = train_test_split(X,y,\n",
    "                                                    train_size=0.77,\n",
    "                                                    random_state=22)\n",
    "mm_x = MinMaxScaler()"
   ]
  },
  {
   "cell_type": "markdown",
   "id": "afraid-being",
   "metadata": {},
   "source": [
    "### Arquitecture"
   ]
  },
  {
   "cell_type": "code",
   "execution_count": 41,
   "id": "bacterial-tuition",
   "metadata": {
    "ExecuteTime": {
     "end_time": "2021-05-14T02:02:08.005442Z",
     "start_time": "2021-05-14T02:02:07.929712Z"
    }
   },
   "outputs": [
    {
     "name": "stdout",
     "output_type": "stream",
     "text": [
      "Score:  0.8967643672814342\n"
     ]
    },
    {
     "data": {
      "text/html": [
       "<div>\n",
       "<style scoped>\n",
       "    .dataframe tbody tr th:only-of-type {\n",
       "        vertical-align: middle;\n",
       "    }\n",
       "\n",
       "    .dataframe tbody tr th {\n",
       "        vertical-align: top;\n",
       "    }\n",
       "\n",
       "    .dataframe thead th {\n",
       "        text-align: right;\n",
       "    }\n",
       "</style>\n",
       "<table border=\"1\" class=\"dataframe\">\n",
       "  <thead>\n",
       "    <tr style=\"text-align: right;\">\n",
       "      <th></th>\n",
       "      <th>0</th>\n",
       "      <th>1</th>\n",
       "    </tr>\n",
       "  </thead>\n",
       "  <tbody>\n",
       "    <tr>\n",
       "      <th>0</th>\n",
       "      <td>(-0.001, 8.595]_07</td>\n",
       "      <td>160.352</td>\n",
       "    </tr>\n",
       "    <tr>\n",
       "      <th>1</th>\n",
       "      <td>(8.595, 10.455]_07</td>\n",
       "      <td>93.151</td>\n",
       "    </tr>\n",
       "    <tr>\n",
       "      <th>2</th>\n",
       "      <td>(13.647, 15.841]_07</td>\n",
       "      <td>55.503</td>\n",
       "    </tr>\n",
       "    <tr>\n",
       "      <th>3</th>\n",
       "      <td>(15.841, 18.078]_07</td>\n",
       "      <td>50.518</td>\n",
       "    </tr>\n",
       "    <tr>\n",
       "      <th>4</th>\n",
       "      <td>(-0.001, 8.595]_01</td>\n",
       "      <td>50.162</td>\n",
       "    </tr>\n",
       "    <tr>\n",
       "      <th>58</th>\n",
       "      <td>(19.535, 24.0]_03</td>\n",
       "      <td>-13.364</td>\n",
       "    </tr>\n",
       "    <tr>\n",
       "      <th>59</th>\n",
       "      <td>(19.535, 24.0]_08</td>\n",
       "      <td>-18.416</td>\n",
       "    </tr>\n",
       "    <tr>\n",
       "      <th>60</th>\n",
       "      <td>(8.595, 10.455]_02</td>\n",
       "      <td>-21.493</td>\n",
       "    </tr>\n",
       "    <tr>\n",
       "      <th>61</th>\n",
       "      <td>(-0.001, 8.595]_08</td>\n",
       "      <td>-25.503</td>\n",
       "    </tr>\n",
       "    <tr>\n",
       "      <th>62</th>\n",
       "      <td>(-0.001, 8.595]_05</td>\n",
       "      <td>-48.251</td>\n",
       "    </tr>\n",
       "  </tbody>\n",
       "</table>\n",
       "</div>"
      ],
      "text/plain": [
       "                      0       1\n",
       "0    (-0.001, 8.595]_07 160.352\n",
       "1    (8.595, 10.455]_07  93.151\n",
       "2   (13.647, 15.841]_07  55.503\n",
       "3   (15.841, 18.078]_07  50.518\n",
       "4    (-0.001, 8.595]_01  50.162\n",
       "58    (19.535, 24.0]_03 -13.364\n",
       "59    (19.535, 24.0]_08 -18.416\n",
       "60   (8.595, 10.455]_02 -21.493\n",
       "61   (-0.001, 8.595]_08 -25.503\n",
       "62   (-0.001, 8.595]_05 -48.251"
      ]
     },
     "execution_count": 41,
     "metadata": {},
     "output_type": "execute_result"
    }
   ],
   "source": [
    "from sklearn.pipeline import Pipeline\n",
    "from sklearn.linear_model import LinearRegression\n",
    "\n",
    "linear_reg = LinearRegression()\n",
    "\n",
    "model_reg = Pipeline(steps=[('scaler', mm_x),\n",
    "                            ('model', linear_reg)])\n",
    "\n",
    "print('Score: ',model_reg.fit(X_train,y_train).score(X_test,y_test))\n",
    "#The most relevant features to the model_reg\n",
    "coef = pd.DataFrame(zip(X.columns,model_reg[1].coef_)).sort_values(1,0,0).reset_index(drop=True)\n",
    "coef.head().append(coef.tail())"
   ]
  },
  {
   "cell_type": "code",
   "execution_count": 42,
   "id": "charming-prime",
   "metadata": {
    "ExecuteTime": {
     "end_time": "2021-05-14T02:02:12.281214Z",
     "start_time": "2021-05-14T02:02:08.009784Z"
    }
   },
   "outputs": [
    {
     "name": "stdout",
     "output_type": "stream",
     "text": [
      "0.9066158369976474\n"
     ]
    },
    {
     "data": {
      "text/html": [
       "<div>\n",
       "<style scoped>\n",
       "    .dataframe tbody tr th:only-of-type {\n",
       "        vertical-align: middle;\n",
       "    }\n",
       "\n",
       "    .dataframe tbody tr th {\n",
       "        vertical-align: top;\n",
       "    }\n",
       "\n",
       "    .dataframe thead th {\n",
       "        text-align: right;\n",
       "    }\n",
       "</style>\n",
       "<table border=\"1\" class=\"dataframe\">\n",
       "  <thead>\n",
       "    <tr style=\"text-align: right;\">\n",
       "      <th></th>\n",
       "      <th>0</th>\n",
       "      <th>1</th>\n",
       "    </tr>\n",
       "  </thead>\n",
       "  <tbody>\n",
       "    <tr>\n",
       "      <th>0</th>\n",
       "      <td>(13.647, 15.841]_07</td>\n",
       "      <td>0.317</td>\n",
       "    </tr>\n",
       "    <tr>\n",
       "      <th>1</th>\n",
       "      <td>(19.535, 24.0]_07</td>\n",
       "      <td>0.117</td>\n",
       "    </tr>\n",
       "    <tr>\n",
       "      <th>2</th>\n",
       "      <td>(-0.001, 8.595]_07</td>\n",
       "      <td>0.116</td>\n",
       "    </tr>\n",
       "    <tr>\n",
       "      <th>3</th>\n",
       "      <td>(8.595, 10.455]_07</td>\n",
       "      <td>0.103</td>\n",
       "    </tr>\n",
       "    <tr>\n",
       "      <th>4</th>\n",
       "      <td>(15.841, 18.078]_07</td>\n",
       "      <td>0.074</td>\n",
       "    </tr>\n",
       "    <tr>\n",
       "      <th>5</th>\n",
       "      <td>(18.078, 19.535]_07</td>\n",
       "      <td>0.045</td>\n",
       "    </tr>\n",
       "    <tr>\n",
       "      <th>6</th>\n",
       "      <td>(10.455, 13.647]_07</td>\n",
       "      <td>0.020</td>\n",
       "    </tr>\n",
       "    <tr>\n",
       "      <th>7</th>\n",
       "      <td>(8.595, 10.455]_01</td>\n",
       "      <td>0.016</td>\n",
       "    </tr>\n",
       "    <tr>\n",
       "      <th>8</th>\n",
       "      <td>(15.841, 18.078]_06</td>\n",
       "      <td>0.009</td>\n",
       "    </tr>\n",
       "    <tr>\n",
       "      <th>9</th>\n",
       "      <td>(19.535, 24.0]_01</td>\n",
       "      <td>0.009</td>\n",
       "    </tr>\n",
       "  </tbody>\n",
       "</table>\n",
       "</div>"
      ],
      "text/plain": [
       "                     0     1\n",
       "0  (13.647, 15.841]_07 0.317\n",
       "1    (19.535, 24.0]_07 0.117\n",
       "2   (-0.001, 8.595]_07 0.116\n",
       "3   (8.595, 10.455]_07 0.103\n",
       "4  (15.841, 18.078]_07 0.074\n",
       "5  (18.078, 19.535]_07 0.045\n",
       "6  (10.455, 13.647]_07 0.020\n",
       "7   (8.595, 10.455]_01 0.016\n",
       "8  (15.841, 18.078]_06 0.009\n",
       "9    (19.535, 24.0]_01 0.009"
      ]
     },
     "execution_count": 42,
     "metadata": {},
     "output_type": "execute_result"
    }
   ],
   "source": [
    "from sklearn.pipeline import Pipeline\n",
    "from sklearn.ensemble import RandomForestRegressor\n",
    "\n",
    "forest = RandomForestRegressor(n_jobs=-1,random_state=22)\n",
    "\n",
    "model_forest = Pipeline(steps=[('scaler', mm_x),\n",
    "                               ('model', forest)])\n",
    "\n",
    "print(model_forest.fit(X_train,y_train).score(X_test,y_test))\n",
    "\n",
    "#The most relevant features to the model_forest\n",
    "pd.DataFrame(zip(X.columns,model_forest[1].feature_importances_)).sort_values(1,0,0).head(10).reset_index(drop=True)"
   ]
  },
  {
   "cell_type": "markdown",
   "id": "76bb50dc",
   "metadata": {
    "ExecuteTime": {
     "end_time": "2021-05-14T01:54:21.862703Z",
     "start_time": "2021-05-14T01:54:21.701154Z"
    }
   },
   "source": [
    "'''pip install xgboost'''\n",
    "from xgboost.sklearn import XGBRegressor\n",
    "xgb = XGBRegressor()\n",
    "\n",
    "param_xgb = {'learning_rate':[x/100 for x in range(1,52,5)],\n",
    "             'n_estimators':[x for x in range(100,1100,100)],\n",
    "             'max_depth':[x for x in range(1,11)], \n",
    "             'min_child_weight':[x/10 for x in range(1,101,10)],\n",
    "             'reg_lambda': [x/10 for x in range(1,101,10)]\n",
    "            }\n",
    "            \n",
    "from sklearn.model_selection import RandomizedSearchCV\n",
    "search_xgb = RandomizedSearchCV(param_distributions = param_xgb, \n",
    "                                cv = 4, \n",
    "                                n_jobs = -1, \n",
    "                                scoring = 'r2', \n",
    "                                estimator = xgb, \n",
    "                                verbose = 1,\n",
    "                                n_iter = 70,\n",
    "                                random_state = 22)\n",
    "\n",
    "model_xgb = Pipeline(steps=[('scaler', mm_x),\n",
    "                            ('model', search_xgb)])\n",
    "\n",
    "print(model_xgb.fit(X_train,y_train).score(X_test,y_test))\n",
    "\n",
    "#The most relevant features to the model_xgb\n",
    "pd.DataFrame(zip(X.columns,model_xgb[1].best_estimator_.feature_importances_)).sort_values(1,0,0).head(10).reset_index(drop=True)"
   ]
  },
  {
   "cell_type": "markdown",
   "id": "ranking-strategy",
   "metadata": {
    "heading_collapsed": true
   },
   "source": [
    "### Save the model"
   ]
  },
  {
   "cell_type": "markdown",
   "id": "de8f7597",
   "metadata": {
    "ExecuteTime": {
     "end_time": "2021-05-14T01:54:21.867756Z",
     "start_time": "2021-05-14T01:54:17.217Z"
    },
    "hidden": true
   },
   "source": [
    "import pickle\n",
    "with open(os.path.join(BASE_DIR,'bici_day_model.pkl'), 'wb') as f:\n",
    "    pickle.dump((model_xgb,[prev,actual]), f)"
   ]
  },
  {
   "cell_type": "markdown",
   "id": "comparative-receiver",
   "metadata": {
    "hidden": true
   },
   "source": [
    "import pickle    \n",
    "with open(os.path.join(BASE_DIR,'bici_day_model.pkl'), 'rb') as f:\n",
    "    modelo = pickle.load(f)"
   ]
  },
  {
   "cell_type": "markdown",
   "id": "87d634d3",
   "metadata": {},
   "source": [
    "## Time-Window Model"
   ]
  },
  {
   "cell_type": "markdown",
   "id": "d35b3006",
   "metadata": {},
   "source": [
    "### Preprocessing"
   ]
  },
  {
   "cell_type": "code",
   "execution_count": 45,
   "id": "9eff9a47",
   "metadata": {
    "ExecuteTime": {
     "end_time": "2021-05-14T02:12:19.292667Z",
     "start_time": "2021-05-14T02:12:19.282574Z"
    }
   },
   "outputs": [
    {
     "data": {
      "text/plain": [
       "(-0.001, 8.595]    75725.000\n",
       "(10.455, 13.647]   73988.000\n",
       "(13.647, 15.841]   75311.000\n",
       "(15.841, 18.078]   74704.000\n",
       "(18.078, 19.535]   74717.000\n",
       "(19.535, 24.0]     72202.000\n",
       "(8.595, 10.455]    75630.000\n",
       "dtype: float64"
      ]
     },
     "execution_count": 45,
     "metadata": {},
     "output_type": "execute_result"
    }
   ],
   "source": [
    "df[actual].sum()"
   ]
  },
  {
   "cell_type": "code",
   "execution_count": 46,
   "id": "ff640b85",
   "metadata": {
    "ExecuteTime": {
     "end_time": "2021-05-14T02:12:36.778113Z",
     "start_time": "2021-05-14T02:12:36.606679Z"
    }
   },
   "outputs": [],
   "source": [
    "from sklearn.preprocessing import MinMaxScaler\n",
    "from sklearn.model_selection import train_test_split\n",
    "\n",
    "X = df[prev].join(pd.DataFrame(model_forest.predict(X),index=X.index,columns=['day']))\n",
    "y = df[actual[2]].values\n",
    "\n",
    "X_train, X_test, y_train, y_test = train_test_split(X,y,\n",
    "                                                    train_size=0.77,\n",
    "                                                    random_state=22)\n",
    "mm_x = MinMaxScaler()"
   ]
  },
  {
   "cell_type": "markdown",
   "id": "ca596df8",
   "metadata": {},
   "source": [
    "### Arquitecture"
   ]
  },
  {
   "cell_type": "code",
   "execution_count": 47,
   "id": "243ae769",
   "metadata": {
    "ExecuteTime": {
     "end_time": "2021-05-14T02:12:38.373027Z",
     "start_time": "2021-05-14T02:12:38.312508Z"
    }
   },
   "outputs": [
    {
     "name": "stdout",
     "output_type": "stream",
     "text": [
      "Score:  0.7425341431926671\n"
     ]
    },
    {
     "data": {
      "text/html": [
       "<div>\n",
       "<style scoped>\n",
       "    .dataframe tbody tr th:only-of-type {\n",
       "        vertical-align: middle;\n",
       "    }\n",
       "\n",
       "    .dataframe tbody tr th {\n",
       "        vertical-align: top;\n",
       "    }\n",
       "\n",
       "    .dataframe thead th {\n",
       "        text-align: right;\n",
       "    }\n",
       "</style>\n",
       "<table border=\"1\" class=\"dataframe\">\n",
       "  <thead>\n",
       "    <tr style=\"text-align: right;\">\n",
       "      <th></th>\n",
       "      <th>0</th>\n",
       "      <th>1</th>\n",
       "    </tr>\n",
       "  </thead>\n",
       "  <tbody>\n",
       "    <tr>\n",
       "      <th>0</th>\n",
       "      <td>day</td>\n",
       "      <td>54.335</td>\n",
       "    </tr>\n",
       "    <tr>\n",
       "      <th>1</th>\n",
       "      <td>(13.647, 15.841]_07</td>\n",
       "      <td>14.038</td>\n",
       "    </tr>\n",
       "    <tr>\n",
       "      <th>2</th>\n",
       "      <td>(-0.001, 8.595]_05</td>\n",
       "      <td>6.212</td>\n",
       "    </tr>\n",
       "    <tr>\n",
       "      <th>3</th>\n",
       "      <td>(13.647, 15.841]_02</td>\n",
       "      <td>3.764</td>\n",
       "    </tr>\n",
       "    <tr>\n",
       "      <th>4</th>\n",
       "      <td>(13.647, 15.841]_01</td>\n",
       "      <td>3.318</td>\n",
       "    </tr>\n",
       "    <tr>\n",
       "      <th>59</th>\n",
       "      <td>(15.841, 18.078]_05</td>\n",
       "      <td>-5.214</td>\n",
       "    </tr>\n",
       "    <tr>\n",
       "      <th>60</th>\n",
       "      <td>(-0.001, 8.595]_01</td>\n",
       "      <td>-8.138</td>\n",
       "    </tr>\n",
       "    <tr>\n",
       "      <th>61</th>\n",
       "      <td>(8.595, 10.455]_07</td>\n",
       "      <td>-8.985</td>\n",
       "    </tr>\n",
       "    <tr>\n",
       "      <th>62</th>\n",
       "      <td>(-0.001, 8.595]_06</td>\n",
       "      <td>-9.387</td>\n",
       "    </tr>\n",
       "    <tr>\n",
       "      <th>63</th>\n",
       "      <td>(-0.001, 8.595]_07</td>\n",
       "      <td>-20.015</td>\n",
       "    </tr>\n",
       "  </tbody>\n",
       "</table>\n",
       "</div>"
      ],
      "text/plain": [
       "                      0       1\n",
       "0                   day  54.335\n",
       "1   (13.647, 15.841]_07  14.038\n",
       "2    (-0.001, 8.595]_05   6.212\n",
       "3   (13.647, 15.841]_02   3.764\n",
       "4   (13.647, 15.841]_01   3.318\n",
       "59  (15.841, 18.078]_05  -5.214\n",
       "60   (-0.001, 8.595]_01  -8.138\n",
       "61   (8.595, 10.455]_07  -8.985\n",
       "62   (-0.001, 8.595]_06  -9.387\n",
       "63   (-0.001, 8.595]_07 -20.015"
      ]
     },
     "execution_count": 47,
     "metadata": {},
     "output_type": "execute_result"
    }
   ],
   "source": [
    "from sklearn.pipeline import Pipeline\n",
    "from sklearn.linear_model import LinearRegression\n",
    "\n",
    "linear_reg = LinearRegression()\n",
    "\n",
    "model_reg = Pipeline(steps=[('scaler', mm_x),\n",
    "                            ('model', linear_reg)])\n",
    "\n",
    "print('Score: ',model_reg.fit(X_train,y_train).score(X_test,y_test))\n",
    "#The most relevant features to the model_reg\n",
    "coef = pd.DataFrame(zip(X.columns,model_reg[1].coef_)).sort_values(1,0,0).reset_index(drop=True)\n",
    "coef.head().append(coef.tail())"
   ]
  },
  {
   "cell_type": "code",
   "execution_count": 48,
   "id": "79cdcf1e",
   "metadata": {
    "ExecuteTime": {
     "end_time": "2021-05-14T02:12:44.659699Z",
     "start_time": "2021-05-14T02:12:41.568188Z"
    }
   },
   "outputs": [
    {
     "name": "stdout",
     "output_type": "stream",
     "text": [
      "0.7454001128717749\n"
     ]
    },
    {
     "data": {
      "text/html": [
       "<div>\n",
       "<style scoped>\n",
       "    .dataframe tbody tr th:only-of-type {\n",
       "        vertical-align: middle;\n",
       "    }\n",
       "\n",
       "    .dataframe tbody tr th {\n",
       "        vertical-align: top;\n",
       "    }\n",
       "\n",
       "    .dataframe thead th {\n",
       "        text-align: right;\n",
       "    }\n",
       "</style>\n",
       "<table border=\"1\" class=\"dataframe\">\n",
       "  <thead>\n",
       "    <tr style=\"text-align: right;\">\n",
       "      <th></th>\n",
       "      <th>0</th>\n",
       "      <th>1</th>\n",
       "    </tr>\n",
       "  </thead>\n",
       "  <tbody>\n",
       "    <tr>\n",
       "      <th>0</th>\n",
       "      <td>day</td>\n",
       "      <td>0.574</td>\n",
       "    </tr>\n",
       "    <tr>\n",
       "      <th>1</th>\n",
       "      <td>(13.647, 15.841]_07</td>\n",
       "      <td>0.143</td>\n",
       "    </tr>\n",
       "    <tr>\n",
       "      <th>2</th>\n",
       "      <td>(13.647, 15.841]_01</td>\n",
       "      <td>0.024</td>\n",
       "    </tr>\n",
       "    <tr>\n",
       "      <th>3</th>\n",
       "      <td>(15.841, 18.078]_02</td>\n",
       "      <td>0.009</td>\n",
       "    </tr>\n",
       "    <tr>\n",
       "      <th>4</th>\n",
       "      <td>(13.647, 15.841]_06</td>\n",
       "      <td>0.007</td>\n",
       "    </tr>\n",
       "    <tr>\n",
       "      <th>5</th>\n",
       "      <td>(15.841, 18.078]_04</td>\n",
       "      <td>0.007</td>\n",
       "    </tr>\n",
       "    <tr>\n",
       "      <th>6</th>\n",
       "      <td>(-0.001, 8.595]_06</td>\n",
       "      <td>0.007</td>\n",
       "    </tr>\n",
       "    <tr>\n",
       "      <th>7</th>\n",
       "      <td>(18.078, 19.535]_01</td>\n",
       "      <td>0.007</td>\n",
       "    </tr>\n",
       "    <tr>\n",
       "      <th>8</th>\n",
       "      <td>(13.647, 15.841]_08</td>\n",
       "      <td>0.007</td>\n",
       "    </tr>\n",
       "    <tr>\n",
       "      <th>9</th>\n",
       "      <td>(15.841, 18.078]_03</td>\n",
       "      <td>0.007</td>\n",
       "    </tr>\n",
       "  </tbody>\n",
       "</table>\n",
       "</div>"
      ],
      "text/plain": [
       "                     0     1\n",
       "0                  day 0.574\n",
       "1  (13.647, 15.841]_07 0.143\n",
       "2  (13.647, 15.841]_01 0.024\n",
       "3  (15.841, 18.078]_02 0.009\n",
       "4  (13.647, 15.841]_06 0.007\n",
       "5  (15.841, 18.078]_04 0.007\n",
       "6   (-0.001, 8.595]_06 0.007\n",
       "7  (18.078, 19.535]_01 0.007\n",
       "8  (13.647, 15.841]_08 0.007\n",
       "9  (15.841, 18.078]_03 0.007"
      ]
     },
     "execution_count": 48,
     "metadata": {},
     "output_type": "execute_result"
    }
   ],
   "source": [
    "from sklearn.pipeline import Pipeline\n",
    "from sklearn.ensemble import RandomForestRegressor\n",
    "\n",
    "forest = RandomForestRegressor(n_jobs=-1,random_state=22)\n",
    "\n",
    "model_forest = Pipeline(steps=[('scaler', mm_x),\n",
    "                               ('model', forest)])\n",
    "\n",
    "print(model_forest.fit(X_train,y_train).score(X_test,y_test))\n",
    "\n",
    "#The most relevant features to the model_forest\n",
    "pd.DataFrame(zip(X.columns,model_forest[1].feature_importances_)).sort_values(1,0,0).head(10).reset_index(drop=True)"
   ]
  },
  {
   "cell_type": "code",
   "execution_count": 28,
   "id": "81c71002",
   "metadata": {
    "ExecuteTime": {
     "end_time": "2021-05-02T01:34:23.667072Z",
     "start_time": "2021-05-02T01:21:01.755756Z"
    }
   },
   "outputs": [
    {
     "name": "stdout",
     "output_type": "stream",
     "text": [
      "Fitting 4 folds for each of 70 candidates, totalling 280 fits\n",
      "0.9118657187871996\n"
     ]
    },
    {
     "data": {
      "text/html": [
       "<div>\n",
       "<style scoped>\n",
       "    .dataframe tbody tr th:only-of-type {\n",
       "        vertical-align: middle;\n",
       "    }\n",
       "\n",
       "    .dataframe tbody tr th {\n",
       "        vertical-align: top;\n",
       "    }\n",
       "\n",
       "    .dataframe thead th {\n",
       "        text-align: right;\n",
       "    }\n",
       "</style>\n",
       "<table border=\"1\" class=\"dataframe\">\n",
       "  <thead>\n",
       "    <tr style=\"text-align: right;\">\n",
       "      <th></th>\n",
       "      <th>0</th>\n",
       "      <th>1</th>\n",
       "    </tr>\n",
       "  </thead>\n",
       "  <tbody>\n",
       "    <tr>\n",
       "      <th>0</th>\n",
       "      <td>(13.647, 15.841]_07</td>\n",
       "      <td>0.189</td>\n",
       "    </tr>\n",
       "    <tr>\n",
       "      <th>1</th>\n",
       "      <td>(19.535, 24.0]_07</td>\n",
       "      <td>0.112</td>\n",
       "    </tr>\n",
       "    <tr>\n",
       "      <th>2</th>\n",
       "      <td>(15.841, 18.078]_07</td>\n",
       "      <td>0.106</td>\n",
       "    </tr>\n",
       "    <tr>\n",
       "      <th>3</th>\n",
       "      <td>(8.595, 10.455]_07</td>\n",
       "      <td>0.093</td>\n",
       "    </tr>\n",
       "    <tr>\n",
       "      <th>4</th>\n",
       "      <td>(10.455, 13.647]_07</td>\n",
       "      <td>0.082</td>\n",
       "    </tr>\n",
       "    <tr>\n",
       "      <th>5</th>\n",
       "      <td>(-0.001, 8.595]_07</td>\n",
       "      <td>0.072</td>\n",
       "    </tr>\n",
       "    <tr>\n",
       "      <th>6</th>\n",
       "      <td>(18.078, 19.535]_07</td>\n",
       "      <td>0.046</td>\n",
       "    </tr>\n",
       "    <tr>\n",
       "      <th>7</th>\n",
       "      <td>(19.535, 24.0]_01</td>\n",
       "      <td>0.025</td>\n",
       "    </tr>\n",
       "    <tr>\n",
       "      <th>8</th>\n",
       "      <td>(8.595, 10.455]_01</td>\n",
       "      <td>0.022</td>\n",
       "    </tr>\n",
       "    <tr>\n",
       "      <th>9</th>\n",
       "      <td>(10.455, 13.647]_06</td>\n",
       "      <td>0.022</td>\n",
       "    </tr>\n",
       "  </tbody>\n",
       "</table>\n",
       "</div>"
      ],
      "text/plain": [
       "                     0     1\n",
       "0  (13.647, 15.841]_07 0.189\n",
       "1    (19.535, 24.0]_07 0.112\n",
       "2  (15.841, 18.078]_07 0.106\n",
       "3   (8.595, 10.455]_07 0.093\n",
       "4  (10.455, 13.647]_07 0.082\n",
       "5   (-0.001, 8.595]_07 0.072\n",
       "6  (18.078, 19.535]_07 0.046\n",
       "7    (19.535, 24.0]_01 0.025\n",
       "8   (8.595, 10.455]_01 0.022\n",
       "9  (10.455, 13.647]_06 0.022"
      ]
     },
     "execution_count": 28,
     "metadata": {},
     "output_type": "execute_result"
    }
   ],
   "source": [
    "from xgboost.sklearn import XGBRegressor\n",
    "xgb = XGBRegressor()\n",
    "\n",
    "param_xgb = {'learning_rate':[x/100 for x in range(1,52,5)],\n",
    "             'n_estimators':[x for x in range(100,1100,100)],\n",
    "             'max_depth':[x for x in range(1,11)], \n",
    "             'min_child_weight':[x/10 for x in range(1,101,10)],\n",
    "             'reg_lambda': [x/10 for x in range(1,101,10)]\n",
    "            }\n",
    "            \n",
    "from sklearn.model_selection import RandomizedSearchCV\n",
    "search_xgb = RandomizedSearchCV(param_distributions = param_xgb, \n",
    "                                cv = 4, \n",
    "                                n_jobs = -1, \n",
    "                                scoring = 'r2', \n",
    "                                estimator = xgb, \n",
    "                                verbose = 1,\n",
    "                                n_iter = 70,\n",
    "                                random_state = 22)\n",
    "\n",
    "model_xgb = Pipeline(steps=[('scaler', mm_x),\n",
    "                            ('model', search_xgb)])\n",
    "\n",
    "print(model_xgb.fit(X_train,y_train).score(X_test,y_test))\n",
    "\n",
    "#The most relevant features to the model_xgb\n",
    "pd.DataFrame(zip(X.columns,model_xgb[1].best_estimator_.feature_importances_)).sort_values(1,0,0).head(10).reset_index(drop=True)"
   ]
  },
  {
   "cell_type": "markdown",
   "id": "634f52d9",
   "metadata": {},
   "source": [
    "### Save the model"
   ]
  },
  {
   "cell_type": "code",
   "execution_count": 30,
   "id": "7809d432",
   "metadata": {
    "ExecuteTime": {
     "end_time": "2021-05-02T01:40:39.999545Z",
     "start_time": "2021-05-02T01:40:39.898479Z"
    }
   },
   "outputs": [],
   "source": [
    "import pickle\n",
    "with open(os.path.join(BASE_DIR,'bici_day_model.pkl'), 'wb') as f:\n",
    "    pickle.dump((model_xgb,[prev,actual]), f)"
   ]
  },
  {
   "cell_type": "markdown",
   "id": "e90c5740",
   "metadata": {},
   "source": [
    "import pickle    \n",
    "with open(os.path.join(BASE_DIR,'bici_day_model.pkl'), 'rb') as f:\n",
    "    modelo = pickle.load(f)"
   ]
  },
  {
   "cell_type": "markdown",
   "id": "foreign-pollution",
   "metadata": {},
   "source": [
    "## End"
   ]
  },
  {
   "cell_type": "code",
   "execution_count": null,
   "id": "controlling-gateway",
   "metadata": {
    "ExecuteTime": {
     "end_time": "2021-05-03T23:32:19.369486Z",
     "start_time": "2021-05-03T23:28:50.195Z"
    }
   },
   "outputs": [],
   "source": [
    "time_exp(time.time() - start)\n",
    "tone()"
   ]
  }
 ],
 "metadata": {
  "kernelspec": {
   "display_name": "Python 3",
   "language": "python",
   "name": "python3"
  },
  "language_info": {
   "codemirror_mode": {
    "name": "ipython",
    "version": 3
   },
   "file_extension": ".py",
   "mimetype": "text/x-python",
   "name": "python",
   "nbconvert_exporter": "python",
   "pygments_lexer": "ipython3",
   "version": "3.9.1"
  },
  "toc": {
   "base_numbering": 1,
   "nav_menu": {},
   "number_sections": true,
   "sideBar": true,
   "skip_h1_title": true,
   "title_cell": "Table of Contents",
   "title_sidebar": "Contents",
   "toc_cell": false,
   "toc_position": {
    "height": "calc(100% - 180px)",
    "left": "10px",
    "top": "150px",
    "width": "292.641px"
   },
   "toc_section_display": true,
   "toc_window_display": true
  },
  "varInspector": {
   "cols": {
    "lenName": 16,
    "lenType": 16,
    "lenVar": 40
   },
   "kernels_config": {
    "python": {
     "delete_cmd_postfix": "",
     "delete_cmd_prefix": "del ",
     "library": "var_list.py",
     "varRefreshCmd": "print(var_dic_list())"
    },
    "r": {
     "delete_cmd_postfix": ") ",
     "delete_cmd_prefix": "rm(",
     "library": "var_list.r",
     "varRefreshCmd": "cat(var_dic_list()) "
    }
   },
   "types_to_exclude": [
    "module",
    "function",
    "builtin_function_or_method",
    "instance",
    "_Feature"
   ],
   "window_display": false
  }
 },
 "nbformat": 4,
 "nbformat_minor": 5
}
