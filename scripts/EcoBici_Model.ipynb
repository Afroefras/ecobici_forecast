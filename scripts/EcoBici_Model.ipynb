{
 "cells": [
  {
   "cell_type": "markdown",
   "metadata": {},
   "source": [
    "# Limpieza"
   ]
  },
  {
   "cell_type": "markdown",
   "metadata": {},
   "source": [
    "## Parámetros"
   ]
  },
  {
   "cell_type": "code",
   "execution_count": 1,
   "metadata": {},
   "outputs": [],
   "source": [
    "BASE_DIR = '/Users/efraflores/Desktop/EF/Contests/Ecobici'"
   ]
  },
  {
   "cell_type": "markdown",
   "metadata": {},
   "source": [
    "## Entorno"
   ]
  },
  {
   "cell_type": "code",
   "execution_count": 2,
   "metadata": {},
   "outputs": [
    {
     "data": {
      "text/html": [
       "        <script type=\"text/javascript\">\n",
       "        window.PlotlyConfig = {MathJaxConfig: 'local'};\n",
       "        if (window.MathJax) {MathJax.Hub.Config({SVG: {font: \"STIX-Web\"}});}\n",
       "        if (typeof require !== 'undefined') {\n",
       "        require.undef(\"plotly\");\n",
       "        requirejs.config({\n",
       "            paths: {\n",
       "                'plotly': ['https://cdn.plot.ly/plotly-2.4.2.min']\n",
       "            }\n",
       "        });\n",
       "        require(['plotly'], function(Plotly) {\n",
       "            window._Plotly = Plotly;\n",
       "        });\n",
       "        }\n",
       "        </script>\n",
       "        "
      ]
     },
     "metadata": {},
     "output_type": "display_data"
    }
   ],
   "source": [
    "# Control de datos\n",
    "from time import sleep\n",
    "from pathlib import Path, PosixPath\n",
    "from pickle import dump as save_pkl, load as load_pkl\n",
    "from IPython.display import clear_output\n",
    "\n",
    "# Ingeniería de variables\n",
    "from re import search, findall\n",
    "from numpy import array, nan\n",
    "from datetime import datetime\n",
    "from pandas import DataFrame, Series, read_csv, to_datetime, options, date_range, cut\n",
    "options.mode.chained_assignment = None\n",
    "from sklearn.ensemble import IsolationForest\n",
    "\n",
    "# Modelos\n",
    "from sklearn.pipeline import Pipeline\n",
    "from sklearn.preprocessing import RobustScaler\n",
    "from sklearn.linear_model import LinearRegression\n",
    "from sklearn.model_selection import train_test_split\n",
    "\n",
    "# Gráficas\n",
    "import cufflinks as cf\n",
    "cf.go_offline()\n",
    "\n",
    "class BaseClass:\n",
    "    def __init__(self, base_dir: str, file_name: str='EcoBici') -> None:\n",
    "        '''\n",
    "        Inicializa la clase recibiendo un directorio y opcionalmente un nombre base\n",
    "        '''\n",
    "        # Obtiene un directorio como texto y convertirlo a tipo Path para unir directorios, buscar archivos, etc.\n",
    "        self.base_dir = Path(base_dir)\n",
    "        # Enlista todos los archivos con formato YYYY_MM en el directorio\n",
    "        self.files_list = [x for x in self.base_dir.glob('*.csv') if search(r'[\\/\\\\]\\d{4}\\-\\d{2}\\.csv',str(x))!=None]\n",
    "        # Nombre base para los archivos que vayan a exportarse\n",
    "        self.file_name = file_name\n",
    "\n",
    "\n",
    "    def __len__(self) -> int:\n",
    "        '''\n",
    "        Cantidad de archivos de interés en el directorio\n",
    "        '''\n",
    "        return len(self.files_list)\n",
    "\n",
    "\n",
    "    def __str__(self) -> str:\n",
    "        return f'{self.__len__()} archivos en:\\n{self.base_dir}'\n",
    "\n",
    "\n",
    "    def cool_print(self, text: str, sleep_time: float=0.02, by_word: bool=False) -> None: \n",
    "        '''\n",
    "        Imprimir como si se fuera escribiendo\n",
    "        '''\n",
    "        acum = ''\n",
    "        for x in (text.split() if by_word else text): \n",
    "            # Acumular texto\n",
    "            acum += x+' ' if by_word else x\n",
    "            # Limpiar pantalla\n",
    "            clear_output(wait=True)\n",
    "            # Esperar un poco para emular efecto de escritura\n",
    "            sleep(sleep_time*(9 if by_word else 1))\n",
    "            # Imprimir texto acumulado\n",
    "            print(acum)\n",
    "        # Mantener el texto en pantalla\n",
    "        sleep(1.7)\n",
    "\n",
    "\n",
    "    def get_csv(self, file_path: PosixPath, just_name: bool=False, **kwargs) -> DataFrame: \n",
    "        '''\n",
    "        Obtener tabla a partir de un archivo .csv\n",
    "        '''\n",
    "        # Obtiene el nombre del archivo a partir de un directorio\n",
    "        file_name = str(file_path).split('/')[-1]\n",
    "        try: \n",
    "            # Si el parámetro lo indica, obtiene el csv conectando el directorio con el nombre del archivo\n",
    "            if just_name: df = read_csv(self.base_dir.joinpath(file_name), low_memory=False, **kwargs)\n",
    "            # De otro modo, utiliza el directorio que recibe como parámetro\n",
    "            else: df = read_csv(file_path, low_memory=False, **kwargs)\n",
    "            # Obtiene e informa del número de renglones y columnas\n",
    "            df_shape = df.shape\n",
    "            self.cool_print(f'Archivo con nombre {file_name} fue encontrado en:\\n{self.base_dir}\\nCon {df_shape[0]} renglones y {df_shape[-1]} columnas')\n",
    "            return df\n",
    "        # Imprime que hubo un error al obtener el csv\n",
    "        except: self.cool_print(f'No se encontró el archivo con nombre {file_name} en:\\n{self.base_dir}\\nSi el archivo csv existe, seguramente tiene un encoding y/o separador diferente a \"utf-8\" y \",\" respectivamente\\nIntenta de nuevo!')\n",
    "    \n",
    "\n",
    "    def export_csv(self, df: DataFrame, name_suffix: str=None, to_subfolder: str=None, **kwargs) -> None: \n",
    "        '''\n",
    "        Exportar un archivo en formato csv\n",
    "        '''\n",
    "        if to_subfolder!=None:\n",
    "            export_path = self.base_dir.joinpath(to_subfolder)\n",
    "            try: export_path.mkdir()\n",
    "            except FileExistsError: pass\n",
    "        else: export_path = self.base_dir\n",
    "\n",
    "        # Define si habrá un sufijo para el nombre del archivo\n",
    "        export_name = f'{self.file_name}.csv' if name_suffix==None else f'{self.file_name}_{name_suffix}.csv'\n",
    "        # Exporta el archivo en el directorio base\n",
    "        df.to_csv(export_path.joinpath(export_name), **kwargs)\n",
    "        # Informa al usuario\n",
    "        self.cool_print(f'Archivo: {export_name} fue exportado exitosamente en:\\n{self.base_dir}')\n",
    "\n",
    "\n",
    "    def rem_nan_rows(self, df: DataFrame, thres: float=1.0) -> DataFrame:\n",
    "        '''\n",
    "        Omitir registros mayor o igual al porcentaje \"thres\" de valores nulos\n",
    "        '''\n",
    "        to_remove = []\n",
    "        # enumerate(['A','B','C']) == zip(range(len(['A','B','C']),['A','B','C'])) == [(0,'A'), (1,'B'), (2,'C')]\n",
    "        for i,_ in enumerate(df.index):\n",
    "            # Revisar por renglón, transponiéndolo\n",
    "            sub_df = df.iloc[i,:].T\n",
    "            # Obtener el porcentaje de nulos\n",
    "            perc_nan = sub_df.isnull().mean()\n",
    "            # Si dicho porcentaje es mayor, guardar el lugar del renglón en una lista\n",
    "            if perc_nan >= thres: to_remove.append(i)\n",
    "\n",
    "        # Omitir los registros de la lista con el porcentaje de valores nulos más grande que el parámetro \"thres\"\n",
    "        df = df.loc[~df.index.isin(to_remove),:]\n",
    "        # Informar cuántos renglones fueron omitidos\n",
    "        self.cool_print(f'{len(to_remove)} renglones con {\"{:.1%}\".format(thres)}% o más de valores nulos fueron eliminados')\n",
    "        return df\n",
    "\n",
    "\n",
    "    def create_bins(self, df: DataFrame, col: str, bins: list, lower_limit=-1, upper_limit=1000) -> Series:\n",
    "        '''\n",
    "        Recibiendo los cortes, recibe una columna numérica y crea rangos tipo \"00\", \"01 a 05\", \">=6\"\n",
    "        '''\n",
    "        # Función para convertir float: 1.0 --> str: '01'\n",
    "        def two_char(n): return str(int(n)).zfill(2)\n",
    "\n",
    "        # Crear rangos\n",
    "        df[f'{col}_range'] = cut(df[col], bins=[lower_limit]+bins+[upper_limit])\n",
    "        # Convertirlo a texto: [1.0 - 5.0] --> '01 a 05'\n",
    "        df[f'{col}_range'] = df[f'{col}_range'].map(lambda x: two_char(x.left+1)+' a '+two_char(x.right) if x!=nan else nan)\n",
    "\n",
    "        # Corregir algunas etiquetas como: '01 a 01'-->'01' y también '03 a upper_limit'-->'>= 03'\n",
    "        last_cut = two_char(bins[-1]+1)\n",
    "        df[[f'{col}_range']] = df[[f'{col}_range']].replace({\n",
    "            **{last_cut+f' a {upper_limit}': '>= '+last_cut},\n",
    "            **{two_char(x)+' a '+two_char(x): two_char(x) for x in bins}\n",
    "        })\n",
    "        # No perder de vista los valores ausentes: \"La falta de información también es información\"\n",
    "        df[f'{col}_range'] = df[f'{col}_range'].map(lambda x: nan if str(x)=='nan' else str(x))\n",
    "\n",
    "        return df[f'{col}_range']\n",
    "\n",
    "\n",
    "    def date_vars(self, df: DataFrame, date_col: str='fecha', hours_bin: list=[9,12,14,17,20], **kwargs) -> DataFrame: \n",
    "        '''\n",
    "        Crear variables de fecha: año, trimestre, mes, hora y rangos de hora\n",
    "        '''\n",
    "        # Convertir a tipo datetime\n",
    "        df[date_col] = to_datetime(df[date_col], **kwargs)\n",
    "\n",
    "        # Para extraer la división de año\n",
    "        df[f'{date_col}_year'] = df[date_col].dt.year.map(int).map(str)\n",
    "        # Trimestre a dos caracteres\n",
    "        df[f'{date_col}_quarter'] = df[date_col].dt.quarter.map(lambda x: str(int(x)).zfill(2))\n",
    "        # Mes a dos caracteres\n",
    "        df[f'{date_col}_month'] = df[date_col].dt.month.map(lambda x: str(int(x)).zfill(2))\n",
    "\n",
    "        # Concatenar el año, tanto trimestre como con el mes\n",
    "        df[f'{date_col}_yearquarter'] = df[f'{date_col}_year']+' - '+df[f'{date_col}_quarter']\n",
    "        df[f'{date_col}_yearmonth'] = df[f'{date_col}_year']+' - '+df[f'{date_col}_month']\n",
    "\n",
    "        # Día de la semana, sólo los primeros 3 caracteres\n",
    "        df[f'{date_col}_month'] = df[date_col].dt.day_name().str[:3]\n",
    "\n",
    "        # Hora\n",
    "        df[f'{date_col}_hour'] = df[date_col].dt.hour\n",
    "        # Crear rangos de hora\n",
    "        df[f'{date_col}_hour_range'] = self.create_bins(df, f'{date_col}_hour', bins=hours_bin)\n",
    "\n",
    "        # Mantener sólo la fecha\n",
    "        df[date_col] = df[date_col].dt.date\n",
    "        return df\n",
    "\n",
    "\n",
    "    def outliers(self, df: DataFrame, cols: list, rem_perc: float=0.03, rem_outliers: bool=True) -> DataFrame:\n",
    "        ''''\n",
    "        Mediante el modelo de sklearn, elimina los outliers analizando los datos de forma multivariada\n",
    "        '''\n",
    "        # Instancia el modelo con el % que reciba como parámetro\n",
    "        outlier = IsolationForest(contamination=rem_perc, n_jobs=-1)\n",
    "\n",
    "        # Indica con \"-1\" si el registro es atípico\n",
    "        df['outlier'] = outlier.fit_predict(df[cols])\n",
    "\n",
    "        # Omite dichos registros y la columna que indica si es atípico\n",
    "        if rem_outliers: df = df[df['outlier']!=-1].drop(columns = 'outlier')\n",
    "        return df\n",
    "\n",
    "\n",
    "    def multishift(self, df: DataFrame, id_cols: list, date_col: str='fecha', shifts: list=range(1,22), rem_sum_zero: bool=True, create_counter: bool=False, **pivot_args): \n",
    "        '''\n",
    "        Escalona los valores para crear una Tabla Analítica de Datos con formato: valor hoy, valor 1 día antes, dos días antes, etc\n",
    "        '''\n",
    "        # Asegurarse que tiene solamente la fecha\n",
    "        df[date_col] = df[date_col].map(to_datetime).dt.date\n",
    "\n",
    "        # Sólo una columna que servirá como ID\n",
    "        id_col = ','.join(id_cols)\n",
    "        df[id_col] = df[id_cols].astype(str).apply(','.join, axis=1)\n",
    "\n",
    "        # Omitir aquellos IDs con menor frequencia que el máximo valor de \"shifts\", porque inevitablemente tendrán shift vacíos\n",
    "        freq = df[id_col].value_counts().to_frame()\n",
    "        omit_idx = freq[freq[id_col]<=max(shifts)].index.to_list()\n",
    "        if len(omit_idx)>0: \n",
    "            df = df[~df[id_col].isin(omit_idx)].copy()\n",
    "        \n",
    "        # Columna auxiliar para conteo de registros\n",
    "        if create_counter: df['n'] = 1\n",
    "\n",
    "        # Estructurar una tabla pivote, de donde se partirá para \"recorrer\" los días\n",
    "        df = df.pivot_table(index=[id_col,date_col], **pivot_args, fill_value=0)\n",
    "        # Unir las posibles multi-columnas en una\n",
    "        df.columns = ['_'.join([x for x in col]) if not isinstance(df.columns[0],str) else col for col in df.columns]\n",
    "\n",
    "        df = df.reset_index()\n",
    "        total = DataFrame()\n",
    "        for row in set(df[id_col]): \n",
    "            # Para cada grupo de renglones por ID\n",
    "            df_id = df.set_index(id_col).loc[row,: ]\n",
    "            # Asegurar todas las fechas\n",
    "            tot_dates = DataFrame(date_range(start=df_id[date_col].min(), end=df_id[date_col].max()).date, columns=[date_col])\n",
    "            df_id = df_id.merge(tot_dates, on=date_col, how='right').fillna(0)\n",
    "            cols = df_id.columns[1: ]\n",
    "\n",
    "            # Comenzar el \"escalonado\" de la tabla pivote inicial\n",
    "            aux = df_id.copy()\n",
    "            for i in shifts:\n",
    "                # Renombrar la columna que se acaba de escalonar\n",
    "                aux = aux.join(df_id.iloc[: ,1: ].shift(i).rename(columns={x: f'{x}_{str(i).zfill(2)}' for x in cols}))\n",
    "            # No perder de vista el \"id\" de este subconjunto\n",
    "            aux[id_col] = row\n",
    "            # Agregar a la tabla total\n",
    "            total = total.append(aux, ignore_index=True)\n",
    "\n",
    "        # Mantener como índice para tener una matriz X de valores continuos\n",
    "        total.set_index(id_cols+[date_col], inplace=True)\n",
    "\n",
    "        # Omitir registros que suman 0?\n",
    "        if rem_sum_zero:\n",
    "            total['sum'] = total.sum(axis=1)\n",
    "            total = total[total['sum']>0].drop('sum', axis=1)\n",
    "\n",
    "        return total\n",
    "\n",
    "    \n",
    "    def apply_multishift(self, df: DataFrame, export_shifted: bool=True, **kwargs) -> tuple: \n",
    "        # Aplicar la función \"multishift\" con los parámetros personalizados\n",
    "        df = self.multishift(df, **kwargs)\n",
    "        df.dropna(inplace=True)\n",
    "        df = df[sorted(df.columns)].copy()\n",
    "\n",
    "        # Obtener la lista de las columnas de todos los días previos\n",
    "        prev = df.head(1).filter(regex='_\\d+').columns.tolist()\n",
    "        # Y aquellas originales, sin escalonar\n",
    "        actual = [x for x in df.columns if x not in prev]\n",
    "\n",
    "        # Ordena las columnas\n",
    "        df = df[actual+prev].copy()\n",
    "\n",
    "        # Tal vez el usuario quiere exportar los resultados\n",
    "        if export_shifted: self.export_csv(df, name_suffix='shifted', to_subfolder='transformed')\n",
    "\n",
    "        # Seleccionar los datos para construir f(X)=y\n",
    "        X = df[prev].copy()\n",
    "        y = df[actual].sum(axis=1).values\n",
    "        return X, y\n",
    "\n",
    "    \n",
    "    def train_model(self, X: DataFrame, y: array, scaler=RobustScaler, model=LinearRegression, **kwargs): \n",
    "        '''\n",
    "        Escala y entrena un modelo, devuelve el score, el objeto tipo Pipeline y la relevancia de cada variable\n",
    "        '''\n",
    "        # Conjunto de entrenamiento y de test\n",
    "        X_train, X_test, y_train, y_test = train_test_split(X, y, train_size=0.85, random_state=7, shuffle=True)\n",
    "\n",
    "        # Define los pasos del flujo\n",
    "        pipe_obj = Pipeline(steps=[('prep', scaler()), ('model', model(**kwargs))])\n",
    "\n",
    "        # Entrena y guarda el score en test\n",
    "        test_score = pipe_obj.fit(X_train,y_train).score(X_test, y_test)\n",
    "        # Guarda el score en train, para revisar sobreajuste\n",
    "        train_score = pipe_obj.score(X_train,y_train)\n",
    "\n",
    "        # Imprime los scores\n",
    "        self.cool_print(f\"Test score:\\t{'{:.2%}'.format(test_score)}\\nTrain score:\\t{'{:.2%}'.format(train_score)}\")\n",
    "\n",
    "        # Elige la forma de obtener las variables más representativas\n",
    "        # Ya sea por Regresión Lineal\n",
    "        try: most_important_features = pipe_obj[-1].coef_ \n",
    "        except: \n",
    "            # O por Árbol de decisión, Bosque Aleatorio, XGBoost\n",
    "            try: most_important_features = pipe_obj[-1].feature_importances_\n",
    "            # De otro modo, solamente asignar un vector de 0s a este objeto\n",
    "            except: most_important_features = [0]*len(X.columns)\n",
    "\n",
    "        # Las ordena descendentemente\n",
    "        coef_var = DataFrame(zip(X.columns, most_important_features)).sort_values(1, ascending=False).reset_index(drop=True)\n",
    "\n",
    "        # Devuelve el objeto para clustering, la lista de scores tanto en train como en test y la relevancia de cada variable para el modelo \n",
    "        return pipe_obj, (test_score,train_score), coef_var\n",
    "\n",
    "\n",
    "    def real_vs_est(self, X: DataFrame, y: array, model, omit_zero: bool=True, to_int: bool=False) -> DataFrame:\n",
    "        '''\n",
    "        Devuelve una tabla con dos columnas: el valor real y el valor predicho por el modelo\n",
    "        '''\n",
    "        # De todo el conjunto de datos...\n",
    "        df = X.join(DataFrame(y, index=X.index, columns=['real']))\n",
    "        # Predice el el valor...\n",
    "        df['estimado'] = model.predict(X)\n",
    "\n",
    "        # Si el parámetro lo indica, reemplaza negativos por 0\n",
    "        if omit_zero: df['estimado'] = df['estimado'].map(lambda x: max(0,x))\n",
    "\n",
    "        # Y devuelve sólo las columna real y la estimada\n",
    "        return df[['real','estimado']]\n",
    "\n",
    "    \n",
    "    def plot_real_vs_est(self, X: DataFrame, y: array, model, id_col: str, date_col: str='fecha', from_year: int=1900, to_year: int=datetime.now().year, **kwargs) -> None:\n",
    "        '''\n",
    "        Grafica la tendencia real y la predicha por el modelo a través del tiempo\n",
    "        ''' \n",
    "        # Obtener real vs estimado\n",
    "        pred = self.real_vs_est(X, y, model, **kwargs).reset_index()\n",
    "\n",
    "        # Filtrar sólo años de interés\n",
    "        pred['year'] = to_datetime(pred[date_col]).dt.year\n",
    "        df = pred[(pred['year']>=from_year)&(pred['year']<=to_year)].copy()\n",
    "        df.drop(columns='year', inplace=True)\n",
    "\n",
    "        # Mostrar comportamiento real vs estimado\n",
    "        df.set_index(id_col, inplace=True)\n",
    "        for x in set(df.index): \n",
    "            df_id = df.loc[x,: ].reset_index(drop=True).set_index(date_col)\n",
    "            df_id.iplot(title=x)\n",
    "\n",
    "\n",
    "    def save_model(self, model, model_name: str) -> None:\n",
    "        '''\n",
    "        Exporta el modelo en modo diccionario para que cuando se importe, se conozca de qué trata el objeto\n",
    "        '''\n",
    "        models_path = self.base_dir.joinpath('models')\n",
    "        try: models_path.mkdir()\n",
    "        except FileExistsError: pass\n",
    "\n",
    "        # Guarda el pickle con extensión \".xz\" para comprimirlo\n",
    "        with open(models_path.joinpath(f'{model_name}.xz'), 'wb') as f:\n",
    "            # Como diccionario para conocer su nombre\n",
    "            save_pkl({model_name:model}, f)\n",
    "            \n",
    "        # Confirma que el archivo fue guardado exitosamente\n",
    "        self.cool_print(f'El modelo {model_name}.xz fue guardado existosamente en:\\n{models_path}')\n",
    "\n",
    "    \n",
    "    def get_model(self, model_name: str) -> None:\n",
    "        '''\n",
    "        Exporta el modelo en modo diccionario para que cuando se importe, se conozca de qué trata el objeto\n",
    "        '''\n",
    "        models_path = self.base_dir.joinpath('models')\n",
    "        # Guarda el pickle con extensión \".xz\" para comprimirlo\n",
    "        with open(models_path.joinpath(f'{model_name}.xz'), 'wb') as f:\n",
    "            # Como diccionario para conocer su nombre\n",
    "            model_dict = load_pkl(f)\n",
    "            \n",
    "        # Confirma que el archivo fue guardado exitosamente\n",
    "        self.cool_print(f'El modelo {model_name}.xz fue importado existosamente en:\\n{models_path}')\n",
    "        return model_dict\n",
    "\n",
    "\n",
    "class EcoBici(BaseClass):\n",
    "    def __init__(self, base_dir: str, file_name: str = 'EcoBici') -> None:\n",
    "        '''\n",
    "        Hereda los atributos de la clase base\n",
    "        '''\n",
    "        super().__init__(base_dir, file_name=file_name)\n",
    "\n",
    "\n",
    "    def get_by_hour_range(self, file_path: PosixPath, date_col: str='Fecha_Retiro', hour_col: str='Hora_Retiro', date_format: str=r'%d/%m/%Y', hour_format: str=r'%H:%M:%S', **kwargs) -> DataFrame:\n",
    "        '''\n",
    "        Importa un csv, lo limpia y transforma según los parámetros de \"pandas.pivot_table()\" que reciba\n",
    "        '''\n",
    "        # Lee una tabla en formato \".csv\"\n",
    "        df = self.get_csv(file_path)\n",
    "\n",
    "        # Omite los registros completamente nulos\n",
    "        df = self.rem_nan_rows(df)\n",
    "        # Omite los registros nulos en los campos de fecha u hora\n",
    "        df.dropna(subset=[date_col,hour_col], inplace=True)\n",
    "\n",
    "        # Une las columnas de fecha y hora\n",
    "        df['fecha'] = df[[date_col,hour_col]].apply(' '.join, axis=1)\n",
    "        # Aplica el método de crear variablesd de fecha y rangos de hora\n",
    "        df = self.date_vars(df, dayfirst=True, format=f'{date_format} {hour_format}')\n",
    "\n",
    "        # Crea una columna con el valor 1 en todos los registros y estructura la tabla como lo indiquen los parámetros\n",
    "        df = df.pivot_table(**kwargs)\n",
    "        return df\n",
    "\n",
    "\n",
    "    def read_raw_files(self, from_year: int=2000, to_year: int=datetime.now().year, export_result: bool=True, **kwargs) -> DataFrame:\n",
    "        ''''\n",
    "        Obtiene todos los archivos de los años indicados para reestructurarlos según los parámetros de \"pandas.pivot_table()\" que reciba\n",
    "        '''\n",
    "        # Filtra los archivos que cumplan con la condición: de X año a Y año\n",
    "        filtered_files = sorted([x for x in self.files_list if from_year <= int(findall(r'[\\/\\\\](\\d{4})\\-', str(x))[0]) <= to_year])\n",
    "\n",
    "        # DataFrame vacío para ir acumulando los datos\n",
    "        df = DataFrame()\n",
    "        for chunk_file in filtered_files:\n",
    "            # Aplicar el método anterior para agrupar por archivo y no los datos completos\n",
    "            transformed = self.get_by_hour_range(chunk_file, **kwargs)\n",
    "            # Acumular la tabla anterior con el archivo actual\n",
    "            df = df.append(transformed)\n",
    "            # Eliminar objeto para optimizar memoria\n",
    "            del transformed\n",
    "\n",
    "        # Volver a agrupar si es que el índice se repite en dos archivos\n",
    "        df = df.reset_index().pivot_table(index=df.index.names, values=df.columns, aggfunc=sum).reset_index()\n",
    "\n",
    "        # Tal vez el usuario quiera exportar el resultado\n",
    "        if export_result: self.export_csv(df, index=False, name_suffix=f'from_{from_year}_to_{to_year}', to_subfolder='transformed')\n",
    "        return df\n",
    "\n",
    "\n",
    "    def filter_months(self, X: DataFrame, y: array, months_list: list=range(1,13)) -> DataFrame:\n",
    "        to_index = X.index.names\n",
    "        to_columns = X.columns\n",
    "        df = X.reset_index().copy()\n",
    "        df['real'] = y\n",
    "        df['month'] = to_datetime(df['fecha']).dt.month\n",
    "        df = df[df['month'].isin(months_list)].copy()\n",
    "        y = df['real'].values\n",
    "        X = df.set_index(to_index)[to_columns]\n",
    "        return X, y\n",
    "\n",
    "\n",
    "    def ecobici_shifted(self, source, **kwargs) -> tuple:\n",
    "        '''\n",
    "        Aplica el método multishift para poder entrenar un modelo de regresión\n",
    "        '''\n",
    "        # Verifica si el parámetro es una tabla\n",
    "        if isinstance(source, DataFrame): df = source.copy()\n",
    "        # De otro modo, es el nombre del archivo ubicado en el directorio base\n",
    "        else: df = self.get_csv(source, just_name=True).head(1000)\n",
    "\n",
    "        X, y = self.apply_multishift(df, **kwargs)\n",
    "        X, y = self.filter_months(X, y, months_list=[6,7,8,9])\n",
    "        \n",
    "        return X, y"
   ]
  },
  {
   "cell_type": "markdown",
   "metadata": {},
   "source": [
    "## Importar"
   ]
  },
  {
   "cell_type": "code",
   "execution_count": 3,
   "metadata": {},
   "outputs": [
    {
     "name": "stdout",
     "output_type": "stream",
     "text": [
      "15 archivos en:\n",
      "/Users/efraflores/Desktop/EF/Contests/Ecobici\n"
     ]
    }
   ],
   "source": [
    "eb = EcoBici(BASE_DIR)\n",
    "print(eb)"
   ]
  },
  {
   "cell_type": "code",
   "execution_count": 4,
   "metadata": {},
   "outputs": [],
   "source": [
    "# df = eb.read_raw_files(from_year=2018, to_year=2021, index=['Ciclo_Estacion_Retiro','fecha'], columns='fecha_hour_range', values='n', aggfunc='count', fill_value=0)\n",
    "# df.sample()"
   ]
  },
  {
   "cell_type": "markdown",
   "metadata": {},
   "source": [
    "## Transformar"
   ]
  },
  {
   "cell_type": "code",
   "execution_count": 5,
   "metadata": {},
   "outputs": [
    {
     "name": "stdout",
     "output_type": "stream",
     "text": [
      "Archivo: EcoBici_shifted.csv fue exportado exitosamente en:\n",
      "/Users/efraflores/Desktop/EF/Contests/Ecobici\n"
     ]
    },
    {
     "data": {
      "text/html": [
       "<div>\n",
       "<style scoped>\n",
       "    .dataframe tbody tr th:only-of-type {\n",
       "        vertical-align: middle;\n",
       "    }\n",
       "\n",
       "    .dataframe tbody tr th {\n",
       "        vertical-align: top;\n",
       "    }\n",
       "\n",
       "    .dataframe thead th {\n",
       "        text-align: right;\n",
       "    }\n",
       "</style>\n",
       "<table border=\"1\" class=\"dataframe\">\n",
       "  <thead>\n",
       "    <tr style=\"text-align: right;\">\n",
       "      <th></th>\n",
       "      <th></th>\n",
       "      <th>00 a 09_00</th>\n",
       "      <th>00 a 09_01</th>\n",
       "      <th>00 a 09_02</th>\n",
       "      <th>00 a 09_03</th>\n",
       "      <th>00 a 09_04</th>\n",
       "      <th>10 a 12_00</th>\n",
       "      <th>10 a 12_01</th>\n",
       "      <th>10 a 12_02</th>\n",
       "      <th>10 a 12_03</th>\n",
       "      <th>10 a 12_04</th>\n",
       "      <th>...</th>\n",
       "      <th>18 a 20_00</th>\n",
       "      <th>18 a 20_01</th>\n",
       "      <th>18 a 20_02</th>\n",
       "      <th>18 a 20_03</th>\n",
       "      <th>18 a 20_04</th>\n",
       "      <th>&gt;= 21_00</th>\n",
       "      <th>&gt;= 21_01</th>\n",
       "      <th>&gt;= 21_02</th>\n",
       "      <th>&gt;= 21_03</th>\n",
       "      <th>&gt;= 21_04</th>\n",
       "    </tr>\n",
       "    <tr>\n",
       "      <th>Ciclo_Estacion_Retiro</th>\n",
       "      <th>fecha</th>\n",
       "      <th></th>\n",
       "      <th></th>\n",
       "      <th></th>\n",
       "      <th></th>\n",
       "      <th></th>\n",
       "      <th></th>\n",
       "      <th></th>\n",
       "      <th></th>\n",
       "      <th></th>\n",
       "      <th></th>\n",
       "      <th></th>\n",
       "      <th></th>\n",
       "      <th></th>\n",
       "      <th></th>\n",
       "      <th></th>\n",
       "      <th></th>\n",
       "      <th></th>\n",
       "      <th></th>\n",
       "      <th></th>\n",
       "      <th></th>\n",
       "      <th></th>\n",
       "    </tr>\n",
       "  </thead>\n",
       "  <tbody>\n",
       "    <tr>\n",
       "      <th>2.0</th>\n",
       "      <th>2018-09-21</th>\n",
       "      <td>27.0</td>\n",
       "      <td>20.0</td>\n",
       "      <td>21.0</td>\n",
       "      <td>14.0</td>\n",
       "      <td>16.0</td>\n",
       "      <td>11.0</td>\n",
       "      <td>4.0</td>\n",
       "      <td>8.0</td>\n",
       "      <td>6.0</td>\n",
       "      <td>11.0</td>\n",
       "      <td>...</td>\n",
       "      <td>14.0</td>\n",
       "      <td>28.0</td>\n",
       "      <td>9.0</td>\n",
       "      <td>18.0</td>\n",
       "      <td>13.0</td>\n",
       "      <td>7.0</td>\n",
       "      <td>5.0</td>\n",
       "      <td>4.0</td>\n",
       "      <td>5.0</td>\n",
       "      <td>3.0</td>\n",
       "    </tr>\n",
       "  </tbody>\n",
       "</table>\n",
       "<p>1 rows × 30 columns</p>\n",
       "</div>"
      ],
      "text/plain": [
       "                                  00 a 09_00  00 a 09_01  00 a 09_02  \\\n",
       "Ciclo_Estacion_Retiro fecha                                            \n",
       "2.0                   2018-09-21        27.0        20.0        21.0   \n",
       "\n",
       "                                  00 a 09_03  00 a 09_04  10 a 12_00  \\\n",
       "Ciclo_Estacion_Retiro fecha                                            \n",
       "2.0                   2018-09-21        14.0        16.0        11.0   \n",
       "\n",
       "                                  10 a 12_01  10 a 12_02  10 a 12_03  \\\n",
       "Ciclo_Estacion_Retiro fecha                                            \n",
       "2.0                   2018-09-21         4.0         8.0         6.0   \n",
       "\n",
       "                                  10 a 12_04  ...  18 a 20_00  18 a 20_01  \\\n",
       "Ciclo_Estacion_Retiro fecha                   ...                           \n",
       "2.0                   2018-09-21        11.0  ...        14.0        28.0   \n",
       "\n",
       "                                  18 a 20_02  18 a 20_03  18 a 20_04  \\\n",
       "Ciclo_Estacion_Retiro fecha                                            \n",
       "2.0                   2018-09-21         9.0        18.0        13.0   \n",
       "\n",
       "                                  >= 21_00  >= 21_01  >= 21_02  >= 21_03  \\\n",
       "Ciclo_Estacion_Retiro fecha                                                \n",
       "2.0                   2018-09-21       7.0       5.0       4.0       5.0   \n",
       "\n",
       "                                  >= 21_04  \n",
       "Ciclo_Estacion_Retiro fecha                 \n",
       "2.0                   2018-09-21       3.0  \n",
       "\n",
       "[1 rows x 30 columns]"
      ]
     },
     "execution_count": 5,
     "metadata": {},
     "output_type": "execute_result"
    }
   ],
   "source": [
    "file_name = 'EcoBici_from_2018_to_2021.csv'\n",
    "\n",
    "X, y = eb.ecobici_shifted(file_name, id_cols=['Ciclo_Estacion_Retiro'], shifts=range(5))\n",
    "X.sample()"
   ]
  },
  {
   "cell_type": "markdown",
   "metadata": {},
   "source": [
    "## Modelo"
   ]
  },
  {
   "cell_type": "code",
   "execution_count": 6,
   "metadata": {},
   "outputs": [
    {
     "name": "stdout",
     "output_type": "stream",
     "text": [
      "Test score:\t100.00%\n",
      "Train score:\t100.00%\n"
     ]
    }
   ],
   "source": [
    "model, scores, coef = eb.train_model(X, y)"
   ]
  },
  {
   "cell_type": "code",
   "execution_count": 7,
   "metadata": {},
   "outputs": [
    {
     "data": {
      "application/vnd.plotly.v1+json": {
       "config": {
        "linkText": "Export to plot.ly",
        "plotlyServerURL": "https://plot.ly",
        "showLink": true
       },
       "data": [
        {
         "line": {
          "color": "rgba(255, 153, 51, 1.0)",
          "dash": "solid",
          "shape": "linear",
          "width": 1.3
         },
         "mode": "lines",
         "name": "real",
         "text": "",
         "type": "scatter",
         "x": [
          "2018-06-05",
          "2018-06-06",
          "2018-06-07",
          "2018-06-08",
          "2018-06-09",
          "2018-06-10",
          "2018-06-11",
          "2018-06-12",
          "2018-06-13",
          "2018-06-14",
          "2018-06-15",
          "2018-06-16",
          "2018-06-17",
          "2018-06-18",
          "2018-06-19",
          "2018-06-20",
          "2018-06-21",
          "2018-06-22",
          "2018-06-23",
          "2018-06-24",
          "2018-06-25",
          "2018-06-26",
          "2018-06-27",
          "2018-06-28",
          "2018-06-29",
          "2018-06-30",
          "2018-07-01",
          "2018-07-02",
          "2018-07-03",
          "2018-07-04",
          "2018-07-05",
          "2018-07-06",
          "2018-07-07",
          "2018-07-08",
          "2018-07-09",
          "2018-07-10",
          "2018-07-11",
          "2018-07-12",
          "2018-07-13",
          "2018-07-14",
          "2018-07-15",
          "2018-07-16",
          "2018-07-17",
          "2018-07-18",
          "2018-07-19",
          "2018-07-20",
          "2018-07-21",
          "2018-07-22",
          "2018-07-23",
          "2018-07-24",
          "2018-07-25",
          "2018-07-26",
          "2018-07-27",
          "2018-07-28",
          "2018-07-29",
          "2018-07-30",
          "2018-07-31",
          "2018-08-01",
          "2018-08-02",
          "2018-08-03",
          "2018-08-04",
          "2018-08-05",
          "2018-08-06",
          "2018-08-07",
          "2018-08-08",
          "2018-08-09",
          "2018-08-10",
          "2018-08-11",
          "2018-08-12",
          "2018-08-13",
          "2018-08-14",
          "2018-08-15",
          "2018-08-16",
          "2018-08-17",
          "2018-08-18",
          "2018-08-19",
          "2018-08-20",
          "2018-08-21",
          "2018-08-22",
          "2018-08-23",
          "2018-08-24",
          "2018-08-25",
          "2018-08-26",
          "2018-08-27",
          "2018-08-28",
          "2018-08-29",
          "2018-08-30",
          "2018-08-31",
          "2018-09-01",
          "2018-09-02",
          "2018-09-03",
          "2018-09-04",
          "2018-09-05",
          "2018-09-06",
          "2018-09-07",
          "2018-09-08",
          "2018-09-09",
          "2018-09-10",
          "2018-09-11",
          "2018-09-12",
          "2018-09-13",
          "2018-09-14",
          "2018-09-15",
          "2018-09-16",
          "2018-09-17",
          "2018-09-18",
          "2018-09-19",
          "2018-09-20",
          "2018-09-21",
          "2018-09-22",
          "2018-09-23",
          "2018-09-24",
          "2018-09-25",
          "2018-09-26",
          "2018-09-27",
          "2018-09-28",
          "2018-09-29",
          "2018-09-30",
          "2019-06-01",
          "2019-06-02",
          "2019-06-03",
          "2019-06-04",
          "2019-06-05",
          "2019-06-06",
          "2019-06-07",
          "2019-06-08",
          "2019-06-09",
          "2019-06-10",
          "2019-06-11",
          "2019-06-12",
          "2019-06-13",
          "2019-06-14",
          "2019-06-15",
          "2019-06-16",
          "2019-06-17",
          "2019-06-18",
          "2019-06-19",
          "2019-06-20",
          "2019-06-21",
          "2019-06-22",
          "2019-06-23",
          "2019-06-24",
          "2019-06-25",
          "2019-06-26",
          "2019-06-27",
          "2019-06-28",
          "2019-06-29",
          "2019-06-30",
          "2019-07-01",
          "2019-07-02",
          "2019-07-03",
          "2019-07-04",
          "2019-07-05",
          "2019-07-06",
          "2019-07-07",
          "2019-07-08",
          "2019-07-09",
          "2019-07-10",
          "2019-07-11",
          "2019-07-12",
          "2019-07-13",
          "2019-07-14",
          "2019-07-15",
          "2019-07-16",
          "2019-07-17",
          "2019-07-18",
          "2019-07-19",
          "2019-07-20",
          "2019-07-21",
          "2019-07-22",
          "2019-07-23",
          "2019-07-24",
          "2019-07-25",
          "2019-07-26",
          "2019-07-27",
          "2019-07-28",
          "2019-07-29",
          "2019-07-30",
          "2019-07-31",
          "2019-08-01",
          "2019-08-02",
          "2019-08-03",
          "2019-08-04",
          "2019-08-05",
          "2019-08-06",
          "2019-08-07",
          "2019-08-08",
          "2019-08-09",
          "2019-08-10",
          "2019-08-11",
          "2019-08-12",
          "2019-08-13",
          "2019-08-14",
          "2019-08-15",
          "2019-08-16",
          "2019-08-17",
          "2019-08-18",
          "2019-08-19",
          "2019-08-20",
          "2019-08-21",
          "2019-08-22",
          "2019-08-23",
          "2019-08-24",
          "2019-08-25",
          "2019-08-26",
          "2019-08-27",
          "2019-08-28",
          "2019-08-29",
          "2019-08-30",
          "2019-08-31",
          "2019-09-01",
          "2019-09-02",
          "2019-09-03",
          "2019-09-04",
          "2019-09-05",
          "2019-09-06",
          "2019-09-07",
          "2019-09-08",
          "2019-09-09",
          "2019-09-10",
          "2019-09-11",
          "2019-09-12",
          "2019-09-13",
          "2019-09-14",
          "2019-09-15",
          "2019-09-16",
          "2019-09-17",
          "2019-09-18",
          "2019-09-19",
          "2019-09-20",
          "2019-09-21",
          "2019-09-22",
          "2019-09-23",
          "2019-09-24",
          "2019-09-25",
          "2019-09-26",
          "2019-09-27",
          "2019-09-28",
          "2019-09-29",
          "2019-09-30",
          "2020-06-01",
          "2020-06-02",
          "2020-06-03",
          "2020-06-04",
          "2020-06-05",
          "2020-06-06",
          "2020-06-07",
          "2020-06-08",
          "2020-06-09",
          "2020-06-10",
          "2020-06-11",
          "2020-06-12",
          "2020-06-13",
          "2020-06-14",
          "2020-06-15",
          "2020-06-16",
          "2020-06-17",
          "2020-06-18",
          "2020-06-19",
          "2020-06-20",
          "2020-06-21",
          "2020-06-22",
          "2020-06-23",
          "2020-06-24",
          "2020-06-25",
          "2020-06-26",
          "2020-06-27",
          "2020-06-28",
          "2020-06-29",
          "2020-06-30",
          "2020-07-01",
          "2020-07-02",
          "2020-07-03",
          "2020-07-04",
          "2020-07-05",
          "2020-07-06",
          "2020-07-07",
          "2020-07-08",
          "2020-07-09",
          "2020-07-10",
          "2020-07-11",
          "2020-07-12",
          "2020-07-13",
          "2020-07-14",
          "2020-07-15",
          "2020-07-16",
          "2020-07-17",
          "2020-07-18",
          "2020-07-19",
          "2020-07-20",
          "2020-07-21",
          "2020-07-22",
          "2020-07-23",
          "2020-07-24",
          "2020-07-25",
          "2020-07-26",
          "2020-07-27",
          "2020-07-28",
          "2020-07-29",
          "2020-07-30",
          "2020-07-31",
          "2020-08-01",
          "2020-08-02",
          "2020-08-03",
          "2020-08-04",
          "2020-08-05",
          "2020-08-06",
          "2020-08-07",
          "2020-08-08",
          "2020-08-09",
          "2020-08-10",
          "2020-08-11",
          "2020-08-12",
          "2020-08-13",
          "2020-08-14",
          "2020-08-15",
          "2020-08-16",
          "2020-08-17",
          "2020-08-18",
          "2020-08-19",
          "2020-08-20",
          "2020-08-21",
          "2020-08-22",
          "2020-08-23",
          "2020-08-24",
          "2020-08-25",
          "2020-08-26",
          "2020-08-27",
          "2020-08-28",
          "2020-08-29",
          "2020-08-30",
          "2020-08-31",
          "2020-09-01",
          "2020-09-02",
          "2020-09-03",
          "2020-09-04",
          "2020-09-05",
          "2020-09-06",
          "2020-09-07",
          "2020-09-08",
          "2020-09-09",
          "2020-09-10",
          "2020-09-11",
          "2020-09-12",
          "2020-09-13",
          "2020-09-14",
          "2020-09-15",
          "2020-09-16",
          "2020-09-17",
          "2020-09-18",
          "2020-09-19",
          "2020-09-20",
          "2020-09-21",
          "2020-09-22",
          "2020-09-23",
          "2020-09-24",
          "2020-09-25",
          "2020-09-26",
          "2020-09-27",
          "2020-09-28",
          "2020-09-29",
          "2020-09-30",
          "2021-06-01",
          "2021-06-02",
          "2021-06-03",
          "2021-06-04",
          "2021-06-05",
          "2021-06-06",
          "2021-06-07",
          "2021-06-08",
          "2021-06-09",
          "2021-06-10",
          "2021-06-11",
          "2021-06-12",
          "2021-06-13",
          "2021-06-14",
          "2021-06-15",
          "2021-06-16",
          "2021-06-17",
          "2021-06-18",
          "2021-06-19",
          "2021-06-20",
          "2021-06-21",
          "2021-06-22",
          "2021-06-23",
          "2021-06-24",
          "2021-06-25",
          "2021-06-26",
          "2021-06-27",
          "2021-06-28",
          "2021-06-29",
          "2021-06-30",
          "2021-07-01",
          "2021-07-02",
          "2021-07-03",
          "2021-07-04",
          "2021-07-05",
          "2021-07-06",
          "2021-07-07",
          "2021-07-08",
          "2021-07-09",
          "2021-07-10",
          "2021-07-11",
          "2021-07-12",
          "2021-07-13",
          "2021-07-14",
          "2021-07-15",
          "2021-07-16",
          "2021-07-17",
          "2021-07-18",
          "2021-07-19",
          "2021-07-20",
          "2021-07-21",
          "2021-07-22",
          "2021-07-23",
          "2021-07-24",
          "2021-07-25",
          "2021-07-26",
          "2021-07-27",
          "2021-07-28",
          "2021-07-29",
          "2021-07-30",
          "2021-07-31",
          "2021-08-01",
          "2021-08-02",
          "2021-08-03",
          "2021-08-04",
          "2021-08-05",
          "2021-08-06",
          "2021-08-07",
          "2021-08-08",
          "2021-08-09",
          "2021-08-10",
          "2021-08-11",
          "2021-08-12",
          "2021-08-13",
          "2021-08-14",
          "2021-08-15",
          "2021-08-16",
          "2021-08-17",
          "2021-08-18",
          "2021-08-19",
          "2021-08-20",
          "2021-08-21",
          "2021-08-22",
          "2021-08-23",
          "2021-08-24",
          "2021-08-25",
          "2021-08-26",
          "2021-08-27",
          "2021-08-28",
          "2021-08-29",
          "2021-08-30",
          "2021-08-31",
          "2021-09-01",
          "2021-09-02",
          "2021-09-03",
          "2021-09-04",
          "2021-09-05",
          "2021-09-06",
          "2021-09-07",
          "2021-09-08",
          "2021-09-09",
          "2021-09-10",
          "2021-09-11",
          "2021-09-12",
          "2021-09-13",
          "2021-09-14",
          "2021-09-15",
          "2021-09-16",
          "2021-09-17",
          "2021-09-18",
          "2021-09-19",
          "2021-09-20",
          "2021-09-21",
          "2021-09-22",
          "2021-09-23",
          "2021-09-24",
          "2021-09-25",
          "2021-09-26",
          "2021-09-27",
          "2021-09-28",
          "2021-09-29",
          "2021-09-30"
         ],
         "y": [
          304,
          302,
          307,
          314,
          108,
          134,
          277,
          222,
          204,
          158,
          216,
          106,
          95,
          189,
          284,
          302,
          206,
          305,
          111,
          90,
          279,
          212,
          287,
          248,
          283,
          104,
          102,
          227,
          243,
          273,
          271,
          256,
          118,
          91,
          237,
          234,
          240,
          264,
          224,
          107,
          102,
          248,
          312,
          283,
          278,
          230,
          108,
          85,
          287,
          267,
          250,
          238,
          265,
          89,
          93,
          269,
          246,
          292,
          264,
          221,
          116,
          82,
          241,
          235,
          254,
          243,
          247,
          100,
          93,
          203,
          288,
          217,
          254,
          227,
          120,
          90,
          238,
          255,
          302,
          257,
          264,
          105,
          89,
          235,
          228,
          293,
          236,
          258,
          122,
          99,
          305,
          314,
          303,
          282,
          258,
          103,
          91,
          294,
          250,
          263,
          262,
          269,
          85,
          57,
          249,
          291,
          264,
          269,
          271,
          96,
          83,
          281,
          296,
          248,
          278,
          269,
          113,
          119,
          85,
          112,
          294,
          278,
          232,
          194,
          222,
          111,
          104,
          254,
          287,
          301,
          243,
          259,
          115,
          102,
          274,
          282,
          258,
          248,
          240,
          122,
          81,
          221,
          251,
          258,
          258,
          227,
          129,
          96,
          233,
          237,
          277,
          234,
          255,
          97,
          117,
          193,
          266,
          225,
          243,
          228,
          101,
          97,
          230,
          266,
          271,
          214,
          226,
          103,
          74,
          255,
          233,
          244,
          163,
          200,
          99,
          87,
          244,
          260,
          240,
          230,
          252,
          114,
          105,
          209,
          225,
          249,
          254,
          211,
          118,
          91,
          233,
          256,
          241,
          247,
          254,
          132,
          105,
          248,
          252,
          270,
          208,
          236,
          104,
          103,
          242,
          275,
          279,
          238,
          246,
          128,
          115,
          254,
          268,
          256,
          274,
          145,
          126,
          88,
          245,
          207,
          261,
          252,
          226,
          106,
          86,
          61,
          255,
          234,
          208,
          223,
          123,
          102,
          260,
          199,
          251,
          249,
          258,
          109,
          88,
          244,
          56,
          55,
          63,
          57,
          28,
          12,
          23,
          43,
          63,
          59,
          66,
          61,
          42,
          55,
          58,
          55,
          51,
          55,
          55,
          61,
          40,
          44,
          44,
          58,
          62,
          58,
          54,
          51,
          61,
          71,
          69,
          81,
          59,
          50,
          55,
          77,
          64,
          66,
          74,
          81,
          61,
          42,
          76,
          83,
          77,
          79,
          87,
          45,
          42,
          84,
          80,
          91,
          79,
          86,
          65,
          47,
          83,
          78,
          88,
          94,
          82,
          62,
          65,
          82,
          82,
          94,
          112,
          94,
          52,
          44,
          82,
          88,
          89,
          110,
          93,
          72,
          61,
          83,
          97,
          92,
          71,
          104,
          81,
          57,
          80,
          97,
          85,
          104,
          99,
          70,
          74,
          110,
          108,
          98,
          117,
          88,
          71,
          64,
          78,
          95,
          115,
          91,
          117,
          61,
          58,
          96,
          100,
          60,
          104,
          81,
          67,
          53,
          87,
          102,
          105,
          101,
          110,
          76,
          68,
          97,
          87,
          112,
          112,
          113,
          99,
          105,
          79,
          63,
          143,
          102,
          108,
          129,
          101,
          60,
          64,
          113,
          114,
          129,
          119,
          86,
          72,
          34,
          104,
          101,
          116,
          110,
          109,
          78,
          34,
          109,
          95,
          79,
          106,
          95,
          66,
          46,
          93,
          116,
          133,
          99,
          95,
          62,
          61,
          125,
          90,
          89,
          95,
          120,
          60,
          54,
          95,
          114,
          109,
          98,
          106,
          71,
          58,
          84,
          96,
          97,
          103,
          88,
          62,
          46,
          104,
          88,
          104,
          93,
          94,
          76,
          27,
          85,
          91,
          99,
          109,
          85,
          63,
          53,
          78,
          101,
          119,
          110,
          107,
          33,
          45,
          82,
          106,
          122,
          105,
          85,
          60,
          47,
          75,
          110,
          77,
          80,
          91,
          64,
          65,
          82,
          77,
          122,
          119,
          104,
          61,
          48,
          112,
          110,
          87,
          34,
          70,
          54,
          60,
          111,
          126,
          110,
          92,
          95,
          57,
          51,
          115,
          121,
          129,
          128
         ]
        },
        {
         "line": {
          "color": "rgba(55, 128, 191, 1.0)",
          "dash": "solid",
          "shape": "linear",
          "width": 1.3
         },
         "mode": "lines",
         "name": "estimado",
         "text": "",
         "type": "scatter",
         "x": [
          "2018-06-05",
          "2018-06-06",
          "2018-06-07",
          "2018-06-08",
          "2018-06-09",
          "2018-06-10",
          "2018-06-11",
          "2018-06-12",
          "2018-06-13",
          "2018-06-14",
          "2018-06-15",
          "2018-06-16",
          "2018-06-17",
          "2018-06-18",
          "2018-06-19",
          "2018-06-20",
          "2018-06-21",
          "2018-06-22",
          "2018-06-23",
          "2018-06-24",
          "2018-06-25",
          "2018-06-26",
          "2018-06-27",
          "2018-06-28",
          "2018-06-29",
          "2018-06-30",
          "2018-07-01",
          "2018-07-02",
          "2018-07-03",
          "2018-07-04",
          "2018-07-05",
          "2018-07-06",
          "2018-07-07",
          "2018-07-08",
          "2018-07-09",
          "2018-07-10",
          "2018-07-11",
          "2018-07-12",
          "2018-07-13",
          "2018-07-14",
          "2018-07-15",
          "2018-07-16",
          "2018-07-17",
          "2018-07-18",
          "2018-07-19",
          "2018-07-20",
          "2018-07-21",
          "2018-07-22",
          "2018-07-23",
          "2018-07-24",
          "2018-07-25",
          "2018-07-26",
          "2018-07-27",
          "2018-07-28",
          "2018-07-29",
          "2018-07-30",
          "2018-07-31",
          "2018-08-01",
          "2018-08-02",
          "2018-08-03",
          "2018-08-04",
          "2018-08-05",
          "2018-08-06",
          "2018-08-07",
          "2018-08-08",
          "2018-08-09",
          "2018-08-10",
          "2018-08-11",
          "2018-08-12",
          "2018-08-13",
          "2018-08-14",
          "2018-08-15",
          "2018-08-16",
          "2018-08-17",
          "2018-08-18",
          "2018-08-19",
          "2018-08-20",
          "2018-08-21",
          "2018-08-22",
          "2018-08-23",
          "2018-08-24",
          "2018-08-25",
          "2018-08-26",
          "2018-08-27",
          "2018-08-28",
          "2018-08-29",
          "2018-08-30",
          "2018-08-31",
          "2018-09-01",
          "2018-09-02",
          "2018-09-03",
          "2018-09-04",
          "2018-09-05",
          "2018-09-06",
          "2018-09-07",
          "2018-09-08",
          "2018-09-09",
          "2018-09-10",
          "2018-09-11",
          "2018-09-12",
          "2018-09-13",
          "2018-09-14",
          "2018-09-15",
          "2018-09-16",
          "2018-09-17",
          "2018-09-18",
          "2018-09-19",
          "2018-09-20",
          "2018-09-21",
          "2018-09-22",
          "2018-09-23",
          "2018-09-24",
          "2018-09-25",
          "2018-09-26",
          "2018-09-27",
          "2018-09-28",
          "2018-09-29",
          "2018-09-30",
          "2019-06-01",
          "2019-06-02",
          "2019-06-03",
          "2019-06-04",
          "2019-06-05",
          "2019-06-06",
          "2019-06-07",
          "2019-06-08",
          "2019-06-09",
          "2019-06-10",
          "2019-06-11",
          "2019-06-12",
          "2019-06-13",
          "2019-06-14",
          "2019-06-15",
          "2019-06-16",
          "2019-06-17",
          "2019-06-18",
          "2019-06-19",
          "2019-06-20",
          "2019-06-21",
          "2019-06-22",
          "2019-06-23",
          "2019-06-24",
          "2019-06-25",
          "2019-06-26",
          "2019-06-27",
          "2019-06-28",
          "2019-06-29",
          "2019-06-30",
          "2019-07-01",
          "2019-07-02",
          "2019-07-03",
          "2019-07-04",
          "2019-07-05",
          "2019-07-06",
          "2019-07-07",
          "2019-07-08",
          "2019-07-09",
          "2019-07-10",
          "2019-07-11",
          "2019-07-12",
          "2019-07-13",
          "2019-07-14",
          "2019-07-15",
          "2019-07-16",
          "2019-07-17",
          "2019-07-18",
          "2019-07-19",
          "2019-07-20",
          "2019-07-21",
          "2019-07-22",
          "2019-07-23",
          "2019-07-24",
          "2019-07-25",
          "2019-07-26",
          "2019-07-27",
          "2019-07-28",
          "2019-07-29",
          "2019-07-30",
          "2019-07-31",
          "2019-08-01",
          "2019-08-02",
          "2019-08-03",
          "2019-08-04",
          "2019-08-05",
          "2019-08-06",
          "2019-08-07",
          "2019-08-08",
          "2019-08-09",
          "2019-08-10",
          "2019-08-11",
          "2019-08-12",
          "2019-08-13",
          "2019-08-14",
          "2019-08-15",
          "2019-08-16",
          "2019-08-17",
          "2019-08-18",
          "2019-08-19",
          "2019-08-20",
          "2019-08-21",
          "2019-08-22",
          "2019-08-23",
          "2019-08-24",
          "2019-08-25",
          "2019-08-26",
          "2019-08-27",
          "2019-08-28",
          "2019-08-29",
          "2019-08-30",
          "2019-08-31",
          "2019-09-01",
          "2019-09-02",
          "2019-09-03",
          "2019-09-04",
          "2019-09-05",
          "2019-09-06",
          "2019-09-07",
          "2019-09-08",
          "2019-09-09",
          "2019-09-10",
          "2019-09-11",
          "2019-09-12",
          "2019-09-13",
          "2019-09-14",
          "2019-09-15",
          "2019-09-16",
          "2019-09-17",
          "2019-09-18",
          "2019-09-19",
          "2019-09-20",
          "2019-09-21",
          "2019-09-22",
          "2019-09-23",
          "2019-09-24",
          "2019-09-25",
          "2019-09-26",
          "2019-09-27",
          "2019-09-28",
          "2019-09-29",
          "2019-09-30",
          "2020-06-01",
          "2020-06-02",
          "2020-06-03",
          "2020-06-04",
          "2020-06-05",
          "2020-06-06",
          "2020-06-07",
          "2020-06-08",
          "2020-06-09",
          "2020-06-10",
          "2020-06-11",
          "2020-06-12",
          "2020-06-13",
          "2020-06-14",
          "2020-06-15",
          "2020-06-16",
          "2020-06-17",
          "2020-06-18",
          "2020-06-19",
          "2020-06-20",
          "2020-06-21",
          "2020-06-22",
          "2020-06-23",
          "2020-06-24",
          "2020-06-25",
          "2020-06-26",
          "2020-06-27",
          "2020-06-28",
          "2020-06-29",
          "2020-06-30",
          "2020-07-01",
          "2020-07-02",
          "2020-07-03",
          "2020-07-04",
          "2020-07-05",
          "2020-07-06",
          "2020-07-07",
          "2020-07-08",
          "2020-07-09",
          "2020-07-10",
          "2020-07-11",
          "2020-07-12",
          "2020-07-13",
          "2020-07-14",
          "2020-07-15",
          "2020-07-16",
          "2020-07-17",
          "2020-07-18",
          "2020-07-19",
          "2020-07-20",
          "2020-07-21",
          "2020-07-22",
          "2020-07-23",
          "2020-07-24",
          "2020-07-25",
          "2020-07-26",
          "2020-07-27",
          "2020-07-28",
          "2020-07-29",
          "2020-07-30",
          "2020-07-31",
          "2020-08-01",
          "2020-08-02",
          "2020-08-03",
          "2020-08-04",
          "2020-08-05",
          "2020-08-06",
          "2020-08-07",
          "2020-08-08",
          "2020-08-09",
          "2020-08-10",
          "2020-08-11",
          "2020-08-12",
          "2020-08-13",
          "2020-08-14",
          "2020-08-15",
          "2020-08-16",
          "2020-08-17",
          "2020-08-18",
          "2020-08-19",
          "2020-08-20",
          "2020-08-21",
          "2020-08-22",
          "2020-08-23",
          "2020-08-24",
          "2020-08-25",
          "2020-08-26",
          "2020-08-27",
          "2020-08-28",
          "2020-08-29",
          "2020-08-30",
          "2020-08-31",
          "2020-09-01",
          "2020-09-02",
          "2020-09-03",
          "2020-09-04",
          "2020-09-05",
          "2020-09-06",
          "2020-09-07",
          "2020-09-08",
          "2020-09-09",
          "2020-09-10",
          "2020-09-11",
          "2020-09-12",
          "2020-09-13",
          "2020-09-14",
          "2020-09-15",
          "2020-09-16",
          "2020-09-17",
          "2020-09-18",
          "2020-09-19",
          "2020-09-20",
          "2020-09-21",
          "2020-09-22",
          "2020-09-23",
          "2020-09-24",
          "2020-09-25",
          "2020-09-26",
          "2020-09-27",
          "2020-09-28",
          "2020-09-29",
          "2020-09-30",
          "2021-06-01",
          "2021-06-02",
          "2021-06-03",
          "2021-06-04",
          "2021-06-05",
          "2021-06-06",
          "2021-06-07",
          "2021-06-08",
          "2021-06-09",
          "2021-06-10",
          "2021-06-11",
          "2021-06-12",
          "2021-06-13",
          "2021-06-14",
          "2021-06-15",
          "2021-06-16",
          "2021-06-17",
          "2021-06-18",
          "2021-06-19",
          "2021-06-20",
          "2021-06-21",
          "2021-06-22",
          "2021-06-23",
          "2021-06-24",
          "2021-06-25",
          "2021-06-26",
          "2021-06-27",
          "2021-06-28",
          "2021-06-29",
          "2021-06-30",
          "2021-07-01",
          "2021-07-02",
          "2021-07-03",
          "2021-07-04",
          "2021-07-05",
          "2021-07-06",
          "2021-07-07",
          "2021-07-08",
          "2021-07-09",
          "2021-07-10",
          "2021-07-11",
          "2021-07-12",
          "2021-07-13",
          "2021-07-14",
          "2021-07-15",
          "2021-07-16",
          "2021-07-17",
          "2021-07-18",
          "2021-07-19",
          "2021-07-20",
          "2021-07-21",
          "2021-07-22",
          "2021-07-23",
          "2021-07-24",
          "2021-07-25",
          "2021-07-26",
          "2021-07-27",
          "2021-07-28",
          "2021-07-29",
          "2021-07-30",
          "2021-07-31",
          "2021-08-01",
          "2021-08-02",
          "2021-08-03",
          "2021-08-04",
          "2021-08-05",
          "2021-08-06",
          "2021-08-07",
          "2021-08-08",
          "2021-08-09",
          "2021-08-10",
          "2021-08-11",
          "2021-08-12",
          "2021-08-13",
          "2021-08-14",
          "2021-08-15",
          "2021-08-16",
          "2021-08-17",
          "2021-08-18",
          "2021-08-19",
          "2021-08-20",
          "2021-08-21",
          "2021-08-22",
          "2021-08-23",
          "2021-08-24",
          "2021-08-25",
          "2021-08-26",
          "2021-08-27",
          "2021-08-28",
          "2021-08-29",
          "2021-08-30",
          "2021-08-31",
          "2021-09-01",
          "2021-09-02",
          "2021-09-03",
          "2021-09-04",
          "2021-09-05",
          "2021-09-06",
          "2021-09-07",
          "2021-09-08",
          "2021-09-09",
          "2021-09-10",
          "2021-09-11",
          "2021-09-12",
          "2021-09-13",
          "2021-09-14",
          "2021-09-15",
          "2021-09-16",
          "2021-09-17",
          "2021-09-18",
          "2021-09-19",
          "2021-09-20",
          "2021-09-21",
          "2021-09-22",
          "2021-09-23",
          "2021-09-24",
          "2021-09-25",
          "2021-09-26",
          "2021-09-27",
          "2021-09-28",
          "2021-09-29",
          "2021-09-30"
         ],
         "y": [
          303.9999999999985,
          301.9999999999985,
          306.9999999999984,
          313.9999999999979,
          107.99999999999812,
          133.99999999999858,
          276.99999999999886,
          221.99999999999886,
          203.99999999999898,
          157.99999999999892,
          215.99999999999878,
          105.99999999999918,
          94.99999999999936,
          188.99999999999955,
          283.9999999999993,
          301.9999999999988,
          205.99999999999878,
          304.9999999999986,
          110.99999999999844,
          89.99999999999896,
          278.9999999999992,
          211.99999999999898,
          286.999999999999,
          247.99999999999872,
          282.9999999999985,
          103.99999999999854,
          101.99999999999889,
          226.9999999999992,
          242.99999999999898,
          272.999999999999,
          270.99999999999875,
          255.99999999999844,
          117.99999999999847,
          90.99999999999896,
          236.9999999999991,
          233.99999999999906,
          239.99999999999912,
          263.99999999999886,
          223.9999999999987,
          106.99999999999879,
          101.99999999999918,
          247.9999999999992,
          311.999999999999,
          282.9999999999988,
          277.9999999999985,
          229.99999999999832,
          107.99999999999848,
          84.99999999999903,
          286.9999999999992,
          266.9999999999989,
          249.9999999999989,
          237.99999999999872,
          264.9999999999983,
          88.99999999999869,
          92.99999999999903,
          268.9999999999992,
          245.99999999999892,
          291.99999999999886,
          263.9999999999985,
          220.99999999999827,
          115.99999999999864,
          81.99999999999896,
          240.99999999999935,
          234.99999999999926,
          253.99999999999915,
          242.99999999999898,
          246.9999999999986,
          99.99999999999865,
          92.99999999999903,
          202.9999999999995,
          287.9999999999992,
          216.9999999999991,
          253.99999999999895,
          226.9999999999985,
          119.9999999999988,
          89.99999999999909,
          237.99999999999926,
          254.99999999999903,
          301.999999999999,
          256.99999999999864,
          263.99999999999824,
          104.9999999999985,
          88.9999999999988,
          234.99999999999932,
          227.99999999999923,
          292.9999999999991,
          235.99999999999886,
          257.99999999999847,
          121.99999999999858,
          98.99999999999889,
          304.9999999999992,
          313.9999999999987,
          302.99999999999864,
          281.9999999999984,
          257.99999999999807,
          102.99999999999824,
          90.99999999999882,
          293.9999999999991,
          249.999999999999,
          262.99999999999886,
          261.99999999999875,
          268.9999999999983,
          84.99999999999858,
          56.99999999999908,
          248.99999999999937,
          290.99999999999915,
          263.9999999999989,
          268.99999999999875,
          270.9999999999983,
          95.9999999999984,
          82.99999999999892,
          280.9999999999992,
          295.99999999999875,
          247.9999999999989,
          277.99999999999864,
          268.9999999999984,
          112.99999999999845,
          118.99999999999888,
          85.00000000000087,
          112.00000000000063,
          294,
          277.99999999999943,
          231.99999999999878,
          193.99999999999875,
          221.99999999999858,
          110.9999999999989,
          103.99999999999919,
          253.99999999999937,
          286.99999999999886,
          300.99999999999875,
          242.99999999999855,
          258.9999999999982,
          114.99999999999848,
          101.99999999999888,
          273.9999999999991,
          281.9999999999988,
          257.9999999999988,
          247.99999999999866,
          239.99999999999835,
          121.99999999999852,
          80.9999999999989,
          220.99999999999935,
          250.99999999999915,
          257.999999999999,
          257.9999999999988,
          226.99999999999852,
          128.99999999999878,
          95.99999999999886,
          232.99999999999923,
          236.999999999999,
          276.999999999999,
          233.99999999999878,
          254.9999999999985,
          96.99999999999866,
          116.99999999999892,
          192.99999999999926,
          265.99999999999915,
          224.99999999999906,
          242.99999999999892,
          227.99999999999855,
          100.99999999999865,
          96.99999999999909,
          229.9999999999993,
          265.9999999999991,
          270.999999999999,
          213.99999999999883,
          225.99999999999866,
          102.99999999999862,
          73.9999999999992,
          254.99999999999943,
          232.99999999999915,
          243.99999999999915,
          162.99999999999886,
          199.99999999999898,
          98.99999999999909,
          86.9999999999993,
          243.99999999999955,
          259.9999999999991,
          239.99999999999895,
          229.99999999999878,
          251.9999999999984,
          113.99999999999866,
          104.999999999999,
          208.99999999999935,
          224.99999999999918,
          248.999999999999,
          253.99999999999892,
          210.9999999999986,
          117.9999999999988,
          90.99999999999916,
          232.99999999999932,
          255.99999999999912,
          240.99999999999895,
          246.9999999999988,
          253.99999999999847,
          131.99999999999852,
          104.99999999999899,
          247.99999999999915,
          251.99999999999886,
          269.99999999999875,
          207.99999999999872,
          235.99999999999858,
          103.99999999999878,
          102.99999999999908,
          241.99999999999937,
          274.999999999999,
          278.9999999999989,
          237.99999999999872,
          245.99999999999832,
          127.99999999999858,
          114.99999999999889,
          253.9999999999992,
          267.99999999999886,
          255.99999999999878,
          273.99999999999875,
          144.9999999999984,
          125.99999999999882,
          87.99999999999926,
          244.99999999999935,
          206.99999999999932,
          260.999999999999,
          251.9999999999989,
          225.99999999999858,
          105.99999999999876,
          85.99999999999902,
          60.999999999999474,
          254.9999999999997,
          233.9999999999995,
          207.99999999999918,
          222.99999999999912,
          122.99999999999878,
          101.99999999999918,
          259.99999999999926,
          198.99999999999903,
          250.99999999999912,
          248.9999999999989,
          257.9999999999985,
          108.99999999999878,
          87.99999999999898,
          243.99999999999926,
          56.00000000000087,
          55.000000000000725,
          63.00000000000059,
          57.000000000000476,
          28.000000000000355,
          12.000000000000519,
          23.000000000000576,
          43.00000000000067,
          63.00000000000059,
          59.00000000000049,
          66.00000000000043,
          61.00000000000035,
          42.00000000000033,
          55.00000000000035,
          58.00000000000037,
          55.00000000000037,
          51.0000000000004,
          55.000000000000426,
          55.00000000000033,
          61.000000000000355,
          40.000000000000426,
          44.000000000000426,
          44.000000000000426,
          58.00000000000048,
          62.00000000000042,
          58.00000000000042,
          54.000000000000384,
          51.0000000000004,
          61.000000000000384,
          71.00000000000034,
          69.00000000000033,
          81.00000000000031,
          59.00000000000024,
          50.000000000000284,
          55.00000000000036,
          77.00000000000038,
          64.00000000000036,
          66.00000000000026,
          74.00000000000036,
          81.00000000000028,
          61.0000000000002,
          42.00000000000033,
          76.00000000000037,
          83.00000000000031,
          77.00000000000023,
          79.00000000000023,
          87.00000000000017,
          45.000000000000185,
          42.00000000000026,
          84.00000000000036,
          80.00000000000028,
          91.00000000000028,
          79.00000000000021,
          86.00000000000011,
          65.00000000000007,
          47.000000000000156,
          83.00000000000021,
          78.00000000000018,
          88.00000000000023,
          94.00000000000017,
          82.00000000000011,
          62.000000000000114,
          65.00000000000017,
          82.0000000000002,
          82.00000000000023,
          94.00000000000023,
          112.00000000000009,
          94.00000000000006,
          52.00000000000003,
          44.000000000000156,
          82.00000000000028,
          88.00000000000024,
          89.00000000000028,
          110.00000000000014,
          93,
          72.00000000000004,
          61.0000000000001,
          83.00000000000011,
          97.00000000000014,
          92.00000000000017,
          71.00000000000017,
          104.00000000000009,
          81.00000000000007,
          57.00000000000006,
          80.00000000000017,
          97.0000000000001,
          85.00000000000018,
          104.00000000000011,
          99.00000000000007,
          70.00000000000003,
          74.00000000000007,
          110.00000000000011,
          108,
          98.00000000000001,
          117,
          87.99999999999989,
          70.99999999999996,
          64.0000000000001,
          78.00000000000007,
          95.00000000000017,
          115.00000000000014,
          91.00000000000006,
          117.00000000000003,
          61,
          58.00000000000003,
          96.00000000000011,
          100.00000000000004,
          60.0000000000002,
          104.00000000000013,
          81.0000000000001,
          67.00000000000009,
          53.00000000000021,
          87.00000000000021,
          102.0000000000002,
          105.00000000000017,
          101.00000000000007,
          109.99999999999989,
          75.99999999999994,
          68.00000000000003,
          97.00000000000004,
          87.00000000000003,
          112.00000000000006,
          112.00000000000082,
          113.00000000000053,
          99.00000000000026,
          105.00000000000011,
          78.99999999999991,
          62.99999999999999,
          143.0000000000001,
          101.99999999999994,
          107.99999999999989,
          128.9999999999999,
          100.99999999999974,
          59.999999999999886,
          64.00000000000003,
          113.00000000000003,
          113.99999999999997,
          128.99999999999994,
          118.99999999999986,
          85.99999999999989,
          71.99999999999986,
          33.99999999999999,
          104.00000000000023,
          101.0000000000002,
          116.00000000000009,
          110,
          108.9999999999998,
          77.99999999999991,
          33.99999999999997,
          109.00000000000017,
          95.00000000000009,
          79.00000000000013,
          106.00000000000014,
          94.99999999999997,
          66.00000000000009,
          46.000000000000185,
          93.00000000000026,
          116.00000000000014,
          132.99999999999997,
          98.99999999999993,
          94.99999999999989,
          61.99999999999993,
          61.000000000000014,
          125.00000000000011,
          90.00000000000006,
          88.99999999999997,
          95.00000000000003,
          119.99999999999991,
          60.00000000000002,
          54.00000000000007,
          95.00000000000014,
          114.00000000000003,
          109.00000000000011,
          98,
          105.99999999999987,
          70.99999999999986,
          58.00000000000011,
          84.00000000000007,
          96.00000000000011,
          97.00000000000014,
          103.00000000000003,
          88.00000000000003,
          62.00000000000006,
          46.00000000000012,
          104.00000000000016,
          88.00000000000017,
          104.00000000000013,
          93.00000000000007,
          93.99999999999997,
          76.00000000000006,
          27.000000000000092,
          85.00000000000028,
          91.00000000000026,
          99.00000000000023,
          109.00000000000017,
          84.99999999999993,
          63.0000000000001,
          53.000000000000114,
          78.0000000000002,
          101.00000000000017,
          119.00000000000009,
          110,
          106.99999999999989,
          32.99999999999992,
          45.00000000000017,
          82.0000000000003,
          106.00000000000017,
          122.00000000000016,
          105.00000000000001,
          84.99999999999987,
          59.999999999999986,
          47.00000000000016,
          75.0000000000002,
          110.00000000000024,
          77.0000000000001,
          80.00000000000011,
          91.00000000000016,
          64.00000000000011,
          65.0000000000002,
          82.0000000000003,
          77.00000000000026,
          122.00000000000018,
          119,
          104.00000000000003,
          60.99999999999995,
          48.00000000000004,
          112.00000000000011,
          110.00000000000009,
          87.00000000000011,
          34.00000000000015,
          70.00000000000014,
          54.000000000000284,
          60.0000000000003,
          111.00000000000038,
          126.00000000000006,
          110,
          91.99999999999994,
          94.99999999999997,
          57.000000000000014,
          51.00000000000007,
          115.0000000000002,
          121.00000000000009,
          129.00000000000003,
          127.99999999999989
         ]
        }
       ],
       "layout": {
        "legend": {
         "bgcolor": "#F5F6F9",
         "font": {
          "color": "#4D5663"
         }
        },
        "paper_bgcolor": "#F5F6F9",
        "plot_bgcolor": "#F5F6F9",
        "template": {
         "data": {
          "bar": [
           {
            "error_x": {
             "color": "#2a3f5f"
            },
            "error_y": {
             "color": "#2a3f5f"
            },
            "marker": {
             "line": {
              "color": "#E5ECF6",
              "width": 0.5
             },
             "pattern": {
              "fillmode": "overlay",
              "size": 10,
              "solidity": 0.2
             }
            },
            "type": "bar"
           }
          ],
          "barpolar": [
           {
            "marker": {
             "line": {
              "color": "#E5ECF6",
              "width": 0.5
             },
             "pattern": {
              "fillmode": "overlay",
              "size": 10,
              "solidity": 0.2
             }
            },
            "type": "barpolar"
           }
          ],
          "carpet": [
           {
            "aaxis": {
             "endlinecolor": "#2a3f5f",
             "gridcolor": "white",
             "linecolor": "white",
             "minorgridcolor": "white",
             "startlinecolor": "#2a3f5f"
            },
            "baxis": {
             "endlinecolor": "#2a3f5f",
             "gridcolor": "white",
             "linecolor": "white",
             "minorgridcolor": "white",
             "startlinecolor": "#2a3f5f"
            },
            "type": "carpet"
           }
          ],
          "choropleth": [
           {
            "colorbar": {
             "outlinewidth": 0,
             "ticks": ""
            },
            "type": "choropleth"
           }
          ],
          "contour": [
           {
            "colorbar": {
             "outlinewidth": 0,
             "ticks": ""
            },
            "colorscale": [
             [
              0,
              "#0d0887"
             ],
             [
              0.1111111111111111,
              "#46039f"
             ],
             [
              0.2222222222222222,
              "#7201a8"
             ],
             [
              0.3333333333333333,
              "#9c179e"
             ],
             [
              0.4444444444444444,
              "#bd3786"
             ],
             [
              0.5555555555555556,
              "#d8576b"
             ],
             [
              0.6666666666666666,
              "#ed7953"
             ],
             [
              0.7777777777777778,
              "#fb9f3a"
             ],
             [
              0.8888888888888888,
              "#fdca26"
             ],
             [
              1,
              "#f0f921"
             ]
            ],
            "type": "contour"
           }
          ],
          "contourcarpet": [
           {
            "colorbar": {
             "outlinewidth": 0,
             "ticks": ""
            },
            "type": "contourcarpet"
           }
          ],
          "heatmap": [
           {
            "colorbar": {
             "outlinewidth": 0,
             "ticks": ""
            },
            "colorscale": [
             [
              0,
              "#0d0887"
             ],
             [
              0.1111111111111111,
              "#46039f"
             ],
             [
              0.2222222222222222,
              "#7201a8"
             ],
             [
              0.3333333333333333,
              "#9c179e"
             ],
             [
              0.4444444444444444,
              "#bd3786"
             ],
             [
              0.5555555555555556,
              "#d8576b"
             ],
             [
              0.6666666666666666,
              "#ed7953"
             ],
             [
              0.7777777777777778,
              "#fb9f3a"
             ],
             [
              0.8888888888888888,
              "#fdca26"
             ],
             [
              1,
              "#f0f921"
             ]
            ],
            "type": "heatmap"
           }
          ],
          "heatmapgl": [
           {
            "colorbar": {
             "outlinewidth": 0,
             "ticks": ""
            },
            "colorscale": [
             [
              0,
              "#0d0887"
             ],
             [
              0.1111111111111111,
              "#46039f"
             ],
             [
              0.2222222222222222,
              "#7201a8"
             ],
             [
              0.3333333333333333,
              "#9c179e"
             ],
             [
              0.4444444444444444,
              "#bd3786"
             ],
             [
              0.5555555555555556,
              "#d8576b"
             ],
             [
              0.6666666666666666,
              "#ed7953"
             ],
             [
              0.7777777777777778,
              "#fb9f3a"
             ],
             [
              0.8888888888888888,
              "#fdca26"
             ],
             [
              1,
              "#f0f921"
             ]
            ],
            "type": "heatmapgl"
           }
          ],
          "histogram": [
           {
            "marker": {
             "pattern": {
              "fillmode": "overlay",
              "size": 10,
              "solidity": 0.2
             }
            },
            "type": "histogram"
           }
          ],
          "histogram2d": [
           {
            "colorbar": {
             "outlinewidth": 0,
             "ticks": ""
            },
            "colorscale": [
             [
              0,
              "#0d0887"
             ],
             [
              0.1111111111111111,
              "#46039f"
             ],
             [
              0.2222222222222222,
              "#7201a8"
             ],
             [
              0.3333333333333333,
              "#9c179e"
             ],
             [
              0.4444444444444444,
              "#bd3786"
             ],
             [
              0.5555555555555556,
              "#d8576b"
             ],
             [
              0.6666666666666666,
              "#ed7953"
             ],
             [
              0.7777777777777778,
              "#fb9f3a"
             ],
             [
              0.8888888888888888,
              "#fdca26"
             ],
             [
              1,
              "#f0f921"
             ]
            ],
            "type": "histogram2d"
           }
          ],
          "histogram2dcontour": [
           {
            "colorbar": {
             "outlinewidth": 0,
             "ticks": ""
            },
            "colorscale": [
             [
              0,
              "#0d0887"
             ],
             [
              0.1111111111111111,
              "#46039f"
             ],
             [
              0.2222222222222222,
              "#7201a8"
             ],
             [
              0.3333333333333333,
              "#9c179e"
             ],
             [
              0.4444444444444444,
              "#bd3786"
             ],
             [
              0.5555555555555556,
              "#d8576b"
             ],
             [
              0.6666666666666666,
              "#ed7953"
             ],
             [
              0.7777777777777778,
              "#fb9f3a"
             ],
             [
              0.8888888888888888,
              "#fdca26"
             ],
             [
              1,
              "#f0f921"
             ]
            ],
            "type": "histogram2dcontour"
           }
          ],
          "mesh3d": [
           {
            "colorbar": {
             "outlinewidth": 0,
             "ticks": ""
            },
            "type": "mesh3d"
           }
          ],
          "parcoords": [
           {
            "line": {
             "colorbar": {
              "outlinewidth": 0,
              "ticks": ""
             }
            },
            "type": "parcoords"
           }
          ],
          "pie": [
           {
            "automargin": true,
            "type": "pie"
           }
          ],
          "scatter": [
           {
            "marker": {
             "colorbar": {
              "outlinewidth": 0,
              "ticks": ""
             }
            },
            "type": "scatter"
           }
          ],
          "scatter3d": [
           {
            "line": {
             "colorbar": {
              "outlinewidth": 0,
              "ticks": ""
             }
            },
            "marker": {
             "colorbar": {
              "outlinewidth": 0,
              "ticks": ""
             }
            },
            "type": "scatter3d"
           }
          ],
          "scattercarpet": [
           {
            "marker": {
             "colorbar": {
              "outlinewidth": 0,
              "ticks": ""
             }
            },
            "type": "scattercarpet"
           }
          ],
          "scattergeo": [
           {
            "marker": {
             "colorbar": {
              "outlinewidth": 0,
              "ticks": ""
             }
            },
            "type": "scattergeo"
           }
          ],
          "scattergl": [
           {
            "marker": {
             "colorbar": {
              "outlinewidth": 0,
              "ticks": ""
             }
            },
            "type": "scattergl"
           }
          ],
          "scattermapbox": [
           {
            "marker": {
             "colorbar": {
              "outlinewidth": 0,
              "ticks": ""
             }
            },
            "type": "scattermapbox"
           }
          ],
          "scatterpolar": [
           {
            "marker": {
             "colorbar": {
              "outlinewidth": 0,
              "ticks": ""
             }
            },
            "type": "scatterpolar"
           }
          ],
          "scatterpolargl": [
           {
            "marker": {
             "colorbar": {
              "outlinewidth": 0,
              "ticks": ""
             }
            },
            "type": "scatterpolargl"
           }
          ],
          "scatterternary": [
           {
            "marker": {
             "colorbar": {
              "outlinewidth": 0,
              "ticks": ""
             }
            },
            "type": "scatterternary"
           }
          ],
          "surface": [
           {
            "colorbar": {
             "outlinewidth": 0,
             "ticks": ""
            },
            "colorscale": [
             [
              0,
              "#0d0887"
             ],
             [
              0.1111111111111111,
              "#46039f"
             ],
             [
              0.2222222222222222,
              "#7201a8"
             ],
             [
              0.3333333333333333,
              "#9c179e"
             ],
             [
              0.4444444444444444,
              "#bd3786"
             ],
             [
              0.5555555555555556,
              "#d8576b"
             ],
             [
              0.6666666666666666,
              "#ed7953"
             ],
             [
              0.7777777777777778,
              "#fb9f3a"
             ],
             [
              0.8888888888888888,
              "#fdca26"
             ],
             [
              1,
              "#f0f921"
             ]
            ],
            "type": "surface"
           }
          ],
          "table": [
           {
            "cells": {
             "fill": {
              "color": "#EBF0F8"
             },
             "line": {
              "color": "white"
             }
            },
            "header": {
             "fill": {
              "color": "#C8D4E3"
             },
             "line": {
              "color": "white"
             }
            },
            "type": "table"
           }
          ]
         },
         "layout": {
          "annotationdefaults": {
           "arrowcolor": "#2a3f5f",
           "arrowhead": 0,
           "arrowwidth": 1
          },
          "autotypenumbers": "strict",
          "coloraxis": {
           "colorbar": {
            "outlinewidth": 0,
            "ticks": ""
           }
          },
          "colorscale": {
           "diverging": [
            [
             0,
             "#8e0152"
            ],
            [
             0.1,
             "#c51b7d"
            ],
            [
             0.2,
             "#de77ae"
            ],
            [
             0.3,
             "#f1b6da"
            ],
            [
             0.4,
             "#fde0ef"
            ],
            [
             0.5,
             "#f7f7f7"
            ],
            [
             0.6,
             "#e6f5d0"
            ],
            [
             0.7,
             "#b8e186"
            ],
            [
             0.8,
             "#7fbc41"
            ],
            [
             0.9,
             "#4d9221"
            ],
            [
             1,
             "#276419"
            ]
           ],
           "sequential": [
            [
             0,
             "#0d0887"
            ],
            [
             0.1111111111111111,
             "#46039f"
            ],
            [
             0.2222222222222222,
             "#7201a8"
            ],
            [
             0.3333333333333333,
             "#9c179e"
            ],
            [
             0.4444444444444444,
             "#bd3786"
            ],
            [
             0.5555555555555556,
             "#d8576b"
            ],
            [
             0.6666666666666666,
             "#ed7953"
            ],
            [
             0.7777777777777778,
             "#fb9f3a"
            ],
            [
             0.8888888888888888,
             "#fdca26"
            ],
            [
             1,
             "#f0f921"
            ]
           ],
           "sequentialminus": [
            [
             0,
             "#0d0887"
            ],
            [
             0.1111111111111111,
             "#46039f"
            ],
            [
             0.2222222222222222,
             "#7201a8"
            ],
            [
             0.3333333333333333,
             "#9c179e"
            ],
            [
             0.4444444444444444,
             "#bd3786"
            ],
            [
             0.5555555555555556,
             "#d8576b"
            ],
            [
             0.6666666666666666,
             "#ed7953"
            ],
            [
             0.7777777777777778,
             "#fb9f3a"
            ],
            [
             0.8888888888888888,
             "#fdca26"
            ],
            [
             1,
             "#f0f921"
            ]
           ]
          },
          "colorway": [
           "#636efa",
           "#EF553B",
           "#00cc96",
           "#ab63fa",
           "#FFA15A",
           "#19d3f3",
           "#FF6692",
           "#B6E880",
           "#FF97FF",
           "#FECB52"
          ],
          "font": {
           "color": "#2a3f5f"
          },
          "geo": {
           "bgcolor": "white",
           "lakecolor": "white",
           "landcolor": "#E5ECF6",
           "showlakes": true,
           "showland": true,
           "subunitcolor": "white"
          },
          "hoverlabel": {
           "align": "left"
          },
          "hovermode": "closest",
          "mapbox": {
           "style": "light"
          },
          "paper_bgcolor": "white",
          "plot_bgcolor": "#E5ECF6",
          "polar": {
           "angularaxis": {
            "gridcolor": "white",
            "linecolor": "white",
            "ticks": ""
           },
           "bgcolor": "#E5ECF6",
           "radialaxis": {
            "gridcolor": "white",
            "linecolor": "white",
            "ticks": ""
           }
          },
          "scene": {
           "xaxis": {
            "backgroundcolor": "#E5ECF6",
            "gridcolor": "white",
            "gridwidth": 2,
            "linecolor": "white",
            "showbackground": true,
            "ticks": "",
            "zerolinecolor": "white"
           },
           "yaxis": {
            "backgroundcolor": "#E5ECF6",
            "gridcolor": "white",
            "gridwidth": 2,
            "linecolor": "white",
            "showbackground": true,
            "ticks": "",
            "zerolinecolor": "white"
           },
           "zaxis": {
            "backgroundcolor": "#E5ECF6",
            "gridcolor": "white",
            "gridwidth": 2,
            "linecolor": "white",
            "showbackground": true,
            "ticks": "",
            "zerolinecolor": "white"
           }
          },
          "shapedefaults": {
           "line": {
            "color": "#2a3f5f"
           }
          },
          "ternary": {
           "aaxis": {
            "gridcolor": "white",
            "linecolor": "white",
            "ticks": ""
           },
           "baxis": {
            "gridcolor": "white",
            "linecolor": "white",
            "ticks": ""
           },
           "bgcolor": "#E5ECF6",
           "caxis": {
            "gridcolor": "white",
            "linecolor": "white",
            "ticks": ""
           }
          },
          "title": {
           "x": 0.05
          },
          "xaxis": {
           "automargin": true,
           "gridcolor": "white",
           "linecolor": "white",
           "ticks": "",
           "title": {
            "standoff": 15
           },
           "zerolinecolor": "white",
           "zerolinewidth": 2
          },
          "yaxis": {
           "automargin": true,
           "gridcolor": "white",
           "linecolor": "white",
           "ticks": "",
           "title": {
            "standoff": 15
           },
           "zerolinecolor": "white",
           "zerolinewidth": 2
          }
         }
        },
        "title": {
         "font": {
          "color": "#4D5663"
         },
         "text": "1.0"
        },
        "xaxis": {
         "gridcolor": "#E1E5ED",
         "showgrid": true,
         "tickfont": {
          "color": "#4D5663"
         },
         "title": {
          "font": {
           "color": "#4D5663"
          },
          "text": ""
         },
         "zerolinecolor": "#E1E5ED"
        },
        "yaxis": {
         "gridcolor": "#E1E5ED",
         "showgrid": true,
         "tickfont": {
          "color": "#4D5663"
         },
         "title": {
          "font": {
           "color": "#4D5663"
          },
          "text": ""
         },
         "zerolinecolor": "#E1E5ED"
        }
       }
      },
      "text/html": [
       "<div>                            <div id=\"aa65508b-4a18-4592-b1b2-c37a404f3c5c\" class=\"plotly-graph-div\" style=\"height:525px; width:100%;\"></div>            <script type=\"text/javascript\">                require([\"plotly\"], function(Plotly) {                    window.PLOTLYENV=window.PLOTLYENV || {};\n",
       "                    window.PLOTLYENV.BASE_URL='https://plot.ly';                                    if (document.getElementById(\"aa65508b-4a18-4592-b1b2-c37a404f3c5c\")) {                    Plotly.newPlot(                        \"aa65508b-4a18-4592-b1b2-c37a404f3c5c\",                        [{\"line\":{\"color\":\"rgba(255, 153, 51, 1.0)\",\"dash\":\"solid\",\"shape\":\"linear\",\"width\":1.3},\"mode\":\"lines\",\"name\":\"real\",\"text\":\"\",\"type\":\"scatter\",\"x\":[\"2018-06-05\",\"2018-06-06\",\"2018-06-07\",\"2018-06-08\",\"2018-06-09\",\"2018-06-10\",\"2018-06-11\",\"2018-06-12\",\"2018-06-13\",\"2018-06-14\",\"2018-06-15\",\"2018-06-16\",\"2018-06-17\",\"2018-06-18\",\"2018-06-19\",\"2018-06-20\",\"2018-06-21\",\"2018-06-22\",\"2018-06-23\",\"2018-06-24\",\"2018-06-25\",\"2018-06-26\",\"2018-06-27\",\"2018-06-28\",\"2018-06-29\",\"2018-06-30\",\"2018-07-01\",\"2018-07-02\",\"2018-07-03\",\"2018-07-04\",\"2018-07-05\",\"2018-07-06\",\"2018-07-07\",\"2018-07-08\",\"2018-07-09\",\"2018-07-10\",\"2018-07-11\",\"2018-07-12\",\"2018-07-13\",\"2018-07-14\",\"2018-07-15\",\"2018-07-16\",\"2018-07-17\",\"2018-07-18\",\"2018-07-19\",\"2018-07-20\",\"2018-07-21\",\"2018-07-22\",\"2018-07-23\",\"2018-07-24\",\"2018-07-25\",\"2018-07-26\",\"2018-07-27\",\"2018-07-28\",\"2018-07-29\",\"2018-07-30\",\"2018-07-31\",\"2018-08-01\",\"2018-08-02\",\"2018-08-03\",\"2018-08-04\",\"2018-08-05\",\"2018-08-06\",\"2018-08-07\",\"2018-08-08\",\"2018-08-09\",\"2018-08-10\",\"2018-08-11\",\"2018-08-12\",\"2018-08-13\",\"2018-08-14\",\"2018-08-15\",\"2018-08-16\",\"2018-08-17\",\"2018-08-18\",\"2018-08-19\",\"2018-08-20\",\"2018-08-21\",\"2018-08-22\",\"2018-08-23\",\"2018-08-24\",\"2018-08-25\",\"2018-08-26\",\"2018-08-27\",\"2018-08-28\",\"2018-08-29\",\"2018-08-30\",\"2018-08-31\",\"2018-09-01\",\"2018-09-02\",\"2018-09-03\",\"2018-09-04\",\"2018-09-05\",\"2018-09-06\",\"2018-09-07\",\"2018-09-08\",\"2018-09-09\",\"2018-09-10\",\"2018-09-11\",\"2018-09-12\",\"2018-09-13\",\"2018-09-14\",\"2018-09-15\",\"2018-09-16\",\"2018-09-17\",\"2018-09-18\",\"2018-09-19\",\"2018-09-20\",\"2018-09-21\",\"2018-09-22\",\"2018-09-23\",\"2018-09-24\",\"2018-09-25\",\"2018-09-26\",\"2018-09-27\",\"2018-09-28\",\"2018-09-29\",\"2018-09-30\",\"2019-06-01\",\"2019-06-02\",\"2019-06-03\",\"2019-06-04\",\"2019-06-05\",\"2019-06-06\",\"2019-06-07\",\"2019-06-08\",\"2019-06-09\",\"2019-06-10\",\"2019-06-11\",\"2019-06-12\",\"2019-06-13\",\"2019-06-14\",\"2019-06-15\",\"2019-06-16\",\"2019-06-17\",\"2019-06-18\",\"2019-06-19\",\"2019-06-20\",\"2019-06-21\",\"2019-06-22\",\"2019-06-23\",\"2019-06-24\",\"2019-06-25\",\"2019-06-26\",\"2019-06-27\",\"2019-06-28\",\"2019-06-29\",\"2019-06-30\",\"2019-07-01\",\"2019-07-02\",\"2019-07-03\",\"2019-07-04\",\"2019-07-05\",\"2019-07-06\",\"2019-07-07\",\"2019-07-08\",\"2019-07-09\",\"2019-07-10\",\"2019-07-11\",\"2019-07-12\",\"2019-07-13\",\"2019-07-14\",\"2019-07-15\",\"2019-07-16\",\"2019-07-17\",\"2019-07-18\",\"2019-07-19\",\"2019-07-20\",\"2019-07-21\",\"2019-07-22\",\"2019-07-23\",\"2019-07-24\",\"2019-07-25\",\"2019-07-26\",\"2019-07-27\",\"2019-07-28\",\"2019-07-29\",\"2019-07-30\",\"2019-07-31\",\"2019-08-01\",\"2019-08-02\",\"2019-08-03\",\"2019-08-04\",\"2019-08-05\",\"2019-08-06\",\"2019-08-07\",\"2019-08-08\",\"2019-08-09\",\"2019-08-10\",\"2019-08-11\",\"2019-08-12\",\"2019-08-13\",\"2019-08-14\",\"2019-08-15\",\"2019-08-16\",\"2019-08-17\",\"2019-08-18\",\"2019-08-19\",\"2019-08-20\",\"2019-08-21\",\"2019-08-22\",\"2019-08-23\",\"2019-08-24\",\"2019-08-25\",\"2019-08-26\",\"2019-08-27\",\"2019-08-28\",\"2019-08-29\",\"2019-08-30\",\"2019-08-31\",\"2019-09-01\",\"2019-09-02\",\"2019-09-03\",\"2019-09-04\",\"2019-09-05\",\"2019-09-06\",\"2019-09-07\",\"2019-09-08\",\"2019-09-09\",\"2019-09-10\",\"2019-09-11\",\"2019-09-12\",\"2019-09-13\",\"2019-09-14\",\"2019-09-15\",\"2019-09-16\",\"2019-09-17\",\"2019-09-18\",\"2019-09-19\",\"2019-09-20\",\"2019-09-21\",\"2019-09-22\",\"2019-09-23\",\"2019-09-24\",\"2019-09-25\",\"2019-09-26\",\"2019-09-27\",\"2019-09-28\",\"2019-09-29\",\"2019-09-30\",\"2020-06-01\",\"2020-06-02\",\"2020-06-03\",\"2020-06-04\",\"2020-06-05\",\"2020-06-06\",\"2020-06-07\",\"2020-06-08\",\"2020-06-09\",\"2020-06-10\",\"2020-06-11\",\"2020-06-12\",\"2020-06-13\",\"2020-06-14\",\"2020-06-15\",\"2020-06-16\",\"2020-06-17\",\"2020-06-18\",\"2020-06-19\",\"2020-06-20\",\"2020-06-21\",\"2020-06-22\",\"2020-06-23\",\"2020-06-24\",\"2020-06-25\",\"2020-06-26\",\"2020-06-27\",\"2020-06-28\",\"2020-06-29\",\"2020-06-30\",\"2020-07-01\",\"2020-07-02\",\"2020-07-03\",\"2020-07-04\",\"2020-07-05\",\"2020-07-06\",\"2020-07-07\",\"2020-07-08\",\"2020-07-09\",\"2020-07-10\",\"2020-07-11\",\"2020-07-12\",\"2020-07-13\",\"2020-07-14\",\"2020-07-15\",\"2020-07-16\",\"2020-07-17\",\"2020-07-18\",\"2020-07-19\",\"2020-07-20\",\"2020-07-21\",\"2020-07-22\",\"2020-07-23\",\"2020-07-24\",\"2020-07-25\",\"2020-07-26\",\"2020-07-27\",\"2020-07-28\",\"2020-07-29\",\"2020-07-30\",\"2020-07-31\",\"2020-08-01\",\"2020-08-02\",\"2020-08-03\",\"2020-08-04\",\"2020-08-05\",\"2020-08-06\",\"2020-08-07\",\"2020-08-08\",\"2020-08-09\",\"2020-08-10\",\"2020-08-11\",\"2020-08-12\",\"2020-08-13\",\"2020-08-14\",\"2020-08-15\",\"2020-08-16\",\"2020-08-17\",\"2020-08-18\",\"2020-08-19\",\"2020-08-20\",\"2020-08-21\",\"2020-08-22\",\"2020-08-23\",\"2020-08-24\",\"2020-08-25\",\"2020-08-26\",\"2020-08-27\",\"2020-08-28\",\"2020-08-29\",\"2020-08-30\",\"2020-08-31\",\"2020-09-01\",\"2020-09-02\",\"2020-09-03\",\"2020-09-04\",\"2020-09-05\",\"2020-09-06\",\"2020-09-07\",\"2020-09-08\",\"2020-09-09\",\"2020-09-10\",\"2020-09-11\",\"2020-09-12\",\"2020-09-13\",\"2020-09-14\",\"2020-09-15\",\"2020-09-16\",\"2020-09-17\",\"2020-09-18\",\"2020-09-19\",\"2020-09-20\",\"2020-09-21\",\"2020-09-22\",\"2020-09-23\",\"2020-09-24\",\"2020-09-25\",\"2020-09-26\",\"2020-09-27\",\"2020-09-28\",\"2020-09-29\",\"2020-09-30\",\"2021-06-01\",\"2021-06-02\",\"2021-06-03\",\"2021-06-04\",\"2021-06-05\",\"2021-06-06\",\"2021-06-07\",\"2021-06-08\",\"2021-06-09\",\"2021-06-10\",\"2021-06-11\",\"2021-06-12\",\"2021-06-13\",\"2021-06-14\",\"2021-06-15\",\"2021-06-16\",\"2021-06-17\",\"2021-06-18\",\"2021-06-19\",\"2021-06-20\",\"2021-06-21\",\"2021-06-22\",\"2021-06-23\",\"2021-06-24\",\"2021-06-25\",\"2021-06-26\",\"2021-06-27\",\"2021-06-28\",\"2021-06-29\",\"2021-06-30\",\"2021-07-01\",\"2021-07-02\",\"2021-07-03\",\"2021-07-04\",\"2021-07-05\",\"2021-07-06\",\"2021-07-07\",\"2021-07-08\",\"2021-07-09\",\"2021-07-10\",\"2021-07-11\",\"2021-07-12\",\"2021-07-13\",\"2021-07-14\",\"2021-07-15\",\"2021-07-16\",\"2021-07-17\",\"2021-07-18\",\"2021-07-19\",\"2021-07-20\",\"2021-07-21\",\"2021-07-22\",\"2021-07-23\",\"2021-07-24\",\"2021-07-25\",\"2021-07-26\",\"2021-07-27\",\"2021-07-28\",\"2021-07-29\",\"2021-07-30\",\"2021-07-31\",\"2021-08-01\",\"2021-08-02\",\"2021-08-03\",\"2021-08-04\",\"2021-08-05\",\"2021-08-06\",\"2021-08-07\",\"2021-08-08\",\"2021-08-09\",\"2021-08-10\",\"2021-08-11\",\"2021-08-12\",\"2021-08-13\",\"2021-08-14\",\"2021-08-15\",\"2021-08-16\",\"2021-08-17\",\"2021-08-18\",\"2021-08-19\",\"2021-08-20\",\"2021-08-21\",\"2021-08-22\",\"2021-08-23\",\"2021-08-24\",\"2021-08-25\",\"2021-08-26\",\"2021-08-27\",\"2021-08-28\",\"2021-08-29\",\"2021-08-30\",\"2021-08-31\",\"2021-09-01\",\"2021-09-02\",\"2021-09-03\",\"2021-09-04\",\"2021-09-05\",\"2021-09-06\",\"2021-09-07\",\"2021-09-08\",\"2021-09-09\",\"2021-09-10\",\"2021-09-11\",\"2021-09-12\",\"2021-09-13\",\"2021-09-14\",\"2021-09-15\",\"2021-09-16\",\"2021-09-17\",\"2021-09-18\",\"2021-09-19\",\"2021-09-20\",\"2021-09-21\",\"2021-09-22\",\"2021-09-23\",\"2021-09-24\",\"2021-09-25\",\"2021-09-26\",\"2021-09-27\",\"2021-09-28\",\"2021-09-29\",\"2021-09-30\"],\"y\":[304.0,302.0,307.0,314.0,108.0,134.0,277.0,222.0,204.0,158.0,216.0,106.0,95.0,189.0,284.0,302.0,206.0,305.0,111.0,90.0,279.0,212.0,287.0,248.0,283.0,104.0,102.0,227.0,243.0,273.0,271.0,256.0,118.0,91.0,237.0,234.0,240.0,264.0,224.0,107.0,102.0,248.0,312.0,283.0,278.0,230.0,108.0,85.0,287.0,267.0,250.0,238.0,265.0,89.0,93.0,269.0,246.0,292.0,264.0,221.0,116.0,82.0,241.0,235.0,254.0,243.0,247.0,100.0,93.0,203.0,288.0,217.0,254.0,227.0,120.0,90.0,238.0,255.0,302.0,257.0,264.0,105.0,89.0,235.0,228.0,293.0,236.0,258.0,122.0,99.0,305.0,314.0,303.0,282.0,258.0,103.0,91.0,294.0,250.0,263.0,262.0,269.0,85.0,57.0,249.0,291.0,264.0,269.0,271.0,96.0,83.0,281.0,296.0,248.0,278.0,269.0,113.0,119.0,85.0,112.0,294.0,278.0,232.0,194.0,222.0,111.0,104.0,254.0,287.0,301.0,243.0,259.0,115.0,102.0,274.0,282.0,258.0,248.0,240.0,122.0,81.0,221.0,251.0,258.0,258.0,227.0,129.0,96.0,233.0,237.0,277.0,234.0,255.0,97.0,117.0,193.0,266.0,225.0,243.0,228.0,101.0,97.0,230.0,266.0,271.0,214.0,226.0,103.0,74.0,255.0,233.0,244.0,163.0,200.0,99.0,87.0,244.0,260.0,240.0,230.0,252.0,114.0,105.0,209.0,225.0,249.0,254.0,211.0,118.0,91.0,233.0,256.0,241.0,247.0,254.0,132.0,105.0,248.0,252.0,270.0,208.0,236.0,104.0,103.0,242.0,275.0,279.0,238.0,246.0,128.0,115.0,254.0,268.0,256.0,274.0,145.0,126.0,88.0,245.0,207.0,261.0,252.0,226.0,106.0,86.0,61.0,255.0,234.0,208.0,223.0,123.0,102.0,260.0,199.0,251.0,249.0,258.0,109.0,88.0,244.0,56.0,55.0,63.0,57.0,28.0,12.0,23.0,43.0,63.0,59.0,66.0,61.0,42.0,55.0,58.0,55.0,51.0,55.0,55.0,61.0,40.0,44.0,44.0,58.0,62.0,58.0,54.0,51.0,61.0,71.0,69.0,81.0,59.0,50.0,55.0,77.0,64.0,66.0,74.0,81.0,61.0,42.0,76.0,83.0,77.0,79.0,87.0,45.0,42.0,84.0,80.0,91.0,79.0,86.0,65.0,47.0,83.0,78.0,88.0,94.0,82.0,62.0,65.0,82.0,82.0,94.0,112.0,94.0,52.0,44.0,82.0,88.0,89.0,110.0,93.0,72.0,61.0,83.0,97.0,92.0,71.0,104.0,81.0,57.0,80.0,97.0,85.0,104.0,99.0,70.0,74.0,110.0,108.0,98.0,117.0,88.0,71.0,64.0,78.0,95.0,115.0,91.0,117.0,61.0,58.0,96.0,100.0,60.0,104.0,81.0,67.0,53.0,87.0,102.0,105.0,101.0,110.0,76.0,68.0,97.0,87.0,112.0,112.0,113.0,99.0,105.0,79.0,63.0,143.0,102.0,108.0,129.0,101.0,60.0,64.0,113.0,114.0,129.0,119.0,86.0,72.0,34.0,104.0,101.0,116.0,110.0,109.0,78.0,34.0,109.0,95.0,79.0,106.0,95.0,66.0,46.0,93.0,116.0,133.0,99.0,95.0,62.0,61.0,125.0,90.0,89.0,95.0,120.0,60.0,54.0,95.0,114.0,109.0,98.0,106.0,71.0,58.0,84.0,96.0,97.0,103.0,88.0,62.0,46.0,104.0,88.0,104.0,93.0,94.0,76.0,27.0,85.0,91.0,99.0,109.0,85.0,63.0,53.0,78.0,101.0,119.0,110.0,107.0,33.0,45.0,82.0,106.0,122.0,105.0,85.0,60.0,47.0,75.0,110.0,77.0,80.0,91.0,64.0,65.0,82.0,77.0,122.0,119.0,104.0,61.0,48.0,112.0,110.0,87.0,34.0,70.0,54.0,60.0,111.0,126.0,110.0,92.0,95.0,57.0,51.0,115.0,121.0,129.0,128.0]},{\"line\":{\"color\":\"rgba(55, 128, 191, 1.0)\",\"dash\":\"solid\",\"shape\":\"linear\",\"width\":1.3},\"mode\":\"lines\",\"name\":\"estimado\",\"text\":\"\",\"type\":\"scatter\",\"x\":[\"2018-06-05\",\"2018-06-06\",\"2018-06-07\",\"2018-06-08\",\"2018-06-09\",\"2018-06-10\",\"2018-06-11\",\"2018-06-12\",\"2018-06-13\",\"2018-06-14\",\"2018-06-15\",\"2018-06-16\",\"2018-06-17\",\"2018-06-18\",\"2018-06-19\",\"2018-06-20\",\"2018-06-21\",\"2018-06-22\",\"2018-06-23\",\"2018-06-24\",\"2018-06-25\",\"2018-06-26\",\"2018-06-27\",\"2018-06-28\",\"2018-06-29\",\"2018-06-30\",\"2018-07-01\",\"2018-07-02\",\"2018-07-03\",\"2018-07-04\",\"2018-07-05\",\"2018-07-06\",\"2018-07-07\",\"2018-07-08\",\"2018-07-09\",\"2018-07-10\",\"2018-07-11\",\"2018-07-12\",\"2018-07-13\",\"2018-07-14\",\"2018-07-15\",\"2018-07-16\",\"2018-07-17\",\"2018-07-18\",\"2018-07-19\",\"2018-07-20\",\"2018-07-21\",\"2018-07-22\",\"2018-07-23\",\"2018-07-24\",\"2018-07-25\",\"2018-07-26\",\"2018-07-27\",\"2018-07-28\",\"2018-07-29\",\"2018-07-30\",\"2018-07-31\",\"2018-08-01\",\"2018-08-02\",\"2018-08-03\",\"2018-08-04\",\"2018-08-05\",\"2018-08-06\",\"2018-08-07\",\"2018-08-08\",\"2018-08-09\",\"2018-08-10\",\"2018-08-11\",\"2018-08-12\",\"2018-08-13\",\"2018-08-14\",\"2018-08-15\",\"2018-08-16\",\"2018-08-17\",\"2018-08-18\",\"2018-08-19\",\"2018-08-20\",\"2018-08-21\",\"2018-08-22\",\"2018-08-23\",\"2018-08-24\",\"2018-08-25\",\"2018-08-26\",\"2018-08-27\",\"2018-08-28\",\"2018-08-29\",\"2018-08-30\",\"2018-08-31\",\"2018-09-01\",\"2018-09-02\",\"2018-09-03\",\"2018-09-04\",\"2018-09-05\",\"2018-09-06\",\"2018-09-07\",\"2018-09-08\",\"2018-09-09\",\"2018-09-10\",\"2018-09-11\",\"2018-09-12\",\"2018-09-13\",\"2018-09-14\",\"2018-09-15\",\"2018-09-16\",\"2018-09-17\",\"2018-09-18\",\"2018-09-19\",\"2018-09-20\",\"2018-09-21\",\"2018-09-22\",\"2018-09-23\",\"2018-09-24\",\"2018-09-25\",\"2018-09-26\",\"2018-09-27\",\"2018-09-28\",\"2018-09-29\",\"2018-09-30\",\"2019-06-01\",\"2019-06-02\",\"2019-06-03\",\"2019-06-04\",\"2019-06-05\",\"2019-06-06\",\"2019-06-07\",\"2019-06-08\",\"2019-06-09\",\"2019-06-10\",\"2019-06-11\",\"2019-06-12\",\"2019-06-13\",\"2019-06-14\",\"2019-06-15\",\"2019-06-16\",\"2019-06-17\",\"2019-06-18\",\"2019-06-19\",\"2019-06-20\",\"2019-06-21\",\"2019-06-22\",\"2019-06-23\",\"2019-06-24\",\"2019-06-25\",\"2019-06-26\",\"2019-06-27\",\"2019-06-28\",\"2019-06-29\",\"2019-06-30\",\"2019-07-01\",\"2019-07-02\",\"2019-07-03\",\"2019-07-04\",\"2019-07-05\",\"2019-07-06\",\"2019-07-07\",\"2019-07-08\",\"2019-07-09\",\"2019-07-10\",\"2019-07-11\",\"2019-07-12\",\"2019-07-13\",\"2019-07-14\",\"2019-07-15\",\"2019-07-16\",\"2019-07-17\",\"2019-07-18\",\"2019-07-19\",\"2019-07-20\",\"2019-07-21\",\"2019-07-22\",\"2019-07-23\",\"2019-07-24\",\"2019-07-25\",\"2019-07-26\",\"2019-07-27\",\"2019-07-28\",\"2019-07-29\",\"2019-07-30\",\"2019-07-31\",\"2019-08-01\",\"2019-08-02\",\"2019-08-03\",\"2019-08-04\",\"2019-08-05\",\"2019-08-06\",\"2019-08-07\",\"2019-08-08\",\"2019-08-09\",\"2019-08-10\",\"2019-08-11\",\"2019-08-12\",\"2019-08-13\",\"2019-08-14\",\"2019-08-15\",\"2019-08-16\",\"2019-08-17\",\"2019-08-18\",\"2019-08-19\",\"2019-08-20\",\"2019-08-21\",\"2019-08-22\",\"2019-08-23\",\"2019-08-24\",\"2019-08-25\",\"2019-08-26\",\"2019-08-27\",\"2019-08-28\",\"2019-08-29\",\"2019-08-30\",\"2019-08-31\",\"2019-09-01\",\"2019-09-02\",\"2019-09-03\",\"2019-09-04\",\"2019-09-05\",\"2019-09-06\",\"2019-09-07\",\"2019-09-08\",\"2019-09-09\",\"2019-09-10\",\"2019-09-11\",\"2019-09-12\",\"2019-09-13\",\"2019-09-14\",\"2019-09-15\",\"2019-09-16\",\"2019-09-17\",\"2019-09-18\",\"2019-09-19\",\"2019-09-20\",\"2019-09-21\",\"2019-09-22\",\"2019-09-23\",\"2019-09-24\",\"2019-09-25\",\"2019-09-26\",\"2019-09-27\",\"2019-09-28\",\"2019-09-29\",\"2019-09-30\",\"2020-06-01\",\"2020-06-02\",\"2020-06-03\",\"2020-06-04\",\"2020-06-05\",\"2020-06-06\",\"2020-06-07\",\"2020-06-08\",\"2020-06-09\",\"2020-06-10\",\"2020-06-11\",\"2020-06-12\",\"2020-06-13\",\"2020-06-14\",\"2020-06-15\",\"2020-06-16\",\"2020-06-17\",\"2020-06-18\",\"2020-06-19\",\"2020-06-20\",\"2020-06-21\",\"2020-06-22\",\"2020-06-23\",\"2020-06-24\",\"2020-06-25\",\"2020-06-26\",\"2020-06-27\",\"2020-06-28\",\"2020-06-29\",\"2020-06-30\",\"2020-07-01\",\"2020-07-02\",\"2020-07-03\",\"2020-07-04\",\"2020-07-05\",\"2020-07-06\",\"2020-07-07\",\"2020-07-08\",\"2020-07-09\",\"2020-07-10\",\"2020-07-11\",\"2020-07-12\",\"2020-07-13\",\"2020-07-14\",\"2020-07-15\",\"2020-07-16\",\"2020-07-17\",\"2020-07-18\",\"2020-07-19\",\"2020-07-20\",\"2020-07-21\",\"2020-07-22\",\"2020-07-23\",\"2020-07-24\",\"2020-07-25\",\"2020-07-26\",\"2020-07-27\",\"2020-07-28\",\"2020-07-29\",\"2020-07-30\",\"2020-07-31\",\"2020-08-01\",\"2020-08-02\",\"2020-08-03\",\"2020-08-04\",\"2020-08-05\",\"2020-08-06\",\"2020-08-07\",\"2020-08-08\",\"2020-08-09\",\"2020-08-10\",\"2020-08-11\",\"2020-08-12\",\"2020-08-13\",\"2020-08-14\",\"2020-08-15\",\"2020-08-16\",\"2020-08-17\",\"2020-08-18\",\"2020-08-19\",\"2020-08-20\",\"2020-08-21\",\"2020-08-22\",\"2020-08-23\",\"2020-08-24\",\"2020-08-25\",\"2020-08-26\",\"2020-08-27\",\"2020-08-28\",\"2020-08-29\",\"2020-08-30\",\"2020-08-31\",\"2020-09-01\",\"2020-09-02\",\"2020-09-03\",\"2020-09-04\",\"2020-09-05\",\"2020-09-06\",\"2020-09-07\",\"2020-09-08\",\"2020-09-09\",\"2020-09-10\",\"2020-09-11\",\"2020-09-12\",\"2020-09-13\",\"2020-09-14\",\"2020-09-15\",\"2020-09-16\",\"2020-09-17\",\"2020-09-18\",\"2020-09-19\",\"2020-09-20\",\"2020-09-21\",\"2020-09-22\",\"2020-09-23\",\"2020-09-24\",\"2020-09-25\",\"2020-09-26\",\"2020-09-27\",\"2020-09-28\",\"2020-09-29\",\"2020-09-30\",\"2021-06-01\",\"2021-06-02\",\"2021-06-03\",\"2021-06-04\",\"2021-06-05\",\"2021-06-06\",\"2021-06-07\",\"2021-06-08\",\"2021-06-09\",\"2021-06-10\",\"2021-06-11\",\"2021-06-12\",\"2021-06-13\",\"2021-06-14\",\"2021-06-15\",\"2021-06-16\",\"2021-06-17\",\"2021-06-18\",\"2021-06-19\",\"2021-06-20\",\"2021-06-21\",\"2021-06-22\",\"2021-06-23\",\"2021-06-24\",\"2021-06-25\",\"2021-06-26\",\"2021-06-27\",\"2021-06-28\",\"2021-06-29\",\"2021-06-30\",\"2021-07-01\",\"2021-07-02\",\"2021-07-03\",\"2021-07-04\",\"2021-07-05\",\"2021-07-06\",\"2021-07-07\",\"2021-07-08\",\"2021-07-09\",\"2021-07-10\",\"2021-07-11\",\"2021-07-12\",\"2021-07-13\",\"2021-07-14\",\"2021-07-15\",\"2021-07-16\",\"2021-07-17\",\"2021-07-18\",\"2021-07-19\",\"2021-07-20\",\"2021-07-21\",\"2021-07-22\",\"2021-07-23\",\"2021-07-24\",\"2021-07-25\",\"2021-07-26\",\"2021-07-27\",\"2021-07-28\",\"2021-07-29\",\"2021-07-30\",\"2021-07-31\",\"2021-08-01\",\"2021-08-02\",\"2021-08-03\",\"2021-08-04\",\"2021-08-05\",\"2021-08-06\",\"2021-08-07\",\"2021-08-08\",\"2021-08-09\",\"2021-08-10\",\"2021-08-11\",\"2021-08-12\",\"2021-08-13\",\"2021-08-14\",\"2021-08-15\",\"2021-08-16\",\"2021-08-17\",\"2021-08-18\",\"2021-08-19\",\"2021-08-20\",\"2021-08-21\",\"2021-08-22\",\"2021-08-23\",\"2021-08-24\",\"2021-08-25\",\"2021-08-26\",\"2021-08-27\",\"2021-08-28\",\"2021-08-29\",\"2021-08-30\",\"2021-08-31\",\"2021-09-01\",\"2021-09-02\",\"2021-09-03\",\"2021-09-04\",\"2021-09-05\",\"2021-09-06\",\"2021-09-07\",\"2021-09-08\",\"2021-09-09\",\"2021-09-10\",\"2021-09-11\",\"2021-09-12\",\"2021-09-13\",\"2021-09-14\",\"2021-09-15\",\"2021-09-16\",\"2021-09-17\",\"2021-09-18\",\"2021-09-19\",\"2021-09-20\",\"2021-09-21\",\"2021-09-22\",\"2021-09-23\",\"2021-09-24\",\"2021-09-25\",\"2021-09-26\",\"2021-09-27\",\"2021-09-28\",\"2021-09-29\",\"2021-09-30\"],\"y\":[303.9999999999985,301.9999999999985,306.9999999999984,313.9999999999979,107.99999999999812,133.99999999999858,276.99999999999886,221.99999999999886,203.99999999999898,157.99999999999892,215.99999999999878,105.99999999999918,94.99999999999936,188.99999999999955,283.9999999999993,301.9999999999988,205.99999999999878,304.9999999999986,110.99999999999844,89.99999999999896,278.9999999999992,211.99999999999898,286.999999999999,247.99999999999872,282.9999999999985,103.99999999999854,101.99999999999889,226.9999999999992,242.99999999999898,272.999999999999,270.99999999999875,255.99999999999844,117.99999999999847,90.99999999999896,236.9999999999991,233.99999999999906,239.99999999999912,263.99999999999886,223.9999999999987,106.99999999999879,101.99999999999918,247.9999999999992,311.999999999999,282.9999999999988,277.9999999999985,229.99999999999832,107.99999999999848,84.99999999999903,286.9999999999992,266.9999999999989,249.9999999999989,237.99999999999872,264.9999999999983,88.99999999999869,92.99999999999903,268.9999999999992,245.99999999999892,291.99999999999886,263.9999999999985,220.99999999999827,115.99999999999864,81.99999999999896,240.99999999999935,234.99999999999926,253.99999999999915,242.99999999999898,246.9999999999986,99.99999999999865,92.99999999999903,202.9999999999995,287.9999999999992,216.9999999999991,253.99999999999895,226.9999999999985,119.9999999999988,89.99999999999909,237.99999999999926,254.99999999999903,301.999999999999,256.99999999999864,263.99999999999824,104.9999999999985,88.9999999999988,234.99999999999932,227.99999999999923,292.9999999999991,235.99999999999886,257.99999999999847,121.99999999999858,98.99999999999889,304.9999999999992,313.9999999999987,302.99999999999864,281.9999999999984,257.99999999999807,102.99999999999824,90.99999999999882,293.9999999999991,249.999999999999,262.99999999999886,261.99999999999875,268.9999999999983,84.99999999999858,56.99999999999908,248.99999999999937,290.99999999999915,263.9999999999989,268.99999999999875,270.9999999999983,95.9999999999984,82.99999999999892,280.9999999999992,295.99999999999875,247.9999999999989,277.99999999999864,268.9999999999984,112.99999999999845,118.99999999999888,85.00000000000087,112.00000000000063,294.0,277.99999999999943,231.99999999999878,193.99999999999875,221.99999999999858,110.9999999999989,103.99999999999919,253.99999999999937,286.99999999999886,300.99999999999875,242.99999999999855,258.9999999999982,114.99999999999848,101.99999999999888,273.9999999999991,281.9999999999988,257.9999999999988,247.99999999999866,239.99999999999835,121.99999999999852,80.9999999999989,220.99999999999935,250.99999999999915,257.999999999999,257.9999999999988,226.99999999999852,128.99999999999878,95.99999999999886,232.99999999999923,236.999999999999,276.999999999999,233.99999999999878,254.9999999999985,96.99999999999866,116.99999999999892,192.99999999999926,265.99999999999915,224.99999999999906,242.99999999999892,227.99999999999855,100.99999999999865,96.99999999999909,229.9999999999993,265.9999999999991,270.999999999999,213.99999999999883,225.99999999999866,102.99999999999862,73.9999999999992,254.99999999999943,232.99999999999915,243.99999999999915,162.99999999999886,199.99999999999898,98.99999999999909,86.9999999999993,243.99999999999955,259.9999999999991,239.99999999999895,229.99999999999878,251.9999999999984,113.99999999999866,104.999999999999,208.99999999999935,224.99999999999918,248.999999999999,253.99999999999892,210.9999999999986,117.9999999999988,90.99999999999916,232.99999999999932,255.99999999999912,240.99999999999895,246.9999999999988,253.99999999999847,131.99999999999852,104.99999999999899,247.99999999999915,251.99999999999886,269.99999999999875,207.99999999999872,235.99999999999858,103.99999999999878,102.99999999999908,241.99999999999937,274.999999999999,278.9999999999989,237.99999999999872,245.99999999999832,127.99999999999858,114.99999999999889,253.9999999999992,267.99999999999886,255.99999999999878,273.99999999999875,144.9999999999984,125.99999999999882,87.99999999999926,244.99999999999935,206.99999999999932,260.999999999999,251.9999999999989,225.99999999999858,105.99999999999876,85.99999999999902,60.999999999999474,254.9999999999997,233.9999999999995,207.99999999999918,222.99999999999912,122.99999999999878,101.99999999999918,259.99999999999926,198.99999999999903,250.99999999999912,248.9999999999989,257.9999999999985,108.99999999999878,87.99999999999898,243.99999999999926,56.00000000000087,55.000000000000725,63.00000000000059,57.000000000000476,28.000000000000355,12.000000000000519,23.000000000000576,43.00000000000067,63.00000000000059,59.00000000000049,66.00000000000043,61.00000000000035,42.00000000000033,55.00000000000035,58.00000000000037,55.00000000000037,51.0000000000004,55.000000000000426,55.00000000000033,61.000000000000355,40.000000000000426,44.000000000000426,44.000000000000426,58.00000000000048,62.00000000000042,58.00000000000042,54.000000000000384,51.0000000000004,61.000000000000384,71.00000000000034,69.00000000000033,81.00000000000031,59.00000000000024,50.000000000000284,55.00000000000036,77.00000000000038,64.00000000000036,66.00000000000026,74.00000000000036,81.00000000000028,61.0000000000002,42.00000000000033,76.00000000000037,83.00000000000031,77.00000000000023,79.00000000000023,87.00000000000017,45.000000000000185,42.00000000000026,84.00000000000036,80.00000000000028,91.00000000000028,79.00000000000021,86.00000000000011,65.00000000000007,47.000000000000156,83.00000000000021,78.00000000000018,88.00000000000023,94.00000000000017,82.00000000000011,62.000000000000114,65.00000000000017,82.0000000000002,82.00000000000023,94.00000000000023,112.00000000000009,94.00000000000006,52.00000000000003,44.000000000000156,82.00000000000028,88.00000000000024,89.00000000000028,110.00000000000014,93.0,72.00000000000004,61.0000000000001,83.00000000000011,97.00000000000014,92.00000000000017,71.00000000000017,104.00000000000009,81.00000000000007,57.00000000000006,80.00000000000017,97.0000000000001,85.00000000000018,104.00000000000011,99.00000000000007,70.00000000000003,74.00000000000007,110.00000000000011,108.0,98.00000000000001,117.0,87.99999999999989,70.99999999999996,64.0000000000001,78.00000000000007,95.00000000000017,115.00000000000014,91.00000000000006,117.00000000000003,61.0,58.00000000000003,96.00000000000011,100.00000000000004,60.0000000000002,104.00000000000013,81.0000000000001,67.00000000000009,53.00000000000021,87.00000000000021,102.0000000000002,105.00000000000017,101.00000000000007,109.99999999999989,75.99999999999994,68.00000000000003,97.00000000000004,87.00000000000003,112.00000000000006,112.00000000000082,113.00000000000053,99.00000000000026,105.00000000000011,78.99999999999991,62.99999999999999,143.0000000000001,101.99999999999994,107.99999999999989,128.9999999999999,100.99999999999974,59.999999999999886,64.00000000000003,113.00000000000003,113.99999999999997,128.99999999999994,118.99999999999986,85.99999999999989,71.99999999999986,33.99999999999999,104.00000000000023,101.0000000000002,116.00000000000009,110.0,108.9999999999998,77.99999999999991,33.99999999999997,109.00000000000017,95.00000000000009,79.00000000000013,106.00000000000014,94.99999999999997,66.00000000000009,46.000000000000185,93.00000000000026,116.00000000000014,132.99999999999997,98.99999999999993,94.99999999999989,61.99999999999993,61.000000000000014,125.00000000000011,90.00000000000006,88.99999999999997,95.00000000000003,119.99999999999991,60.00000000000002,54.00000000000007,95.00000000000014,114.00000000000003,109.00000000000011,98.0,105.99999999999987,70.99999999999986,58.00000000000011,84.00000000000007,96.00000000000011,97.00000000000014,103.00000000000003,88.00000000000003,62.00000000000006,46.00000000000012,104.00000000000016,88.00000000000017,104.00000000000013,93.00000000000007,93.99999999999997,76.00000000000006,27.000000000000092,85.00000000000028,91.00000000000026,99.00000000000023,109.00000000000017,84.99999999999993,63.0000000000001,53.000000000000114,78.0000000000002,101.00000000000017,119.00000000000009,110.0,106.99999999999989,32.99999999999992,45.00000000000017,82.0000000000003,106.00000000000017,122.00000000000016,105.00000000000001,84.99999999999987,59.999999999999986,47.00000000000016,75.0000000000002,110.00000000000024,77.0000000000001,80.00000000000011,91.00000000000016,64.00000000000011,65.0000000000002,82.0000000000003,77.00000000000026,122.00000000000018,119.0,104.00000000000003,60.99999999999995,48.00000000000004,112.00000000000011,110.00000000000009,87.00000000000011,34.00000000000015,70.00000000000014,54.000000000000284,60.0000000000003,111.00000000000038,126.00000000000006,110.0,91.99999999999994,94.99999999999997,57.000000000000014,51.00000000000007,115.0000000000002,121.00000000000009,129.00000000000003,127.99999999999989]}],                        {\"legend\":{\"bgcolor\":\"#F5F6F9\",\"font\":{\"color\":\"#4D5663\"}},\"paper_bgcolor\":\"#F5F6F9\",\"plot_bgcolor\":\"#F5F6F9\",\"template\":{\"data\":{\"bar\":[{\"error_x\":{\"color\":\"#2a3f5f\"},\"error_y\":{\"color\":\"#2a3f5f\"},\"marker\":{\"line\":{\"color\":\"#E5ECF6\",\"width\":0.5},\"pattern\":{\"fillmode\":\"overlay\",\"size\":10,\"solidity\":0.2}},\"type\":\"bar\"}],\"barpolar\":[{\"marker\":{\"line\":{\"color\":\"#E5ECF6\",\"width\":0.5},\"pattern\":{\"fillmode\":\"overlay\",\"size\":10,\"solidity\":0.2}},\"type\":\"barpolar\"}],\"carpet\":[{\"aaxis\":{\"endlinecolor\":\"#2a3f5f\",\"gridcolor\":\"white\",\"linecolor\":\"white\",\"minorgridcolor\":\"white\",\"startlinecolor\":\"#2a3f5f\"},\"baxis\":{\"endlinecolor\":\"#2a3f5f\",\"gridcolor\":\"white\",\"linecolor\":\"white\",\"minorgridcolor\":\"white\",\"startlinecolor\":\"#2a3f5f\"},\"type\":\"carpet\"}],\"choropleth\":[{\"colorbar\":{\"outlinewidth\":0,\"ticks\":\"\"},\"type\":\"choropleth\"}],\"contour\":[{\"colorbar\":{\"outlinewidth\":0,\"ticks\":\"\"},\"colorscale\":[[0.0,\"#0d0887\"],[0.1111111111111111,\"#46039f\"],[0.2222222222222222,\"#7201a8\"],[0.3333333333333333,\"#9c179e\"],[0.4444444444444444,\"#bd3786\"],[0.5555555555555556,\"#d8576b\"],[0.6666666666666666,\"#ed7953\"],[0.7777777777777778,\"#fb9f3a\"],[0.8888888888888888,\"#fdca26\"],[1.0,\"#f0f921\"]],\"type\":\"contour\"}],\"contourcarpet\":[{\"colorbar\":{\"outlinewidth\":0,\"ticks\":\"\"},\"type\":\"contourcarpet\"}],\"heatmap\":[{\"colorbar\":{\"outlinewidth\":0,\"ticks\":\"\"},\"colorscale\":[[0.0,\"#0d0887\"],[0.1111111111111111,\"#46039f\"],[0.2222222222222222,\"#7201a8\"],[0.3333333333333333,\"#9c179e\"],[0.4444444444444444,\"#bd3786\"],[0.5555555555555556,\"#d8576b\"],[0.6666666666666666,\"#ed7953\"],[0.7777777777777778,\"#fb9f3a\"],[0.8888888888888888,\"#fdca26\"],[1.0,\"#f0f921\"]],\"type\":\"heatmap\"}],\"heatmapgl\":[{\"colorbar\":{\"outlinewidth\":0,\"ticks\":\"\"},\"colorscale\":[[0.0,\"#0d0887\"],[0.1111111111111111,\"#46039f\"],[0.2222222222222222,\"#7201a8\"],[0.3333333333333333,\"#9c179e\"],[0.4444444444444444,\"#bd3786\"],[0.5555555555555556,\"#d8576b\"],[0.6666666666666666,\"#ed7953\"],[0.7777777777777778,\"#fb9f3a\"],[0.8888888888888888,\"#fdca26\"],[1.0,\"#f0f921\"]],\"type\":\"heatmapgl\"}],\"histogram\":[{\"marker\":{\"pattern\":{\"fillmode\":\"overlay\",\"size\":10,\"solidity\":0.2}},\"type\":\"histogram\"}],\"histogram2d\":[{\"colorbar\":{\"outlinewidth\":0,\"ticks\":\"\"},\"colorscale\":[[0.0,\"#0d0887\"],[0.1111111111111111,\"#46039f\"],[0.2222222222222222,\"#7201a8\"],[0.3333333333333333,\"#9c179e\"],[0.4444444444444444,\"#bd3786\"],[0.5555555555555556,\"#d8576b\"],[0.6666666666666666,\"#ed7953\"],[0.7777777777777778,\"#fb9f3a\"],[0.8888888888888888,\"#fdca26\"],[1.0,\"#f0f921\"]],\"type\":\"histogram2d\"}],\"histogram2dcontour\":[{\"colorbar\":{\"outlinewidth\":0,\"ticks\":\"\"},\"colorscale\":[[0.0,\"#0d0887\"],[0.1111111111111111,\"#46039f\"],[0.2222222222222222,\"#7201a8\"],[0.3333333333333333,\"#9c179e\"],[0.4444444444444444,\"#bd3786\"],[0.5555555555555556,\"#d8576b\"],[0.6666666666666666,\"#ed7953\"],[0.7777777777777778,\"#fb9f3a\"],[0.8888888888888888,\"#fdca26\"],[1.0,\"#f0f921\"]],\"type\":\"histogram2dcontour\"}],\"mesh3d\":[{\"colorbar\":{\"outlinewidth\":0,\"ticks\":\"\"},\"type\":\"mesh3d\"}],\"parcoords\":[{\"line\":{\"colorbar\":{\"outlinewidth\":0,\"ticks\":\"\"}},\"type\":\"parcoords\"}],\"pie\":[{\"automargin\":true,\"type\":\"pie\"}],\"scatter\":[{\"marker\":{\"colorbar\":{\"outlinewidth\":0,\"ticks\":\"\"}},\"type\":\"scatter\"}],\"scatter3d\":[{\"line\":{\"colorbar\":{\"outlinewidth\":0,\"ticks\":\"\"}},\"marker\":{\"colorbar\":{\"outlinewidth\":0,\"ticks\":\"\"}},\"type\":\"scatter3d\"}],\"scattercarpet\":[{\"marker\":{\"colorbar\":{\"outlinewidth\":0,\"ticks\":\"\"}},\"type\":\"scattercarpet\"}],\"scattergeo\":[{\"marker\":{\"colorbar\":{\"outlinewidth\":0,\"ticks\":\"\"}},\"type\":\"scattergeo\"}],\"scattergl\":[{\"marker\":{\"colorbar\":{\"outlinewidth\":0,\"ticks\":\"\"}},\"type\":\"scattergl\"}],\"scattermapbox\":[{\"marker\":{\"colorbar\":{\"outlinewidth\":0,\"ticks\":\"\"}},\"type\":\"scattermapbox\"}],\"scatterpolar\":[{\"marker\":{\"colorbar\":{\"outlinewidth\":0,\"ticks\":\"\"}},\"type\":\"scatterpolar\"}],\"scatterpolargl\":[{\"marker\":{\"colorbar\":{\"outlinewidth\":0,\"ticks\":\"\"}},\"type\":\"scatterpolargl\"}],\"scatterternary\":[{\"marker\":{\"colorbar\":{\"outlinewidth\":0,\"ticks\":\"\"}},\"type\":\"scatterternary\"}],\"surface\":[{\"colorbar\":{\"outlinewidth\":0,\"ticks\":\"\"},\"colorscale\":[[0.0,\"#0d0887\"],[0.1111111111111111,\"#46039f\"],[0.2222222222222222,\"#7201a8\"],[0.3333333333333333,\"#9c179e\"],[0.4444444444444444,\"#bd3786\"],[0.5555555555555556,\"#d8576b\"],[0.6666666666666666,\"#ed7953\"],[0.7777777777777778,\"#fb9f3a\"],[0.8888888888888888,\"#fdca26\"],[1.0,\"#f0f921\"]],\"type\":\"surface\"}],\"table\":[{\"cells\":{\"fill\":{\"color\":\"#EBF0F8\"},\"line\":{\"color\":\"white\"}},\"header\":{\"fill\":{\"color\":\"#C8D4E3\"},\"line\":{\"color\":\"white\"}},\"type\":\"table\"}]},\"layout\":{\"annotationdefaults\":{\"arrowcolor\":\"#2a3f5f\",\"arrowhead\":0,\"arrowwidth\":1},\"autotypenumbers\":\"strict\",\"coloraxis\":{\"colorbar\":{\"outlinewidth\":0,\"ticks\":\"\"}},\"colorscale\":{\"diverging\":[[0,\"#8e0152\"],[0.1,\"#c51b7d\"],[0.2,\"#de77ae\"],[0.3,\"#f1b6da\"],[0.4,\"#fde0ef\"],[0.5,\"#f7f7f7\"],[0.6,\"#e6f5d0\"],[0.7,\"#b8e186\"],[0.8,\"#7fbc41\"],[0.9,\"#4d9221\"],[1,\"#276419\"]],\"sequential\":[[0.0,\"#0d0887\"],[0.1111111111111111,\"#46039f\"],[0.2222222222222222,\"#7201a8\"],[0.3333333333333333,\"#9c179e\"],[0.4444444444444444,\"#bd3786\"],[0.5555555555555556,\"#d8576b\"],[0.6666666666666666,\"#ed7953\"],[0.7777777777777778,\"#fb9f3a\"],[0.8888888888888888,\"#fdca26\"],[1.0,\"#f0f921\"]],\"sequentialminus\":[[0.0,\"#0d0887\"],[0.1111111111111111,\"#46039f\"],[0.2222222222222222,\"#7201a8\"],[0.3333333333333333,\"#9c179e\"],[0.4444444444444444,\"#bd3786\"],[0.5555555555555556,\"#d8576b\"],[0.6666666666666666,\"#ed7953\"],[0.7777777777777778,\"#fb9f3a\"],[0.8888888888888888,\"#fdca26\"],[1.0,\"#f0f921\"]]},\"colorway\":[\"#636efa\",\"#EF553B\",\"#00cc96\",\"#ab63fa\",\"#FFA15A\",\"#19d3f3\",\"#FF6692\",\"#B6E880\",\"#FF97FF\",\"#FECB52\"],\"font\":{\"color\":\"#2a3f5f\"},\"geo\":{\"bgcolor\":\"white\",\"lakecolor\":\"white\",\"landcolor\":\"#E5ECF6\",\"showlakes\":true,\"showland\":true,\"subunitcolor\":\"white\"},\"hoverlabel\":{\"align\":\"left\"},\"hovermode\":\"closest\",\"mapbox\":{\"style\":\"light\"},\"paper_bgcolor\":\"white\",\"plot_bgcolor\":\"#E5ECF6\",\"polar\":{\"angularaxis\":{\"gridcolor\":\"white\",\"linecolor\":\"white\",\"ticks\":\"\"},\"bgcolor\":\"#E5ECF6\",\"radialaxis\":{\"gridcolor\":\"white\",\"linecolor\":\"white\",\"ticks\":\"\"}},\"scene\":{\"xaxis\":{\"backgroundcolor\":\"#E5ECF6\",\"gridcolor\":\"white\",\"gridwidth\":2,\"linecolor\":\"white\",\"showbackground\":true,\"ticks\":\"\",\"zerolinecolor\":\"white\"},\"yaxis\":{\"backgroundcolor\":\"#E5ECF6\",\"gridcolor\":\"white\",\"gridwidth\":2,\"linecolor\":\"white\",\"showbackground\":true,\"ticks\":\"\",\"zerolinecolor\":\"white\"},\"zaxis\":{\"backgroundcolor\":\"#E5ECF6\",\"gridcolor\":\"white\",\"gridwidth\":2,\"linecolor\":\"white\",\"showbackground\":true,\"ticks\":\"\",\"zerolinecolor\":\"white\"}},\"shapedefaults\":{\"line\":{\"color\":\"#2a3f5f\"}},\"ternary\":{\"aaxis\":{\"gridcolor\":\"white\",\"linecolor\":\"white\",\"ticks\":\"\"},\"baxis\":{\"gridcolor\":\"white\",\"linecolor\":\"white\",\"ticks\":\"\"},\"bgcolor\":\"#E5ECF6\",\"caxis\":{\"gridcolor\":\"white\",\"linecolor\":\"white\",\"ticks\":\"\"}},\"title\":{\"x\":0.05},\"xaxis\":{\"automargin\":true,\"gridcolor\":\"white\",\"linecolor\":\"white\",\"ticks\":\"\",\"title\":{\"standoff\":15},\"zerolinecolor\":\"white\",\"zerolinewidth\":2},\"yaxis\":{\"automargin\":true,\"gridcolor\":\"white\",\"linecolor\":\"white\",\"ticks\":\"\",\"title\":{\"standoff\":15},\"zerolinecolor\":\"white\",\"zerolinewidth\":2}}},\"title\":{\"font\":{\"color\":\"#4D5663\"},\"text\":\"1.0\"},\"xaxis\":{\"gridcolor\":\"#E1E5ED\",\"showgrid\":true,\"tickfont\":{\"color\":\"#4D5663\"},\"title\":{\"font\":{\"color\":\"#4D5663\"},\"text\":\"\"},\"zerolinecolor\":\"#E1E5ED\"},\"yaxis\":{\"gridcolor\":\"#E1E5ED\",\"showgrid\":true,\"tickfont\":{\"color\":\"#4D5663\"},\"title\":{\"font\":{\"color\":\"#4D5663\"},\"text\":\"\"},\"zerolinecolor\":\"#E1E5ED\"}},                        {\"showLink\": true, \"linkText\": \"Export to plot.ly\", \"plotlyServerURL\": \"https://plot.ly\", \"responsive\": true}                    ).then(function(){\n",
       "                            \n",
       "var gd = document.getElementById('aa65508b-4a18-4592-b1b2-c37a404f3c5c');\n",
       "var x = new MutationObserver(function (mutations, observer) {{\n",
       "        var display = window.getComputedStyle(gd).display;\n",
       "        if (!display || display === 'none') {{\n",
       "            console.log([gd, 'removed!']);\n",
       "            Plotly.purge(gd);\n",
       "            observer.disconnect();\n",
       "        }}\n",
       "}});\n",
       "\n",
       "// Listen for the removal of the full notebook cells\n",
       "var notebookContainer = gd.closest('#notebook-container');\n",
       "if (notebookContainer) {{\n",
       "    x.observe(notebookContainer, {childList: true});\n",
       "}}\n",
       "\n",
       "// Listen for the clearing of the current output cell\n",
       "var outputEl = gd.closest('.output');\n",
       "if (outputEl) {{\n",
       "    x.observe(outputEl, {childList: true});\n",
       "}}\n",
       "\n",
       "                        })                };                });            </script>        </div>"
      ]
     },
     "metadata": {},
     "output_type": "display_data"
    },
    {
     "data": {
      "application/vnd.plotly.v1+json": {
       "config": {
        "linkText": "Export to plot.ly",
        "plotlyServerURL": "https://plot.ly",
        "showLink": true
       },
       "data": [
        {
         "line": {
          "color": "rgba(255, 153, 51, 1.0)",
          "dash": "solid",
          "shape": "linear",
          "width": 1.3
         },
         "mode": "lines",
         "name": "real",
         "text": "",
         "type": "scatter",
         "x": [
          "2018-06-05",
          "2018-06-06",
          "2018-06-07",
          "2018-06-08",
          "2018-06-09",
          "2018-06-10",
          "2018-06-11",
          "2018-06-12",
          "2018-06-13",
          "2018-06-14",
          "2018-06-15",
          "2018-06-16",
          "2018-06-17",
          "2018-06-18",
          "2018-06-19",
          "2018-06-20",
          "2018-06-21",
          "2018-06-22"
         ],
         "y": [
          143,
          155,
          113,
          120,
          52,
          36,
          119,
          98,
          89,
          73,
          94,
          33,
          22,
          98,
          135,
          135,
          131,
          112
         ]
        },
        {
         "line": {
          "color": "rgba(55, 128, 191, 1.0)",
          "dash": "solid",
          "shape": "linear",
          "width": 1.3
         },
         "mode": "lines",
         "name": "estimado",
         "text": "",
         "type": "scatter",
         "x": [
          "2018-06-05",
          "2018-06-06",
          "2018-06-07",
          "2018-06-08",
          "2018-06-09",
          "2018-06-10",
          "2018-06-11",
          "2018-06-12",
          "2018-06-13",
          "2018-06-14",
          "2018-06-15",
          "2018-06-16",
          "2018-06-17",
          "2018-06-18",
          "2018-06-19",
          "2018-06-20",
          "2018-06-21",
          "2018-06-22"
         ],
         "y": [
          143.0000000000001,
          154.99999999999997,
          112.99999999999983,
          119.99999999999957,
          51.999999999999716,
          35.9999999999999,
          119.00000000000014,
          98.00000000000013,
          89.00000000000007,
          73.00000000000013,
          94.00000000000004,
          33.00000000000017,
          22.00000000000029,
          98.00000000000044,
          135.00000000000028,
          135,
          130.9999999999999,
          111.99999999999974
         ]
        }
       ],
       "layout": {
        "legend": {
         "bgcolor": "#F5F6F9",
         "font": {
          "color": "#4D5663"
         }
        },
        "paper_bgcolor": "#F5F6F9",
        "plot_bgcolor": "#F5F6F9",
        "template": {
         "data": {
          "bar": [
           {
            "error_x": {
             "color": "#2a3f5f"
            },
            "error_y": {
             "color": "#2a3f5f"
            },
            "marker": {
             "line": {
              "color": "#E5ECF6",
              "width": 0.5
             },
             "pattern": {
              "fillmode": "overlay",
              "size": 10,
              "solidity": 0.2
             }
            },
            "type": "bar"
           }
          ],
          "barpolar": [
           {
            "marker": {
             "line": {
              "color": "#E5ECF6",
              "width": 0.5
             },
             "pattern": {
              "fillmode": "overlay",
              "size": 10,
              "solidity": 0.2
             }
            },
            "type": "barpolar"
           }
          ],
          "carpet": [
           {
            "aaxis": {
             "endlinecolor": "#2a3f5f",
             "gridcolor": "white",
             "linecolor": "white",
             "minorgridcolor": "white",
             "startlinecolor": "#2a3f5f"
            },
            "baxis": {
             "endlinecolor": "#2a3f5f",
             "gridcolor": "white",
             "linecolor": "white",
             "minorgridcolor": "white",
             "startlinecolor": "#2a3f5f"
            },
            "type": "carpet"
           }
          ],
          "choropleth": [
           {
            "colorbar": {
             "outlinewidth": 0,
             "ticks": ""
            },
            "type": "choropleth"
           }
          ],
          "contour": [
           {
            "colorbar": {
             "outlinewidth": 0,
             "ticks": ""
            },
            "colorscale": [
             [
              0,
              "#0d0887"
             ],
             [
              0.1111111111111111,
              "#46039f"
             ],
             [
              0.2222222222222222,
              "#7201a8"
             ],
             [
              0.3333333333333333,
              "#9c179e"
             ],
             [
              0.4444444444444444,
              "#bd3786"
             ],
             [
              0.5555555555555556,
              "#d8576b"
             ],
             [
              0.6666666666666666,
              "#ed7953"
             ],
             [
              0.7777777777777778,
              "#fb9f3a"
             ],
             [
              0.8888888888888888,
              "#fdca26"
             ],
             [
              1,
              "#f0f921"
             ]
            ],
            "type": "contour"
           }
          ],
          "contourcarpet": [
           {
            "colorbar": {
             "outlinewidth": 0,
             "ticks": ""
            },
            "type": "contourcarpet"
           }
          ],
          "heatmap": [
           {
            "colorbar": {
             "outlinewidth": 0,
             "ticks": ""
            },
            "colorscale": [
             [
              0,
              "#0d0887"
             ],
             [
              0.1111111111111111,
              "#46039f"
             ],
             [
              0.2222222222222222,
              "#7201a8"
             ],
             [
              0.3333333333333333,
              "#9c179e"
             ],
             [
              0.4444444444444444,
              "#bd3786"
             ],
             [
              0.5555555555555556,
              "#d8576b"
             ],
             [
              0.6666666666666666,
              "#ed7953"
             ],
             [
              0.7777777777777778,
              "#fb9f3a"
             ],
             [
              0.8888888888888888,
              "#fdca26"
             ],
             [
              1,
              "#f0f921"
             ]
            ],
            "type": "heatmap"
           }
          ],
          "heatmapgl": [
           {
            "colorbar": {
             "outlinewidth": 0,
             "ticks": ""
            },
            "colorscale": [
             [
              0,
              "#0d0887"
             ],
             [
              0.1111111111111111,
              "#46039f"
             ],
             [
              0.2222222222222222,
              "#7201a8"
             ],
             [
              0.3333333333333333,
              "#9c179e"
             ],
             [
              0.4444444444444444,
              "#bd3786"
             ],
             [
              0.5555555555555556,
              "#d8576b"
             ],
             [
              0.6666666666666666,
              "#ed7953"
             ],
             [
              0.7777777777777778,
              "#fb9f3a"
             ],
             [
              0.8888888888888888,
              "#fdca26"
             ],
             [
              1,
              "#f0f921"
             ]
            ],
            "type": "heatmapgl"
           }
          ],
          "histogram": [
           {
            "marker": {
             "pattern": {
              "fillmode": "overlay",
              "size": 10,
              "solidity": 0.2
             }
            },
            "type": "histogram"
           }
          ],
          "histogram2d": [
           {
            "colorbar": {
             "outlinewidth": 0,
             "ticks": ""
            },
            "colorscale": [
             [
              0,
              "#0d0887"
             ],
             [
              0.1111111111111111,
              "#46039f"
             ],
             [
              0.2222222222222222,
              "#7201a8"
             ],
             [
              0.3333333333333333,
              "#9c179e"
             ],
             [
              0.4444444444444444,
              "#bd3786"
             ],
             [
              0.5555555555555556,
              "#d8576b"
             ],
             [
              0.6666666666666666,
              "#ed7953"
             ],
             [
              0.7777777777777778,
              "#fb9f3a"
             ],
             [
              0.8888888888888888,
              "#fdca26"
             ],
             [
              1,
              "#f0f921"
             ]
            ],
            "type": "histogram2d"
           }
          ],
          "histogram2dcontour": [
           {
            "colorbar": {
             "outlinewidth": 0,
             "ticks": ""
            },
            "colorscale": [
             [
              0,
              "#0d0887"
             ],
             [
              0.1111111111111111,
              "#46039f"
             ],
             [
              0.2222222222222222,
              "#7201a8"
             ],
             [
              0.3333333333333333,
              "#9c179e"
             ],
             [
              0.4444444444444444,
              "#bd3786"
             ],
             [
              0.5555555555555556,
              "#d8576b"
             ],
             [
              0.6666666666666666,
              "#ed7953"
             ],
             [
              0.7777777777777778,
              "#fb9f3a"
             ],
             [
              0.8888888888888888,
              "#fdca26"
             ],
             [
              1,
              "#f0f921"
             ]
            ],
            "type": "histogram2dcontour"
           }
          ],
          "mesh3d": [
           {
            "colorbar": {
             "outlinewidth": 0,
             "ticks": ""
            },
            "type": "mesh3d"
           }
          ],
          "parcoords": [
           {
            "line": {
             "colorbar": {
              "outlinewidth": 0,
              "ticks": ""
             }
            },
            "type": "parcoords"
           }
          ],
          "pie": [
           {
            "automargin": true,
            "type": "pie"
           }
          ],
          "scatter": [
           {
            "marker": {
             "colorbar": {
              "outlinewidth": 0,
              "ticks": ""
             }
            },
            "type": "scatter"
           }
          ],
          "scatter3d": [
           {
            "line": {
             "colorbar": {
              "outlinewidth": 0,
              "ticks": ""
             }
            },
            "marker": {
             "colorbar": {
              "outlinewidth": 0,
              "ticks": ""
             }
            },
            "type": "scatter3d"
           }
          ],
          "scattercarpet": [
           {
            "marker": {
             "colorbar": {
              "outlinewidth": 0,
              "ticks": ""
             }
            },
            "type": "scattercarpet"
           }
          ],
          "scattergeo": [
           {
            "marker": {
             "colorbar": {
              "outlinewidth": 0,
              "ticks": ""
             }
            },
            "type": "scattergeo"
           }
          ],
          "scattergl": [
           {
            "marker": {
             "colorbar": {
              "outlinewidth": 0,
              "ticks": ""
             }
            },
            "type": "scattergl"
           }
          ],
          "scattermapbox": [
           {
            "marker": {
             "colorbar": {
              "outlinewidth": 0,
              "ticks": ""
             }
            },
            "type": "scattermapbox"
           }
          ],
          "scatterpolar": [
           {
            "marker": {
             "colorbar": {
              "outlinewidth": 0,
              "ticks": ""
             }
            },
            "type": "scatterpolar"
           }
          ],
          "scatterpolargl": [
           {
            "marker": {
             "colorbar": {
              "outlinewidth": 0,
              "ticks": ""
             }
            },
            "type": "scatterpolargl"
           }
          ],
          "scatterternary": [
           {
            "marker": {
             "colorbar": {
              "outlinewidth": 0,
              "ticks": ""
             }
            },
            "type": "scatterternary"
           }
          ],
          "surface": [
           {
            "colorbar": {
             "outlinewidth": 0,
             "ticks": ""
            },
            "colorscale": [
             [
              0,
              "#0d0887"
             ],
             [
              0.1111111111111111,
              "#46039f"
             ],
             [
              0.2222222222222222,
              "#7201a8"
             ],
             [
              0.3333333333333333,
              "#9c179e"
             ],
             [
              0.4444444444444444,
              "#bd3786"
             ],
             [
              0.5555555555555556,
              "#d8576b"
             ],
             [
              0.6666666666666666,
              "#ed7953"
             ],
             [
              0.7777777777777778,
              "#fb9f3a"
             ],
             [
              0.8888888888888888,
              "#fdca26"
             ],
             [
              1,
              "#f0f921"
             ]
            ],
            "type": "surface"
           }
          ],
          "table": [
           {
            "cells": {
             "fill": {
              "color": "#EBF0F8"
             },
             "line": {
              "color": "white"
             }
            },
            "header": {
             "fill": {
              "color": "#C8D4E3"
             },
             "line": {
              "color": "white"
             }
            },
            "type": "table"
           }
          ]
         },
         "layout": {
          "annotationdefaults": {
           "arrowcolor": "#2a3f5f",
           "arrowhead": 0,
           "arrowwidth": 1
          },
          "autotypenumbers": "strict",
          "coloraxis": {
           "colorbar": {
            "outlinewidth": 0,
            "ticks": ""
           }
          },
          "colorscale": {
           "diverging": [
            [
             0,
             "#8e0152"
            ],
            [
             0.1,
             "#c51b7d"
            ],
            [
             0.2,
             "#de77ae"
            ],
            [
             0.3,
             "#f1b6da"
            ],
            [
             0.4,
             "#fde0ef"
            ],
            [
             0.5,
             "#f7f7f7"
            ],
            [
             0.6,
             "#e6f5d0"
            ],
            [
             0.7,
             "#b8e186"
            ],
            [
             0.8,
             "#7fbc41"
            ],
            [
             0.9,
             "#4d9221"
            ],
            [
             1,
             "#276419"
            ]
           ],
           "sequential": [
            [
             0,
             "#0d0887"
            ],
            [
             0.1111111111111111,
             "#46039f"
            ],
            [
             0.2222222222222222,
             "#7201a8"
            ],
            [
             0.3333333333333333,
             "#9c179e"
            ],
            [
             0.4444444444444444,
             "#bd3786"
            ],
            [
             0.5555555555555556,
             "#d8576b"
            ],
            [
             0.6666666666666666,
             "#ed7953"
            ],
            [
             0.7777777777777778,
             "#fb9f3a"
            ],
            [
             0.8888888888888888,
             "#fdca26"
            ],
            [
             1,
             "#f0f921"
            ]
           ],
           "sequentialminus": [
            [
             0,
             "#0d0887"
            ],
            [
             0.1111111111111111,
             "#46039f"
            ],
            [
             0.2222222222222222,
             "#7201a8"
            ],
            [
             0.3333333333333333,
             "#9c179e"
            ],
            [
             0.4444444444444444,
             "#bd3786"
            ],
            [
             0.5555555555555556,
             "#d8576b"
            ],
            [
             0.6666666666666666,
             "#ed7953"
            ],
            [
             0.7777777777777778,
             "#fb9f3a"
            ],
            [
             0.8888888888888888,
             "#fdca26"
            ],
            [
             1,
             "#f0f921"
            ]
           ]
          },
          "colorway": [
           "#636efa",
           "#EF553B",
           "#00cc96",
           "#ab63fa",
           "#FFA15A",
           "#19d3f3",
           "#FF6692",
           "#B6E880",
           "#FF97FF",
           "#FECB52"
          ],
          "font": {
           "color": "#2a3f5f"
          },
          "geo": {
           "bgcolor": "white",
           "lakecolor": "white",
           "landcolor": "#E5ECF6",
           "showlakes": true,
           "showland": true,
           "subunitcolor": "white"
          },
          "hoverlabel": {
           "align": "left"
          },
          "hovermode": "closest",
          "mapbox": {
           "style": "light"
          },
          "paper_bgcolor": "white",
          "plot_bgcolor": "#E5ECF6",
          "polar": {
           "angularaxis": {
            "gridcolor": "white",
            "linecolor": "white",
            "ticks": ""
           },
           "bgcolor": "#E5ECF6",
           "radialaxis": {
            "gridcolor": "white",
            "linecolor": "white",
            "ticks": ""
           }
          },
          "scene": {
           "xaxis": {
            "backgroundcolor": "#E5ECF6",
            "gridcolor": "white",
            "gridwidth": 2,
            "linecolor": "white",
            "showbackground": true,
            "ticks": "",
            "zerolinecolor": "white"
           },
           "yaxis": {
            "backgroundcolor": "#E5ECF6",
            "gridcolor": "white",
            "gridwidth": 2,
            "linecolor": "white",
            "showbackground": true,
            "ticks": "",
            "zerolinecolor": "white"
           },
           "zaxis": {
            "backgroundcolor": "#E5ECF6",
            "gridcolor": "white",
            "gridwidth": 2,
            "linecolor": "white",
            "showbackground": true,
            "ticks": "",
            "zerolinecolor": "white"
           }
          },
          "shapedefaults": {
           "line": {
            "color": "#2a3f5f"
           }
          },
          "ternary": {
           "aaxis": {
            "gridcolor": "white",
            "linecolor": "white",
            "ticks": ""
           },
           "baxis": {
            "gridcolor": "white",
            "linecolor": "white",
            "ticks": ""
           },
           "bgcolor": "#E5ECF6",
           "caxis": {
            "gridcolor": "white",
            "linecolor": "white",
            "ticks": ""
           }
          },
          "title": {
           "x": 0.05
          },
          "xaxis": {
           "automargin": true,
           "gridcolor": "white",
           "linecolor": "white",
           "ticks": "",
           "title": {
            "standoff": 15
           },
           "zerolinecolor": "white",
           "zerolinewidth": 2
          },
          "yaxis": {
           "automargin": true,
           "gridcolor": "white",
           "linecolor": "white",
           "ticks": "",
           "title": {
            "standoff": 15
           },
           "zerolinecolor": "white",
           "zerolinewidth": 2
          }
         }
        },
        "title": {
         "font": {
          "color": "#4D5663"
         },
         "text": "3.0"
        },
        "xaxis": {
         "gridcolor": "#E1E5ED",
         "showgrid": true,
         "tickfont": {
          "color": "#4D5663"
         },
         "title": {
          "font": {
           "color": "#4D5663"
          },
          "text": ""
         },
         "zerolinecolor": "#E1E5ED"
        },
        "yaxis": {
         "gridcolor": "#E1E5ED",
         "showgrid": true,
         "tickfont": {
          "color": "#4D5663"
         },
         "title": {
          "font": {
           "color": "#4D5663"
          },
          "text": ""
         },
         "zerolinecolor": "#E1E5ED"
        }
       }
      },
      "text/html": [
       "<div>                            <div id=\"5de386b6-1c7c-470a-9172-1bba148b2333\" class=\"plotly-graph-div\" style=\"height:525px; width:100%;\"></div>            <script type=\"text/javascript\">                require([\"plotly\"], function(Plotly) {                    window.PLOTLYENV=window.PLOTLYENV || {};\n",
       "                    window.PLOTLYENV.BASE_URL='https://plot.ly';                                    if (document.getElementById(\"5de386b6-1c7c-470a-9172-1bba148b2333\")) {                    Plotly.newPlot(                        \"5de386b6-1c7c-470a-9172-1bba148b2333\",                        [{\"line\":{\"color\":\"rgba(255, 153, 51, 1.0)\",\"dash\":\"solid\",\"shape\":\"linear\",\"width\":1.3},\"mode\":\"lines\",\"name\":\"real\",\"text\":\"\",\"type\":\"scatter\",\"x\":[\"2018-06-05\",\"2018-06-06\",\"2018-06-07\",\"2018-06-08\",\"2018-06-09\",\"2018-06-10\",\"2018-06-11\",\"2018-06-12\",\"2018-06-13\",\"2018-06-14\",\"2018-06-15\",\"2018-06-16\",\"2018-06-17\",\"2018-06-18\",\"2018-06-19\",\"2018-06-20\",\"2018-06-21\",\"2018-06-22\"],\"y\":[143.0,155.0,113.0,120.0,52.0,36.0,119.0,98.0,89.0,73.0,94.0,33.0,22.0,98.0,135.0,135.0,131.0,112.0]},{\"line\":{\"color\":\"rgba(55, 128, 191, 1.0)\",\"dash\":\"solid\",\"shape\":\"linear\",\"width\":1.3},\"mode\":\"lines\",\"name\":\"estimado\",\"text\":\"\",\"type\":\"scatter\",\"x\":[\"2018-06-05\",\"2018-06-06\",\"2018-06-07\",\"2018-06-08\",\"2018-06-09\",\"2018-06-10\",\"2018-06-11\",\"2018-06-12\",\"2018-06-13\",\"2018-06-14\",\"2018-06-15\",\"2018-06-16\",\"2018-06-17\",\"2018-06-18\",\"2018-06-19\",\"2018-06-20\",\"2018-06-21\",\"2018-06-22\"],\"y\":[143.0000000000001,154.99999999999997,112.99999999999983,119.99999999999957,51.999999999999716,35.9999999999999,119.00000000000014,98.00000000000013,89.00000000000007,73.00000000000013,94.00000000000004,33.00000000000017,22.00000000000029,98.00000000000044,135.00000000000028,135.0,130.9999999999999,111.99999999999974]}],                        {\"legend\":{\"bgcolor\":\"#F5F6F9\",\"font\":{\"color\":\"#4D5663\"}},\"paper_bgcolor\":\"#F5F6F9\",\"plot_bgcolor\":\"#F5F6F9\",\"template\":{\"data\":{\"bar\":[{\"error_x\":{\"color\":\"#2a3f5f\"},\"error_y\":{\"color\":\"#2a3f5f\"},\"marker\":{\"line\":{\"color\":\"#E5ECF6\",\"width\":0.5},\"pattern\":{\"fillmode\":\"overlay\",\"size\":10,\"solidity\":0.2}},\"type\":\"bar\"}],\"barpolar\":[{\"marker\":{\"line\":{\"color\":\"#E5ECF6\",\"width\":0.5},\"pattern\":{\"fillmode\":\"overlay\",\"size\":10,\"solidity\":0.2}},\"type\":\"barpolar\"}],\"carpet\":[{\"aaxis\":{\"endlinecolor\":\"#2a3f5f\",\"gridcolor\":\"white\",\"linecolor\":\"white\",\"minorgridcolor\":\"white\",\"startlinecolor\":\"#2a3f5f\"},\"baxis\":{\"endlinecolor\":\"#2a3f5f\",\"gridcolor\":\"white\",\"linecolor\":\"white\",\"minorgridcolor\":\"white\",\"startlinecolor\":\"#2a3f5f\"},\"type\":\"carpet\"}],\"choropleth\":[{\"colorbar\":{\"outlinewidth\":0,\"ticks\":\"\"},\"type\":\"choropleth\"}],\"contour\":[{\"colorbar\":{\"outlinewidth\":0,\"ticks\":\"\"},\"colorscale\":[[0.0,\"#0d0887\"],[0.1111111111111111,\"#46039f\"],[0.2222222222222222,\"#7201a8\"],[0.3333333333333333,\"#9c179e\"],[0.4444444444444444,\"#bd3786\"],[0.5555555555555556,\"#d8576b\"],[0.6666666666666666,\"#ed7953\"],[0.7777777777777778,\"#fb9f3a\"],[0.8888888888888888,\"#fdca26\"],[1.0,\"#f0f921\"]],\"type\":\"contour\"}],\"contourcarpet\":[{\"colorbar\":{\"outlinewidth\":0,\"ticks\":\"\"},\"type\":\"contourcarpet\"}],\"heatmap\":[{\"colorbar\":{\"outlinewidth\":0,\"ticks\":\"\"},\"colorscale\":[[0.0,\"#0d0887\"],[0.1111111111111111,\"#46039f\"],[0.2222222222222222,\"#7201a8\"],[0.3333333333333333,\"#9c179e\"],[0.4444444444444444,\"#bd3786\"],[0.5555555555555556,\"#d8576b\"],[0.6666666666666666,\"#ed7953\"],[0.7777777777777778,\"#fb9f3a\"],[0.8888888888888888,\"#fdca26\"],[1.0,\"#f0f921\"]],\"type\":\"heatmap\"}],\"heatmapgl\":[{\"colorbar\":{\"outlinewidth\":0,\"ticks\":\"\"},\"colorscale\":[[0.0,\"#0d0887\"],[0.1111111111111111,\"#46039f\"],[0.2222222222222222,\"#7201a8\"],[0.3333333333333333,\"#9c179e\"],[0.4444444444444444,\"#bd3786\"],[0.5555555555555556,\"#d8576b\"],[0.6666666666666666,\"#ed7953\"],[0.7777777777777778,\"#fb9f3a\"],[0.8888888888888888,\"#fdca26\"],[1.0,\"#f0f921\"]],\"type\":\"heatmapgl\"}],\"histogram\":[{\"marker\":{\"pattern\":{\"fillmode\":\"overlay\",\"size\":10,\"solidity\":0.2}},\"type\":\"histogram\"}],\"histogram2d\":[{\"colorbar\":{\"outlinewidth\":0,\"ticks\":\"\"},\"colorscale\":[[0.0,\"#0d0887\"],[0.1111111111111111,\"#46039f\"],[0.2222222222222222,\"#7201a8\"],[0.3333333333333333,\"#9c179e\"],[0.4444444444444444,\"#bd3786\"],[0.5555555555555556,\"#d8576b\"],[0.6666666666666666,\"#ed7953\"],[0.7777777777777778,\"#fb9f3a\"],[0.8888888888888888,\"#fdca26\"],[1.0,\"#f0f921\"]],\"type\":\"histogram2d\"}],\"histogram2dcontour\":[{\"colorbar\":{\"outlinewidth\":0,\"ticks\":\"\"},\"colorscale\":[[0.0,\"#0d0887\"],[0.1111111111111111,\"#46039f\"],[0.2222222222222222,\"#7201a8\"],[0.3333333333333333,\"#9c179e\"],[0.4444444444444444,\"#bd3786\"],[0.5555555555555556,\"#d8576b\"],[0.6666666666666666,\"#ed7953\"],[0.7777777777777778,\"#fb9f3a\"],[0.8888888888888888,\"#fdca26\"],[1.0,\"#f0f921\"]],\"type\":\"histogram2dcontour\"}],\"mesh3d\":[{\"colorbar\":{\"outlinewidth\":0,\"ticks\":\"\"},\"type\":\"mesh3d\"}],\"parcoords\":[{\"line\":{\"colorbar\":{\"outlinewidth\":0,\"ticks\":\"\"}},\"type\":\"parcoords\"}],\"pie\":[{\"automargin\":true,\"type\":\"pie\"}],\"scatter\":[{\"marker\":{\"colorbar\":{\"outlinewidth\":0,\"ticks\":\"\"}},\"type\":\"scatter\"}],\"scatter3d\":[{\"line\":{\"colorbar\":{\"outlinewidth\":0,\"ticks\":\"\"}},\"marker\":{\"colorbar\":{\"outlinewidth\":0,\"ticks\":\"\"}},\"type\":\"scatter3d\"}],\"scattercarpet\":[{\"marker\":{\"colorbar\":{\"outlinewidth\":0,\"ticks\":\"\"}},\"type\":\"scattercarpet\"}],\"scattergeo\":[{\"marker\":{\"colorbar\":{\"outlinewidth\":0,\"ticks\":\"\"}},\"type\":\"scattergeo\"}],\"scattergl\":[{\"marker\":{\"colorbar\":{\"outlinewidth\":0,\"ticks\":\"\"}},\"type\":\"scattergl\"}],\"scattermapbox\":[{\"marker\":{\"colorbar\":{\"outlinewidth\":0,\"ticks\":\"\"}},\"type\":\"scattermapbox\"}],\"scatterpolar\":[{\"marker\":{\"colorbar\":{\"outlinewidth\":0,\"ticks\":\"\"}},\"type\":\"scatterpolar\"}],\"scatterpolargl\":[{\"marker\":{\"colorbar\":{\"outlinewidth\":0,\"ticks\":\"\"}},\"type\":\"scatterpolargl\"}],\"scatterternary\":[{\"marker\":{\"colorbar\":{\"outlinewidth\":0,\"ticks\":\"\"}},\"type\":\"scatterternary\"}],\"surface\":[{\"colorbar\":{\"outlinewidth\":0,\"ticks\":\"\"},\"colorscale\":[[0.0,\"#0d0887\"],[0.1111111111111111,\"#46039f\"],[0.2222222222222222,\"#7201a8\"],[0.3333333333333333,\"#9c179e\"],[0.4444444444444444,\"#bd3786\"],[0.5555555555555556,\"#d8576b\"],[0.6666666666666666,\"#ed7953\"],[0.7777777777777778,\"#fb9f3a\"],[0.8888888888888888,\"#fdca26\"],[1.0,\"#f0f921\"]],\"type\":\"surface\"}],\"table\":[{\"cells\":{\"fill\":{\"color\":\"#EBF0F8\"},\"line\":{\"color\":\"white\"}},\"header\":{\"fill\":{\"color\":\"#C8D4E3\"},\"line\":{\"color\":\"white\"}},\"type\":\"table\"}]},\"layout\":{\"annotationdefaults\":{\"arrowcolor\":\"#2a3f5f\",\"arrowhead\":0,\"arrowwidth\":1},\"autotypenumbers\":\"strict\",\"coloraxis\":{\"colorbar\":{\"outlinewidth\":0,\"ticks\":\"\"}},\"colorscale\":{\"diverging\":[[0,\"#8e0152\"],[0.1,\"#c51b7d\"],[0.2,\"#de77ae\"],[0.3,\"#f1b6da\"],[0.4,\"#fde0ef\"],[0.5,\"#f7f7f7\"],[0.6,\"#e6f5d0\"],[0.7,\"#b8e186\"],[0.8,\"#7fbc41\"],[0.9,\"#4d9221\"],[1,\"#276419\"]],\"sequential\":[[0.0,\"#0d0887\"],[0.1111111111111111,\"#46039f\"],[0.2222222222222222,\"#7201a8\"],[0.3333333333333333,\"#9c179e\"],[0.4444444444444444,\"#bd3786\"],[0.5555555555555556,\"#d8576b\"],[0.6666666666666666,\"#ed7953\"],[0.7777777777777778,\"#fb9f3a\"],[0.8888888888888888,\"#fdca26\"],[1.0,\"#f0f921\"]],\"sequentialminus\":[[0.0,\"#0d0887\"],[0.1111111111111111,\"#46039f\"],[0.2222222222222222,\"#7201a8\"],[0.3333333333333333,\"#9c179e\"],[0.4444444444444444,\"#bd3786\"],[0.5555555555555556,\"#d8576b\"],[0.6666666666666666,\"#ed7953\"],[0.7777777777777778,\"#fb9f3a\"],[0.8888888888888888,\"#fdca26\"],[1.0,\"#f0f921\"]]},\"colorway\":[\"#636efa\",\"#EF553B\",\"#00cc96\",\"#ab63fa\",\"#FFA15A\",\"#19d3f3\",\"#FF6692\",\"#B6E880\",\"#FF97FF\",\"#FECB52\"],\"font\":{\"color\":\"#2a3f5f\"},\"geo\":{\"bgcolor\":\"white\",\"lakecolor\":\"white\",\"landcolor\":\"#E5ECF6\",\"showlakes\":true,\"showland\":true,\"subunitcolor\":\"white\"},\"hoverlabel\":{\"align\":\"left\"},\"hovermode\":\"closest\",\"mapbox\":{\"style\":\"light\"},\"paper_bgcolor\":\"white\",\"plot_bgcolor\":\"#E5ECF6\",\"polar\":{\"angularaxis\":{\"gridcolor\":\"white\",\"linecolor\":\"white\",\"ticks\":\"\"},\"bgcolor\":\"#E5ECF6\",\"radialaxis\":{\"gridcolor\":\"white\",\"linecolor\":\"white\",\"ticks\":\"\"}},\"scene\":{\"xaxis\":{\"backgroundcolor\":\"#E5ECF6\",\"gridcolor\":\"white\",\"gridwidth\":2,\"linecolor\":\"white\",\"showbackground\":true,\"ticks\":\"\",\"zerolinecolor\":\"white\"},\"yaxis\":{\"backgroundcolor\":\"#E5ECF6\",\"gridcolor\":\"white\",\"gridwidth\":2,\"linecolor\":\"white\",\"showbackground\":true,\"ticks\":\"\",\"zerolinecolor\":\"white\"},\"zaxis\":{\"backgroundcolor\":\"#E5ECF6\",\"gridcolor\":\"white\",\"gridwidth\":2,\"linecolor\":\"white\",\"showbackground\":true,\"ticks\":\"\",\"zerolinecolor\":\"white\"}},\"shapedefaults\":{\"line\":{\"color\":\"#2a3f5f\"}},\"ternary\":{\"aaxis\":{\"gridcolor\":\"white\",\"linecolor\":\"white\",\"ticks\":\"\"},\"baxis\":{\"gridcolor\":\"white\",\"linecolor\":\"white\",\"ticks\":\"\"},\"bgcolor\":\"#E5ECF6\",\"caxis\":{\"gridcolor\":\"white\",\"linecolor\":\"white\",\"ticks\":\"\"}},\"title\":{\"x\":0.05},\"xaxis\":{\"automargin\":true,\"gridcolor\":\"white\",\"linecolor\":\"white\",\"ticks\":\"\",\"title\":{\"standoff\":15},\"zerolinecolor\":\"white\",\"zerolinewidth\":2},\"yaxis\":{\"automargin\":true,\"gridcolor\":\"white\",\"linecolor\":\"white\",\"ticks\":\"\",\"title\":{\"standoff\":15},\"zerolinecolor\":\"white\",\"zerolinewidth\":2}}},\"title\":{\"font\":{\"color\":\"#4D5663\"},\"text\":\"3.0\"},\"xaxis\":{\"gridcolor\":\"#E1E5ED\",\"showgrid\":true,\"tickfont\":{\"color\":\"#4D5663\"},\"title\":{\"font\":{\"color\":\"#4D5663\"},\"text\":\"\"},\"zerolinecolor\":\"#E1E5ED\"},\"yaxis\":{\"gridcolor\":\"#E1E5ED\",\"showgrid\":true,\"tickfont\":{\"color\":\"#4D5663\"},\"title\":{\"font\":{\"color\":\"#4D5663\"},\"text\":\"\"},\"zerolinecolor\":\"#E1E5ED\"}},                        {\"showLink\": true, \"linkText\": \"Export to plot.ly\", \"plotlyServerURL\": \"https://plot.ly\", \"responsive\": true}                    ).then(function(){\n",
       "                            \n",
       "var gd = document.getElementById('5de386b6-1c7c-470a-9172-1bba148b2333');\n",
       "var x = new MutationObserver(function (mutations, observer) {{\n",
       "        var display = window.getComputedStyle(gd).display;\n",
       "        if (!display || display === 'none') {{\n",
       "            console.log([gd, 'removed!']);\n",
       "            Plotly.purge(gd);\n",
       "            observer.disconnect();\n",
       "        }}\n",
       "}});\n",
       "\n",
       "// Listen for the removal of the full notebook cells\n",
       "var notebookContainer = gd.closest('#notebook-container');\n",
       "if (notebookContainer) {{\n",
       "    x.observe(notebookContainer, {childList: true});\n",
       "}}\n",
       "\n",
       "// Listen for the clearing of the current output cell\n",
       "var outputEl = gd.closest('.output');\n",
       "if (outputEl) {{\n",
       "    x.observe(outputEl, {childList: true});\n",
       "}}\n",
       "\n",
       "                        })                };                });            </script>        </div>"
      ]
     },
     "metadata": {},
     "output_type": "display_data"
    },
    {
     "data": {
      "application/vnd.plotly.v1+json": {
       "config": {
        "linkText": "Export to plot.ly",
        "plotlyServerURL": "https://plot.ly",
        "showLink": true
       },
       "data": [
        {
         "line": {
          "color": "rgba(255, 153, 51, 1.0)",
          "dash": "solid",
          "shape": "linear",
          "width": 1.3
         },
         "mode": "lines",
         "name": "real",
         "text": "",
         "type": "scatter",
         "x": [
          "2018-06-05",
          "2018-06-06",
          "2018-06-07",
          "2018-06-08",
          "2018-06-09",
          "2018-06-10",
          "2018-06-11",
          "2018-06-12",
          "2018-06-13",
          "2018-06-14",
          "2018-06-15",
          "2018-06-16",
          "2018-06-17",
          "2018-06-18",
          "2018-06-19",
          "2018-06-20",
          "2018-06-21",
          "2018-06-22",
          "2018-06-23",
          "2018-06-24",
          "2018-06-25",
          "2018-06-26",
          "2018-06-27",
          "2018-06-28",
          "2018-06-29",
          "2018-06-30",
          "2018-07-01",
          "2018-07-02",
          "2018-07-03",
          "2018-07-04",
          "2018-07-05",
          "2018-07-06",
          "2018-07-07",
          "2018-07-08",
          "2018-07-09",
          "2018-07-10",
          "2018-07-11",
          "2018-07-12",
          "2018-07-13",
          "2018-07-14",
          "2018-07-15",
          "2018-07-16",
          "2018-07-17",
          "2018-07-18",
          "2018-07-19",
          "2018-07-20",
          "2018-07-21",
          "2018-07-22",
          "2018-07-23",
          "2018-07-24",
          "2018-07-25",
          "2018-07-26",
          "2018-07-27",
          "2018-07-28",
          "2018-07-29",
          "2018-07-30",
          "2018-07-31",
          "2018-08-01",
          "2018-08-02",
          "2018-08-03",
          "2018-08-04",
          "2018-08-05",
          "2018-08-06",
          "2018-08-07",
          "2018-08-08",
          "2018-08-09",
          "2018-08-10",
          "2018-08-11",
          "2018-08-12",
          "2018-08-13",
          "2018-08-14",
          "2018-08-15",
          "2018-08-16",
          "2018-08-17",
          "2018-08-18",
          "2018-08-19",
          "2018-08-20",
          "2018-08-21",
          "2018-08-22",
          "2018-08-23",
          "2018-08-24",
          "2018-08-25",
          "2018-08-26",
          "2018-08-27",
          "2018-08-28",
          "2018-08-29",
          "2018-08-30",
          "2018-08-31",
          "2018-09-01",
          "2018-09-02",
          "2018-09-03",
          "2018-09-04",
          "2018-09-05",
          "2018-09-06",
          "2018-09-07",
          "2018-09-08",
          "2018-09-09",
          "2018-09-10",
          "2018-09-11",
          "2018-09-12",
          "2018-09-13",
          "2018-09-14",
          "2018-09-15",
          "2018-09-16",
          "2018-09-17",
          "2018-09-18",
          "2018-09-19",
          "2018-09-20",
          "2018-09-21",
          "2018-09-22",
          "2018-09-23",
          "2018-09-24",
          "2018-09-25",
          "2018-09-26",
          "2018-09-27",
          "2018-09-28",
          "2018-09-29",
          "2018-09-30",
          "2019-06-01",
          "2019-06-02",
          "2019-06-03",
          "2019-06-04",
          "2019-06-05",
          "2019-06-06",
          "2019-06-07",
          "2019-06-08",
          "2019-06-09",
          "2019-06-10",
          "2019-06-11",
          "2019-06-12",
          "2019-06-13",
          "2019-06-14",
          "2019-06-15",
          "2019-06-16",
          "2019-06-17",
          "2019-06-18",
          "2019-06-19",
          "2019-06-20",
          "2019-06-21",
          "2019-06-22",
          "2019-06-23",
          "2019-06-24",
          "2019-06-25",
          "2019-06-26",
          "2019-06-27",
          "2019-06-28",
          "2019-06-29",
          "2019-06-30",
          "2019-07-01",
          "2019-07-02",
          "2019-07-03",
          "2019-07-04",
          "2019-07-05",
          "2019-07-06",
          "2019-07-07",
          "2019-07-08",
          "2019-07-09",
          "2019-07-10",
          "2019-07-11",
          "2019-07-12",
          "2019-07-13",
          "2019-07-14",
          "2019-07-15",
          "2019-07-16",
          "2019-07-17",
          "2019-07-18",
          "2019-07-19",
          "2019-07-20",
          "2019-07-21",
          "2019-07-22",
          "2019-07-23",
          "2019-07-24",
          "2019-07-25",
          "2019-07-26",
          "2019-07-27",
          "2019-07-28",
          "2019-07-29",
          "2019-07-30",
          "2019-07-31",
          "2019-08-01",
          "2019-08-02",
          "2019-08-03",
          "2019-08-04",
          "2019-08-05",
          "2019-08-06",
          "2019-08-07",
          "2019-08-08",
          "2019-08-09",
          "2019-08-10",
          "2019-08-11",
          "2019-08-12",
          "2019-08-13",
          "2019-08-14",
          "2019-08-15",
          "2019-08-16",
          "2019-08-17",
          "2019-08-18",
          "2019-08-19",
          "2019-08-20",
          "2019-08-21",
          "2019-08-22",
          "2019-08-23",
          "2019-08-24",
          "2019-08-25",
          "2019-08-26",
          "2019-08-27",
          "2019-08-28",
          "2019-08-29",
          "2019-08-30",
          "2019-08-31",
          "2019-09-01",
          "2019-09-02",
          "2019-09-03",
          "2019-09-04",
          "2019-09-05",
          "2019-09-06",
          "2019-09-07",
          "2019-09-08",
          "2019-09-09",
          "2019-09-10",
          "2019-09-11",
          "2019-09-12",
          "2019-09-13",
          "2019-09-14",
          "2019-09-15",
          "2019-09-16",
          "2019-09-17",
          "2019-09-18",
          "2019-09-19",
          "2019-09-20",
          "2019-09-21",
          "2019-09-22",
          "2019-09-23",
          "2019-09-24",
          "2019-09-25",
          "2019-09-26",
          "2019-09-27",
          "2019-09-28",
          "2019-09-29",
          "2019-09-30",
          "2020-06-01",
          "2020-06-02",
          "2020-06-03",
          "2020-06-04",
          "2020-06-05",
          "2020-06-06",
          "2020-06-07",
          "2020-06-08",
          "2020-06-09",
          "2020-06-10",
          "2020-06-11",
          "2020-06-12",
          "2020-06-13",
          "2020-06-14",
          "2020-06-15",
          "2020-06-16",
          "2020-06-17",
          "2020-06-18",
          "2020-06-19",
          "2020-06-20",
          "2020-06-21",
          "2020-06-22",
          "2020-06-23",
          "2020-06-24",
          "2020-06-25",
          "2020-06-26",
          "2020-06-27",
          "2020-06-28",
          "2020-06-29",
          "2020-06-30",
          "2020-07-01",
          "2020-07-02",
          "2020-07-03",
          "2020-07-04",
          "2020-07-05",
          "2020-07-06",
          "2020-07-07",
          "2020-07-08",
          "2020-07-09",
          "2020-07-10",
          "2020-07-11",
          "2020-07-12",
          "2020-07-13",
          "2020-07-14",
          "2020-07-15",
          "2020-07-16",
          "2020-07-17",
          "2020-07-18",
          "2020-07-19",
          "2020-07-20",
          "2020-07-21",
          "2020-07-22",
          "2020-07-23",
          "2020-07-24",
          "2020-07-25",
          "2020-07-26",
          "2020-07-27",
          "2020-07-28",
          "2020-07-29",
          "2020-07-30",
          "2020-07-31",
          "2020-08-01",
          "2020-08-02",
          "2020-08-03",
          "2020-08-04",
          "2020-08-05",
          "2020-08-06",
          "2020-08-07",
          "2020-08-08",
          "2020-08-09",
          "2020-08-10",
          "2020-08-11",
          "2020-08-12",
          "2020-08-13",
          "2020-08-14",
          "2020-08-15",
          "2020-08-16",
          "2020-08-17",
          "2020-08-18",
          "2020-08-19",
          "2020-08-20",
          "2020-08-21",
          "2020-08-22",
          "2020-08-23",
          "2020-08-24",
          "2020-08-25",
          "2020-08-26",
          "2020-08-27",
          "2020-08-28",
          "2020-08-29",
          "2020-08-30",
          "2020-08-31",
          "2020-09-01",
          "2020-09-02",
          "2020-09-03",
          "2020-09-04",
          "2020-09-05",
          "2020-09-06",
          "2020-09-07",
          "2020-09-08",
          "2020-09-09",
          "2020-09-10",
          "2020-09-11",
          "2020-09-12",
          "2020-09-13",
          "2020-09-14",
          "2020-09-15",
          "2020-09-16",
          "2020-09-17",
          "2020-09-18",
          "2020-09-19",
          "2020-09-20",
          "2020-09-21",
          "2020-09-22",
          "2020-09-23",
          "2020-09-24",
          "2020-09-25",
          "2020-09-26",
          "2020-09-27",
          "2020-09-28",
          "2020-09-29",
          "2020-09-30",
          "2021-06-01",
          "2021-06-02",
          "2021-06-03",
          "2021-06-04",
          "2021-06-05",
          "2021-06-06",
          "2021-06-07",
          "2021-06-08",
          "2021-06-09",
          "2021-06-10",
          "2021-06-11",
          "2021-06-12",
          "2021-06-13",
          "2021-06-14",
          "2021-06-15",
          "2021-06-16",
          "2021-06-17",
          "2021-06-18",
          "2021-06-19",
          "2021-06-20",
          "2021-06-21",
          "2021-06-22",
          "2021-06-23",
          "2021-06-24",
          "2021-06-25",
          "2021-06-26",
          "2021-06-27",
          "2021-06-28",
          "2021-06-29",
          "2021-06-30",
          "2021-07-01",
          "2021-07-02",
          "2021-07-03",
          "2021-07-04",
          "2021-07-05",
          "2021-07-06",
          "2021-07-07",
          "2021-07-08",
          "2021-07-09",
          "2021-07-10",
          "2021-07-11",
          "2021-07-12",
          "2021-07-13",
          "2021-07-14",
          "2021-07-15",
          "2021-07-16",
          "2021-07-17",
          "2021-07-18",
          "2021-07-19",
          "2021-07-20",
          "2021-07-21",
          "2021-07-22",
          "2021-07-23",
          "2021-07-24",
          "2021-07-25",
          "2021-07-26",
          "2021-07-27",
          "2021-07-28",
          "2021-07-29",
          "2021-07-30",
          "2021-07-31",
          "2021-08-01",
          "2021-08-02",
          "2021-08-03",
          "2021-08-04",
          "2021-08-05",
          "2021-08-06",
          "2021-08-07",
          "2021-08-08",
          "2021-08-09",
          "2021-08-10",
          "2021-08-11",
          "2021-08-12",
          "2021-08-13",
          "2021-08-14",
          "2021-08-15",
          "2021-08-16",
          "2021-08-17",
          "2021-08-18",
          "2021-08-19",
          "2021-08-20",
          "2021-08-21",
          "2021-08-22",
          "2021-08-23",
          "2021-08-24",
          "2021-08-25",
          "2021-08-26",
          "2021-08-27",
          "2021-08-28",
          "2021-08-29",
          "2021-08-30",
          "2021-08-31",
          "2021-09-01",
          "2021-09-02",
          "2021-09-03",
          "2021-09-04",
          "2021-09-05",
          "2021-09-06",
          "2021-09-07",
          "2021-09-08",
          "2021-09-09",
          "2021-09-10",
          "2021-09-11",
          "2021-09-12",
          "2021-09-13",
          "2021-09-14",
          "2021-09-15",
          "2021-09-16",
          "2021-09-17",
          "2021-09-18",
          "2021-09-19",
          "2021-09-20",
          "2021-09-21",
          "2021-09-22",
          "2021-09-23",
          "2021-09-24",
          "2021-09-25",
          "2021-09-26",
          "2021-09-27",
          "2021-09-28",
          "2021-09-29",
          "2021-09-30"
         ],
         "y": [
          89,
          77,
          100,
          80,
          35,
          38,
          85,
          78,
          64,
          43,
          63,
          41,
          26,
          60,
          83,
          73,
          94,
          95,
          19,
          23,
          72,
          69,
          80,
          78,
          85,
          36,
          37,
          70,
          76,
          79,
          85,
          77,
          32,
          20,
          78,
          73,
          72,
          82,
          56,
          29,
          29,
          80,
          81,
          71,
          82,
          69,
          46,
          27,
          93,
          79,
          85,
          75,
          85,
          39,
          30,
          100,
          87,
          102,
          94,
          77,
          31,
          23,
          84,
          71,
          69,
          84,
          82,
          36,
          33,
          74,
          84,
          71,
          84,
          66,
          31,
          29,
          72,
          91,
          96,
          79,
          99,
          47,
          34,
          88,
          83,
          96,
          79,
          82,
          43,
          31,
          86,
          95,
          78,
          94,
          95,
          39,
          31,
          92,
          93,
          95,
          78,
          76,
          27,
          22,
          71,
          65,
          67,
          80,
          81,
          35,
          30,
          77,
          95,
          68,
          80,
          72,
          32,
          30,
          43,
          35,
          83,
          95,
          79,
          67,
          76,
          41,
          32,
          80,
          119,
          99,
          84,
          101,
          41,
          30,
          97,
          111,
          95,
          90,
          100,
          36,
          26,
          72,
          85,
          80,
          85,
          80,
          41,
          30,
          80,
          90,
          100,
          98,
          91,
          30,
          32,
          80,
          91,
          93,
          91,
          79,
          31,
          32,
          85,
          68,
          80,
          69,
          75,
          32,
          18,
          79,
          86,
          105,
          52,
          57,
          47,
          32,
          72,
          85,
          86,
          77,
          71,
          44,
          32,
          91,
          80,
          87,
          97,
          84,
          33,
          30,
          67,
          91,
          105,
          77,
          94,
          44,
          42,
          85,
          85,
          100,
          78,
          97,
          48,
          30,
          101,
          101,
          99,
          90,
          86,
          38,
          30,
          79,
          23,
          90,
          88,
          103,
          39,
          38,
          93,
          79,
          93,
          81,
          67,
          23,
          25,
          18,
          81,
          83,
          73,
          64,
          40,
          26,
          98,
          82,
          80,
          99,
          89,
          44,
          32,
          90,
          25,
          23,
          23,
          19,
          22,
          23,
          8,
          20,
          15,
          16,
          19,
          22,
          25,
          11,
          25,
          16,
          18,
          16,
          24,
          16,
          21,
          10,
          19,
          19,
          22,
          22,
          21,
          16,
          10,
          21,
          22,
          31,
          21,
          16,
          16,
          18,
          24,
          23,
          20,
          28,
          21,
          10,
          15,
          18,
          35,
          23,
          37,
          20,
          19,
          32,
          25,
          30,
          31,
          35,
          21,
          12,
          24,
          24,
          30,
          27,
          29,
          23,
          14,
          36,
          20,
          27,
          34,
          33,
          12,
          11,
          24,
          33,
          23,
          27,
          23,
          16,
          12,
          21,
          27,
          29,
          22,
          32,
          16,
          11,
          23,
          24,
          26,
          28,
          25,
          19,
          12,
          13,
          22,
          26,
          13,
          26,
          20,
          13,
          19,
          23,
          34,
          33,
          33,
          18,
          17,
          27,
          31,
          21,
          38,
          25,
          19,
          18,
          27,
          27,
          31,
          36,
          28,
          21,
          19,
          38,
          19,
          34,
          46,
          41,
          39,
          24,
          24,
          16,
          35,
          40,
          37,
          37,
          35,
          25,
          19,
          35,
          41,
          37,
          40,
          29,
          20,
          19,
          36,
          45,
          40,
          32,
          37,
          26,
          14,
          29,
          44,
          36,
          44,
          34,
          27,
          16,
          34,
          35,
          33,
          33,
          37,
          22,
          21,
          38,
          38,
          28,
          39,
          38,
          25,
          13,
          31,
          47,
          28,
          27,
          34,
          21,
          20,
          29,
          36,
          31,
          32,
          42,
          15,
          12,
          27,
          39,
          30,
          26,
          22,
          17,
          11,
          26,
          28,
          38,
          30,
          28,
          22,
          28,
          32,
          32,
          39,
          39,
          25,
          14,
          18,
          30,
          34,
          32,
          34,
          26,
          23,
          21,
          25,
          28,
          29,
          24,
          34,
          15,
          17,
          31,
          21,
          35,
          36,
          43,
          16,
          17,
          31,
          41,
          25,
          8,
          29,
          22,
          20,
          39,
          35,
          41,
          33,
          38,
          30,
          15,
          38,
          42,
          36,
          39
         ]
        },
        {
         "line": {
          "color": "rgba(55, 128, 191, 1.0)",
          "dash": "solid",
          "shape": "linear",
          "width": 1.3
         },
         "mode": "lines",
         "name": "estimado",
         "text": "",
         "type": "scatter",
         "x": [
          "2018-06-05",
          "2018-06-06",
          "2018-06-07",
          "2018-06-08",
          "2018-06-09",
          "2018-06-10",
          "2018-06-11",
          "2018-06-12",
          "2018-06-13",
          "2018-06-14",
          "2018-06-15",
          "2018-06-16",
          "2018-06-17",
          "2018-06-18",
          "2018-06-19",
          "2018-06-20",
          "2018-06-21",
          "2018-06-22",
          "2018-06-23",
          "2018-06-24",
          "2018-06-25",
          "2018-06-26",
          "2018-06-27",
          "2018-06-28",
          "2018-06-29",
          "2018-06-30",
          "2018-07-01",
          "2018-07-02",
          "2018-07-03",
          "2018-07-04",
          "2018-07-05",
          "2018-07-06",
          "2018-07-07",
          "2018-07-08",
          "2018-07-09",
          "2018-07-10",
          "2018-07-11",
          "2018-07-12",
          "2018-07-13",
          "2018-07-14",
          "2018-07-15",
          "2018-07-16",
          "2018-07-17",
          "2018-07-18",
          "2018-07-19",
          "2018-07-20",
          "2018-07-21",
          "2018-07-22",
          "2018-07-23",
          "2018-07-24",
          "2018-07-25",
          "2018-07-26",
          "2018-07-27",
          "2018-07-28",
          "2018-07-29",
          "2018-07-30",
          "2018-07-31",
          "2018-08-01",
          "2018-08-02",
          "2018-08-03",
          "2018-08-04",
          "2018-08-05",
          "2018-08-06",
          "2018-08-07",
          "2018-08-08",
          "2018-08-09",
          "2018-08-10",
          "2018-08-11",
          "2018-08-12",
          "2018-08-13",
          "2018-08-14",
          "2018-08-15",
          "2018-08-16",
          "2018-08-17",
          "2018-08-18",
          "2018-08-19",
          "2018-08-20",
          "2018-08-21",
          "2018-08-22",
          "2018-08-23",
          "2018-08-24",
          "2018-08-25",
          "2018-08-26",
          "2018-08-27",
          "2018-08-28",
          "2018-08-29",
          "2018-08-30",
          "2018-08-31",
          "2018-09-01",
          "2018-09-02",
          "2018-09-03",
          "2018-09-04",
          "2018-09-05",
          "2018-09-06",
          "2018-09-07",
          "2018-09-08",
          "2018-09-09",
          "2018-09-10",
          "2018-09-11",
          "2018-09-12",
          "2018-09-13",
          "2018-09-14",
          "2018-09-15",
          "2018-09-16",
          "2018-09-17",
          "2018-09-18",
          "2018-09-19",
          "2018-09-20",
          "2018-09-21",
          "2018-09-22",
          "2018-09-23",
          "2018-09-24",
          "2018-09-25",
          "2018-09-26",
          "2018-09-27",
          "2018-09-28",
          "2018-09-29",
          "2018-09-30",
          "2019-06-01",
          "2019-06-02",
          "2019-06-03",
          "2019-06-04",
          "2019-06-05",
          "2019-06-06",
          "2019-06-07",
          "2019-06-08",
          "2019-06-09",
          "2019-06-10",
          "2019-06-11",
          "2019-06-12",
          "2019-06-13",
          "2019-06-14",
          "2019-06-15",
          "2019-06-16",
          "2019-06-17",
          "2019-06-18",
          "2019-06-19",
          "2019-06-20",
          "2019-06-21",
          "2019-06-22",
          "2019-06-23",
          "2019-06-24",
          "2019-06-25",
          "2019-06-26",
          "2019-06-27",
          "2019-06-28",
          "2019-06-29",
          "2019-06-30",
          "2019-07-01",
          "2019-07-02",
          "2019-07-03",
          "2019-07-04",
          "2019-07-05",
          "2019-07-06",
          "2019-07-07",
          "2019-07-08",
          "2019-07-09",
          "2019-07-10",
          "2019-07-11",
          "2019-07-12",
          "2019-07-13",
          "2019-07-14",
          "2019-07-15",
          "2019-07-16",
          "2019-07-17",
          "2019-07-18",
          "2019-07-19",
          "2019-07-20",
          "2019-07-21",
          "2019-07-22",
          "2019-07-23",
          "2019-07-24",
          "2019-07-25",
          "2019-07-26",
          "2019-07-27",
          "2019-07-28",
          "2019-07-29",
          "2019-07-30",
          "2019-07-31",
          "2019-08-01",
          "2019-08-02",
          "2019-08-03",
          "2019-08-04",
          "2019-08-05",
          "2019-08-06",
          "2019-08-07",
          "2019-08-08",
          "2019-08-09",
          "2019-08-10",
          "2019-08-11",
          "2019-08-12",
          "2019-08-13",
          "2019-08-14",
          "2019-08-15",
          "2019-08-16",
          "2019-08-17",
          "2019-08-18",
          "2019-08-19",
          "2019-08-20",
          "2019-08-21",
          "2019-08-22",
          "2019-08-23",
          "2019-08-24",
          "2019-08-25",
          "2019-08-26",
          "2019-08-27",
          "2019-08-28",
          "2019-08-29",
          "2019-08-30",
          "2019-08-31",
          "2019-09-01",
          "2019-09-02",
          "2019-09-03",
          "2019-09-04",
          "2019-09-05",
          "2019-09-06",
          "2019-09-07",
          "2019-09-08",
          "2019-09-09",
          "2019-09-10",
          "2019-09-11",
          "2019-09-12",
          "2019-09-13",
          "2019-09-14",
          "2019-09-15",
          "2019-09-16",
          "2019-09-17",
          "2019-09-18",
          "2019-09-19",
          "2019-09-20",
          "2019-09-21",
          "2019-09-22",
          "2019-09-23",
          "2019-09-24",
          "2019-09-25",
          "2019-09-26",
          "2019-09-27",
          "2019-09-28",
          "2019-09-29",
          "2019-09-30",
          "2020-06-01",
          "2020-06-02",
          "2020-06-03",
          "2020-06-04",
          "2020-06-05",
          "2020-06-06",
          "2020-06-07",
          "2020-06-08",
          "2020-06-09",
          "2020-06-10",
          "2020-06-11",
          "2020-06-12",
          "2020-06-13",
          "2020-06-14",
          "2020-06-15",
          "2020-06-16",
          "2020-06-17",
          "2020-06-18",
          "2020-06-19",
          "2020-06-20",
          "2020-06-21",
          "2020-06-22",
          "2020-06-23",
          "2020-06-24",
          "2020-06-25",
          "2020-06-26",
          "2020-06-27",
          "2020-06-28",
          "2020-06-29",
          "2020-06-30",
          "2020-07-01",
          "2020-07-02",
          "2020-07-03",
          "2020-07-04",
          "2020-07-05",
          "2020-07-06",
          "2020-07-07",
          "2020-07-08",
          "2020-07-09",
          "2020-07-10",
          "2020-07-11",
          "2020-07-12",
          "2020-07-13",
          "2020-07-14",
          "2020-07-15",
          "2020-07-16",
          "2020-07-17",
          "2020-07-18",
          "2020-07-19",
          "2020-07-20",
          "2020-07-21",
          "2020-07-22",
          "2020-07-23",
          "2020-07-24",
          "2020-07-25",
          "2020-07-26",
          "2020-07-27",
          "2020-07-28",
          "2020-07-29",
          "2020-07-30",
          "2020-07-31",
          "2020-08-01",
          "2020-08-02",
          "2020-08-03",
          "2020-08-04",
          "2020-08-05",
          "2020-08-06",
          "2020-08-07",
          "2020-08-08",
          "2020-08-09",
          "2020-08-10",
          "2020-08-11",
          "2020-08-12",
          "2020-08-13",
          "2020-08-14",
          "2020-08-15",
          "2020-08-16",
          "2020-08-17",
          "2020-08-18",
          "2020-08-19",
          "2020-08-20",
          "2020-08-21",
          "2020-08-22",
          "2020-08-23",
          "2020-08-24",
          "2020-08-25",
          "2020-08-26",
          "2020-08-27",
          "2020-08-28",
          "2020-08-29",
          "2020-08-30",
          "2020-08-31",
          "2020-09-01",
          "2020-09-02",
          "2020-09-03",
          "2020-09-04",
          "2020-09-05",
          "2020-09-06",
          "2020-09-07",
          "2020-09-08",
          "2020-09-09",
          "2020-09-10",
          "2020-09-11",
          "2020-09-12",
          "2020-09-13",
          "2020-09-14",
          "2020-09-15",
          "2020-09-16",
          "2020-09-17",
          "2020-09-18",
          "2020-09-19",
          "2020-09-20",
          "2020-09-21",
          "2020-09-22",
          "2020-09-23",
          "2020-09-24",
          "2020-09-25",
          "2020-09-26",
          "2020-09-27",
          "2020-09-28",
          "2020-09-29",
          "2020-09-30",
          "2021-06-01",
          "2021-06-02",
          "2021-06-03",
          "2021-06-04",
          "2021-06-05",
          "2021-06-06",
          "2021-06-07",
          "2021-06-08",
          "2021-06-09",
          "2021-06-10",
          "2021-06-11",
          "2021-06-12",
          "2021-06-13",
          "2021-06-14",
          "2021-06-15",
          "2021-06-16",
          "2021-06-17",
          "2021-06-18",
          "2021-06-19",
          "2021-06-20",
          "2021-06-21",
          "2021-06-22",
          "2021-06-23",
          "2021-06-24",
          "2021-06-25",
          "2021-06-26",
          "2021-06-27",
          "2021-06-28",
          "2021-06-29",
          "2021-06-30",
          "2021-07-01",
          "2021-07-02",
          "2021-07-03",
          "2021-07-04",
          "2021-07-05",
          "2021-07-06",
          "2021-07-07",
          "2021-07-08",
          "2021-07-09",
          "2021-07-10",
          "2021-07-11",
          "2021-07-12",
          "2021-07-13",
          "2021-07-14",
          "2021-07-15",
          "2021-07-16",
          "2021-07-17",
          "2021-07-18",
          "2021-07-19",
          "2021-07-20",
          "2021-07-21",
          "2021-07-22",
          "2021-07-23",
          "2021-07-24",
          "2021-07-25",
          "2021-07-26",
          "2021-07-27",
          "2021-07-28",
          "2021-07-29",
          "2021-07-30",
          "2021-07-31",
          "2021-08-01",
          "2021-08-02",
          "2021-08-03",
          "2021-08-04",
          "2021-08-05",
          "2021-08-06",
          "2021-08-07",
          "2021-08-08",
          "2021-08-09",
          "2021-08-10",
          "2021-08-11",
          "2021-08-12",
          "2021-08-13",
          "2021-08-14",
          "2021-08-15",
          "2021-08-16",
          "2021-08-17",
          "2021-08-18",
          "2021-08-19",
          "2021-08-20",
          "2021-08-21",
          "2021-08-22",
          "2021-08-23",
          "2021-08-24",
          "2021-08-25",
          "2021-08-26",
          "2021-08-27",
          "2021-08-28",
          "2021-08-29",
          "2021-08-30",
          "2021-08-31",
          "2021-09-01",
          "2021-09-02",
          "2021-09-03",
          "2021-09-04",
          "2021-09-05",
          "2021-09-06",
          "2021-09-07",
          "2021-09-08",
          "2021-09-09",
          "2021-09-10",
          "2021-09-11",
          "2021-09-12",
          "2021-09-13",
          "2021-09-14",
          "2021-09-15",
          "2021-09-16",
          "2021-09-17",
          "2021-09-18",
          "2021-09-19",
          "2021-09-20",
          "2021-09-21",
          "2021-09-22",
          "2021-09-23",
          "2021-09-24",
          "2021-09-25",
          "2021-09-26",
          "2021-09-27",
          "2021-09-28",
          "2021-09-29",
          "2021-09-30"
         ],
         "y": [
          89.00000000000024,
          77.00000000000027,
          100.00000000000018,
          80.00000000000003,
          35.00000000000014,
          38.00000000000027,
          85.00000000000034,
          78.00000000000031,
          64.00000000000024,
          43.000000000000256,
          63.00000000000033,
          41.00000000000041,
          26.000000000000483,
          60.000000000000526,
          83.00000000000044,
          73.00000000000031,
          94.00000000000023,
          95.00000000000016,
          19.00000000000012,
          23.000000000000284,
          72.00000000000041,
          69.00000000000038,
          80.0000000000004,
          78.00000000000028,
          85.00000000000018,
          36.00000000000014,
          37.00000000000031,
          70.00000000000037,
          76.00000000000033,
          79.0000000000003,
          85.0000000000002,
          77.00000000000013,
          32.00000000000015,
          20.000000000000362,
          78.00000000000043,
          73.00000000000038,
          72.0000000000003,
          82.00000000000023,
          56.000000000000156,
          29.000000000000327,
          29.000000000000462,
          80.00000000000044,
          81.00000000000036,
          71.00000000000033,
          82.00000000000021,
          69.00000000000014,
          46.00000000000024,
          27.00000000000037,
          93.00000000000037,
          79.00000000000027,
          85.00000000000023,
          75.00000000000021,
          85.00000000000011,
          39.000000000000234,
          30.000000000000284,
          100.00000000000034,
          87.00000000000026,
          102.0000000000002,
          94.00000000000009,
          77,
          31.000000000000078,
          23.00000000000027,
          84.00000000000043,
          71.00000000000036,
          69.00000000000036,
          84.00000000000033,
          82.00000000000013,
          36.00000000000021,
          33.00000000000033,
          74.00000000000043,
          84.00000000000034,
          71.00000000000031,
          84.00000000000028,
          66.00000000000017,
          31.000000000000192,
          29.00000000000042,
          72.00000000000045,
          91.0000000000004,
          96.00000000000026,
          79.00000000000021,
          99.00000000000006,
          47.000000000000085,
          34.000000000000206,
          88.0000000000004,
          83.00000000000028,
          96.0000000000002,
          79.00000000000011,
          82.00000000000017,
          43.00000000000015,
          31.00000000000032,
          86.0000000000004,
          95.00000000000026,
          78.00000000000011,
          94.00000000000021,
          95.00000000000007,
          39.00000000000005,
          31.000000000000227,
          92.0000000000003,
          93.00000000000026,
          95.0000000000002,
          78.00000000000017,
          76.00000000000007,
          27.00000000000015,
          22.000000000000405,
          71.00000000000045,
          65.00000000000041,
          67.00000000000041,
          80.00000000000037,
          81.00000000000017,
          35.00000000000029,
          30.00000000000032,
          77.0000000000004,
          95.00000000000024,
          68.00000000000031,
          80.00000000000024,
          72.00000000000021,
          32.000000000000206,
          30.000000000000398,
          43.0000000000009,
          35.00000000000082,
          83.00000000000061,
          95.00000000000044,
          79.00000000000027,
          67.00000000000026,
          76.00000000000018,
          41.000000000000206,
          32.000000000000306,
          80.00000000000041,
          119.00000000000023,
          99.00000000000014,
          84.00000000000004,
          101,
          41.00000000000003,
          30.000000000000256,
          97.00000000000031,
          111.00000000000016,
          95.00000000000018,
          90.0000000000001,
          100.00000000000001,
          36.00000000000002,
          26.000000000000206,
          72.00000000000033,
          85.00000000000034,
          80.00000000000024,
          85.00000000000021,
          80.00000000000017,
          41.000000000000206,
          30.000000000000306,
          80.00000000000034,
          90.00000000000028,
          100.00000000000028,
          98.00000000000017,
          91.00000000000006,
          30.000000000000135,
          32.00000000000024,
          80.00000000000043,
          91.00000000000034,
          93.00000000000024,
          91.00000000000023,
          79.00000000000007,
          31.000000000000142,
          32.00000000000033,
          85.0000000000004,
          68.00000000000027,
          80.00000000000031,
          69.00000000000027,
          75.00000000000026,
          32.000000000000284,
          18.000000000000412,
          79.00000000000048,
          86.00000000000034,
          105.00000000000036,
          52.00000000000023,
          57.00000000000024,
          47.00000000000032,
          32.00000000000035,
          72.00000000000045,
          85.00000000000031,
          86.00000000000027,
          77.00000000000026,
          71.00000000000013,
          44.000000000000206,
          32.00000000000026,
          91.00000000000041,
          80.00000000000031,
          87.00000000000026,
          97.00000000000018,
          84.00000000000014,
          33.00000000000015,
          30.00000000000032,
          67.00000000000038,
          91.00000000000031,
          105.00000000000027,
          77.00000000000016,
          94.00000000000009,
          44.00000000000014,
          42.00000000000022,
          85.00000000000037,
          85.00000000000027,
          100.00000000000016,
          78.00000000000018,
          97.00000000000009,
          48.00000000000013,
          30.000000000000213,
          101.00000000000026,
          101.00000000000014,
          99.00000000000016,
          90.00000000000011,
          85.99999999999999,
          38.000000000000185,
          30.00000000000027,
          79.00000000000036,
          23.000000000000327,
          90.00000000000041,
          88.0000000000004,
          103.00000000000021,
          39.00000000000023,
          38.000000000000206,
          93.00000000000028,
          79.00000000000026,
          93.00000000000023,
          81.0000000000002,
          67.00000000000017,
          23.000000000000227,
          25.000000000000377,
          18.000000000000576,
          81.00000000000051,
          83.00000000000045,
          73.00000000000036,
          64.00000000000036,
          40.000000000000306,
          26.000000000000405,
          98.00000000000036,
          82.00000000000034,
          80.00000000000024,
          99.0000000000002,
          89.00000000000007,
          44.00000000000016,
          32.00000000000026,
          90.00000000000034,
          25.00000000000091,
          23.00000000000086,
          23.00000000000078,
          19.00000000000076,
          22.000000000000725,
          23.000000000000732,
          8.00000000000071,
          20.00000000000078,
          15.000000000000767,
          16.00000000000074,
          19.000000000000796,
          22.00000000000076,
          25.00000000000074,
          11.000000000000753,
          25.000000000000767,
          16.000000000000725,
          18.000000000000725,
          16.00000000000076,
          24.000000000000703,
          16.000000000000767,
          21.00000000000078,
          10.000000000000767,
          19.000000000000732,
          19.000000000000774,
          22.00000000000076,
          22.00000000000076,
          21.000000000000725,
          16.000000000000746,
          10.00000000000076,
          21.00000000000079,
          22.00000000000076,
          31.000000000000774,
          21.000000000000732,
          16.000000000000703,
          16.00000000000076,
          18.00000000000076,
          24.00000000000076,
          23.000000000000753,
          20.00000000000074,
          28.000000000000725,
          21.000000000000682,
          10.000000000000753,
          15.000000000000782,
          18.000000000000753,
          35.00000000000075,
          23.00000000000074,
          37.00000000000068,
          20.000000000000668,
          19.000000000000668,
          32.00000000000069,
          25.000000000000618,
          30.000000000000675,
          31.000000000000668,
          35.000000000000675,
          21.00000000000064,
          12.00000000000066,
          24.00000000000071,
          24.000000000000696,
          30.00000000000074,
          27.000000000000703,
          29.000000000000696,
          23.000000000000654,
          14.000000000000668,
          36.0000000000007,
          20.000000000000682,
          27.000000000000725,
          34.0000000000007,
          33.00000000000065,
          12.000000000000668,
          11.000000000000696,
          24.000000000000725,
          33.00000000000075,
          23.000000000000725,
          27.000000000000675,
          23.000000000000682,
          16.00000000000071,
          12.00000000000071,
          21.000000000000725,
          27.000000000000718,
          29.000000000000725,
          22.000000000000696,
          32.000000000000725,
          16.000000000000696,
          11.00000000000071,
          23.000000000000732,
          24.00000000000069,
          26.000000000000718,
          28.000000000000696,
          25.00000000000069,
          19.000000000000675,
          12.000000000000718,
          13.00000000000076,
          22.00000000000081,
          26.00000000000078,
          13.00000000000076,
          26.000000000000732,
          20.000000000000732,
          13.000000000000732,
          19.00000000000078,
          23.00000000000069,
          34.000000000000774,
          33.00000000000069,
          33.000000000000675,
          18.000000000000647,
          17.000000000000703,
          27.000000000000675,
          31.00000000000064,
          21.00000000000069,
          38.00000000000069,
          25.000000000000654,
          19.000000000000675,
          18.000000000000675,
          27.000000000000725,
          27.000000000000703,
          31.000000000000668,
          36.000000000000654,
          28.000000000000647,
          21.00000000000066,
          19.000000000000654,
          38.0000000000007,
          19.000000000000675,
          34.00000000000069,
          46.000000000000874,
          41.000000000000774,
          39.000000000000675,
          24.00000000000066,
          24.00000000000059,
          16.000000000000682,
          35.000000000000675,
          40.00000000000066,
          37.00000000000062,
          37.00000000000058,
          35.00000000000057,
          25.000000000000576,
          19.000000000000647,
          35.000000000000675,
          41.00000000000064,
          37.000000000000625,
          40.000000000000625,
          29.000000000000632,
          20.00000000000064,
          19.00000000000066,
          36.00000000000067,
          45.00000000000064,
          40.0000000000006,
          32.00000000000059,
          37.00000000000062,
          26.00000000000059,
          14.000000000000604,
          29.000000000000675,
          44.000000000000675,
          36.000000000000654,
          44.00000000000061,
          34.00000000000057,
          27.00000000000057,
          16.000000000000647,
          34.00000000000064,
          35.00000000000068,
          33.00000000000062,
          33.00000000000062,
          37.000000000000576,
          22.00000000000057,
          21.00000000000066,
          38.000000000000675,
          38.00000000000063,
          28.000000000000597,
          39.000000000000625,
          38.00000000000061,
          25.00000000000059,
          13.000000000000682,
          31.00000000000069,
          47.000000000000654,
          28.000000000000654,
          27.000000000000632,
          34.000000000000604,
          21.000000000000597,
          20.000000000000668,
          29.000000000000718,
          36.00000000000066,
          31.000000000000647,
          32.000000000000654,
          42.00000000000062,
          15.000000000000618,
          12.000000000000668,
          27.000000000000668,
          39.000000000000654,
          30.00000000000069,
          26.000000000000654,
          22.00000000000066,
          17.000000000000668,
          11.000000000000746,
          26.000000000000753,
          28.000000000000725,
          38.000000000000675,
          30.000000000000682,
          28.000000000000625,
          22.000000000000632,
          28.000000000000654,
          32.00000000000066,
          32.00000000000057,
          39.000000000000654,
          39.00000000000061,
          25.000000000000583,
          14.00000000000064,
          18.00000000000066,
          30.00000000000074,
          34.000000000000675,
          32.000000000000625,
          34.00000000000064,
          26.00000000000061,
          23.000000000000597,
          21.000000000000682,
          25.00000000000071,
          28.000000000000732,
          29.00000000000066,
          24.000000000000675,
          34.00000000000067,
          15.000000000000647,
          17.00000000000071,
          31.000000000000725,
          21.000000000000725,
          35.00000000000073,
          36.00000000000069,
          43.000000000000654,
          16.00000000000064,
          17.00000000000064,
          31.00000000000066,
          41.00000000000067,
          25.000000000000647,
          8.000000000000668,
          29.000000000000682,
          22.000000000000703,
          20.000000000000753,
          39.00000000000072,
          35.000000000000654,
          41.000000000000625,
          33.000000000000625,
          38.00000000000056,
          30.000000000000625,
          15.00000000000059,
          38.000000000000654,
          42.000000000000604,
          36.00000000000061,
          39.00000000000065
         ]
        }
       ],
       "layout": {
        "legend": {
         "bgcolor": "#F5F6F9",
         "font": {
          "color": "#4D5663"
         }
        },
        "paper_bgcolor": "#F5F6F9",
        "plot_bgcolor": "#F5F6F9",
        "template": {
         "data": {
          "bar": [
           {
            "error_x": {
             "color": "#2a3f5f"
            },
            "error_y": {
             "color": "#2a3f5f"
            },
            "marker": {
             "line": {
              "color": "#E5ECF6",
              "width": 0.5
             },
             "pattern": {
              "fillmode": "overlay",
              "size": 10,
              "solidity": 0.2
             }
            },
            "type": "bar"
           }
          ],
          "barpolar": [
           {
            "marker": {
             "line": {
              "color": "#E5ECF6",
              "width": 0.5
             },
             "pattern": {
              "fillmode": "overlay",
              "size": 10,
              "solidity": 0.2
             }
            },
            "type": "barpolar"
           }
          ],
          "carpet": [
           {
            "aaxis": {
             "endlinecolor": "#2a3f5f",
             "gridcolor": "white",
             "linecolor": "white",
             "minorgridcolor": "white",
             "startlinecolor": "#2a3f5f"
            },
            "baxis": {
             "endlinecolor": "#2a3f5f",
             "gridcolor": "white",
             "linecolor": "white",
             "minorgridcolor": "white",
             "startlinecolor": "#2a3f5f"
            },
            "type": "carpet"
           }
          ],
          "choropleth": [
           {
            "colorbar": {
             "outlinewidth": 0,
             "ticks": ""
            },
            "type": "choropleth"
           }
          ],
          "contour": [
           {
            "colorbar": {
             "outlinewidth": 0,
             "ticks": ""
            },
            "colorscale": [
             [
              0,
              "#0d0887"
             ],
             [
              0.1111111111111111,
              "#46039f"
             ],
             [
              0.2222222222222222,
              "#7201a8"
             ],
             [
              0.3333333333333333,
              "#9c179e"
             ],
             [
              0.4444444444444444,
              "#bd3786"
             ],
             [
              0.5555555555555556,
              "#d8576b"
             ],
             [
              0.6666666666666666,
              "#ed7953"
             ],
             [
              0.7777777777777778,
              "#fb9f3a"
             ],
             [
              0.8888888888888888,
              "#fdca26"
             ],
             [
              1,
              "#f0f921"
             ]
            ],
            "type": "contour"
           }
          ],
          "contourcarpet": [
           {
            "colorbar": {
             "outlinewidth": 0,
             "ticks": ""
            },
            "type": "contourcarpet"
           }
          ],
          "heatmap": [
           {
            "colorbar": {
             "outlinewidth": 0,
             "ticks": ""
            },
            "colorscale": [
             [
              0,
              "#0d0887"
             ],
             [
              0.1111111111111111,
              "#46039f"
             ],
             [
              0.2222222222222222,
              "#7201a8"
             ],
             [
              0.3333333333333333,
              "#9c179e"
             ],
             [
              0.4444444444444444,
              "#bd3786"
             ],
             [
              0.5555555555555556,
              "#d8576b"
             ],
             [
              0.6666666666666666,
              "#ed7953"
             ],
             [
              0.7777777777777778,
              "#fb9f3a"
             ],
             [
              0.8888888888888888,
              "#fdca26"
             ],
             [
              1,
              "#f0f921"
             ]
            ],
            "type": "heatmap"
           }
          ],
          "heatmapgl": [
           {
            "colorbar": {
             "outlinewidth": 0,
             "ticks": ""
            },
            "colorscale": [
             [
              0,
              "#0d0887"
             ],
             [
              0.1111111111111111,
              "#46039f"
             ],
             [
              0.2222222222222222,
              "#7201a8"
             ],
             [
              0.3333333333333333,
              "#9c179e"
             ],
             [
              0.4444444444444444,
              "#bd3786"
             ],
             [
              0.5555555555555556,
              "#d8576b"
             ],
             [
              0.6666666666666666,
              "#ed7953"
             ],
             [
              0.7777777777777778,
              "#fb9f3a"
             ],
             [
              0.8888888888888888,
              "#fdca26"
             ],
             [
              1,
              "#f0f921"
             ]
            ],
            "type": "heatmapgl"
           }
          ],
          "histogram": [
           {
            "marker": {
             "pattern": {
              "fillmode": "overlay",
              "size": 10,
              "solidity": 0.2
             }
            },
            "type": "histogram"
           }
          ],
          "histogram2d": [
           {
            "colorbar": {
             "outlinewidth": 0,
             "ticks": ""
            },
            "colorscale": [
             [
              0,
              "#0d0887"
             ],
             [
              0.1111111111111111,
              "#46039f"
             ],
             [
              0.2222222222222222,
              "#7201a8"
             ],
             [
              0.3333333333333333,
              "#9c179e"
             ],
             [
              0.4444444444444444,
              "#bd3786"
             ],
             [
              0.5555555555555556,
              "#d8576b"
             ],
             [
              0.6666666666666666,
              "#ed7953"
             ],
             [
              0.7777777777777778,
              "#fb9f3a"
             ],
             [
              0.8888888888888888,
              "#fdca26"
             ],
             [
              1,
              "#f0f921"
             ]
            ],
            "type": "histogram2d"
           }
          ],
          "histogram2dcontour": [
           {
            "colorbar": {
             "outlinewidth": 0,
             "ticks": ""
            },
            "colorscale": [
             [
              0,
              "#0d0887"
             ],
             [
              0.1111111111111111,
              "#46039f"
             ],
             [
              0.2222222222222222,
              "#7201a8"
             ],
             [
              0.3333333333333333,
              "#9c179e"
             ],
             [
              0.4444444444444444,
              "#bd3786"
             ],
             [
              0.5555555555555556,
              "#d8576b"
             ],
             [
              0.6666666666666666,
              "#ed7953"
             ],
             [
              0.7777777777777778,
              "#fb9f3a"
             ],
             [
              0.8888888888888888,
              "#fdca26"
             ],
             [
              1,
              "#f0f921"
             ]
            ],
            "type": "histogram2dcontour"
           }
          ],
          "mesh3d": [
           {
            "colorbar": {
             "outlinewidth": 0,
             "ticks": ""
            },
            "type": "mesh3d"
           }
          ],
          "parcoords": [
           {
            "line": {
             "colorbar": {
              "outlinewidth": 0,
              "ticks": ""
             }
            },
            "type": "parcoords"
           }
          ],
          "pie": [
           {
            "automargin": true,
            "type": "pie"
           }
          ],
          "scatter": [
           {
            "marker": {
             "colorbar": {
              "outlinewidth": 0,
              "ticks": ""
             }
            },
            "type": "scatter"
           }
          ],
          "scatter3d": [
           {
            "line": {
             "colorbar": {
              "outlinewidth": 0,
              "ticks": ""
             }
            },
            "marker": {
             "colorbar": {
              "outlinewidth": 0,
              "ticks": ""
             }
            },
            "type": "scatter3d"
           }
          ],
          "scattercarpet": [
           {
            "marker": {
             "colorbar": {
              "outlinewidth": 0,
              "ticks": ""
             }
            },
            "type": "scattercarpet"
           }
          ],
          "scattergeo": [
           {
            "marker": {
             "colorbar": {
              "outlinewidth": 0,
              "ticks": ""
             }
            },
            "type": "scattergeo"
           }
          ],
          "scattergl": [
           {
            "marker": {
             "colorbar": {
              "outlinewidth": 0,
              "ticks": ""
             }
            },
            "type": "scattergl"
           }
          ],
          "scattermapbox": [
           {
            "marker": {
             "colorbar": {
              "outlinewidth": 0,
              "ticks": ""
             }
            },
            "type": "scattermapbox"
           }
          ],
          "scatterpolar": [
           {
            "marker": {
             "colorbar": {
              "outlinewidth": 0,
              "ticks": ""
             }
            },
            "type": "scatterpolar"
           }
          ],
          "scatterpolargl": [
           {
            "marker": {
             "colorbar": {
              "outlinewidth": 0,
              "ticks": ""
             }
            },
            "type": "scatterpolargl"
           }
          ],
          "scatterternary": [
           {
            "marker": {
             "colorbar": {
              "outlinewidth": 0,
              "ticks": ""
             }
            },
            "type": "scatterternary"
           }
          ],
          "surface": [
           {
            "colorbar": {
             "outlinewidth": 0,
             "ticks": ""
            },
            "colorscale": [
             [
              0,
              "#0d0887"
             ],
             [
              0.1111111111111111,
              "#46039f"
             ],
             [
              0.2222222222222222,
              "#7201a8"
             ],
             [
              0.3333333333333333,
              "#9c179e"
             ],
             [
              0.4444444444444444,
              "#bd3786"
             ],
             [
              0.5555555555555556,
              "#d8576b"
             ],
             [
              0.6666666666666666,
              "#ed7953"
             ],
             [
              0.7777777777777778,
              "#fb9f3a"
             ],
             [
              0.8888888888888888,
              "#fdca26"
             ],
             [
              1,
              "#f0f921"
             ]
            ],
            "type": "surface"
           }
          ],
          "table": [
           {
            "cells": {
             "fill": {
              "color": "#EBF0F8"
             },
             "line": {
              "color": "white"
             }
            },
            "header": {
             "fill": {
              "color": "#C8D4E3"
             },
             "line": {
              "color": "white"
             }
            },
            "type": "table"
           }
          ]
         },
         "layout": {
          "annotationdefaults": {
           "arrowcolor": "#2a3f5f",
           "arrowhead": 0,
           "arrowwidth": 1
          },
          "autotypenumbers": "strict",
          "coloraxis": {
           "colorbar": {
            "outlinewidth": 0,
            "ticks": ""
           }
          },
          "colorscale": {
           "diverging": [
            [
             0,
             "#8e0152"
            ],
            [
             0.1,
             "#c51b7d"
            ],
            [
             0.2,
             "#de77ae"
            ],
            [
             0.3,
             "#f1b6da"
            ],
            [
             0.4,
             "#fde0ef"
            ],
            [
             0.5,
             "#f7f7f7"
            ],
            [
             0.6,
             "#e6f5d0"
            ],
            [
             0.7,
             "#b8e186"
            ],
            [
             0.8,
             "#7fbc41"
            ],
            [
             0.9,
             "#4d9221"
            ],
            [
             1,
             "#276419"
            ]
           ],
           "sequential": [
            [
             0,
             "#0d0887"
            ],
            [
             0.1111111111111111,
             "#46039f"
            ],
            [
             0.2222222222222222,
             "#7201a8"
            ],
            [
             0.3333333333333333,
             "#9c179e"
            ],
            [
             0.4444444444444444,
             "#bd3786"
            ],
            [
             0.5555555555555556,
             "#d8576b"
            ],
            [
             0.6666666666666666,
             "#ed7953"
            ],
            [
             0.7777777777777778,
             "#fb9f3a"
            ],
            [
             0.8888888888888888,
             "#fdca26"
            ],
            [
             1,
             "#f0f921"
            ]
           ],
           "sequentialminus": [
            [
             0,
             "#0d0887"
            ],
            [
             0.1111111111111111,
             "#46039f"
            ],
            [
             0.2222222222222222,
             "#7201a8"
            ],
            [
             0.3333333333333333,
             "#9c179e"
            ],
            [
             0.4444444444444444,
             "#bd3786"
            ],
            [
             0.5555555555555556,
             "#d8576b"
            ],
            [
             0.6666666666666666,
             "#ed7953"
            ],
            [
             0.7777777777777778,
             "#fb9f3a"
            ],
            [
             0.8888888888888888,
             "#fdca26"
            ],
            [
             1,
             "#f0f921"
            ]
           ]
          },
          "colorway": [
           "#636efa",
           "#EF553B",
           "#00cc96",
           "#ab63fa",
           "#FFA15A",
           "#19d3f3",
           "#FF6692",
           "#B6E880",
           "#FF97FF",
           "#FECB52"
          ],
          "font": {
           "color": "#2a3f5f"
          },
          "geo": {
           "bgcolor": "white",
           "lakecolor": "white",
           "landcolor": "#E5ECF6",
           "showlakes": true,
           "showland": true,
           "subunitcolor": "white"
          },
          "hoverlabel": {
           "align": "left"
          },
          "hovermode": "closest",
          "mapbox": {
           "style": "light"
          },
          "paper_bgcolor": "white",
          "plot_bgcolor": "#E5ECF6",
          "polar": {
           "angularaxis": {
            "gridcolor": "white",
            "linecolor": "white",
            "ticks": ""
           },
           "bgcolor": "#E5ECF6",
           "radialaxis": {
            "gridcolor": "white",
            "linecolor": "white",
            "ticks": ""
           }
          },
          "scene": {
           "xaxis": {
            "backgroundcolor": "#E5ECF6",
            "gridcolor": "white",
            "gridwidth": 2,
            "linecolor": "white",
            "showbackground": true,
            "ticks": "",
            "zerolinecolor": "white"
           },
           "yaxis": {
            "backgroundcolor": "#E5ECF6",
            "gridcolor": "white",
            "gridwidth": 2,
            "linecolor": "white",
            "showbackground": true,
            "ticks": "",
            "zerolinecolor": "white"
           },
           "zaxis": {
            "backgroundcolor": "#E5ECF6",
            "gridcolor": "white",
            "gridwidth": 2,
            "linecolor": "white",
            "showbackground": true,
            "ticks": "",
            "zerolinecolor": "white"
           }
          },
          "shapedefaults": {
           "line": {
            "color": "#2a3f5f"
           }
          },
          "ternary": {
           "aaxis": {
            "gridcolor": "white",
            "linecolor": "white",
            "ticks": ""
           },
           "baxis": {
            "gridcolor": "white",
            "linecolor": "white",
            "ticks": ""
           },
           "bgcolor": "#E5ECF6",
           "caxis": {
            "gridcolor": "white",
            "linecolor": "white",
            "ticks": ""
           }
          },
          "title": {
           "x": 0.05
          },
          "xaxis": {
           "automargin": true,
           "gridcolor": "white",
           "linecolor": "white",
           "ticks": "",
           "title": {
            "standoff": 15
           },
           "zerolinecolor": "white",
           "zerolinewidth": 2
          },
          "yaxis": {
           "automargin": true,
           "gridcolor": "white",
           "linecolor": "white",
           "ticks": "",
           "title": {
            "standoff": 15
           },
           "zerolinecolor": "white",
           "zerolinewidth": 2
          }
         }
        },
        "title": {
         "font": {
          "color": "#4D5663"
         },
         "text": "2.0"
        },
        "xaxis": {
         "gridcolor": "#E1E5ED",
         "showgrid": true,
         "tickfont": {
          "color": "#4D5663"
         },
         "title": {
          "font": {
           "color": "#4D5663"
          },
          "text": ""
         },
         "zerolinecolor": "#E1E5ED"
        },
        "yaxis": {
         "gridcolor": "#E1E5ED",
         "showgrid": true,
         "tickfont": {
          "color": "#4D5663"
         },
         "title": {
          "font": {
           "color": "#4D5663"
          },
          "text": ""
         },
         "zerolinecolor": "#E1E5ED"
        }
       }
      },
      "text/html": [
       "<div>                            <div id=\"a734a7a2-cdec-4519-9fca-cc136c17a9c8\" class=\"plotly-graph-div\" style=\"height:525px; width:100%;\"></div>            <script type=\"text/javascript\">                require([\"plotly\"], function(Plotly) {                    window.PLOTLYENV=window.PLOTLYENV || {};\n",
       "                    window.PLOTLYENV.BASE_URL='https://plot.ly';                                    if (document.getElementById(\"a734a7a2-cdec-4519-9fca-cc136c17a9c8\")) {                    Plotly.newPlot(                        \"a734a7a2-cdec-4519-9fca-cc136c17a9c8\",                        [{\"line\":{\"color\":\"rgba(255, 153, 51, 1.0)\",\"dash\":\"solid\",\"shape\":\"linear\",\"width\":1.3},\"mode\":\"lines\",\"name\":\"real\",\"text\":\"\",\"type\":\"scatter\",\"x\":[\"2018-06-05\",\"2018-06-06\",\"2018-06-07\",\"2018-06-08\",\"2018-06-09\",\"2018-06-10\",\"2018-06-11\",\"2018-06-12\",\"2018-06-13\",\"2018-06-14\",\"2018-06-15\",\"2018-06-16\",\"2018-06-17\",\"2018-06-18\",\"2018-06-19\",\"2018-06-20\",\"2018-06-21\",\"2018-06-22\",\"2018-06-23\",\"2018-06-24\",\"2018-06-25\",\"2018-06-26\",\"2018-06-27\",\"2018-06-28\",\"2018-06-29\",\"2018-06-30\",\"2018-07-01\",\"2018-07-02\",\"2018-07-03\",\"2018-07-04\",\"2018-07-05\",\"2018-07-06\",\"2018-07-07\",\"2018-07-08\",\"2018-07-09\",\"2018-07-10\",\"2018-07-11\",\"2018-07-12\",\"2018-07-13\",\"2018-07-14\",\"2018-07-15\",\"2018-07-16\",\"2018-07-17\",\"2018-07-18\",\"2018-07-19\",\"2018-07-20\",\"2018-07-21\",\"2018-07-22\",\"2018-07-23\",\"2018-07-24\",\"2018-07-25\",\"2018-07-26\",\"2018-07-27\",\"2018-07-28\",\"2018-07-29\",\"2018-07-30\",\"2018-07-31\",\"2018-08-01\",\"2018-08-02\",\"2018-08-03\",\"2018-08-04\",\"2018-08-05\",\"2018-08-06\",\"2018-08-07\",\"2018-08-08\",\"2018-08-09\",\"2018-08-10\",\"2018-08-11\",\"2018-08-12\",\"2018-08-13\",\"2018-08-14\",\"2018-08-15\",\"2018-08-16\",\"2018-08-17\",\"2018-08-18\",\"2018-08-19\",\"2018-08-20\",\"2018-08-21\",\"2018-08-22\",\"2018-08-23\",\"2018-08-24\",\"2018-08-25\",\"2018-08-26\",\"2018-08-27\",\"2018-08-28\",\"2018-08-29\",\"2018-08-30\",\"2018-08-31\",\"2018-09-01\",\"2018-09-02\",\"2018-09-03\",\"2018-09-04\",\"2018-09-05\",\"2018-09-06\",\"2018-09-07\",\"2018-09-08\",\"2018-09-09\",\"2018-09-10\",\"2018-09-11\",\"2018-09-12\",\"2018-09-13\",\"2018-09-14\",\"2018-09-15\",\"2018-09-16\",\"2018-09-17\",\"2018-09-18\",\"2018-09-19\",\"2018-09-20\",\"2018-09-21\",\"2018-09-22\",\"2018-09-23\",\"2018-09-24\",\"2018-09-25\",\"2018-09-26\",\"2018-09-27\",\"2018-09-28\",\"2018-09-29\",\"2018-09-30\",\"2019-06-01\",\"2019-06-02\",\"2019-06-03\",\"2019-06-04\",\"2019-06-05\",\"2019-06-06\",\"2019-06-07\",\"2019-06-08\",\"2019-06-09\",\"2019-06-10\",\"2019-06-11\",\"2019-06-12\",\"2019-06-13\",\"2019-06-14\",\"2019-06-15\",\"2019-06-16\",\"2019-06-17\",\"2019-06-18\",\"2019-06-19\",\"2019-06-20\",\"2019-06-21\",\"2019-06-22\",\"2019-06-23\",\"2019-06-24\",\"2019-06-25\",\"2019-06-26\",\"2019-06-27\",\"2019-06-28\",\"2019-06-29\",\"2019-06-30\",\"2019-07-01\",\"2019-07-02\",\"2019-07-03\",\"2019-07-04\",\"2019-07-05\",\"2019-07-06\",\"2019-07-07\",\"2019-07-08\",\"2019-07-09\",\"2019-07-10\",\"2019-07-11\",\"2019-07-12\",\"2019-07-13\",\"2019-07-14\",\"2019-07-15\",\"2019-07-16\",\"2019-07-17\",\"2019-07-18\",\"2019-07-19\",\"2019-07-20\",\"2019-07-21\",\"2019-07-22\",\"2019-07-23\",\"2019-07-24\",\"2019-07-25\",\"2019-07-26\",\"2019-07-27\",\"2019-07-28\",\"2019-07-29\",\"2019-07-30\",\"2019-07-31\",\"2019-08-01\",\"2019-08-02\",\"2019-08-03\",\"2019-08-04\",\"2019-08-05\",\"2019-08-06\",\"2019-08-07\",\"2019-08-08\",\"2019-08-09\",\"2019-08-10\",\"2019-08-11\",\"2019-08-12\",\"2019-08-13\",\"2019-08-14\",\"2019-08-15\",\"2019-08-16\",\"2019-08-17\",\"2019-08-18\",\"2019-08-19\",\"2019-08-20\",\"2019-08-21\",\"2019-08-22\",\"2019-08-23\",\"2019-08-24\",\"2019-08-25\",\"2019-08-26\",\"2019-08-27\",\"2019-08-28\",\"2019-08-29\",\"2019-08-30\",\"2019-08-31\",\"2019-09-01\",\"2019-09-02\",\"2019-09-03\",\"2019-09-04\",\"2019-09-05\",\"2019-09-06\",\"2019-09-07\",\"2019-09-08\",\"2019-09-09\",\"2019-09-10\",\"2019-09-11\",\"2019-09-12\",\"2019-09-13\",\"2019-09-14\",\"2019-09-15\",\"2019-09-16\",\"2019-09-17\",\"2019-09-18\",\"2019-09-19\",\"2019-09-20\",\"2019-09-21\",\"2019-09-22\",\"2019-09-23\",\"2019-09-24\",\"2019-09-25\",\"2019-09-26\",\"2019-09-27\",\"2019-09-28\",\"2019-09-29\",\"2019-09-30\",\"2020-06-01\",\"2020-06-02\",\"2020-06-03\",\"2020-06-04\",\"2020-06-05\",\"2020-06-06\",\"2020-06-07\",\"2020-06-08\",\"2020-06-09\",\"2020-06-10\",\"2020-06-11\",\"2020-06-12\",\"2020-06-13\",\"2020-06-14\",\"2020-06-15\",\"2020-06-16\",\"2020-06-17\",\"2020-06-18\",\"2020-06-19\",\"2020-06-20\",\"2020-06-21\",\"2020-06-22\",\"2020-06-23\",\"2020-06-24\",\"2020-06-25\",\"2020-06-26\",\"2020-06-27\",\"2020-06-28\",\"2020-06-29\",\"2020-06-30\",\"2020-07-01\",\"2020-07-02\",\"2020-07-03\",\"2020-07-04\",\"2020-07-05\",\"2020-07-06\",\"2020-07-07\",\"2020-07-08\",\"2020-07-09\",\"2020-07-10\",\"2020-07-11\",\"2020-07-12\",\"2020-07-13\",\"2020-07-14\",\"2020-07-15\",\"2020-07-16\",\"2020-07-17\",\"2020-07-18\",\"2020-07-19\",\"2020-07-20\",\"2020-07-21\",\"2020-07-22\",\"2020-07-23\",\"2020-07-24\",\"2020-07-25\",\"2020-07-26\",\"2020-07-27\",\"2020-07-28\",\"2020-07-29\",\"2020-07-30\",\"2020-07-31\",\"2020-08-01\",\"2020-08-02\",\"2020-08-03\",\"2020-08-04\",\"2020-08-05\",\"2020-08-06\",\"2020-08-07\",\"2020-08-08\",\"2020-08-09\",\"2020-08-10\",\"2020-08-11\",\"2020-08-12\",\"2020-08-13\",\"2020-08-14\",\"2020-08-15\",\"2020-08-16\",\"2020-08-17\",\"2020-08-18\",\"2020-08-19\",\"2020-08-20\",\"2020-08-21\",\"2020-08-22\",\"2020-08-23\",\"2020-08-24\",\"2020-08-25\",\"2020-08-26\",\"2020-08-27\",\"2020-08-28\",\"2020-08-29\",\"2020-08-30\",\"2020-08-31\",\"2020-09-01\",\"2020-09-02\",\"2020-09-03\",\"2020-09-04\",\"2020-09-05\",\"2020-09-06\",\"2020-09-07\",\"2020-09-08\",\"2020-09-09\",\"2020-09-10\",\"2020-09-11\",\"2020-09-12\",\"2020-09-13\",\"2020-09-14\",\"2020-09-15\",\"2020-09-16\",\"2020-09-17\",\"2020-09-18\",\"2020-09-19\",\"2020-09-20\",\"2020-09-21\",\"2020-09-22\",\"2020-09-23\",\"2020-09-24\",\"2020-09-25\",\"2020-09-26\",\"2020-09-27\",\"2020-09-28\",\"2020-09-29\",\"2020-09-30\",\"2021-06-01\",\"2021-06-02\",\"2021-06-03\",\"2021-06-04\",\"2021-06-05\",\"2021-06-06\",\"2021-06-07\",\"2021-06-08\",\"2021-06-09\",\"2021-06-10\",\"2021-06-11\",\"2021-06-12\",\"2021-06-13\",\"2021-06-14\",\"2021-06-15\",\"2021-06-16\",\"2021-06-17\",\"2021-06-18\",\"2021-06-19\",\"2021-06-20\",\"2021-06-21\",\"2021-06-22\",\"2021-06-23\",\"2021-06-24\",\"2021-06-25\",\"2021-06-26\",\"2021-06-27\",\"2021-06-28\",\"2021-06-29\",\"2021-06-30\",\"2021-07-01\",\"2021-07-02\",\"2021-07-03\",\"2021-07-04\",\"2021-07-05\",\"2021-07-06\",\"2021-07-07\",\"2021-07-08\",\"2021-07-09\",\"2021-07-10\",\"2021-07-11\",\"2021-07-12\",\"2021-07-13\",\"2021-07-14\",\"2021-07-15\",\"2021-07-16\",\"2021-07-17\",\"2021-07-18\",\"2021-07-19\",\"2021-07-20\",\"2021-07-21\",\"2021-07-22\",\"2021-07-23\",\"2021-07-24\",\"2021-07-25\",\"2021-07-26\",\"2021-07-27\",\"2021-07-28\",\"2021-07-29\",\"2021-07-30\",\"2021-07-31\",\"2021-08-01\",\"2021-08-02\",\"2021-08-03\",\"2021-08-04\",\"2021-08-05\",\"2021-08-06\",\"2021-08-07\",\"2021-08-08\",\"2021-08-09\",\"2021-08-10\",\"2021-08-11\",\"2021-08-12\",\"2021-08-13\",\"2021-08-14\",\"2021-08-15\",\"2021-08-16\",\"2021-08-17\",\"2021-08-18\",\"2021-08-19\",\"2021-08-20\",\"2021-08-21\",\"2021-08-22\",\"2021-08-23\",\"2021-08-24\",\"2021-08-25\",\"2021-08-26\",\"2021-08-27\",\"2021-08-28\",\"2021-08-29\",\"2021-08-30\",\"2021-08-31\",\"2021-09-01\",\"2021-09-02\",\"2021-09-03\",\"2021-09-04\",\"2021-09-05\",\"2021-09-06\",\"2021-09-07\",\"2021-09-08\",\"2021-09-09\",\"2021-09-10\",\"2021-09-11\",\"2021-09-12\",\"2021-09-13\",\"2021-09-14\",\"2021-09-15\",\"2021-09-16\",\"2021-09-17\",\"2021-09-18\",\"2021-09-19\",\"2021-09-20\",\"2021-09-21\",\"2021-09-22\",\"2021-09-23\",\"2021-09-24\",\"2021-09-25\",\"2021-09-26\",\"2021-09-27\",\"2021-09-28\",\"2021-09-29\",\"2021-09-30\"],\"y\":[89.0,77.0,100.0,80.0,35.0,38.0,85.0,78.0,64.0,43.0,63.0,41.0,26.0,60.0,83.0,73.0,94.0,95.0,19.0,23.0,72.0,69.0,80.0,78.0,85.0,36.0,37.0,70.0,76.0,79.0,85.0,77.0,32.0,20.0,78.0,73.0,72.0,82.0,56.0,29.0,29.0,80.0,81.0,71.0,82.0,69.0,46.0,27.0,93.0,79.0,85.0,75.0,85.0,39.0,30.0,100.0,87.0,102.0,94.0,77.0,31.0,23.0,84.0,71.0,69.0,84.0,82.0,36.0,33.0,74.0,84.0,71.0,84.0,66.0,31.0,29.0,72.0,91.0,96.0,79.0,99.0,47.0,34.0,88.0,83.0,96.0,79.0,82.0,43.0,31.0,86.0,95.0,78.0,94.0,95.0,39.0,31.0,92.0,93.0,95.0,78.0,76.0,27.0,22.0,71.0,65.0,67.0,80.0,81.0,35.0,30.0,77.0,95.0,68.0,80.0,72.0,32.0,30.0,43.0,35.0,83.0,95.0,79.0,67.0,76.0,41.0,32.0,80.0,119.0,99.0,84.0,101.0,41.0,30.0,97.0,111.0,95.0,90.0,100.0,36.0,26.0,72.0,85.0,80.0,85.0,80.0,41.0,30.0,80.0,90.0,100.0,98.0,91.0,30.0,32.0,80.0,91.0,93.0,91.0,79.0,31.0,32.0,85.0,68.0,80.0,69.0,75.0,32.0,18.0,79.0,86.0,105.0,52.0,57.0,47.0,32.0,72.0,85.0,86.0,77.0,71.0,44.0,32.0,91.0,80.0,87.0,97.0,84.0,33.0,30.0,67.0,91.0,105.0,77.0,94.0,44.0,42.0,85.0,85.0,100.0,78.0,97.0,48.0,30.0,101.0,101.0,99.0,90.0,86.0,38.0,30.0,79.0,23.0,90.0,88.0,103.0,39.0,38.0,93.0,79.0,93.0,81.0,67.0,23.0,25.0,18.0,81.0,83.0,73.0,64.0,40.0,26.0,98.0,82.0,80.0,99.0,89.0,44.0,32.0,90.0,25.0,23.0,23.0,19.0,22.0,23.0,8.0,20.0,15.0,16.0,19.0,22.0,25.0,11.0,25.0,16.0,18.0,16.0,24.0,16.0,21.0,10.0,19.0,19.0,22.0,22.0,21.0,16.0,10.0,21.0,22.0,31.0,21.0,16.0,16.0,18.0,24.0,23.0,20.0,28.0,21.0,10.0,15.0,18.0,35.0,23.0,37.0,20.0,19.0,32.0,25.0,30.0,31.0,35.0,21.0,12.0,24.0,24.0,30.0,27.0,29.0,23.0,14.0,36.0,20.0,27.0,34.0,33.0,12.0,11.0,24.0,33.0,23.0,27.0,23.0,16.0,12.0,21.0,27.0,29.0,22.0,32.0,16.0,11.0,23.0,24.0,26.0,28.0,25.0,19.0,12.0,13.0,22.0,26.0,13.0,26.0,20.0,13.0,19.0,23.0,34.0,33.0,33.0,18.0,17.0,27.0,31.0,21.0,38.0,25.0,19.0,18.0,27.0,27.0,31.0,36.0,28.0,21.0,19.0,38.0,19.0,34.0,46.0,41.0,39.0,24.0,24.0,16.0,35.0,40.0,37.0,37.0,35.0,25.0,19.0,35.0,41.0,37.0,40.0,29.0,20.0,19.0,36.0,45.0,40.0,32.0,37.0,26.0,14.0,29.0,44.0,36.0,44.0,34.0,27.0,16.0,34.0,35.0,33.0,33.0,37.0,22.0,21.0,38.0,38.0,28.0,39.0,38.0,25.0,13.0,31.0,47.0,28.0,27.0,34.0,21.0,20.0,29.0,36.0,31.0,32.0,42.0,15.0,12.0,27.0,39.0,30.0,26.0,22.0,17.0,11.0,26.0,28.0,38.0,30.0,28.0,22.0,28.0,32.0,32.0,39.0,39.0,25.0,14.0,18.0,30.0,34.0,32.0,34.0,26.0,23.0,21.0,25.0,28.0,29.0,24.0,34.0,15.0,17.0,31.0,21.0,35.0,36.0,43.0,16.0,17.0,31.0,41.0,25.0,8.0,29.0,22.0,20.0,39.0,35.0,41.0,33.0,38.0,30.0,15.0,38.0,42.0,36.0,39.0]},{\"line\":{\"color\":\"rgba(55, 128, 191, 1.0)\",\"dash\":\"solid\",\"shape\":\"linear\",\"width\":1.3},\"mode\":\"lines\",\"name\":\"estimado\",\"text\":\"\",\"type\":\"scatter\",\"x\":[\"2018-06-05\",\"2018-06-06\",\"2018-06-07\",\"2018-06-08\",\"2018-06-09\",\"2018-06-10\",\"2018-06-11\",\"2018-06-12\",\"2018-06-13\",\"2018-06-14\",\"2018-06-15\",\"2018-06-16\",\"2018-06-17\",\"2018-06-18\",\"2018-06-19\",\"2018-06-20\",\"2018-06-21\",\"2018-06-22\",\"2018-06-23\",\"2018-06-24\",\"2018-06-25\",\"2018-06-26\",\"2018-06-27\",\"2018-06-28\",\"2018-06-29\",\"2018-06-30\",\"2018-07-01\",\"2018-07-02\",\"2018-07-03\",\"2018-07-04\",\"2018-07-05\",\"2018-07-06\",\"2018-07-07\",\"2018-07-08\",\"2018-07-09\",\"2018-07-10\",\"2018-07-11\",\"2018-07-12\",\"2018-07-13\",\"2018-07-14\",\"2018-07-15\",\"2018-07-16\",\"2018-07-17\",\"2018-07-18\",\"2018-07-19\",\"2018-07-20\",\"2018-07-21\",\"2018-07-22\",\"2018-07-23\",\"2018-07-24\",\"2018-07-25\",\"2018-07-26\",\"2018-07-27\",\"2018-07-28\",\"2018-07-29\",\"2018-07-30\",\"2018-07-31\",\"2018-08-01\",\"2018-08-02\",\"2018-08-03\",\"2018-08-04\",\"2018-08-05\",\"2018-08-06\",\"2018-08-07\",\"2018-08-08\",\"2018-08-09\",\"2018-08-10\",\"2018-08-11\",\"2018-08-12\",\"2018-08-13\",\"2018-08-14\",\"2018-08-15\",\"2018-08-16\",\"2018-08-17\",\"2018-08-18\",\"2018-08-19\",\"2018-08-20\",\"2018-08-21\",\"2018-08-22\",\"2018-08-23\",\"2018-08-24\",\"2018-08-25\",\"2018-08-26\",\"2018-08-27\",\"2018-08-28\",\"2018-08-29\",\"2018-08-30\",\"2018-08-31\",\"2018-09-01\",\"2018-09-02\",\"2018-09-03\",\"2018-09-04\",\"2018-09-05\",\"2018-09-06\",\"2018-09-07\",\"2018-09-08\",\"2018-09-09\",\"2018-09-10\",\"2018-09-11\",\"2018-09-12\",\"2018-09-13\",\"2018-09-14\",\"2018-09-15\",\"2018-09-16\",\"2018-09-17\",\"2018-09-18\",\"2018-09-19\",\"2018-09-20\",\"2018-09-21\",\"2018-09-22\",\"2018-09-23\",\"2018-09-24\",\"2018-09-25\",\"2018-09-26\",\"2018-09-27\",\"2018-09-28\",\"2018-09-29\",\"2018-09-30\",\"2019-06-01\",\"2019-06-02\",\"2019-06-03\",\"2019-06-04\",\"2019-06-05\",\"2019-06-06\",\"2019-06-07\",\"2019-06-08\",\"2019-06-09\",\"2019-06-10\",\"2019-06-11\",\"2019-06-12\",\"2019-06-13\",\"2019-06-14\",\"2019-06-15\",\"2019-06-16\",\"2019-06-17\",\"2019-06-18\",\"2019-06-19\",\"2019-06-20\",\"2019-06-21\",\"2019-06-22\",\"2019-06-23\",\"2019-06-24\",\"2019-06-25\",\"2019-06-26\",\"2019-06-27\",\"2019-06-28\",\"2019-06-29\",\"2019-06-30\",\"2019-07-01\",\"2019-07-02\",\"2019-07-03\",\"2019-07-04\",\"2019-07-05\",\"2019-07-06\",\"2019-07-07\",\"2019-07-08\",\"2019-07-09\",\"2019-07-10\",\"2019-07-11\",\"2019-07-12\",\"2019-07-13\",\"2019-07-14\",\"2019-07-15\",\"2019-07-16\",\"2019-07-17\",\"2019-07-18\",\"2019-07-19\",\"2019-07-20\",\"2019-07-21\",\"2019-07-22\",\"2019-07-23\",\"2019-07-24\",\"2019-07-25\",\"2019-07-26\",\"2019-07-27\",\"2019-07-28\",\"2019-07-29\",\"2019-07-30\",\"2019-07-31\",\"2019-08-01\",\"2019-08-02\",\"2019-08-03\",\"2019-08-04\",\"2019-08-05\",\"2019-08-06\",\"2019-08-07\",\"2019-08-08\",\"2019-08-09\",\"2019-08-10\",\"2019-08-11\",\"2019-08-12\",\"2019-08-13\",\"2019-08-14\",\"2019-08-15\",\"2019-08-16\",\"2019-08-17\",\"2019-08-18\",\"2019-08-19\",\"2019-08-20\",\"2019-08-21\",\"2019-08-22\",\"2019-08-23\",\"2019-08-24\",\"2019-08-25\",\"2019-08-26\",\"2019-08-27\",\"2019-08-28\",\"2019-08-29\",\"2019-08-30\",\"2019-08-31\",\"2019-09-01\",\"2019-09-02\",\"2019-09-03\",\"2019-09-04\",\"2019-09-05\",\"2019-09-06\",\"2019-09-07\",\"2019-09-08\",\"2019-09-09\",\"2019-09-10\",\"2019-09-11\",\"2019-09-12\",\"2019-09-13\",\"2019-09-14\",\"2019-09-15\",\"2019-09-16\",\"2019-09-17\",\"2019-09-18\",\"2019-09-19\",\"2019-09-20\",\"2019-09-21\",\"2019-09-22\",\"2019-09-23\",\"2019-09-24\",\"2019-09-25\",\"2019-09-26\",\"2019-09-27\",\"2019-09-28\",\"2019-09-29\",\"2019-09-30\",\"2020-06-01\",\"2020-06-02\",\"2020-06-03\",\"2020-06-04\",\"2020-06-05\",\"2020-06-06\",\"2020-06-07\",\"2020-06-08\",\"2020-06-09\",\"2020-06-10\",\"2020-06-11\",\"2020-06-12\",\"2020-06-13\",\"2020-06-14\",\"2020-06-15\",\"2020-06-16\",\"2020-06-17\",\"2020-06-18\",\"2020-06-19\",\"2020-06-20\",\"2020-06-21\",\"2020-06-22\",\"2020-06-23\",\"2020-06-24\",\"2020-06-25\",\"2020-06-26\",\"2020-06-27\",\"2020-06-28\",\"2020-06-29\",\"2020-06-30\",\"2020-07-01\",\"2020-07-02\",\"2020-07-03\",\"2020-07-04\",\"2020-07-05\",\"2020-07-06\",\"2020-07-07\",\"2020-07-08\",\"2020-07-09\",\"2020-07-10\",\"2020-07-11\",\"2020-07-12\",\"2020-07-13\",\"2020-07-14\",\"2020-07-15\",\"2020-07-16\",\"2020-07-17\",\"2020-07-18\",\"2020-07-19\",\"2020-07-20\",\"2020-07-21\",\"2020-07-22\",\"2020-07-23\",\"2020-07-24\",\"2020-07-25\",\"2020-07-26\",\"2020-07-27\",\"2020-07-28\",\"2020-07-29\",\"2020-07-30\",\"2020-07-31\",\"2020-08-01\",\"2020-08-02\",\"2020-08-03\",\"2020-08-04\",\"2020-08-05\",\"2020-08-06\",\"2020-08-07\",\"2020-08-08\",\"2020-08-09\",\"2020-08-10\",\"2020-08-11\",\"2020-08-12\",\"2020-08-13\",\"2020-08-14\",\"2020-08-15\",\"2020-08-16\",\"2020-08-17\",\"2020-08-18\",\"2020-08-19\",\"2020-08-20\",\"2020-08-21\",\"2020-08-22\",\"2020-08-23\",\"2020-08-24\",\"2020-08-25\",\"2020-08-26\",\"2020-08-27\",\"2020-08-28\",\"2020-08-29\",\"2020-08-30\",\"2020-08-31\",\"2020-09-01\",\"2020-09-02\",\"2020-09-03\",\"2020-09-04\",\"2020-09-05\",\"2020-09-06\",\"2020-09-07\",\"2020-09-08\",\"2020-09-09\",\"2020-09-10\",\"2020-09-11\",\"2020-09-12\",\"2020-09-13\",\"2020-09-14\",\"2020-09-15\",\"2020-09-16\",\"2020-09-17\",\"2020-09-18\",\"2020-09-19\",\"2020-09-20\",\"2020-09-21\",\"2020-09-22\",\"2020-09-23\",\"2020-09-24\",\"2020-09-25\",\"2020-09-26\",\"2020-09-27\",\"2020-09-28\",\"2020-09-29\",\"2020-09-30\",\"2021-06-01\",\"2021-06-02\",\"2021-06-03\",\"2021-06-04\",\"2021-06-05\",\"2021-06-06\",\"2021-06-07\",\"2021-06-08\",\"2021-06-09\",\"2021-06-10\",\"2021-06-11\",\"2021-06-12\",\"2021-06-13\",\"2021-06-14\",\"2021-06-15\",\"2021-06-16\",\"2021-06-17\",\"2021-06-18\",\"2021-06-19\",\"2021-06-20\",\"2021-06-21\",\"2021-06-22\",\"2021-06-23\",\"2021-06-24\",\"2021-06-25\",\"2021-06-26\",\"2021-06-27\",\"2021-06-28\",\"2021-06-29\",\"2021-06-30\",\"2021-07-01\",\"2021-07-02\",\"2021-07-03\",\"2021-07-04\",\"2021-07-05\",\"2021-07-06\",\"2021-07-07\",\"2021-07-08\",\"2021-07-09\",\"2021-07-10\",\"2021-07-11\",\"2021-07-12\",\"2021-07-13\",\"2021-07-14\",\"2021-07-15\",\"2021-07-16\",\"2021-07-17\",\"2021-07-18\",\"2021-07-19\",\"2021-07-20\",\"2021-07-21\",\"2021-07-22\",\"2021-07-23\",\"2021-07-24\",\"2021-07-25\",\"2021-07-26\",\"2021-07-27\",\"2021-07-28\",\"2021-07-29\",\"2021-07-30\",\"2021-07-31\",\"2021-08-01\",\"2021-08-02\",\"2021-08-03\",\"2021-08-04\",\"2021-08-05\",\"2021-08-06\",\"2021-08-07\",\"2021-08-08\",\"2021-08-09\",\"2021-08-10\",\"2021-08-11\",\"2021-08-12\",\"2021-08-13\",\"2021-08-14\",\"2021-08-15\",\"2021-08-16\",\"2021-08-17\",\"2021-08-18\",\"2021-08-19\",\"2021-08-20\",\"2021-08-21\",\"2021-08-22\",\"2021-08-23\",\"2021-08-24\",\"2021-08-25\",\"2021-08-26\",\"2021-08-27\",\"2021-08-28\",\"2021-08-29\",\"2021-08-30\",\"2021-08-31\",\"2021-09-01\",\"2021-09-02\",\"2021-09-03\",\"2021-09-04\",\"2021-09-05\",\"2021-09-06\",\"2021-09-07\",\"2021-09-08\",\"2021-09-09\",\"2021-09-10\",\"2021-09-11\",\"2021-09-12\",\"2021-09-13\",\"2021-09-14\",\"2021-09-15\",\"2021-09-16\",\"2021-09-17\",\"2021-09-18\",\"2021-09-19\",\"2021-09-20\",\"2021-09-21\",\"2021-09-22\",\"2021-09-23\",\"2021-09-24\",\"2021-09-25\",\"2021-09-26\",\"2021-09-27\",\"2021-09-28\",\"2021-09-29\",\"2021-09-30\"],\"y\":[89.00000000000024,77.00000000000027,100.00000000000018,80.00000000000003,35.00000000000014,38.00000000000027,85.00000000000034,78.00000000000031,64.00000000000024,43.000000000000256,63.00000000000033,41.00000000000041,26.000000000000483,60.000000000000526,83.00000000000044,73.00000000000031,94.00000000000023,95.00000000000016,19.00000000000012,23.000000000000284,72.00000000000041,69.00000000000038,80.0000000000004,78.00000000000028,85.00000000000018,36.00000000000014,37.00000000000031,70.00000000000037,76.00000000000033,79.0000000000003,85.0000000000002,77.00000000000013,32.00000000000015,20.000000000000362,78.00000000000043,73.00000000000038,72.0000000000003,82.00000000000023,56.000000000000156,29.000000000000327,29.000000000000462,80.00000000000044,81.00000000000036,71.00000000000033,82.00000000000021,69.00000000000014,46.00000000000024,27.00000000000037,93.00000000000037,79.00000000000027,85.00000000000023,75.00000000000021,85.00000000000011,39.000000000000234,30.000000000000284,100.00000000000034,87.00000000000026,102.0000000000002,94.00000000000009,77.0,31.000000000000078,23.00000000000027,84.00000000000043,71.00000000000036,69.00000000000036,84.00000000000033,82.00000000000013,36.00000000000021,33.00000000000033,74.00000000000043,84.00000000000034,71.00000000000031,84.00000000000028,66.00000000000017,31.000000000000192,29.00000000000042,72.00000000000045,91.0000000000004,96.00000000000026,79.00000000000021,99.00000000000006,47.000000000000085,34.000000000000206,88.0000000000004,83.00000000000028,96.0000000000002,79.00000000000011,82.00000000000017,43.00000000000015,31.00000000000032,86.0000000000004,95.00000000000026,78.00000000000011,94.00000000000021,95.00000000000007,39.00000000000005,31.000000000000227,92.0000000000003,93.00000000000026,95.0000000000002,78.00000000000017,76.00000000000007,27.00000000000015,22.000000000000405,71.00000000000045,65.00000000000041,67.00000000000041,80.00000000000037,81.00000000000017,35.00000000000029,30.00000000000032,77.0000000000004,95.00000000000024,68.00000000000031,80.00000000000024,72.00000000000021,32.000000000000206,30.000000000000398,43.0000000000009,35.00000000000082,83.00000000000061,95.00000000000044,79.00000000000027,67.00000000000026,76.00000000000018,41.000000000000206,32.000000000000306,80.00000000000041,119.00000000000023,99.00000000000014,84.00000000000004,101.0,41.00000000000003,30.000000000000256,97.00000000000031,111.00000000000016,95.00000000000018,90.0000000000001,100.00000000000001,36.00000000000002,26.000000000000206,72.00000000000033,85.00000000000034,80.00000000000024,85.00000000000021,80.00000000000017,41.000000000000206,30.000000000000306,80.00000000000034,90.00000000000028,100.00000000000028,98.00000000000017,91.00000000000006,30.000000000000135,32.00000000000024,80.00000000000043,91.00000000000034,93.00000000000024,91.00000000000023,79.00000000000007,31.000000000000142,32.00000000000033,85.0000000000004,68.00000000000027,80.00000000000031,69.00000000000027,75.00000000000026,32.000000000000284,18.000000000000412,79.00000000000048,86.00000000000034,105.00000000000036,52.00000000000023,57.00000000000024,47.00000000000032,32.00000000000035,72.00000000000045,85.00000000000031,86.00000000000027,77.00000000000026,71.00000000000013,44.000000000000206,32.00000000000026,91.00000000000041,80.00000000000031,87.00000000000026,97.00000000000018,84.00000000000014,33.00000000000015,30.00000000000032,67.00000000000038,91.00000000000031,105.00000000000027,77.00000000000016,94.00000000000009,44.00000000000014,42.00000000000022,85.00000000000037,85.00000000000027,100.00000000000016,78.00000000000018,97.00000000000009,48.00000000000013,30.000000000000213,101.00000000000026,101.00000000000014,99.00000000000016,90.00000000000011,85.99999999999999,38.000000000000185,30.00000000000027,79.00000000000036,23.000000000000327,90.00000000000041,88.0000000000004,103.00000000000021,39.00000000000023,38.000000000000206,93.00000000000028,79.00000000000026,93.00000000000023,81.0000000000002,67.00000000000017,23.000000000000227,25.000000000000377,18.000000000000576,81.00000000000051,83.00000000000045,73.00000000000036,64.00000000000036,40.000000000000306,26.000000000000405,98.00000000000036,82.00000000000034,80.00000000000024,99.0000000000002,89.00000000000007,44.00000000000016,32.00000000000026,90.00000000000034,25.00000000000091,23.00000000000086,23.00000000000078,19.00000000000076,22.000000000000725,23.000000000000732,8.00000000000071,20.00000000000078,15.000000000000767,16.00000000000074,19.000000000000796,22.00000000000076,25.00000000000074,11.000000000000753,25.000000000000767,16.000000000000725,18.000000000000725,16.00000000000076,24.000000000000703,16.000000000000767,21.00000000000078,10.000000000000767,19.000000000000732,19.000000000000774,22.00000000000076,22.00000000000076,21.000000000000725,16.000000000000746,10.00000000000076,21.00000000000079,22.00000000000076,31.000000000000774,21.000000000000732,16.000000000000703,16.00000000000076,18.00000000000076,24.00000000000076,23.000000000000753,20.00000000000074,28.000000000000725,21.000000000000682,10.000000000000753,15.000000000000782,18.000000000000753,35.00000000000075,23.00000000000074,37.00000000000068,20.000000000000668,19.000000000000668,32.00000000000069,25.000000000000618,30.000000000000675,31.000000000000668,35.000000000000675,21.00000000000064,12.00000000000066,24.00000000000071,24.000000000000696,30.00000000000074,27.000000000000703,29.000000000000696,23.000000000000654,14.000000000000668,36.0000000000007,20.000000000000682,27.000000000000725,34.0000000000007,33.00000000000065,12.000000000000668,11.000000000000696,24.000000000000725,33.00000000000075,23.000000000000725,27.000000000000675,23.000000000000682,16.00000000000071,12.00000000000071,21.000000000000725,27.000000000000718,29.000000000000725,22.000000000000696,32.000000000000725,16.000000000000696,11.00000000000071,23.000000000000732,24.00000000000069,26.000000000000718,28.000000000000696,25.00000000000069,19.000000000000675,12.000000000000718,13.00000000000076,22.00000000000081,26.00000000000078,13.00000000000076,26.000000000000732,20.000000000000732,13.000000000000732,19.00000000000078,23.00000000000069,34.000000000000774,33.00000000000069,33.000000000000675,18.000000000000647,17.000000000000703,27.000000000000675,31.00000000000064,21.00000000000069,38.00000000000069,25.000000000000654,19.000000000000675,18.000000000000675,27.000000000000725,27.000000000000703,31.000000000000668,36.000000000000654,28.000000000000647,21.00000000000066,19.000000000000654,38.0000000000007,19.000000000000675,34.00000000000069,46.000000000000874,41.000000000000774,39.000000000000675,24.00000000000066,24.00000000000059,16.000000000000682,35.000000000000675,40.00000000000066,37.00000000000062,37.00000000000058,35.00000000000057,25.000000000000576,19.000000000000647,35.000000000000675,41.00000000000064,37.000000000000625,40.000000000000625,29.000000000000632,20.00000000000064,19.00000000000066,36.00000000000067,45.00000000000064,40.0000000000006,32.00000000000059,37.00000000000062,26.00000000000059,14.000000000000604,29.000000000000675,44.000000000000675,36.000000000000654,44.00000000000061,34.00000000000057,27.00000000000057,16.000000000000647,34.00000000000064,35.00000000000068,33.00000000000062,33.00000000000062,37.000000000000576,22.00000000000057,21.00000000000066,38.000000000000675,38.00000000000063,28.000000000000597,39.000000000000625,38.00000000000061,25.00000000000059,13.000000000000682,31.00000000000069,47.000000000000654,28.000000000000654,27.000000000000632,34.000000000000604,21.000000000000597,20.000000000000668,29.000000000000718,36.00000000000066,31.000000000000647,32.000000000000654,42.00000000000062,15.000000000000618,12.000000000000668,27.000000000000668,39.000000000000654,30.00000000000069,26.000000000000654,22.00000000000066,17.000000000000668,11.000000000000746,26.000000000000753,28.000000000000725,38.000000000000675,30.000000000000682,28.000000000000625,22.000000000000632,28.000000000000654,32.00000000000066,32.00000000000057,39.000000000000654,39.00000000000061,25.000000000000583,14.00000000000064,18.00000000000066,30.00000000000074,34.000000000000675,32.000000000000625,34.00000000000064,26.00000000000061,23.000000000000597,21.000000000000682,25.00000000000071,28.000000000000732,29.00000000000066,24.000000000000675,34.00000000000067,15.000000000000647,17.00000000000071,31.000000000000725,21.000000000000725,35.00000000000073,36.00000000000069,43.000000000000654,16.00000000000064,17.00000000000064,31.00000000000066,41.00000000000067,25.000000000000647,8.000000000000668,29.000000000000682,22.000000000000703,20.000000000000753,39.00000000000072,35.000000000000654,41.000000000000625,33.000000000000625,38.00000000000056,30.000000000000625,15.00000000000059,38.000000000000654,42.000000000000604,36.00000000000061,39.00000000000065]}],                        {\"legend\":{\"bgcolor\":\"#F5F6F9\",\"font\":{\"color\":\"#4D5663\"}},\"paper_bgcolor\":\"#F5F6F9\",\"plot_bgcolor\":\"#F5F6F9\",\"template\":{\"data\":{\"bar\":[{\"error_x\":{\"color\":\"#2a3f5f\"},\"error_y\":{\"color\":\"#2a3f5f\"},\"marker\":{\"line\":{\"color\":\"#E5ECF6\",\"width\":0.5},\"pattern\":{\"fillmode\":\"overlay\",\"size\":10,\"solidity\":0.2}},\"type\":\"bar\"}],\"barpolar\":[{\"marker\":{\"line\":{\"color\":\"#E5ECF6\",\"width\":0.5},\"pattern\":{\"fillmode\":\"overlay\",\"size\":10,\"solidity\":0.2}},\"type\":\"barpolar\"}],\"carpet\":[{\"aaxis\":{\"endlinecolor\":\"#2a3f5f\",\"gridcolor\":\"white\",\"linecolor\":\"white\",\"minorgridcolor\":\"white\",\"startlinecolor\":\"#2a3f5f\"},\"baxis\":{\"endlinecolor\":\"#2a3f5f\",\"gridcolor\":\"white\",\"linecolor\":\"white\",\"minorgridcolor\":\"white\",\"startlinecolor\":\"#2a3f5f\"},\"type\":\"carpet\"}],\"choropleth\":[{\"colorbar\":{\"outlinewidth\":0,\"ticks\":\"\"},\"type\":\"choropleth\"}],\"contour\":[{\"colorbar\":{\"outlinewidth\":0,\"ticks\":\"\"},\"colorscale\":[[0.0,\"#0d0887\"],[0.1111111111111111,\"#46039f\"],[0.2222222222222222,\"#7201a8\"],[0.3333333333333333,\"#9c179e\"],[0.4444444444444444,\"#bd3786\"],[0.5555555555555556,\"#d8576b\"],[0.6666666666666666,\"#ed7953\"],[0.7777777777777778,\"#fb9f3a\"],[0.8888888888888888,\"#fdca26\"],[1.0,\"#f0f921\"]],\"type\":\"contour\"}],\"contourcarpet\":[{\"colorbar\":{\"outlinewidth\":0,\"ticks\":\"\"},\"type\":\"contourcarpet\"}],\"heatmap\":[{\"colorbar\":{\"outlinewidth\":0,\"ticks\":\"\"},\"colorscale\":[[0.0,\"#0d0887\"],[0.1111111111111111,\"#46039f\"],[0.2222222222222222,\"#7201a8\"],[0.3333333333333333,\"#9c179e\"],[0.4444444444444444,\"#bd3786\"],[0.5555555555555556,\"#d8576b\"],[0.6666666666666666,\"#ed7953\"],[0.7777777777777778,\"#fb9f3a\"],[0.8888888888888888,\"#fdca26\"],[1.0,\"#f0f921\"]],\"type\":\"heatmap\"}],\"heatmapgl\":[{\"colorbar\":{\"outlinewidth\":0,\"ticks\":\"\"},\"colorscale\":[[0.0,\"#0d0887\"],[0.1111111111111111,\"#46039f\"],[0.2222222222222222,\"#7201a8\"],[0.3333333333333333,\"#9c179e\"],[0.4444444444444444,\"#bd3786\"],[0.5555555555555556,\"#d8576b\"],[0.6666666666666666,\"#ed7953\"],[0.7777777777777778,\"#fb9f3a\"],[0.8888888888888888,\"#fdca26\"],[1.0,\"#f0f921\"]],\"type\":\"heatmapgl\"}],\"histogram\":[{\"marker\":{\"pattern\":{\"fillmode\":\"overlay\",\"size\":10,\"solidity\":0.2}},\"type\":\"histogram\"}],\"histogram2d\":[{\"colorbar\":{\"outlinewidth\":0,\"ticks\":\"\"},\"colorscale\":[[0.0,\"#0d0887\"],[0.1111111111111111,\"#46039f\"],[0.2222222222222222,\"#7201a8\"],[0.3333333333333333,\"#9c179e\"],[0.4444444444444444,\"#bd3786\"],[0.5555555555555556,\"#d8576b\"],[0.6666666666666666,\"#ed7953\"],[0.7777777777777778,\"#fb9f3a\"],[0.8888888888888888,\"#fdca26\"],[1.0,\"#f0f921\"]],\"type\":\"histogram2d\"}],\"histogram2dcontour\":[{\"colorbar\":{\"outlinewidth\":0,\"ticks\":\"\"},\"colorscale\":[[0.0,\"#0d0887\"],[0.1111111111111111,\"#46039f\"],[0.2222222222222222,\"#7201a8\"],[0.3333333333333333,\"#9c179e\"],[0.4444444444444444,\"#bd3786\"],[0.5555555555555556,\"#d8576b\"],[0.6666666666666666,\"#ed7953\"],[0.7777777777777778,\"#fb9f3a\"],[0.8888888888888888,\"#fdca26\"],[1.0,\"#f0f921\"]],\"type\":\"histogram2dcontour\"}],\"mesh3d\":[{\"colorbar\":{\"outlinewidth\":0,\"ticks\":\"\"},\"type\":\"mesh3d\"}],\"parcoords\":[{\"line\":{\"colorbar\":{\"outlinewidth\":0,\"ticks\":\"\"}},\"type\":\"parcoords\"}],\"pie\":[{\"automargin\":true,\"type\":\"pie\"}],\"scatter\":[{\"marker\":{\"colorbar\":{\"outlinewidth\":0,\"ticks\":\"\"}},\"type\":\"scatter\"}],\"scatter3d\":[{\"line\":{\"colorbar\":{\"outlinewidth\":0,\"ticks\":\"\"}},\"marker\":{\"colorbar\":{\"outlinewidth\":0,\"ticks\":\"\"}},\"type\":\"scatter3d\"}],\"scattercarpet\":[{\"marker\":{\"colorbar\":{\"outlinewidth\":0,\"ticks\":\"\"}},\"type\":\"scattercarpet\"}],\"scattergeo\":[{\"marker\":{\"colorbar\":{\"outlinewidth\":0,\"ticks\":\"\"}},\"type\":\"scattergeo\"}],\"scattergl\":[{\"marker\":{\"colorbar\":{\"outlinewidth\":0,\"ticks\":\"\"}},\"type\":\"scattergl\"}],\"scattermapbox\":[{\"marker\":{\"colorbar\":{\"outlinewidth\":0,\"ticks\":\"\"}},\"type\":\"scattermapbox\"}],\"scatterpolar\":[{\"marker\":{\"colorbar\":{\"outlinewidth\":0,\"ticks\":\"\"}},\"type\":\"scatterpolar\"}],\"scatterpolargl\":[{\"marker\":{\"colorbar\":{\"outlinewidth\":0,\"ticks\":\"\"}},\"type\":\"scatterpolargl\"}],\"scatterternary\":[{\"marker\":{\"colorbar\":{\"outlinewidth\":0,\"ticks\":\"\"}},\"type\":\"scatterternary\"}],\"surface\":[{\"colorbar\":{\"outlinewidth\":0,\"ticks\":\"\"},\"colorscale\":[[0.0,\"#0d0887\"],[0.1111111111111111,\"#46039f\"],[0.2222222222222222,\"#7201a8\"],[0.3333333333333333,\"#9c179e\"],[0.4444444444444444,\"#bd3786\"],[0.5555555555555556,\"#d8576b\"],[0.6666666666666666,\"#ed7953\"],[0.7777777777777778,\"#fb9f3a\"],[0.8888888888888888,\"#fdca26\"],[1.0,\"#f0f921\"]],\"type\":\"surface\"}],\"table\":[{\"cells\":{\"fill\":{\"color\":\"#EBF0F8\"},\"line\":{\"color\":\"white\"}},\"header\":{\"fill\":{\"color\":\"#C8D4E3\"},\"line\":{\"color\":\"white\"}},\"type\":\"table\"}]},\"layout\":{\"annotationdefaults\":{\"arrowcolor\":\"#2a3f5f\",\"arrowhead\":0,\"arrowwidth\":1},\"autotypenumbers\":\"strict\",\"coloraxis\":{\"colorbar\":{\"outlinewidth\":0,\"ticks\":\"\"}},\"colorscale\":{\"diverging\":[[0,\"#8e0152\"],[0.1,\"#c51b7d\"],[0.2,\"#de77ae\"],[0.3,\"#f1b6da\"],[0.4,\"#fde0ef\"],[0.5,\"#f7f7f7\"],[0.6,\"#e6f5d0\"],[0.7,\"#b8e186\"],[0.8,\"#7fbc41\"],[0.9,\"#4d9221\"],[1,\"#276419\"]],\"sequential\":[[0.0,\"#0d0887\"],[0.1111111111111111,\"#46039f\"],[0.2222222222222222,\"#7201a8\"],[0.3333333333333333,\"#9c179e\"],[0.4444444444444444,\"#bd3786\"],[0.5555555555555556,\"#d8576b\"],[0.6666666666666666,\"#ed7953\"],[0.7777777777777778,\"#fb9f3a\"],[0.8888888888888888,\"#fdca26\"],[1.0,\"#f0f921\"]],\"sequentialminus\":[[0.0,\"#0d0887\"],[0.1111111111111111,\"#46039f\"],[0.2222222222222222,\"#7201a8\"],[0.3333333333333333,\"#9c179e\"],[0.4444444444444444,\"#bd3786\"],[0.5555555555555556,\"#d8576b\"],[0.6666666666666666,\"#ed7953\"],[0.7777777777777778,\"#fb9f3a\"],[0.8888888888888888,\"#fdca26\"],[1.0,\"#f0f921\"]]},\"colorway\":[\"#636efa\",\"#EF553B\",\"#00cc96\",\"#ab63fa\",\"#FFA15A\",\"#19d3f3\",\"#FF6692\",\"#B6E880\",\"#FF97FF\",\"#FECB52\"],\"font\":{\"color\":\"#2a3f5f\"},\"geo\":{\"bgcolor\":\"white\",\"lakecolor\":\"white\",\"landcolor\":\"#E5ECF6\",\"showlakes\":true,\"showland\":true,\"subunitcolor\":\"white\"},\"hoverlabel\":{\"align\":\"left\"},\"hovermode\":\"closest\",\"mapbox\":{\"style\":\"light\"},\"paper_bgcolor\":\"white\",\"plot_bgcolor\":\"#E5ECF6\",\"polar\":{\"angularaxis\":{\"gridcolor\":\"white\",\"linecolor\":\"white\",\"ticks\":\"\"},\"bgcolor\":\"#E5ECF6\",\"radialaxis\":{\"gridcolor\":\"white\",\"linecolor\":\"white\",\"ticks\":\"\"}},\"scene\":{\"xaxis\":{\"backgroundcolor\":\"#E5ECF6\",\"gridcolor\":\"white\",\"gridwidth\":2,\"linecolor\":\"white\",\"showbackground\":true,\"ticks\":\"\",\"zerolinecolor\":\"white\"},\"yaxis\":{\"backgroundcolor\":\"#E5ECF6\",\"gridcolor\":\"white\",\"gridwidth\":2,\"linecolor\":\"white\",\"showbackground\":true,\"ticks\":\"\",\"zerolinecolor\":\"white\"},\"zaxis\":{\"backgroundcolor\":\"#E5ECF6\",\"gridcolor\":\"white\",\"gridwidth\":2,\"linecolor\":\"white\",\"showbackground\":true,\"ticks\":\"\",\"zerolinecolor\":\"white\"}},\"shapedefaults\":{\"line\":{\"color\":\"#2a3f5f\"}},\"ternary\":{\"aaxis\":{\"gridcolor\":\"white\",\"linecolor\":\"white\",\"ticks\":\"\"},\"baxis\":{\"gridcolor\":\"white\",\"linecolor\":\"white\",\"ticks\":\"\"},\"bgcolor\":\"#E5ECF6\",\"caxis\":{\"gridcolor\":\"white\",\"linecolor\":\"white\",\"ticks\":\"\"}},\"title\":{\"x\":0.05},\"xaxis\":{\"automargin\":true,\"gridcolor\":\"white\",\"linecolor\":\"white\",\"ticks\":\"\",\"title\":{\"standoff\":15},\"zerolinecolor\":\"white\",\"zerolinewidth\":2},\"yaxis\":{\"automargin\":true,\"gridcolor\":\"white\",\"linecolor\":\"white\",\"ticks\":\"\",\"title\":{\"standoff\":15},\"zerolinecolor\":\"white\",\"zerolinewidth\":2}}},\"title\":{\"font\":{\"color\":\"#4D5663\"},\"text\":\"2.0\"},\"xaxis\":{\"gridcolor\":\"#E1E5ED\",\"showgrid\":true,\"tickfont\":{\"color\":\"#4D5663\"},\"title\":{\"font\":{\"color\":\"#4D5663\"},\"text\":\"\"},\"zerolinecolor\":\"#E1E5ED\"},\"yaxis\":{\"gridcolor\":\"#E1E5ED\",\"showgrid\":true,\"tickfont\":{\"color\":\"#4D5663\"},\"title\":{\"font\":{\"color\":\"#4D5663\"},\"text\":\"\"},\"zerolinecolor\":\"#E1E5ED\"}},                        {\"showLink\": true, \"linkText\": \"Export to plot.ly\", \"plotlyServerURL\": \"https://plot.ly\", \"responsive\": true}                    ).then(function(){\n",
       "                            \n",
       "var gd = document.getElementById('a734a7a2-cdec-4519-9fca-cc136c17a9c8');\n",
       "var x = new MutationObserver(function (mutations, observer) {{\n",
       "        var display = window.getComputedStyle(gd).display;\n",
       "        if (!display || display === 'none') {{\n",
       "            console.log([gd, 'removed!']);\n",
       "            Plotly.purge(gd);\n",
       "            observer.disconnect();\n",
       "        }}\n",
       "}});\n",
       "\n",
       "// Listen for the removal of the full notebook cells\n",
       "var notebookContainer = gd.closest('#notebook-container');\n",
       "if (notebookContainer) {{\n",
       "    x.observe(notebookContainer, {childList: true});\n",
       "}}\n",
       "\n",
       "// Listen for the clearing of the current output cell\n",
       "var outputEl = gd.closest('.output');\n",
       "if (outputEl) {{\n",
       "    x.observe(outputEl, {childList: true});\n",
       "}}\n",
       "\n",
       "                        })                };                });            </script>        </div>"
      ]
     },
     "metadata": {},
     "output_type": "display_data"
    }
   ],
   "source": [
    "eb.plot_real_vs_est(X, y, model=model, id_col='Ciclo_Estacion_Retiro', to_int=True)"
   ]
  },
  {
   "cell_type": "markdown",
   "metadata": {},
   "source": [
    "## Preservación del Modelo"
   ]
  },
  {
   "cell_type": "code",
   "execution_count": 8,
   "metadata": {},
   "outputs": [
    {
     "name": "stdout",
     "output_type": "stream",
     "text": [
      "El modelo ecobici_modelo_pronostico.xz fue guardado existosamente en:\n",
      "/Users/efraflores/Desktop/EF/Contests/Ecobici/models\n"
     ]
    }
   ],
   "source": [
    "eb.save_model({'pronostico':model, 'pronostico_cols':X.columns}, 'ecobici_modelo_pronostico')"
   ]
  }
 ],
 "metadata": {
  "interpreter": {
   "hash": "eef6e2c8b097c86032189ae171566cd5eb8f0439004e1de8adfca7562ca93029"
  },
  "kernelspec": {
   "display_name": "Python 3.9.1 64-bit ('venv': venv)",
   "name": "python3"
  },
  "language_info": {
   "codemirror_mode": {
    "name": "ipython",
    "version": 3
   },
   "file_extension": ".py",
   "mimetype": "text/x-python",
   "name": "python",
   "nbconvert_exporter": "python",
   "pygments_lexer": "ipython3",
   "version": "3.9.1"
  },
  "orig_nbformat": 4
 },
 "nbformat": 4,
 "nbformat_minor": 2
}
